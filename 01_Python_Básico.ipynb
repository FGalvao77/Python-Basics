{
  "nbformat": 4,
  "nbformat_minor": 0,
  "metadata": {
    "colab": {
      "name": "01 - Python Básico.ipynb",
      "provenance": [],
      "collapsed_sections": [],
      "include_colab_link": true
    }
  },
  "cells": [
    {
      "cell_type": "markdown",
      "metadata": {
        "id": "view-in-github",
        "colab_type": "text"
      },
      "source": [
        "<a href=\"https://colab.research.google.com/github/FGalvao77/Python-Basics/blob/main/01_Python_B%C3%A1sico.ipynb\" target=\"_parent\"><img src=\"https://colab.research.google.com/assets/colab-badge.svg\" alt=\"Open In Colab\"/></a>"
      ]
    },
    {
      "cell_type": "markdown",
      "metadata": {
        "id": "rQqtYThjANDH"
      },
      "source": [
        "# **Aula 00 - Seu primeiro código**"
      ]
    },
    {
      "cell_type": "markdown",
      "metadata": {
        "id": "WSWjkFCqANDJ"
      },
      "source": [
        "Como manda a tradição, todo aspirante programador deve realizar a impressão do **Hello World!**.\n",
        "Pra isso, utilizamos a função `print()` e passando como argumento (dentro do parênteses) entre aspas simples (' ') ou duplas (\" \") o que queremos que seja impresso.\n",
        "\n",
        "Vamos lá!"
      ]
    },
    {
      "cell_type": "code",
      "metadata": {
        "id": "BOEodty6ANDK",
        "outputId": "0a377cc8-48f8-4897-8a36-fb2f832e7f8e"
      },
      "source": [
        "print('Hello World!')"
      ],
      "execution_count": null,
      "outputs": [
        {
          "output_type": "stream",
          "text": [
            "Hello World!\n"
          ],
          "name": "stdout"
        }
      ]
    },
    {
      "cell_type": "markdown",
      "metadata": {
        "id": "AOtQYtR4ANDM"
      },
      "source": [
        "> **Tá aí, seu primeiro código em Python ;)**"
      ]
    },
    {
      "cell_type": "markdown",
      "metadata": {
        "id": "gMyEFgM3ANDM"
      },
      "source": [
        "# **Aula 01 - Tipos de Variáveis**"
      ]
    },
    {
      "cell_type": "markdown",
      "metadata": {
        "id": "ZdNUzNtWANDM"
      },
      "source": [
        "***Variáveis*** são pedacinhos de memória onde armazenamos valores. Sempre que referenciamos o nome de uma variável, o valor é acessado. Definimos uma variável dando um nome a ela e usando o sinal de igual (=) para atribuir um valor."
      ]
    },
    {
      "cell_type": "code",
      "metadata": {
        "id": "AIoInp6DANDN"
      },
      "source": [
        "# Exemplo 1\n",
        "x = -10 # variável do tipo inteiro (int)"
      ],
      "execution_count": null,
      "outputs": []
    },
    {
      "cell_type": "code",
      "metadata": {
        "id": "jIEtJJ07ANDN",
        "outputId": "862b548d-ceeb-440f-8995-0edf29e0b1e8"
      },
      "source": [
        "# Para acessar o valor da variável utilizamos a função \"print()\"\n",
        "print(x)"
      ],
      "execution_count": null,
      "outputs": [
        {
          "output_type": "stream",
          "text": [
            "-10\n"
          ],
          "name": "stdout"
        }
      ]
    },
    {
      "cell_type": "code",
      "metadata": {
        "id": "_chWnuuRANDO",
        "outputId": "3cd0976b-77cf-49ab-8eec-09f18e4a39f3"
      },
      "source": [
        "# Podemos também acessar o valor da variável, passando somente o nome da variável\n",
        "x"
      ],
      "execution_count": null,
      "outputs": [
        {
          "output_type": "display_data",
          "data": {
            "text/plain": [
              "-10"
            ]
          },
          "metadata": {
            "tags": []
          }
        }
      ]
    },
    {
      "cell_type": "code",
      "metadata": {
        "id": "4kz-OiULANDO",
        "outputId": "d6333560-485c-448c-dd5e-6151591cd3e9"
      },
      "source": [
        "# Para sabaer o tipo da variável, utilizamos a funçõa \"type()\"\n",
        "type(x)"
      ],
      "execution_count": null,
      "outputs": [
        {
          "output_type": "display_data",
          "data": {
            "text/plain": [
              "int"
            ]
          },
          "metadata": {
            "tags": []
          }
        }
      ]
    },
    {
      "cell_type": "code",
      "metadata": {
        "id": "_kHoJbcjANDP",
        "outputId": "37582487-1c42-4712-b8a3-6adf2903eb5c"
      },
      "source": [
        "# Exemplo 2\n",
        "y = 3.14 # variável do tipo real (float)\n",
        "type(y)"
      ],
      "execution_count": null,
      "outputs": [
        {
          "output_type": "display_data",
          "data": {
            "text/plain": [
              "float"
            ]
          },
          "metadata": {
            "tags": []
          }
        }
      ]
    },
    {
      "cell_type": "code",
      "metadata": {
        "id": "BooiAjMwANDP",
        "outputId": "73836497-867c-46c7-8da6-f772b4b78c57"
      },
      "source": [
        "# Acessando o valor da variável \"y\" e seu tipo\n",
        "print(y, type(y))"
      ],
      "execution_count": null,
      "outputs": [
        {
          "output_type": "stream",
          "text": [
            "3.14 <class 'float'>\n"
          ],
          "name": "stdout"
        }
      ]
    },
    {
      "cell_type": "code",
      "metadata": {
        "id": "FKkQpngjANDP",
        "outputId": "1bdbd890-b0cd-44ab-e3f4-32cbebbc6411"
      },
      "source": [
        "# Exemplo 3\n",
        "linguagem = 'Python é fantástico!' # variável do tipo literal (string)\n",
        "type(linguagem)"
      ],
      "execution_count": null,
      "outputs": [
        {
          "output_type": "display_data",
          "data": {
            "text/plain": [
              "str"
            ]
          },
          "metadata": {
            "tags": []
          }
        }
      ]
    },
    {
      "cell_type": "code",
      "metadata": {
        "id": "aFZ_T6DFANDQ",
        "outputId": "c949bf8f-2107-43a1-8788-4df49524d3ab"
      },
      "source": [
        "# Exemplo 4\n",
        "primeiraAula = True # variável do tipo lógica (booleana)\n",
        "type(primeiraAula)"
      ],
      "execution_count": null,
      "outputs": [
        {
          "output_type": "display_data",
          "data": {
            "text/plain": [
              "bool"
            ]
          },
          "metadata": {
            "tags": []
          }
        }
      ]
    },
    {
      "cell_type": "code",
      "metadata": {
        "id": "_-Xwdj0AANDQ",
        "outputId": "3249736d-fd63-4734-ef10-2c7f6b4ad7c0"
      },
      "source": [
        "print(primeiraAula, type(primeiraAula))"
      ],
      "execution_count": null,
      "outputs": [
        {
          "output_type": "stream",
          "text": [
            "True <class 'bool'>\n"
          ],
          "name": "stdout"
        }
      ]
    },
    {
      "cell_type": "markdown",
      "metadata": {
        "id": "Z-MSQBgyANDQ"
      },
      "source": [
        "Perceba que o operador igual (=) NÃO possui o mesmo comportamento da matemática. Na matemática, ele é um operador bidirecional: x = 2y seria a mesma coisa que 2y = x. No Python, ele é o que chamamos de um operador de **ATRIBUIÇÃO**.\n",
        "\n",
        "A expressão à direita do sinal é resolvida e seu resultado é armazenado na variável à esquerda."
      ]
    },
    {
      "cell_type": "markdown",
      "metadata": {
        "id": "gO8n5LaEANDR"
      },
      "source": [
        "**Comentários**"
      ]
    },
    {
      "cell_type": "code",
      "metadata": {
        "id": "HZRNVdCIANDR"
      },
      "source": [
        "# Linhas iniciadas com # são comentários.\n",
        "# Comentários são ignorados pelo Python e servem para explicar o código."
      ],
      "execution_count": null,
      "outputs": []
    },
    {
      "cell_type": "code",
      "metadata": {
        "id": "aI4PJ_2hANDR"
      },
      "source": [
        "'''\n",
        "O símbolo # é um comentário de apenas 1 linha.\n",
        "Usando 3 aspas simples consecutivas é possível abrir um bloco de comentário\n",
        "de múltiplas linhas. O bloco se encerra com outras 3 aspas simples.\n",
        "'''"
      ],
      "execution_count": null,
      "outputs": []
    },
    {
      "cell_type": "markdown",
      "metadata": {
        "id": "6PyilLATANDR"
      },
      "source": [
        "# **Aula 02 - Operadores**"
      ]
    },
    {
      "cell_type": "markdown",
      "metadata": {
        "id": "1g13gTS9ANDR"
      },
      "source": [
        "## **Operadores aritméticos**"
      ]
    },
    {
      "cell_type": "code",
      "metadata": {
        "id": "z8y8FDFmANDS"
      },
      "source": [
        "# Podemos fazer operações aritméticas simples\n",
        "a = 2 + 3  # Soma\n",
        "b = 2 - 3  # Subtração\n",
        "c = 2 * 3  # Multiplicação\n",
        "d = 2 / 3  # Divisão\n",
        "e = 2 // 3 # Divisão inteira\n",
        "f = 2 ** 3 # Potência\n",
        "g = 2 % 3  # Resto de divisão"
      ],
      "execution_count": null,
      "outputs": []
    },
    {
      "cell_type": "code",
      "metadata": {
        "id": "ttdVQG0-ANDS",
        "outputId": "e98beef9-548c-4d89-e377-ebdc6718122f"
      },
      "source": [
        "# Vamos imprimir os resultados das variáveis acima\n",
        "print(a, b, c, d, e, f, g)"
      ],
      "execution_count": null,
      "outputs": [
        {
          "output_type": "stream",
          "text": [
            "5 -1 6 0.6666666666666666 0 8 2\n"
          ],
          "name": "stdout"
        }
      ]
    },
    {
      "cell_type": "code",
      "metadata": {
        "id": "lnLV0zxaANDS"
      },
      "source": [
        "# Declarando as variáveis x e y\n",
        "x = 7\n",
        "y = 2"
      ],
      "execution_count": null,
      "outputs": []
    },
    {
      "cell_type": "code",
      "metadata": {
        "id": "Z0T_DvrKANDS",
        "outputId": "1055ff56-126a-4264-8bc6-0d34ee39c144"
      },
      "source": [
        "print(x + y)\n",
        "print(x - y)\n",
        "print(x * y)\n",
        "print(x ** y)\n",
        "print(x / y)\n",
        "print(x // y)\n",
        "print(x % y)"
      ],
      "execution_count": null,
      "outputs": [
        {
          "output_type": "stream",
          "text": [
            "9\n",
            "5\n",
            "14\n",
            "49\n",
            "3.5\n",
            "3\n",
            "1\n"
          ],
          "name": "stdout"
        }
      ]
    },
    {
      "cell_type": "code",
      "metadata": {
        "id": "YR91c_u8ANDT",
        "outputId": "e3851619-a733-4d4b-b3c7-42c992f1183c"
      },
      "source": [
        "# Podemos fazer operações dentro do print\n",
        "print(a + 1)\n",
        "print (a + b, c + 1)\n",
        "print (a / 5, c * d)"
      ],
      "execution_count": null,
      "outputs": [
        {
          "output_type": "stream",
          "text": [
            "6\n",
            "4 7\n",
            "1.0 4.0\n"
          ],
          "name": "stdout"
        }
      ]
    },
    {
      "cell_type": "code",
      "metadata": {
        "id": "7V6B7kfOANDT",
        "outputId": "9a7e97a6-a753-47f3-ac1a-3d18380b3e61"
      },
      "source": [
        "# Podemos fazer operações com variáveis não inteiras\n",
        "nome = input('Digite seu primeiro nome: ')"
      ],
      "execution_count": null,
      "outputs": [
        {
          "output_type": "stream",
          "text": [
            "Digite seu primeiro nome:  Fernando\n"
          ],
          "name": "stdout"
        }
      ]
    },
    {
      "cell_type": "markdown",
      "metadata": {
        "id": "YazAEoK7ANDT"
      },
      "source": [
        "> Na variável **nome** atribuímos uma valor literal (string) e, também é possível realizar uma operação (+), isso é conhecido como concatenação."
      ]
    },
    {
      "cell_type": "code",
      "metadata": {
        "id": "YMWIBRYTANDT"
      },
      "source": [
        "# Vamos declarar uma variável \"nomeSobrenome\" \n",
        "# E iremos atribuir a essa variável o resultado da variável nome\n",
        "# Concatenado com o sobrenome\n",
        "nomeSobrenome = nome + ' Galvão'"
      ],
      "execution_count": null,
      "outputs": []
    },
    {
      "cell_type": "code",
      "metadata": {
        "id": "ASCbMDpXANDU",
        "outputId": "39599786-4e31-4b7c-c671-413f68383383"
      },
      "source": [
        "# Realizando a impressão da variável \"nomeSobrenome\"\n",
        "print(nomeSobrenome)"
      ],
      "execution_count": null,
      "outputs": [
        {
          "output_type": "stream",
          "text": [
            "Fernando Galvão\n"
          ],
          "name": "stdout"
        }
      ]
    },
    {
      "cell_type": "markdown",
      "metadata": {
        "id": "unjt6G1GANDU"
      },
      "source": [
        "## **Operadores relacionais**"
      ]
    },
    {
      "cell_type": "markdown",
      "metadata": {
        "id": "7p2e3uljANDU"
      },
      "source": [
        "Observe o código abaixo:"
      ]
    },
    {
      "cell_type": "code",
      "metadata": {
        "id": "wDBEFuSXANDU",
        "outputId": "79ebdee1-b757-4fea-cc50-13e74d5d8a2b"
      },
      "source": [
        "# Exemplo 1\n",
        "comparacao1 = 5 > 3\n",
        "print(comparacao1)"
      ],
      "execution_count": null,
      "outputs": [
        {
          "output_type": "stream",
          "text": [
            "True\n"
          ],
          "name": "stdout"
        }
      ]
    },
    {
      "cell_type": "markdown",
      "metadata": {
        "id": "pvBGfVh-ANDU"
      },
      "source": [
        "> O seu retorno é uma resposta lógica (booleana)"
      ]
    },
    {
      "cell_type": "markdown",
      "metadata": {
        "id": "rEk4HQCtANDU"
      },
      "source": [
        "Isso ocorre porque 5 é maior que 3. Portanto, comparacao1 recebeu uma expressão cujo valor lógico é verdadeiro, portanto seu resultado foi True, e o oposto ocorreu para comparacao2.\n",
        "\n",
        "O Python possui 6 operadores relacionais:\n",
        "\n",
        "- Maior que: >\n",
        "- Maior ou igual: >=\n",
        "- Menor que: <\n",
        "- Menor ou igual: <=\n",
        "- Igual: ==\n",
        "- Diferente: !=\n",
        "- \n",
        "**Note que o operador para comparar se 2 valores são iguais é ==, e não =**. Isso ocorre porque o operador = é o nosso operador de atribuição: ele diz que a variável à sua esquerda deve receber o valor da expressão à direita. O operador == irá testar se o valor à sua esquerda é igual ao valor à sua direita e irá responder True ou False, como todos os outros operadores de comparação."
      ]
    },
    {
      "cell_type": "markdown",
      "metadata": {
        "id": "70d53fKgANDV"
      },
      "source": [
        "## **Operadores lógicos**\n",
        "\n",
        "Em alguns casos também precisamos testar se duas ou mais condições são verdadeiras. Para isso utilizaremos as conjunções lógicas:\n",
        "\n",
        "- and: verdadeiro se condição 1 for verdadeira e condição 2 for verdadeira\n",
        "- or: verdadeiro se condição 1 for verdadeira ou condição 2 for verdadeira\n",
        "- \n",
        "No exemplo abaixo, o resultado é verdadeiro para comparacao1 e falso para comparacao2."
      ]
    },
    {
      "cell_type": "code",
      "metadata": {
        "id": "gzlubBwwANDV",
        "outputId": "3efe8034-0ce2-46f8-9ce5-7ee92eb4e183"
      },
      "source": [
        "comparacao1 = 5 > 3 and 6 > 3\n",
        "comparacao2 = 5 < 3 < 6\n",
        "\n",
        "print(comparacao1, comparacao2)"
      ],
      "execution_count": null,
      "outputs": [
        {
          "output_type": "stream",
          "text": [
            "True False\n"
          ],
          "name": "stdout"
        }
      ]
    },
    {
      "cell_type": "markdown",
      "metadata": {
        "id": "ZGbaj9OeANDV"
      },
      "source": [
        "Já no exemplo seguinte, tanto comparacao1 quanto comparacao2 retornam o valor verdadeiro."
      ]
    },
    {
      "cell_type": "code",
      "metadata": {
        "id": "OBvt7KlrANDW",
        "outputId": "388adea4-3dde-458a-f175-a0f88d8ffc37"
      },
      "source": [
        "comparacao1 = 5 > 3 or 6 > 3\n",
        "comparacao2 = 5 < 3 or 6 > 3\n",
        "\n",
        "print(comparacao1, comparacao2)"
      ],
      "execution_count": null,
      "outputs": [
        {
          "output_type": "stream",
          "text": [
            "True True\n"
          ],
          "name": "stdout"
        }
      ]
    },
    {
      "cell_type": "markdown",
      "metadata": {
        "id": "QwktY1whANDW"
      },
      "source": [
        "Também é possível negar uma expressão lógica usando o not. Em outras palavras, se comparacao1 = 5 > 3 é verdadeira, comparacao1 = not(5 > 3) será falsa, e vice-versa."
      ]
    },
    {
      "cell_type": "code",
      "metadata": {
        "id": "I7XMSXgsANDW",
        "outputId": "87fa3463-a733-477d-82aa-5d0fa5fc8d77"
      },
      "source": [
        "comparacao1 = not(5 > 3)\n",
        "comparacao1"
      ],
      "execution_count": null,
      "outputs": [
        {
          "output_type": "display_data",
          "data": {
            "text/plain": [
              "False"
            ]
          },
          "metadata": {
            "tags": []
          }
        }
      ]
    },
    {
      "cell_type": "code",
      "metadata": {
        "id": "_HBXL1OXANDW"
      },
      "source": [
        "# Declarando duas variáveis com valores lógico\n",
        "tem_cafe = True\n",
        "tem_pao = False"
      ],
      "execution_count": null,
      "outputs": []
    },
    {
      "cell_type": "code",
      "metadata": {
        "id": "S97EtRRfANDW",
        "outputId": "0ba076fd-da4b-4ebc-d579-8a769e5d0caa"
      },
      "source": [
        "# Realizando verificação do valor das variáveis acima\n",
        "print(tem_cafe, tem_pao)"
      ],
      "execution_count": null,
      "outputs": [
        {
          "output_type": "stream",
          "text": [
            "True False\n"
          ],
          "name": "stdout"
        }
      ]
    },
    {
      "cell_type": "code",
      "metadata": {
        "id": "ZAf6Xd2hANDX",
        "outputId": "56e4f12d-065a-42ff-bdff-31b558134e13"
      },
      "source": [
        "# Aqui estamos dizendo se a variável \"tem_cafe\" nãó é verdadeira - True\n",
        "# Como sabemos, ela é verdadeira e, portanto seu retorno será falso - False\n",
        "print(not(tem_cafe))"
      ],
      "execution_count": null,
      "outputs": [
        {
          "output_type": "stream",
          "text": [
            "False\n"
          ],
          "name": "stdout"
        }
      ]
    },
    {
      "cell_type": "code",
      "metadata": {
        "id": "nxaZIAz_ANDX",
        "outputId": "a4173b50-2e23-4655-c441-ae0bcb2aa0b9"
      },
      "source": [
        "# Aqui já é o contrário\n",
        "# Estamos verificando se o valor da variável \"tem_pao\" não é veradedeira - True\n",
        "# Seu retorno é True, pois o valor da variável é False\n",
        "print(not(tem_pao))"
      ],
      "execution_count": null,
      "outputs": [
        {
          "output_type": "stream",
          "text": [
            "True\n"
          ],
          "name": "stdout"
        }
      ]
    },
    {
      "cell_type": "code",
      "metadata": {
        "id": "_dk0HjMtANDX"
      },
      "source": [
        "# Vamos para um exemplo\n",
        "dolar = 5.3\n",
        "real = 1.0"
      ],
      "execution_count": null,
      "outputs": []
    },
    {
      "cell_type": "code",
      "metadata": {
        "id": "QlPilCKUANDX",
        "outputId": "96c62083-9e8f-4904-da6c-34ae71935829"
      },
      "source": [
        "# Agora vamos utilizar os operadores relacionais\n",
        "print(dolar == real) # dolar é igual ao real\n",
        "print(dolar > real)  # dolar é maior que o real\n",
        "print(dolar >= real) # dolar é maior e igual ao real\n",
        "print(dolar < real)  # dolar é menor que o real  \n",
        "print(dolar <= real) # dolar é menor e igual ao real\n",
        "print(dolar != real) # dolar é diferente de real"
      ],
      "execution_count": null,
      "outputs": [
        {
          "output_type": "stream",
          "text": [
            "False\n",
            "True\n",
            "True\n",
            "False\n",
            "False\n",
            "True\n"
          ],
          "name": "stdout"
        }
      ]
    },
    {
      "cell_type": "markdown",
      "metadata": {
        "id": "OZgXNNnbANDY"
      },
      "source": [
        "# **Aula 03 - Estruturas Sequenciais**"
      ]
    },
    {
      "cell_type": "markdown",
      "metadata": {
        "id": "OxgFjXHgANDY"
      },
      "source": [
        "## **Outputs**\n",
        "\n",
        "Chamamos de saídas ou outputs do nosso programa todos os dados que são gerados pelo programa e fornecidos para o usuário.\n",
        "\n",
        "Já conhecemos a função print() que recebe um valor ou uma sequência de valores e realiza a tarefa de imprimí-los na tela."
      ]
    },
    {
      "cell_type": "code",
      "metadata": {
        "id": "hW8W8IVXANDY"
      },
      "source": [
        "y = 3.14 # variável do tipo real (float)"
      ],
      "execution_count": null,
      "outputs": []
    },
    {
      "cell_type": "code",
      "metadata": {
        "id": "CLXyIwNwANDY"
      },
      "source": [
        "linguagem = 'Python' # variável literal (string)"
      ],
      "execution_count": null,
      "outputs": []
    },
    {
      "cell_type": "code",
      "metadata": {
        "id": "gu8-l0pkANDY",
        "outputId": "f9b313fc-4803-4727-ffa3-2bf16f594c57"
      },
      "source": [
        "# Podemos exibir textos na tela e/ou valores de variáveis com a função print()\n",
        "print('Eu estou aprendendo', linguagem)\n",
        "print('PI vale', y)"
      ],
      "execution_count": null,
      "outputs": [
        {
          "output_type": "stream",
          "text": [
            "Eu estou aprendendo Python\n",
            "PI vale 3.14\n"
          ],
          "name": "stdout"
        }
      ]
    },
    {
      "cell_type": "code",
      "metadata": {
        "id": "-zeanL-jANDY",
        "outputId": "433801c4-c880-4181-fb9a-bff00781f466"
      },
      "source": [
        "# Podemos fazer operações dentro do print\n",
        "print(y + 1, y ** 2)"
      ],
      "execution_count": null,
      "outputs": [
        {
          "output_type": "stream",
          "text": [
            "4.140000000000001 9.8596\n"
          ],
          "name": "stdout"
        }
      ]
    },
    {
      "cell_type": "markdown",
      "metadata": {
        "id": "7bi1uhA2ANDZ"
      },
      "source": [
        "- Na operação **y + 1** estamos somando mais uma unidade junto a variável y.\n",
        "- E na seguinte operação **y ** 2**, estamos elevando ao quadrado o valor da variá"
      ]
    },
    {
      "cell_type": "markdown",
      "metadata": {
        "id": "GYO_zaR4ANDZ"
      },
      "source": [
        "**Inputs** \n",
        "\n",
        "Já as entradas ou inputs do nosso programa são as informações que o usuário possui e deve fornecer ao código."
      ]
    },
    {
      "cell_type": "code",
      "metadata": {
        "id": "OHPT8HGoANDZ",
        "outputId": "af9c1203-b9ff-4328-c87b-d7d441b6d934"
      },
      "source": [
        " # Podemos ler valores do teclado com a função input()\n",
        "# Ela permite que a gente passe uma mensagem para o usuário\n",
        "nome = input('Digite o seu nome: ')"
      ],
      "execution_count": null,
      "outputs": [
        {
          "output_type": "stream",
          "text": [
            "Digite o seu nome:  Fernando\n"
          ],
          "name": "stdout"
        }
      ]
    },
    {
      "cell_type": "code",
      "metadata": {
        "id": "lvIHLAQ4ANDZ",
        "outputId": "1d4fdee5-c1e0-48d8-a1ec-2b3db5a1bdf9"
      },
      "source": [
        "# Tudo que é lido por input() é considerado uma string (str)\n",
        "# Para tratar como outros tipos de dados é necessário realizar a conversão\n",
        "peso = float(input('Digite o seu peso: ')) # lê o peso como número real\n",
        "idade = int(input('Digite a sua idade: ')) # lê a idade como número inteiro"
      ],
      "execution_count": null,
      "outputs": [
        {
          "output_type": "stream",
          "text": [
            "Digite o seu peso:  1.83\n",
            "Digite a sua idade:  44\n"
          ],
          "name": "stdout"
        }
      ]
    },
    {
      "cell_type": "code",
      "metadata": {
        "id": "ZuEaq-BDANDZ",
        "outputId": "fc03cc6f-5bf6-4d5a-cf4d-da258c408d2b"
      },
      "source": [
        "print(nome, 'pesa', peso, 'kg e tem', idade, 'anos de idade.')"
      ],
      "execution_count": null,
      "outputs": [
        {
          "output_type": "stream",
          "text": [
            "Fernando pesa 1.83 kg e tem 44 anos de idade.\n"
          ],
          "name": "stdout"
        }
      ]
    },
    {
      "cell_type": "code",
      "metadata": {
        "id": "S64ulMDlANDa",
        "outputId": "b05dda9a-9333-4946-a639-76c85521a568"
      },
      "source": [
        "# Declarando as variáveis \"nome\" e \"sobrenome\"\n",
        "nome = input('Digite seu nome: ')\n",
        "sobrenome = input('Digite seu sobrenome: ')"
      ],
      "execution_count": null,
      "outputs": [
        {
          "output_type": "stream",
          "text": [
            "Digite seu nome:  Fernando\n",
            "Digite seu sobrenome:  Galvão\n"
          ],
          "name": "stdout"
        }
      ]
    },
    {
      "cell_type": "code",
      "metadata": {
        "id": "pky-rQPxANDa",
        "outputId": "383dd82b-c380-488c-c33e-e6b60db6036a"
      },
      "source": [
        "# imprimindo o resultado das variáveis acima\n",
        "print(nome, sobrenome)"
      ],
      "execution_count": null,
      "outputs": [
        {
          "output_type": "stream",
          "text": [
            "Fernando Galvão\n"
          ],
          "name": "stdout"
        }
      ]
    },
    {
      "cell_type": "code",
      "metadata": {
        "id": "4r9mnQ2HANDa",
        "outputId": "a1ea382b-96c1-405c-9b46-71875128797a"
      },
      "source": [
        "# Concatenando as variáveis \"nome\" e \"sobrenome\"\n",
        "# E atribuindo em uma nova variável\n",
        "nomeCompleto = nome + ' ' + sobrenome\n",
        "print(nomeCompleto)"
      ],
      "execution_count": null,
      "outputs": [
        {
          "output_type": "stream",
          "text": [
            "Fernando Galvão\n"
          ],
          "name": "stdout"
        }
      ]
    },
    {
      "cell_type": "code",
      "metadata": {
        "id": "iwR4LLjxANDa",
        "outputId": "8036ae63-21c7-4398-e3d7-e6ff86e2e05a"
      },
      "source": [
        "# Vamos novamente solicitar a idade do usuário\n",
        "idade = input('Digite sua idade: ')"
      ],
      "execution_count": null,
      "outputs": [
        {
          "output_type": "stream",
          "text": [
            "Digite sua idade:  44\n"
          ],
          "name": "stdout"
        }
      ]
    },
    {
      "cell_type": "code",
      "metadata": {
        "id": "TB3Mxl_ZANDa",
        "outputId": "7a1480f3-a65c-460c-c5d5-d212c7b84665"
      },
      "source": [
        "# Agora vamos visualizar o tipo de dado na variável \"idade\"\n",
        "# Utilizando a função \"type()\"\n",
        "print(type(idade))"
      ],
      "execution_count": null,
      "outputs": [
        {
          "output_type": "stream",
          "text": [
            "<class 'str'>\n"
          ],
          "name": "stdout"
        }
      ]
    },
    {
      "cell_type": "markdown",
      "metadata": {
        "id": "XdDdJaeyANDb"
      },
      "source": [
        "Perceba que, o resultado é um **<class 'str'>**, um valor literal (string). Pois como padrão o Python sempre irar considerar o dado como sendo uma string. \n",
        "\n",
        "Portanto se quisemos aplicar alguma operação matemática com o resultado da variável é um erro.\n",
        "\n",
        "Vamos ver!"
      ]
    },
    {
      "cell_type": "code",
      "metadata": {
        "id": "Sp0NDDN8ANDb",
        "outputId": "3deb6435-5881-44cc-edc0-bad816a4c65f"
      },
      "source": [
        "# Vamos declarar uma variável chamada \"anoAtual\"\n",
        "anoAtual = 2021\n",
        "print(type(anoAtual)) # seu tipo é um \"int\" (inteiro)"
      ],
      "execution_count": null,
      "outputs": [
        {
          "output_type": "stream",
          "text": [
            "<class 'int'>\n"
          ],
          "name": "stdout"
        }
      ]
    },
    {
      "cell_type": "code",
      "metadata": {
        "id": "vIX_HuAmANDb",
        "outputId": "fd1e69f2-d05b-47ae-c907-6f2facf2f821"
      },
      "source": [
        "# Agora vamos pegar a variável \"anoAtual\" e subtrair da variável \"idade\" para saber o ano de nascimeno do usuário\n",
        "print(anoAtual - idade)"
      ],
      "execution_count": null,
      "outputs": [
        {
          "output_type": "error",
          "ename": "TypeError",
          "evalue": "TypeError: unsupported operand type(s) for -: 'int' and 'str'",
          "traceback": [
            "\u001b[0;31m---------------------------------------------------------------------------",
            "Traceback (most recent call last)",
            "    at line 2 in <module>",
            "TypeError: unsupported operand type(s) for -: 'int' and 'str'"
          ]
        }
      ]
    },
    {
      "cell_type": "markdown",
      "metadata": {
        "id": "yXBCKgPwANDb"
      },
      "source": [
        "Como resultado temos uma mensagem de erro.\n",
        "\n",
        "        TypeError: unsupported operand type(s) for -: 'int' and 'str'"
      ]
    },
    {
      "cell_type": "markdown",
      "metadata": {
        "id": "uz69mVJCANDb"
      },
      "source": [
        "Pra resolver esse problema, devemos na variável declarar o tipo de dado que será armazenada.\n",
        "\n",
        "Vamos novamente para o nosso exemplo da variável \"idade\""
      ]
    },
    {
      "cell_type": "code",
      "metadata": {
        "id": "f_3a08f9ANDc",
        "outputId": "73a8e092-3539-4ab4-a571-39e027f27da4"
      },
      "source": [
        "# Solicitando a usuário a entrada da idade\n",
        "# E já definindo que essa variável é do tipo \"int\"\n",
        "idade = int(input('Digite sua idade: '))\n",
        "print(type(idade)) # seu retorno é \"<class 'int'>\""
      ],
      "execution_count": null,
      "outputs": [
        {
          "output_type": "stream",
          "text": [
            "Digite sua idade:  44\n",
            "<class 'int'>\n"
          ],
          "name": "stdout"
        }
      ]
    },
    {
      "cell_type": "markdown",
      "metadata": {
        "id": "QDOkSlaWANDc"
      },
      "source": [
        "Agora assim conseguimos realizar operações matemáticas com a variável \"idade\"."
      ]
    },
    {
      "cell_type": "code",
      "metadata": {
        "id": "2XB5l8J7ANDc",
        "outputId": "4c0ec3a5-8173-4867-c988-26b5d4c813bc"
      },
      "source": [
        "# Realizando operação de subtração da variável \"anoAtual\" e \"idade\"\n",
        "print(anoAtual - idade) # ano de nascimento"
      ],
      "execution_count": null,
      "outputs": [
        {
          "output_type": "stream",
          "text": [
            "1977\n"
          ],
          "name": "stdout"
        }
      ]
    },
    {
      "cell_type": "code",
      "metadata": {
        "id": "CRP3pFiHANDc",
        "outputId": "33602252-8637-4a2a-beaf-b9603548ae27"
      },
      "source": [
        "# Vamos melhor um pouco essa visualização\n",
        "print('Ano de nascimento:', (anoAtual - idade))"
      ],
      "execution_count": null,
      "outputs": [
        {
          "output_type": "stream",
          "text": [
            "Ano de nascimento: 1977\n"
          ],
          "name": "stdout"
        }
      ]
    },
    {
      "cell_type": "markdown",
      "metadata": {
        "id": "z9St6Je9ANDc"
      },
      "source": [
        "Vamos para mais um exemplo!"
      ]
    },
    {
      "cell_type": "code",
      "metadata": {
        "id": "UpZY-wkPANDd",
        "outputId": "4c959b9c-3d23-4497-e663-e894ef794d58"
      },
      "source": [
        "salario_mensal = float(input('Digite o valor do seu salário mensal: '))\n",
        "gasto_mensal = float(input('Digite seu gasto médio mensal: '))"
      ],
      "execution_count": null,
      "outputs": [
        {
          "output_type": "stream",
          "text": [
            "Digite o valor do seu salário mensal:  3600\n",
            "Digite seu gasto médio mensal:  1855\n"
          ],
          "name": "stdout"
        }
      ]
    },
    {
      "cell_type": "code",
      "metadata": {
        "id": "HAIh6AcCANDd",
        "outputId": "625d5714-533f-48cc-dcb4-cc596639857d"
      },
      "source": [
        "montante_economizado = (salario_mensal * 12) - (gasto_mensal * 12) # resultado das variáveis multiplicando por 12 meses\n",
        "print('Valor economizado no ano R$', montante_economizado) # imprimindo o valor economizado"
      ],
      "execution_count": null,
      "outputs": [
        {
          "output_type": "stream",
          "text": [
            "Valor economizado no ano R$ 20940.0\n"
          ],
          "name": "stdout"
        }
      ]
    },
    {
      "cell_type": "markdown",
      "metadata": {
        "id": "L5MuHeW0ANDd"
      },
      "source": [
        "# **Aula 04 - Estruturas Condicionais**"
      ]
    },
    {
      "cell_type": "markdown",
      "metadata": {
        "id": "_OwGC-IHANDe"
      },
      "source": [
        "## **If**\n",
        "\n",
        "O if testa uma condição:\n",
        "\n",
        "- se ela for verdadeira, seu conteúdo é executado;\n",
        "- caso contrário, seu conteúdo é ignorado."
      ]
    },
    {
      "cell_type": "code",
      "metadata": {
        "id": "XxUZKhI3ANDe",
        "outputId": "462b7445-4d35-4be8-e013-9d2e09903782"
      },
      "source": [
        "idade = int(input('Digite sua idade:'))\n",
        "if idade >= 12:\n",
        "    print('Você pode entrar na montanha russa.')\n",
        "print('Obrigado por participar.')\n",
        "\n",
        "altura = float(input('Digite sua altura, em metros:'))\n",
        "if idade >= 12 and altura >= 1.60:\n",
        "    print('Você pode entrar na montanha russa.')\n",
        "print('Obrigado por participar.')"
      ],
      "execution_count": null,
      "outputs": [
        {
          "output_type": "stream",
          "text": [
            "Digite sua idade: 44\n",
            "Você pode entrar na montanha russa.\n",
            "Obrigado por participar.\n",
            "Digite sua altura, em metros: 1.70\n",
            "Você pode entrar na montanha russa.\n",
            "Obrigado por participar.\n"
          ],
          "name": "stdout"
        }
      ]
    },
    {
      "cell_type": "markdown",
      "metadata": {
        "id": "4zCbB8HpANDe"
      },
      "source": [
        "Utilizamos um 'tab' antes de cada linha pertencente ao if. No exemplo acima, a linha 'obrigado por participar' sempre será exibida. Já a linha 'Você pode entrar na montanha russa.' só será exibida se a idade digitada for maior ou igual a 12 e a altura digitada for maior ou igual a 1.60."
      ]
    },
    {
      "cell_type": "markdown",
      "metadata": {
        "id": "p9s2G7RfANDe"
      },
      "source": [
        "## **Else**\n",
        "\n",
        "Em alguns casos, queremos que o programa escolha entre 2 casos mutuamente exclusivos. Para isso utilizamos o else. O else não possui condição para verificar. O else sempre vem imediatamente após um if e é executado se o if for ignorado."
      ]
    },
    {
      "cell_type": "code",
      "metadata": {
        "id": "NgqHV48LANDe",
        "outputId": "41881b6b-a6be-45e3-fbac-9d2c341e73e6"
      },
      "source": [
        "idade = int(input('Digite sua idade:'))\n",
        "\n",
        "altura = float(input('Digite sua altura, em metros:'))\n",
        "if idade >= 12 and altura >= 1.60:\n",
        "    print('Você pode entrar na montanha russa.')\n",
        "else:\n",
        "    print('Você não pode entrar na montanha russa.')\n",
        "print('Obrigado por participar.')"
      ],
      "execution_count": null,
      "outputs": [
        {
          "output_type": "stream",
          "text": [
            "Digite sua idade: 44\n",
            "Digite sua altura, em metros: 1.70\n",
            "Você pode entrar na montanha russa.\n",
            "Obrigado por participar.\n"
          ],
          "name": "stdout"
        }
      ]
    },
    {
      "cell_type": "markdown",
      "metadata": {
        "id": "DS7RAaBrANDf"
      },
      "source": [
        "É possível \"aninhar\" diversos if's e else's. O programa abaixo só deixa a pessoa entrar no brinquedo se tiver idade e altura mínimas:"
      ]
    },
    {
      "cell_type": "code",
      "metadata": {
        "id": "XtkuAG1QANDf",
        "outputId": "ddd9021d-fcfc-4764-d92e-7fcffaa19624"
      },
      "source": [
        "idade = int(input('Digite sua idade:'))\n",
        "\n",
        "if idade >= 12:\n",
        "    resposta = input('Você gostaria de entrar nesta montanha russa?')\n",
        "    if resposta != 'sim':\n",
        "        print('Ok então')\n",
        "    else:\n",
        "        print('Por favor, entre!')\n",
        "else:\n",
        "    print('Você não tem idade suficiente para entrar nesse brinquedo.')"
      ],
      "execution_count": null,
      "outputs": [
        {
          "output_type": "stream",
          "text": [
            "Digite sua idade: 44\n",
            "Você gostaria de entrar nesta montanha russa? sim\n",
            "Por favor, entre!\n"
          ],
          "name": "stdout"
        }
      ]
    },
    {
      "cell_type": "markdown",
      "metadata": {
        "id": "_pLFHbIeANDf"
      },
      "source": [
        "## **Elif**\n",
        "\n",
        "Podemos testar diversos casos mutuamente exclusivos utilizando o 'elif'.\n",
        "\n",
        "O comando elif é a contração de \"else if\" - ou seja, caso um if não seja executado, você pode propor uma nova condição para ser testada."
      ]
    },
    {
      "cell_type": "code",
      "metadata": {
        "id": "s6745nODANDf",
        "outputId": "1fd6a6f6-0051-46b2-b447-c688f42f8eb8"
      },
      "source": [
        "exercicios = int(input('Quantos exercícios de Python você já fez?'))\n",
        "\n",
        "if exercicios > 30:\n",
        "    print('Já está ficando profissional!')\n",
        "elif exercicios > 20:\n",
        "    print('Tá indo bem, bora fazer mais alguns!')\n",
        "elif exercicios > 10:\n",
        "    print('Vamos tirar o atraso?')\n",
        "else:\n",
        "    print('Xiiii...')"
      ],
      "execution_count": null,
      "outputs": [
        {
          "output_type": "stream",
          "text": [
            "Quantos exercícios de Python você já fez? 50\n",
            "Já está ficando profissional!\n"
          ],
          "name": "stdout"
        }
      ]
    },
    {
      "cell_type": "markdown",
      "metadata": {
        "id": "qbSfAd9gANDf"
      },
      "source": [
        "Observe que a união das 3 estruturas (if-elif-else) implica que seu código seguirá apenas um dos possíveis caminhos, obrigatoriamente."
      ]
    },
    {
      "cell_type": "markdown",
      "metadata": {
        "id": "XOP-ZP0bANDg"
      },
      "source": [
        "Vamos para um outro exemplo."
      ]
    },
    {
      "cell_type": "code",
      "metadata": {
        "id": "SnEjeafYANDg",
        "outputId": "cdca8b54-e0cf-4232-cbea-7a397b27d100"
      },
      "source": [
        "# Verificando se usuário tem idade e CNH para dirigir\n",
        "idade = int(input('Digite sua idade: '))\n",
        "CNH = input('Possui CNH? [Digite sim ou não]: ').lower()\n",
        "\n",
        "if (idade >= 18) and (CNH == 'sim'):\n",
        "    print('Vocẽ pode dirigir!')\n",
        "\n",
        "elif (idade >= 18) and (CNH != 'sim'):\n",
        "    print('Vocẽ não pode dirigir. Não possui ainda CNH')\n",
        "\n",
        "else:\n",
        "    print('Vocẽ não tem idade pra dirigir!')"
      ],
      "execution_count": null,
      "outputs": [
        {
          "output_type": "stream",
          "text": [
            "Digite sua idade:  17\n",
            "Possui CNH? [Digite sim ou não]:  sim\n",
            "Vocẽ não tem idade pra dirigir!\n"
          ],
          "name": "stdout"
        }
      ]
    },
    {
      "cell_type": "markdown",
      "metadata": {
        "id": "AUPqvjLGANDg"
      },
      "source": [
        "# **Aula 07 - Estruturas de Repetição - While**"
      ]
    },
    {
      "cell_type": "markdown",
      "metadata": {
        "id": "D5K-6avrANDg"
      },
      "source": [
        "## **While**\n",
        "\n",
        "O while é bastante parecido com um 'if': ele possui uma expressão, e é executado caso ela seja verdadeira. Mas o if é executado apenas uma vez, e depois o código segue adiante.\n",
        "\n",
        "O while não: ao final de sua execução, ele torna a testar a expressão, e caso ela seja verdadeira, ele repete sua execução."
      ]
    },
    {
      "cell_type": "code",
      "metadata": {
        "id": "wvGP7GW-ANDg",
        "outputId": "1daffe5b-b9f7-4b72-e46e-192f32490bf6"
      },
      "source": [
        "horario = int(input('Qual horário é agora? '))\n",
        "\n",
        "# Testando a condição uma única vez com o if:\n",
        "if 0 < horario < 6:\n",
        "    print('Você está no horário da madrugada')\n",
        "else:\n",
        "    print('Você não está no horário da madrugada')"
      ],
      "execution_count": null,
      "outputs": [
        {
          "output_type": "stream",
          "text": [
            "Qual horário é agora?  10\n",
            "Você não está no horário da madrugada\n"
          ],
          "name": "stdout"
        }
      ]
    },
    {
      "cell_type": "code",
      "metadata": {
        "id": "BaYTbbr8ANDg",
        "outputId": "73ba4eff-956b-4e06-d6cb-0a0753336649"
      },
      "source": [
        "horario = int(input('Qual horário é agora? '))\n",
        "\n",
        "# Testando a condição em loop com o while:\n",
        "while 0 < horario < 6:\n",
        "    print('Você está no horário da madrugada')\n",
        "    horario = horario + 1\n",
        "else:\n",
        "    print('Você não está no horário da madrugada')"
      ],
      "execution_count": null,
      "outputs": [
        {
          "output_type": "stream",
          "text": [
            "Qual horário é agora?  10\n",
            "Você não está no horário da madrugada\n"
          ],
          "name": "stdout"
        }
      ]
    },
    {
      "cell_type": "code",
      "metadata": {
        "id": "WirLkr3KANDh",
        "outputId": "6e97b5de-0a38-412c-dda2-bf16221b7c44"
      },
      "source": [
        "# O while permite continuar decrementando o número de pipocas até chegar em 0:\n",
        "num_pipocas = int(input('Digite o numero de pipocas: '))\n",
        "\n",
        "while num_pipocas > 0:\n",
        "    print('O numero de pipocas é: ', num_pipocas)\n",
        "    num_pipocas = num_pipocas - 1"
      ],
      "execution_count": null,
      "outputs": [
        {
          "output_type": "stream",
          "text": [
            "Digite o numero de pipocas:  10\n",
            "O numero de pipocas é:  10\n",
            "O numero de pipocas é:  9\n",
            "O numero de pipocas é:  8\n",
            "O numero de pipocas é:  7\n",
            "O numero de pipocas é:  6\n",
            "O numero de pipocas é:  5\n",
            "O numero de pipocas é:  4\n",
            "O numero de pipocas é:  3\n",
            "O numero de pipocas é:  2\n",
            "O numero de pipocas é:  1\n"
          ],
          "name": "stdout"
        }
      ]
    },
    {
      "cell_type": "code",
      "metadata": {
        "id": "uv4PKBIAANDh",
        "outputId": "4b5fa425-2c4c-4bcf-efec-25d30509d189"
      },
      "source": [
        "contador = 0\n",
        "\n",
        "while contador < 10:\n",
        "    contador = contador + 1\n",
        "\n",
        "    if contador == 1:\n",
        "        print(contador, 'itens limpos')\n",
        "\n",
        "    else:\n",
        "        print(contador, 'itens limpos')\n",
        "\n",
        "print('Fim da repitação do bloco while!')"
      ],
      "execution_count": null,
      "outputs": [
        {
          "output_type": "stream",
          "text": [
            "1 itens limpos\n",
            "2 itens limpos\n",
            "3 itens limpos\n",
            "4 itens limpos\n",
            "5 itens limpos\n",
            "6 itens limpos\n",
            "7 itens limpos\n",
            "8 itens limpos\n",
            "9 itens limpos\n",
            "10 itens limpos\n",
            "Fim da repitação do bloco while!\n"
          ],
          "name": "stdout"
        }
      ]
    },
    {
      "cell_type": "markdown",
      "metadata": {
        "id": "AF3GZTqIANDh"
      },
      "source": [
        "## **Validação de entrada**\n",
        "Uma utilidade interessante do while é obrigar o usuário a digitar apenas entradas válidas."
      ]
    },
    {
      "cell_type": "code",
      "metadata": {
        "id": "LjdrHzKLANDh",
        "outputId": "900ffe8e-e3fa-4590-ab8b-7f046316dab0"
      },
      "source": [
        "# o exemplo abaixo não aceita um salário menor do que o mínimo atual:\n",
        "salario = float(input('Digite seu salário: '))\n",
        "\n",
        "while salario < 998.0:\n",
        "    salario = float(input('Entre com um salário MAIOR DO QUE 998.0: '))\n",
        "else:\n",
        "    print('O salário que você entrou foi: ', salario)"
      ],
      "execution_count": null,
      "outputs": [
        {
          "output_type": "stream",
          "text": [
            "Digite seu salário:  3600\n",
            "O salário que você entrou foi:  3600.0\n"
          ],
          "name": "stdout"
        }
      ]
    },
    {
      "cell_type": "code",
      "metadata": {
        "id": "1qbfBxqCANDh",
        "outputId": "6d60db96-9f85-4772-db0a-02e6d28cf48f"
      },
      "source": [
        "# o exemplo abaixo só sai do loop quando o usuário digitar \"OK\":\n",
        "resposta = input('Digite OK: ').upper()\n",
        "\n",
        "while resposta != 'OK':\n",
        "    resposta = input('Não foi isso que eu pedi, digite OK: ').upper()"
      ],
      "execution_count": null,
      "outputs": [
        {
          "output_type": "stream",
          "text": [
            "Digite OK:  m\n",
            "Não foi isso que eu pedi, digite OK:  OK\n"
          ],
          "name": "stdout"
        }
      ]
    },
    {
      "cell_type": "markdown",
      "metadata": {
        "id": "XUJP_DyCANDi"
      },
      "source": [
        "## **Contador**\n",
        "\n",
        "Todo tipo de código que deve se repetir várias vezes pode ser feito com o while, como somar vários valores, gerar uma sequência etc. Nestes casos, é normal utilizar um contador:"
      ]
    },
    {
      "cell_type": "code",
      "metadata": {
        "id": "lVhxv5LjANDi",
        "outputId": "90b10270-2d3c-4a2d-89f5-93f41e726b83"
      },
      "source": [
        "# Declaramos um contador como 0:\n",
        "contador = 0\n",
        "\n",
        "# Definimos o número de repetições:\n",
        "numero = int(input('Digite um número: '))\n",
        "\n",
        "# Rodamos o while até o contador se igualar ao número de repetições:\n",
        "while contador < numero:\n",
        "    print(contador)\n",
        "    contador = contador + 1"
      ],
      "execution_count": null,
      "outputs": [
        {
          "output_type": "stream",
          "text": [
            "Digite um número:  5\n",
            "0\n",
            "1\n",
            "2\n",
            "3\n",
            "4\n"
          ],
          "name": "stdout"
        }
      ]
    },
    {
      "cell_type": "markdown",
      "metadata": {
        "id": "JRwdEXujANDi"
      },
      "source": [
        "## **Break**\n",
        "\n",
        "Um jeito de forçar um loop a ser interrompido é utilizando o comando 'break'. O loop abaixo em tese seria infinito, mas se a condição do if for verificada, o break é executado e conseguimos escapar do loop:"
      ]
    },
    {
      "cell_type": "code",
      "metadata": {
        "id": "gPnA1sy6ANDi",
        "outputId": "40433b69-7461-4ba5-a488-f679d0edb34a"
      },
      "source": [
        "while True:\n",
        "    resposta = input('Digite OK: ')\n",
        "    if resposta == 'OK':\n",
        "        break"
      ],
      "execution_count": null,
      "outputs": [
        {
          "output_type": "stream",
          "text": [
            "Digite OK:  ok\n",
            "Digite OK:  ok\n",
            "Digite OK:  ok\n",
            "Digite OK:  OK\n"
          ],
          "name": "stdout"
        }
      ]
    },
    {
      "cell_type": "code",
      "metadata": {
        "id": "UCr8yuWcANDi",
        "outputId": "25ddf503-5716-46ec-ee23-e4c845f3276f"
      },
      "source": [
        "senha = input('Digite sua senha: ')\n",
        "\n",
        "while senha != '1234':\n",
        "    print('Senha inválida!')\n",
        "    senha = input('Digite novamente a senha: ')\n",
        "\n",
        "print('Acesso liberado!')"
      ],
      "execution_count": null,
      "outputs": [
        {
          "output_type": "stream",
          "text": [
            "Digite sua senha:  456\n",
            "Senha inválida!\n",
            "Digite novamente a senha:  1234\n",
            "Acesso liberado!\n"
          ],
          "name": "stdout"
        }
      ]
    },
    {
      "cell_type": "code",
      "metadata": {
        "id": "eV9oehF2ANDj",
        "outputId": "9c3d3bcf-114e-4424-fc9a-2d79e9e79d02"
      },
      "source": [
        "contador = 0\n",
        "\n",
        "while contador < 10:\n",
        "    contador = contador + 1\n",
        "    if contador == 1:\n",
        "        continue\n",
        "    print(contador, 'itens limpos')\n",
        "\n",
        "print('Fim da repitação do bloco while!')"
      ],
      "execution_count": null,
      "outputs": [
        {
          "output_type": "stream",
          "text": [
            "2 itens limpos\n",
            "3 itens limpos\n",
            "4 itens limpos\n",
            "5 itens limpos\n",
            "6 itens limpos\n",
            "7 itens limpos\n",
            "8 itens limpos\n",
            "9 itens limpos\n",
            "10 itens limpos\n",
            "Fim da repitação do bloco while!\n"
          ],
          "name": "stdout"
        }
      ]
    },
    {
      "cell_type": "code",
      "metadata": {
        "id": "rMm0-4kKANDm"
      },
      "source": [
        ""
      ],
      "execution_count": null,
      "outputs": []
    }
  ]
}