{
  "nbformat": 4,
  "nbformat_minor": 0,
  "metadata": {
    "colab": {
      "name": "03 - Aplicações.ipynb",
      "provenance": [],
      "collapsed_sections": [],
      "include_colab_link": true
    },
    "language_info": {
      "name": "python"
    },
    "kernelspec": {
      "name": "python3",
      "display_name": "Python 3"
    }
  },
  "cells": [
    {
      "cell_type": "markdown",
      "metadata": {
        "id": "view-in-github",
        "colab_type": "text"
      },
      "source": [
        "<a href=\"https://colab.research.google.com/github/FGalvao77/Python-Basics/blob/main/03_Aplica%C3%A7%C3%B5es.ipynb\" target=\"_parent\"><img src=\"https://colab.research.google.com/assets/colab-badge.svg\" alt=\"Open In Colab\"/></a>"
      ]
    },
    {
      "cell_type": "markdown",
      "metadata": {
        "id": "uaHsIj2RdiOL"
      },
      "source": [
        "# **Aula 01 - Manipulação de Arquivos**"
      ]
    },
    {
      "cell_type": "markdown",
      "metadata": {
        "id": "U8JJPsKsdiOW"
      },
      "source": [
        "## **Arquivos em Python**\n",
        "\n",
        "O Python possui algumas funções prontas para manipular arquivos binários puros (onde, conhecendo a estrutura interna de qualquer formato, podemos salvar qualquer tipo de arquivo) e para manipular arquivos de texto (onde os binários são decodificados como strings).\n",
        "\n",
        "Focaremos no básico de manipulação de arquivo de texto, pois, na prática, quando formos trabalhar com arquivos mais complexos, é provável que usaremos bibliotecas específicas para lidar com eles, e elas já terão funções próprias para ler e salvar esses arquivos da maneira correta.\n",
        "\n",
        "## **Abrindo e fechando arquivos**\n",
        "\n",
        "Podemos criar arquivos novos ou abrir arquivos já existentes utilizando a função open. Ela possui 2 argumentos: o caminho do arquivo e o modo de operação.\n",
        "\n",
        "***Modo             Símbolo             Descrição***\n",
        "\n",
        "  read\t            **r**\t                lê um arquivo existente\n",
        "\n",
        "  write\t            **w**\t                cria um novo arquivo\n",
        "\n",
        "  append\t        **a**\t                abre um arquivo existente para adicionar informações ao seu final\n",
        "\n",
        "  update\t        **+**\t                ao ser combinado com outros modos, permite alteração de arquivo já existente (ex: r+ abre um arquivo existente e permite modificá-lo)\n",
        "\n",
        "\n",
        "Após abrirmos (ou criarmos) um arquivo, podemos realizar diversas operações. Ao final de todas elas, devemos fechar o nosso arquivo usando a função close. Essa etapa é importante por 2 motivos:\n",
        "\n",
        "Se alteramos o arquivo mas não o fechamos, as alterações não serão salvas;\n",
        "Se esquecemos de fechar um arquivo, outros programas podem ter problemas ao acessá-lo.\n",
        "Roteiro básico\n",
        "Vamos seguir os seguintes passos para manipular nossos arquivos:\n",
        "\n",
        "1. Abrir ou criar um arquivo:"
      ]
    },
    {
      "cell_type": "code",
      "metadata": {
        "colab": {
          "base_uri": "https://localhost:8080/"
        },
        "id": "C47SIQnWdiOa",
        "outputId": "ba3f4eea-23b9-46e3-af73-34636ff2a74c"
      },
      "source": [
        "arquivocriado = open('criado.txt', 'w')\n",
        "arquivocriado"
      ],
      "execution_count": 1,
      "outputs": [
        {
          "output_type": "execute_result",
          "data": {
            "text/plain": [
              "<_io.TextIOWrapper name='criado.txt' mode='w' encoding='UTF-8'>"
            ]
          },
          "metadata": {
            "tags": []
          },
          "execution_count": 1
        }
      ]
    },
    {
      "cell_type": "markdown",
      "metadata": {
        "id": "wANH8iIydiOg"
      },
      "source": [
        "A linha de comando acima abre (ou cria se não existe) um arquivo chamado \"criado.txt\" para escrita (\"w\", de write) e guarda na variável \"arquivocriado\" as informações para manipulá-lo."
      ]
    },
    {
      "cell_type": "code",
      "metadata": {
        "colab": {
          "base_uri": "https://localhost:8080/"
        },
        "id": "ufiksO_zdiOj",
        "outputId": "4905eed3-b911-4b25-bce9-88a3a9c03b01"
      },
      "source": [
        "arquivolido = open('criado.txt', 'r')\n",
        "arquivolido"
      ],
      "execution_count": 2,
      "outputs": [
        {
          "output_type": "execute_result",
          "data": {
            "text/plain": [
              "<_io.TextIOWrapper name='criado.txt' mode='r' encoding='UTF-8'>"
            ]
          },
          "metadata": {
            "tags": []
          },
          "execution_count": 2
        }
      ]
    },
    {
      "cell_type": "markdown",
      "metadata": {
        "id": "hDJrws91diOl"
      },
      "source": [
        "A linha acima lê (\"r\", de read) um arquivo já existente chamado \"teste.txt\" e guarda na variável \"arquivolido\" as informações para manipulá-lo.\n",
        "\n",
        "2. Carregar os dados do arquivo (leitura)"
      ]
    },
    {
      "cell_type": "code",
      "metadata": {
        "colab": {
          "base_uri": "https://localhost:8080/"
        },
        "id": "YMwBVRfediOm",
        "outputId": "7a0bf490-c6d5-4e5c-9658-473aa9065eea"
      },
      "source": [
        "dados = arquivolido.read()\n",
        "print(dados)"
      ],
      "execution_count": 3,
      "outputs": [
        {
          "output_type": "stream",
          "text": [
            "\n"
          ],
          "name": "stdout"
        }
      ]
    },
    {
      "cell_type": "markdown",
      "metadata": {
        "id": "g_58DwaldiOp"
      },
      "source": [
        "A função read() retorna todo o conteúdo do arquivo como uma string.\n",
        "\n",
        "Precisamos carregar o conteúdo do arquivo em algum formato que sabemos trabalhar. A read() carrega o conteúdo de um arquivo de texto em uma string.\n",
        "\n",
        "3. Manipular os dados do arquivo (escrita)"
      ]
    },
    {
      "cell_type": "code",
      "metadata": {
        "colab": {
          "base_uri": "https://localhost:8080/"
        },
        "id": "tJ9iv6_vdiOr",
        "outputId": "4b161cce-9569-44b0-c9c3-03b73ff6fef4"
      },
      "source": [
        "arquivocriado.write('linha 1')\n",
        "arquivocriado.write('linha 2')\n",
        "arquivocriado.write('linha 3')"
      ],
      "execution_count": 4,
      "outputs": [
        {
          "output_type": "execute_result",
          "data": {
            "text/plain": [
              "7"
            ]
          },
          "metadata": {
            "tags": []
          },
          "execution_count": 4
        }
      ]
    },
    {
      "cell_type": "markdown",
      "metadata": {
        "id": "vIh8zw4KdiOu"
      },
      "source": [
        "Em casos mais complexos, iremos manipular o conteudo LIDO no passo anterior para posteriormente reescrevê-lo. Em outros mais simples, podemos escrever diretamente no arquivo.\n",
        "\n",
        "4. Fechar o arquivo"
      ]
    },
    {
      "cell_type": "code",
      "metadata": {
        "id": "6WVZtsE9diOv"
      },
      "source": [
        "arquivocriado.close()\n",
        "arquivolido.close()"
      ],
      "execution_count": 5,
      "outputs": []
    },
    {
      "cell_type": "markdown",
      "metadata": {
        "id": "yPft8ygqdiOx"
      },
      "source": [
        "Essa etapa é muito importante para garantir a integridade dos novos dados no arquivo. As modificações são salvas somente ao fechar o arquivo.\n"
      ]
    },
    {
      "cell_type": "markdown",
      "metadata": {
        "id": "RzTgI4DAdiOy"
      },
      "source": [
        "## **Comando with**\n",
        "\n",
        "Um jeito mais inteligente de se trabalhar com arquivos é utilizar a sintaxe do \"with\". Ele garante que após a finalização do bloco, o arquivo será fechado."
      ]
    },
    {
      "cell_type": "code",
      "metadata": {
        "colab": {
          "base_uri": "https://localhost:8080/"
        },
        "id": "Bb5WNBMfdiO0",
        "outputId": "bf27c038-07d5-467d-c68f-1cbc2e2890e4"
      },
      "source": [
        "arquivocriado = open('teste.txt', 'w')\n",
        "arquivocriado"
      ],
      "execution_count": 6,
      "outputs": [
        {
          "output_type": "execute_result",
          "data": {
            "text/plain": [
              "<_io.TextIOWrapper name='teste.txt' mode='w' encoding='UTF-8'>"
            ]
          },
          "metadata": {
            "tags": []
          },
          "execution_count": 6
        }
      ]
    },
    {
      "cell_type": "code",
      "metadata": {
        "colab": {
          "base_uri": "https://localhost:8080/"
        },
        "id": "AmGEFHkTdiO1",
        "outputId": "09ce8587-4e68-460a-cd8c-744a7c65ac2a"
      },
      "source": [
        "with open('teste.txt', 'r') as arquivolido:\n",
        "  dados = arquivolido.read()\n",
        "  print(dados)"
      ],
      "execution_count": 8,
      "outputs": [
        {
          "output_type": "stream",
          "text": [
            "\n"
          ],
          "name": "stdout"
        }
      ]
    },
    {
      "cell_type": "markdown",
      "metadata": {
        "id": "Y5GLRdlAdiO3"
      },
      "source": [
        "É possível ler o arquivo linha a linha, como no exemplo:"
      ]
    },
    {
      "cell_type": "code",
      "metadata": {
        "id": "vopMj_VYdiO4"
      },
      "source": [
        "with open('teste.txt', 'r') as arquivolido:\n",
        "  linha = arquivolido.readline()\n",
        "  while linha != '':\n",
        "    print(linha, end='')\n",
        "    linha = arquivolido.readline()"
      ],
      "execution_count": 9,
      "outputs": []
    },
    {
      "cell_type": "code",
      "metadata": {
        "id": "tzI0MKH5diO5"
      },
      "source": [
        "# ou\n",
        "with open('teste.txt', 'r') as arquivolido:\n",
        "  for linha in arquivolido:\n",
        "    print(linha, end='')"
      ],
      "execution_count": 10,
      "outputs": []
    },
    {
      "cell_type": "markdown",
      "metadata": {
        "id": "XeoA9H74diO6"
      },
      "source": [
        "O mesmo pode ser feito para escrever no arquivo:\n"
      ]
    },
    {
      "cell_type": "code",
      "metadata": {
        "id": "aOWUL5nbdiO7"
      },
      "source": [
        "with open('teste.txt', 'r') as arquivolido:\n",
        "  with open('copiateste.txt', 'w') as arquivocriado:\n",
        "    for linha in arquivolido:\n",
        "      arquivocriado.write(linha)"
      ],
      "execution_count": 11,
      "outputs": []
    },
    {
      "cell_type": "markdown",
      "metadata": {
        "id": "CTkGXuzNdiO8"
      },
      "source": [
        "No comando acima, as linhas do arquivo \"teste.txt\" são copiadas e salvas no arquivo \"copiateste.txt\"."
      ]
    },
    {
      "cell_type": "markdown",
      "metadata": {
        "id": "CmO61Vd3diO9"
      },
      "source": [
        "# **Aula 02 - Arquivos CSV**"
      ]
    },
    {
      "cell_type": "markdown",
      "metadata": {
        "id": "c9vGnYeldiO-"
      },
      "source": [
        "## **CSV**\n",
        "\n",
        "O formato CSV (Comma Separated Values, ou Valores Separados por Vírgula) é um arquivo de texto que representa dados em forma de tabela de forma simples.\n",
        "\n",
        "Cada linha do arquivo de texto é uma linha da tabela, e as colunas são separadas por vírgulas.\n",
        "\n",
        "1, 2, 3, 4\n",
        "\n",
        "5, 6, 7, 8\n",
        "\n",
        "9, 10, 11, 12\n",
        "\n",
        "Poderíamos manipular estes arquivos diretamente usando as funções de arquivo vistas anteriormente. Um fator complicador é que o formato CSV não é bem padronizado: apesar do nome, é normal que outros separadores sejam usados ao invés de vírgula, como \";\", para permitir que a vírgula seja usada em um campo. Idem para a separação entre linhas. Existe um módulo em Python para manipular arquivos CSV que nos ajuda a tratar essas diferenças. Todo programa que for utilizar o módulo CSV deverá importá-lo em seu início através do comando: import csv"
      ]
    },
    {
      "cell_type": "code",
      "metadata": {
        "colab": {
          "base_uri": "https://localhost:8080/"
        },
        "id": "STsV_dPEdiPA",
        "outputId": "c081353a-59b5-404e-f9d0-bcd9d771f1fa"
      },
      "source": [
        "import csv\n",
        "\n",
        "with open('tabelaExemplo.csv', 'w') as arquivo:\n",
        "  escritor = csv.writer(arquivo, delimiter = ';', lineterminator = '\\n') # criando um escritor\n",
        "  lista = [[1, 2, 3], [4, 5, 6], [7, 8, 9]]\n",
        "  escritor.writerows(lista) # writerows escreve cada \"sub-lista\" da lista como uma linha\n",
        "\n",
        "with open('tabelaExemplo.csv', \"r\") as arquivo:\n",
        "  leitor = csv.reader(arquivo, delimiter = ';', lineterminator = '\\n') # criando um leitor\n",
        "  print(\"O conteúdo do arquivo é:\")\n",
        "  print(leitor)\n",
        "  for linha in leitor:\n",
        "    print(linha)"
      ],
      "execution_count": 12,
      "outputs": [
        {
          "output_type": "stream",
          "text": [
            "O conteúdo do arquivo é:\n",
            "<_csv.reader object at 0x7f0d63a10850>\n",
            "['1', '2', '3']\n",
            "['4', '5', '6']\n",
            "['7', '8', '9']\n"
          ],
          "name": "stdout"
        }
      ]
    },
    {
      "cell_type": "markdown",
      "metadata": {
        "id": "R_901U0lhcDT"
      },
      "source": [
        "## **Atividade da aula**"
      ]
    },
    {
      "cell_type": "code",
      "metadata": {
        "id": "3iuLoOL0hhYD"
      },
      "source": [
        "# importando a biblioteca necessária\n",
        "import csv"
      ],
      "execution_count": 15,
      "outputs": []
    },
    {
      "cell_type": "code",
      "metadata": {
        "colab": {
          "resources": {
            "http://localhost:8080/nbextensions/google.colab/files.js": {
              "data": "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",
              "ok": true,
              "headers": [
                [
                  "content-type",
                  "application/javascript"
                ]
              ],
              "status": 200,
              "status_text": ""
            }
          },
          "base_uri": "https://localhost:8080/",
          "height": 72
        },
        "id": "qvyaNcQ_hhVi",
        "outputId": "679d24d8-da4c-47ac-db91-b0d1b58804ff"
      },
      "source": [
        "# importando a bases de dados para o google colab\n",
        "# para isso, utilizarei a biblioteca fornecida pela google\n",
        "from google.colab import files\n",
        "uploaded = files.upload()"
      ],
      "execution_count": 16,
      "outputs": [
        {
          "output_type": "display_data",
          "data": {
            "text/html": [
              "\n",
              "     <input type=\"file\" id=\"files-8c7c156b-5c9c-47e4-82f2-6b9d8fe62a71\" name=\"files[]\" multiple disabled\n",
              "        style=\"border:none\" />\n",
              "     <output id=\"result-8c7c156b-5c9c-47e4-82f2-6b9d8fe62a71\">\n",
              "      Upload widget is only available when the cell has been executed in the\n",
              "      current browser session. Please rerun this cell to enable.\n",
              "      </output>\n",
              "      <script src=\"/nbextensions/google.colab/files.js\"></script> "
            ],
            "text/plain": [
              "<IPython.core.display.HTML object>"
            ]
          },
          "metadata": {
            "tags": []
          }
        },
        {
          "output_type": "stream",
          "text": [
            "Saving brasil_covid.csv to brasil_covid.csv\n"
          ],
          "name": "stdout"
        }
      ]
    },
    {
      "cell_type": "code",
      "metadata": {
        "colab": {
          "base_uri": "https://localhost:8080/"
        },
        "id": "xihboMyLhhO1",
        "outputId": "82ac2e63-d9cd-47df-be77-559493e49cb0"
      },
      "source": [
        "# realizando a leitura do arquivo e visualizando\n",
        "with open('brasil_covid.csv', 'r', encoding='utf-8') as arquivo_csv:\n",
        "  leitor = csv.reader(arquivo_csv)\n",
        "  for linha in leitor:\n",
        "    print(linha)"
      ],
      "execution_count": 17,
      "outputs": [
        {
          "output_type": "stream",
          "text": [
            "['data', 'pais', 'novos_casos', 'novos_obitos', 'total_casos', 'total_obitos']\n",
            "['2019-12-31', 'Brasil', '0', '0', '0', '0']\n",
            "['2020-01-01', 'Brasil', '0', '0', '0', '0']\n",
            "['2020-01-02', 'Brasil', '0', '0', '0', '0']\n",
            "['2020-01-03', 'Brasil', '0', '0', '0', '0']\n",
            "['2020-01-04', 'Brasil', '0', '0', '0', '0']\n",
            "['2020-01-05', 'Brasil', '0', '0', '0', '0']\n",
            "['2020-01-06', 'Brasil', '0', '0', '0', '0']\n",
            "['2020-01-07', 'Brasil', '0', '0', '0', '0']\n",
            "['2020-01-08', 'Brasil', '0', '0', '0', '0']\n",
            "['2020-01-09', 'Brasil', '0', '0', '0', '0']\n",
            "['2020-01-10', 'Brasil', '0', '0', '0', '0']\n",
            "['2020-01-11', 'Brasil', '0', '0', '0', '0']\n",
            "['2020-01-12', 'Brasil', '0', '0', '0', '0']\n",
            "['2020-01-13', 'Brasil', '0', '0', '0', '0']\n",
            "['2020-01-14', 'Brasil', '0', '0', '0', '0']\n",
            "['2020-01-15', 'Brasil', '0', '0', '0', '0']\n",
            "['2020-01-16', 'Brasil', '0', '0', '0', '0']\n",
            "['2020-01-17', 'Brasil', '0', '0', '0', '0']\n",
            "['2020-01-18', 'Brasil', '0', '0', '0', '0']\n",
            "['2020-01-19', 'Brasil', '0', '0', '0', '0']\n",
            "['2020-01-20', 'Brasil', '0', '0', '0', '0']\n",
            "['2020-01-21', 'Brasil', '0', '0', '0', '0']\n",
            "['2020-01-22', 'Brasil', '0', '0', '0', '0']\n",
            "['2020-01-23', 'Brasil', '0', '0', '0', '0']\n",
            "['2020-01-24', 'Brasil', '0', '0', '0', '0']\n",
            "['2020-01-25', 'Brasil', '0', '0', '0', '0']\n",
            "['2020-01-26', 'Brasil', '0', '0', '0', '0']\n",
            "['2020-01-27', 'Brasil', '0', '0', '0', '0']\n",
            "['2020-01-28', 'Brasil', '0', '0', '0', '0']\n",
            "['2020-01-29', 'Brasil', '0', '0', '0', '0']\n",
            "['2020-01-30', 'Brasil', '0', '0', '0', '0']\n",
            "['2020-01-31', 'Brasil', '0', '0', '0', '0']\n",
            "['2020-02-01', 'Brasil', '0', '0', '0', '0']\n",
            "['2020-02-02', 'Brasil', '0', '0', '0', '0']\n",
            "['2020-02-03', 'Brasil', '0', '0', '0', '0']\n",
            "['2020-02-04', 'Brasil', '0', '0', '0', '0']\n",
            "['2020-02-05', 'Brasil', '0', '0', '0', '0']\n",
            "['2020-02-06', 'Brasil', '0', '0', '0', '0']\n",
            "['2020-02-07', 'Brasil', '0', '0', '0', '0']\n",
            "['2020-02-08', 'Brasil', '0', '0', '0', '0']\n",
            "['2020-02-09', 'Brasil', '0', '0', '0', '0']\n",
            "['2020-02-10', 'Brasil', '0', '0', '0', '0']\n",
            "['2020-02-11', 'Brasil', '0', '0', '0', '0']\n",
            "['2020-02-12', 'Brasil', '0', '0', '0', '0']\n",
            "['2020-02-13', 'Brasil', '0', '0', '0', '0']\n",
            "['2020-02-14', 'Brasil', '0', '0', '0', '0']\n",
            "['2020-02-15', 'Brasil', '0', '0', '0', '0']\n",
            "['2020-02-16', 'Brasil', '0', '0', '0', '0']\n",
            "['2020-02-17', 'Brasil', '0', '0', '0', '0']\n",
            "['2020-02-18', 'Brasil', '0', '0', '0', '0']\n",
            "['2020-02-19', 'Brasil', '0', '0', '0', '0']\n",
            "['2020-02-20', 'Brasil', '0', '0', '0', '0']\n",
            "['2020-02-21', 'Brasil', '0', '0', '0', '0']\n",
            "['2020-02-22', 'Brasil', '0', '0', '0', '0']\n",
            "['2020-02-23', 'Brasil', '0', '0', '0', '0']\n",
            "['2020-02-24', 'Brasil', '0', '0', '0', '0']\n",
            "['2020-02-25', 'Brasil', '0', '0', '0', '0']\n",
            "['2020-02-26', 'Brasil', '1', '0', '1', '0']\n",
            "['2020-02-27', 'Brasil', '0', '0', '1', '0']\n",
            "['2020-02-28', 'Brasil', '0', '0', '1', '0']\n",
            "['2020-02-29', 'Brasil', '0', '0', '1', '0']\n",
            "['2020-03-01', 'Brasil', '1', '0', '2', '0']\n",
            "['2020-03-02', 'Brasil', '0', '0', '2', '0']\n",
            "['2020-03-03', 'Brasil', '0', '0', '2', '0']\n",
            "['2020-03-04', 'Brasil', '0', '0', '2', '0']\n",
            "['2020-03-05', 'Brasil', '1', '0', '3', '0']\n",
            "['2020-03-06', 'Brasil', '5', '0', '8', '0']\n",
            "['2020-03-07', 'Brasil', '5', '0', '13', '0']\n",
            "['2020-03-08', 'Brasil', '0', '0', '13', '0']\n",
            "['2020-03-09', 'Brasil', '12', '0', '25', '0']\n",
            "['2020-03-10', 'Brasil', '0', '0', '25', '0']\n",
            "['2020-03-11', 'Brasil', '9', '0', '34', '0']\n",
            "['2020-03-12', 'Brasil', '18', '0', '52', '0']\n",
            "['2020-03-13', 'Brasil', '25', '0', '77', '0']\n",
            "['2020-03-14', 'Brasil', '21', '0', '98', '0']\n",
            "['2020-03-15', 'Brasil', '23', '0', '121', '0']\n",
            "['2020-03-16', 'Brasil', '79', '0', '200', '0']\n",
            "['2020-03-17', 'Brasil', '34', '0', '234', '0']\n",
            "['2020-03-18', 'Brasil', '57', '1', '291', '1']\n",
            "['2020-03-19', 'Brasil', '137', '3', '428', '4']\n",
            "['2020-03-20', 'Brasil', '193', '2', '621', '6']\n",
            "['2020-03-21', 'Brasil', '283', '5', '904', '11']\n",
            "['2020-03-22', 'Brasil', '224', '7', '1128', '18']\n",
            "['2020-03-23', 'Brasil', '418', '7', '1546', '25']\n",
            "['2020-03-24', 'Brasil', '345', '9', '1891', '34']\n",
            "['2020-03-25', 'Brasil', '310', '12', '2201', '46']\n",
            "['2020-03-26', 'Brasil', '232', '11', '2433', '57']\n",
            "['2020-03-27', 'Brasil', '482', '20', '2915', '77']\n",
            "['2020-03-28', 'Brasil', '502', '15', '3417', '92']\n",
            "['2020-03-29', 'Brasil', '487', '22', '3904', '114']\n",
            "['2020-03-30', 'Brasil', '352', '22', '4256', '136']\n",
            "['2020-03-31', 'Brasil', '323', '23', '4579', '159']\n",
            "['2020-04-01', 'Brasil', '1138', '42', '5717', '201']\n",
            "['2020-04-02', 'Brasil', '1119', '40', '6836', '241']\n",
            "['2020-04-03', 'Brasil', '1074', '58', '7910', '299']\n",
            "['2020-04-04', 'Brasil', '1146', '60', '9056', '359']\n",
            "['2020-04-05', 'Brasil', '1222', '73', '10278', '432']\n",
            "['2020-04-06', 'Brasil', '852', '54', '11130', '486']\n",
            "['2020-04-07', 'Brasil', '926', '67', '12056', '553']\n",
            "['2020-04-08', 'Brasil', '1661', '114', '13717', '667']\n",
            "['2020-04-09', 'Brasil', '2210', '133', '15927', '800']\n",
            "['2020-04-10', 'Brasil', '1930', '141', '17857', '941']\n",
            "['2020-04-11', 'Brasil', '1781', '115', '19638', '1056']\n",
            "['2020-04-12', 'Brasil', '1089', '68', '20727', '1124']\n",
            "['2020-04-13', 'Brasil', '1442', '99', '22169', '1223']\n",
            "['2020-04-14', 'Brasil', '1261', '105', '23430', '1328']\n",
            "['2020-04-15', 'Brasil', '1832', '204', '25262', '1532']\n",
            "['2020-04-16', 'Brasil', '3058', '204', '28320', '1736']\n",
            "['2020-04-17', 'Brasil', '2105', '188', '30425', '1924']\n",
            "['2020-04-18', 'Brasil', '3257', '217', '33682', '2141']\n",
            "['2020-04-19', 'Brasil', '2917', '206', '36599', '2347']\n",
            "['2020-04-20', 'Brasil', '2055', '115', '38654', '2462']\n",
            "['2020-04-21', 'Brasil', '1927', '113', '40581', '2575']\n",
            "['2020-04-22', 'Brasil', '2498', '166', '43079', '2741']\n",
            "['2020-04-23', 'Brasil', '2678', '165', '45757', '2906']\n",
            "['2020-04-24', 'Brasil', '3735', '407', '49492', '3313']\n",
            "['2020-04-25', 'Brasil', '3503', '357', '52995', '3670']\n",
            "['2020-04-26', 'Brasil', '5514', '346', '58509', '4016']\n",
            "['2020-04-27', 'Brasil', '3379', '189', '61888', '4205']\n",
            "['2020-04-28', 'Brasil', '4613', '338', '66501', '4543']\n",
            "['2020-04-29', 'Brasil', '5385', '474', '71886', '5017']\n",
            "['2020-04-30', 'Brasil', '6276', '449', '78162', '5466']\n",
            "['2020-05-01', 'Brasil', '7218', '435', '85380', '5901']\n",
            "['2020-05-02', 'Brasil', '6209', '428', '91589', '6329']\n",
            "['2020-05-03', 'Brasil', '4970', '421', '96559', '6750']\n",
            "['2020-05-04', 'Brasil', '4588', '275', '101147', '7025']\n",
            "['2020-05-05', 'Brasil', '6633', '296', '107780', '7321']\n",
            "['2020-05-06', 'Brasil', '6935', '600', '114715', '7921']\n",
            "['2020-05-07', 'Brasil', '10503', '615', '125218', '8536']\n",
            "['2020-05-08', 'Brasil', '9888', '610', '135106', '9146']\n",
            "['2020-05-09', 'Brasil', '10222', '751', '145328', '9897']\n",
            "['2020-05-10', 'Brasil', '10611', '730', '155939', '10627']\n",
            "['2020-05-11', 'Brasil', '6760', '496', '162699', '11123']\n",
            "['2020-05-12', 'Brasil', '5632', '396', '168331', '11519']\n",
            "['2020-05-13', 'Brasil', '9258', '881', '177589', '12400']\n",
            "['2020-05-14', 'Brasil', '11385', '749', '188974', '13149']\n",
            "['2020-05-15', 'Brasil', '13944', '844', '202918', '13993']\n",
            "['2020-05-16', 'Brasil', '15305', '824', '218223', '14817']\n",
            "['2020-05-17', 'Brasil', '14919', '816', '233142', '15633']\n",
            "['2020-05-18', 'Brasil', '7938', '485', '241080', '16118']\n",
            "['2020-05-19', 'Brasil', '13140', '674', '254220', '16792']\n",
            "['2020-05-20', 'Brasil', '17408', '1179', '271628', '17971']\n",
            "['2020-05-21', 'Brasil', '19951', '888', '291579', '18859']\n",
            "['2020-05-22', 'Brasil', '18508', '1188', '310087', '20047']\n",
            "['2020-05-23', 'Brasil', '20803', '1001', '330890', '21048']\n",
            "['2020-05-24', 'Brasil', '16508', '965', '347398', '22013']\n",
            "['2020-05-25', 'Brasil', '15813', '653', '363211', '22666']\n",
            "['2020-05-26', 'Brasil', '11687', '807', '374898', '23473']\n",
            "['2020-05-27', 'Brasil', '16324', '1039', '391222', '24512']\n",
            "['2020-05-28', 'Brasil', '20599', '1086', '411821', '25598']\n",
            "['2020-05-29', 'Brasil', '26417', '1156', '438238', '26754']\n",
            "['2020-05-30', 'Brasil', '26928', '1124', '465166', '27878']\n",
            "['2020-05-31', 'Brasil', '33274', '956', '498440', '28834']\n",
            "['2020-06-01', 'Brasil', '16409', '480', '514849', '29314']\n",
            "['2020-06-02', 'Brasil', '11598', '623', '526447', '29937']\n",
            "['2020-06-03', 'Brasil', '28936', '1262', '555383', '31199']\n",
            "['2020-06-04', 'Brasil', '28633', '1349', '584016', '32548']\n",
            "['2020-06-05', 'Brasil', '30916', '1473', '614932', '34021']\n",
            "['2020-06-06', 'Brasil', '30830', '1005', '645762', '35026']\n",
            "['2020-06-07', 'Brasil', '27075', '904', '672837', '35930']\n",
            "['2020-06-08', 'Brasil', '18921', '525', '691758', '36455']\n",
            "['2020-06-09', 'Brasil', '15654', '679', '707412', '37134']\n",
            "['2020-06-10', 'Brasil', '32091', '1272', '739503', '38406']\n",
            "['2020-06-11', 'Brasil', '32913', '1274', '772416', '39680']\n",
            "['2020-06-12', 'Brasil', '30412', '1239', '802828', '40919']\n",
            "['2020-06-13', 'Brasil', '25982', '909', '828810', '41828']\n",
            "['2020-06-14', 'Brasil', '21704', '892', '850514', '42720']\n",
            "['2020-06-15', 'Brasil', '17110', '612', '867624', '43332']\n",
            "['2020-06-16', 'Brasil', '20647', '627', '888271', '43959']\n"
          ],
          "name": "stdout"
        }
      ]
    },
    {
      "cell_type": "code",
      "metadata": {
        "colab": {
          "base_uri": "https://localhost:8080/"
        },
        "id": "HVNaYcUViSLG",
        "outputId": "7f079e54-160f-42cb-c56d-d97240d822da"
      },
      "source": [
        "# visualizando a variável \"novos_casos\" com valores maior que 1\n",
        "# instanciando a função/método para visualizar\n",
        "with open('brasil_covid.csv', 'r', encoding='utf-8') as novos_casos_maior_que_1:\n",
        "  leitor = csv.reader(novos_casos_maior_que_1)\n",
        "  header = next(leitor)\n",
        "\n",
        "  for linha in leitor:\n",
        "    if int (linha[2]) > 1:\n",
        "      print(linha)"
      ],
      "execution_count": 19,
      "outputs": [
        {
          "output_type": "stream",
          "text": [
            "['2020-03-06', 'Brasil', '5', '0', '8', '0']\n",
            "['2020-03-07', 'Brasil', '5', '0', '13', '0']\n",
            "['2020-03-09', 'Brasil', '12', '0', '25', '0']\n",
            "['2020-03-11', 'Brasil', '9', '0', '34', '0']\n",
            "['2020-03-12', 'Brasil', '18', '0', '52', '0']\n",
            "['2020-03-13', 'Brasil', '25', '0', '77', '0']\n",
            "['2020-03-14', 'Brasil', '21', '0', '98', '0']\n",
            "['2020-03-15', 'Brasil', '23', '0', '121', '0']\n",
            "['2020-03-16', 'Brasil', '79', '0', '200', '0']\n",
            "['2020-03-17', 'Brasil', '34', '0', '234', '0']\n",
            "['2020-03-18', 'Brasil', '57', '1', '291', '1']\n",
            "['2020-03-19', 'Brasil', '137', '3', '428', '4']\n",
            "['2020-03-20', 'Brasil', '193', '2', '621', '6']\n",
            "['2020-03-21', 'Brasil', '283', '5', '904', '11']\n",
            "['2020-03-22', 'Brasil', '224', '7', '1128', '18']\n",
            "['2020-03-23', 'Brasil', '418', '7', '1546', '25']\n",
            "['2020-03-24', 'Brasil', '345', '9', '1891', '34']\n",
            "['2020-03-25', 'Brasil', '310', '12', '2201', '46']\n",
            "['2020-03-26', 'Brasil', '232', '11', '2433', '57']\n",
            "['2020-03-27', 'Brasil', '482', '20', '2915', '77']\n",
            "['2020-03-28', 'Brasil', '502', '15', '3417', '92']\n",
            "['2020-03-29', 'Brasil', '487', '22', '3904', '114']\n",
            "['2020-03-30', 'Brasil', '352', '22', '4256', '136']\n",
            "['2020-03-31', 'Brasil', '323', '23', '4579', '159']\n",
            "['2020-04-01', 'Brasil', '1138', '42', '5717', '201']\n",
            "['2020-04-02', 'Brasil', '1119', '40', '6836', '241']\n",
            "['2020-04-03', 'Brasil', '1074', '58', '7910', '299']\n",
            "['2020-04-04', 'Brasil', '1146', '60', '9056', '359']\n",
            "['2020-04-05', 'Brasil', '1222', '73', '10278', '432']\n",
            "['2020-04-06', 'Brasil', '852', '54', '11130', '486']\n",
            "['2020-04-07', 'Brasil', '926', '67', '12056', '553']\n",
            "['2020-04-08', 'Brasil', '1661', '114', '13717', '667']\n",
            "['2020-04-09', 'Brasil', '2210', '133', '15927', '800']\n",
            "['2020-04-10', 'Brasil', '1930', '141', '17857', '941']\n",
            "['2020-04-11', 'Brasil', '1781', '115', '19638', '1056']\n",
            "['2020-04-12', 'Brasil', '1089', '68', '20727', '1124']\n",
            "['2020-04-13', 'Brasil', '1442', '99', '22169', '1223']\n",
            "['2020-04-14', 'Brasil', '1261', '105', '23430', '1328']\n",
            "['2020-04-15', 'Brasil', '1832', '204', '25262', '1532']\n",
            "['2020-04-16', 'Brasil', '3058', '204', '28320', '1736']\n",
            "['2020-04-17', 'Brasil', '2105', '188', '30425', '1924']\n",
            "['2020-04-18', 'Brasil', '3257', '217', '33682', '2141']\n",
            "['2020-04-19', 'Brasil', '2917', '206', '36599', '2347']\n",
            "['2020-04-20', 'Brasil', '2055', '115', '38654', '2462']\n",
            "['2020-04-21', 'Brasil', '1927', '113', '40581', '2575']\n",
            "['2020-04-22', 'Brasil', '2498', '166', '43079', '2741']\n",
            "['2020-04-23', 'Brasil', '2678', '165', '45757', '2906']\n",
            "['2020-04-24', 'Brasil', '3735', '407', '49492', '3313']\n",
            "['2020-04-25', 'Brasil', '3503', '357', '52995', '3670']\n",
            "['2020-04-26', 'Brasil', '5514', '346', '58509', '4016']\n",
            "['2020-04-27', 'Brasil', '3379', '189', '61888', '4205']\n",
            "['2020-04-28', 'Brasil', '4613', '338', '66501', '4543']\n",
            "['2020-04-29', 'Brasil', '5385', '474', '71886', '5017']\n",
            "['2020-04-30', 'Brasil', '6276', '449', '78162', '5466']\n",
            "['2020-05-01', 'Brasil', '7218', '435', '85380', '5901']\n",
            "['2020-05-02', 'Brasil', '6209', '428', '91589', '6329']\n",
            "['2020-05-03', 'Brasil', '4970', '421', '96559', '6750']\n",
            "['2020-05-04', 'Brasil', '4588', '275', '101147', '7025']\n",
            "['2020-05-05', 'Brasil', '6633', '296', '107780', '7321']\n",
            "['2020-05-06', 'Brasil', '6935', '600', '114715', '7921']\n",
            "['2020-05-07', 'Brasil', '10503', '615', '125218', '8536']\n",
            "['2020-05-08', 'Brasil', '9888', '610', '135106', '9146']\n",
            "['2020-05-09', 'Brasil', '10222', '751', '145328', '9897']\n",
            "['2020-05-10', 'Brasil', '10611', '730', '155939', '10627']\n",
            "['2020-05-11', 'Brasil', '6760', '496', '162699', '11123']\n",
            "['2020-05-12', 'Brasil', '5632', '396', '168331', '11519']\n",
            "['2020-05-13', 'Brasil', '9258', '881', '177589', '12400']\n",
            "['2020-05-14', 'Brasil', '11385', '749', '188974', '13149']\n",
            "['2020-05-15', 'Brasil', '13944', '844', '202918', '13993']\n",
            "['2020-05-16', 'Brasil', '15305', '824', '218223', '14817']\n",
            "['2020-05-17', 'Brasil', '14919', '816', '233142', '15633']\n",
            "['2020-05-18', 'Brasil', '7938', '485', '241080', '16118']\n",
            "['2020-05-19', 'Brasil', '13140', '674', '254220', '16792']\n",
            "['2020-05-20', 'Brasil', '17408', '1179', '271628', '17971']\n",
            "['2020-05-21', 'Brasil', '19951', '888', '291579', '18859']\n",
            "['2020-05-22', 'Brasil', '18508', '1188', '310087', '20047']\n",
            "['2020-05-23', 'Brasil', '20803', '1001', '330890', '21048']\n",
            "['2020-05-24', 'Brasil', '16508', '965', '347398', '22013']\n",
            "['2020-05-25', 'Brasil', '15813', '653', '363211', '22666']\n",
            "['2020-05-26', 'Brasil', '11687', '807', '374898', '23473']\n",
            "['2020-05-27', 'Brasil', '16324', '1039', '391222', '24512']\n",
            "['2020-05-28', 'Brasil', '20599', '1086', '411821', '25598']\n",
            "['2020-05-29', 'Brasil', '26417', '1156', '438238', '26754']\n",
            "['2020-05-30', 'Brasil', '26928', '1124', '465166', '27878']\n",
            "['2020-05-31', 'Brasil', '33274', '956', '498440', '28834']\n",
            "['2020-06-01', 'Brasil', '16409', '480', '514849', '29314']\n",
            "['2020-06-02', 'Brasil', '11598', '623', '526447', '29937']\n",
            "['2020-06-03', 'Brasil', '28936', '1262', '555383', '31199']\n",
            "['2020-06-04', 'Brasil', '28633', '1349', '584016', '32548']\n",
            "['2020-06-05', 'Brasil', '30916', '1473', '614932', '34021']\n",
            "['2020-06-06', 'Brasil', '30830', '1005', '645762', '35026']\n",
            "['2020-06-07', 'Brasil', '27075', '904', '672837', '35930']\n",
            "['2020-06-08', 'Brasil', '18921', '525', '691758', '36455']\n",
            "['2020-06-09', 'Brasil', '15654', '679', '707412', '37134']\n",
            "['2020-06-10', 'Brasil', '32091', '1272', '739503', '38406']\n",
            "['2020-06-11', 'Brasil', '32913', '1274', '772416', '39680']\n",
            "['2020-06-12', 'Brasil', '30412', '1239', '802828', '40919']\n",
            "['2020-06-13', 'Brasil', '25982', '909', '828810', '41828']\n",
            "['2020-06-14', 'Brasil', '21704', '892', '850514', '42720']\n",
            "['2020-06-15', 'Brasil', '17110', '612', '867624', '43332']\n",
            "['2020-06-16', 'Brasil', '20647', '627', '888271', '43959']\n"
          ],
          "name": "stdout"
        }
      ]
    },
    {
      "cell_type": "code",
      "metadata": {
        "colab": {
          "base_uri": "https://localhost:8080/"
        },
        "id": "WBtwwpKeiSIZ",
        "outputId": "5106902f-da84-4215-f718-6d12b8d3d2c3"
      },
      "source": [
        "# vamos realizar a leitura do arquivo sem o uso da biblioteca \"csv\"\n",
        "# iremos somente usar codificação em Python\n",
        "with open('brasil_covid.csv', 'r') as csv_file:\n",
        "  linhas = csv_file.read()\n",
        "  linhas = linhas.split('\\n')\n",
        "\n",
        "  for linha in linhas:\n",
        "    linha = linha.split(',')\n",
        "    print(linha)"
      ],
      "execution_count": 21,
      "outputs": [
        {
          "output_type": "stream",
          "text": [
            "['data', 'pais', 'novos_casos', 'novos_obitos', 'total_casos', 'total_obitos']\n",
            "['2019-12-31', 'Brasil', '0', '0', '0', '0']\n",
            "['2020-01-01', 'Brasil', '0', '0', '0', '0']\n",
            "['2020-01-02', 'Brasil', '0', '0', '0', '0']\n",
            "['2020-01-03', 'Brasil', '0', '0', '0', '0']\n",
            "['2020-01-04', 'Brasil', '0', '0', '0', '0']\n",
            "['2020-01-05', 'Brasil', '0', '0', '0', '0']\n",
            "['2020-01-06', 'Brasil', '0', '0', '0', '0']\n",
            "['2020-01-07', 'Brasil', '0', '0', '0', '0']\n",
            "['2020-01-08', 'Brasil', '0', '0', '0', '0']\n",
            "['2020-01-09', 'Brasil', '0', '0', '0', '0']\n",
            "['2020-01-10', 'Brasil', '0', '0', '0', '0']\n",
            "['2020-01-11', 'Brasil', '0', '0', '0', '0']\n",
            "['2020-01-12', 'Brasil', '0', '0', '0', '0']\n",
            "['2020-01-13', 'Brasil', '0', '0', '0', '0']\n",
            "['2020-01-14', 'Brasil', '0', '0', '0', '0']\n",
            "['2020-01-15', 'Brasil', '0', '0', '0', '0']\n",
            "['2020-01-16', 'Brasil', '0', '0', '0', '0']\n",
            "['2020-01-17', 'Brasil', '0', '0', '0', '0']\n",
            "['2020-01-18', 'Brasil', '0', '0', '0', '0']\n",
            "['2020-01-19', 'Brasil', '0', '0', '0', '0']\n",
            "['2020-01-20', 'Brasil', '0', '0', '0', '0']\n",
            "['2020-01-21', 'Brasil', '0', '0', '0', '0']\n",
            "['2020-01-22', 'Brasil', '0', '0', '0', '0']\n",
            "['2020-01-23', 'Brasil', '0', '0', '0', '0']\n",
            "['2020-01-24', 'Brasil', '0', '0', '0', '0']\n",
            "['2020-01-25', 'Brasil', '0', '0', '0', '0']\n",
            "['2020-01-26', 'Brasil', '0', '0', '0', '0']\n",
            "['2020-01-27', 'Brasil', '0', '0', '0', '0']\n",
            "['2020-01-28', 'Brasil', '0', '0', '0', '0']\n",
            "['2020-01-29', 'Brasil', '0', '0', '0', '0']\n",
            "['2020-01-30', 'Brasil', '0', '0', '0', '0']\n",
            "['2020-01-31', 'Brasil', '0', '0', '0', '0']\n",
            "['2020-02-01', 'Brasil', '0', '0', '0', '0']\n",
            "['2020-02-02', 'Brasil', '0', '0', '0', '0']\n",
            "['2020-02-03', 'Brasil', '0', '0', '0', '0']\n",
            "['2020-02-04', 'Brasil', '0', '0', '0', '0']\n",
            "['2020-02-05', 'Brasil', '0', '0', '0', '0']\n",
            "['2020-02-06', 'Brasil', '0', '0', '0', '0']\n",
            "['2020-02-07', 'Brasil', '0', '0', '0', '0']\n",
            "['2020-02-08', 'Brasil', '0', '0', '0', '0']\n",
            "['2020-02-09', 'Brasil', '0', '0', '0', '0']\n",
            "['2020-02-10', 'Brasil', '0', '0', '0', '0']\n",
            "['2020-02-11', 'Brasil', '0', '0', '0', '0']\n",
            "['2020-02-12', 'Brasil', '0', '0', '0', '0']\n",
            "['2020-02-13', 'Brasil', '0', '0', '0', '0']\n",
            "['2020-02-14', 'Brasil', '0', '0', '0', '0']\n",
            "['2020-02-15', 'Brasil', '0', '0', '0', '0']\n",
            "['2020-02-16', 'Brasil', '0', '0', '0', '0']\n",
            "['2020-02-17', 'Brasil', '0', '0', '0', '0']\n",
            "['2020-02-18', 'Brasil', '0', '0', '0', '0']\n",
            "['2020-02-19', 'Brasil', '0', '0', '0', '0']\n",
            "['2020-02-20', 'Brasil', '0', '0', '0', '0']\n",
            "['2020-02-21', 'Brasil', '0', '0', '0', '0']\n",
            "['2020-02-22', 'Brasil', '0', '0', '0', '0']\n",
            "['2020-02-23', 'Brasil', '0', '0', '0', '0']\n",
            "['2020-02-24', 'Brasil', '0', '0', '0', '0']\n",
            "['2020-02-25', 'Brasil', '0', '0', '0', '0']\n",
            "['2020-02-26', 'Brasil', '1', '0', '1', '0']\n",
            "['2020-02-27', 'Brasil', '0', '0', '1', '0']\n",
            "['2020-02-28', 'Brasil', '0', '0', '1', '0']\n",
            "['2020-02-29', 'Brasil', '0', '0', '1', '0']\n",
            "['2020-03-01', 'Brasil', '1', '0', '2', '0']\n",
            "['2020-03-02', 'Brasil', '0', '0', '2', '0']\n",
            "['2020-03-03', 'Brasil', '0', '0', '2', '0']\n",
            "['2020-03-04', 'Brasil', '0', '0', '2', '0']\n",
            "['2020-03-05', 'Brasil', '1', '0', '3', '0']\n",
            "['2020-03-06', 'Brasil', '5', '0', '8', '0']\n",
            "['2020-03-07', 'Brasil', '5', '0', '13', '0']\n",
            "['2020-03-08', 'Brasil', '0', '0', '13', '0']\n",
            "['2020-03-09', 'Brasil', '12', '0', '25', '0']\n",
            "['2020-03-10', 'Brasil', '0', '0', '25', '0']\n",
            "['2020-03-11', 'Brasil', '9', '0', '34', '0']\n",
            "['2020-03-12', 'Brasil', '18', '0', '52', '0']\n",
            "['2020-03-13', 'Brasil', '25', '0', '77', '0']\n",
            "['2020-03-14', 'Brasil', '21', '0', '98', '0']\n",
            "['2020-03-15', 'Brasil', '23', '0', '121', '0']\n",
            "['2020-03-16', 'Brasil', '79', '0', '200', '0']\n",
            "['2020-03-17', 'Brasil', '34', '0', '234', '0']\n",
            "['2020-03-18', 'Brasil', '57', '1', '291', '1']\n",
            "['2020-03-19', 'Brasil', '137', '3', '428', '4']\n",
            "['2020-03-20', 'Brasil', '193', '2', '621', '6']\n",
            "['2020-03-21', 'Brasil', '283', '5', '904', '11']\n",
            "['2020-03-22', 'Brasil', '224', '7', '1128', '18']\n",
            "['2020-03-23', 'Brasil', '418', '7', '1546', '25']\n",
            "['2020-03-24', 'Brasil', '345', '9', '1891', '34']\n",
            "['2020-03-25', 'Brasil', '310', '12', '2201', '46']\n",
            "['2020-03-26', 'Brasil', '232', '11', '2433', '57']\n",
            "['2020-03-27', 'Brasil', '482', '20', '2915', '77']\n",
            "['2020-03-28', 'Brasil', '502', '15', '3417', '92']\n",
            "['2020-03-29', 'Brasil', '487', '22', '3904', '114']\n",
            "['2020-03-30', 'Brasil', '352', '22', '4256', '136']\n",
            "['2020-03-31', 'Brasil', '323', '23', '4579', '159']\n",
            "['2020-04-01', 'Brasil', '1138', '42', '5717', '201']\n",
            "['2020-04-02', 'Brasil', '1119', '40', '6836', '241']\n",
            "['2020-04-03', 'Brasil', '1074', '58', '7910', '299']\n",
            "['2020-04-04', 'Brasil', '1146', '60', '9056', '359']\n",
            "['2020-04-05', 'Brasil', '1222', '73', '10278', '432']\n",
            "['2020-04-06', 'Brasil', '852', '54', '11130', '486']\n",
            "['2020-04-07', 'Brasil', '926', '67', '12056', '553']\n",
            "['2020-04-08', 'Brasil', '1661', '114', '13717', '667']\n",
            "['2020-04-09', 'Brasil', '2210', '133', '15927', '800']\n",
            "['2020-04-10', 'Brasil', '1930', '141', '17857', '941']\n",
            "['2020-04-11', 'Brasil', '1781', '115', '19638', '1056']\n",
            "['2020-04-12', 'Brasil', '1089', '68', '20727', '1124']\n",
            "['2020-04-13', 'Brasil', '1442', '99', '22169', '1223']\n",
            "['2020-04-14', 'Brasil', '1261', '105', '23430', '1328']\n",
            "['2020-04-15', 'Brasil', '1832', '204', '25262', '1532']\n",
            "['2020-04-16', 'Brasil', '3058', '204', '28320', '1736']\n",
            "['2020-04-17', 'Brasil', '2105', '188', '30425', '1924']\n",
            "['2020-04-18', 'Brasil', '3257', '217', '33682', '2141']\n",
            "['2020-04-19', 'Brasil', '2917', '206', '36599', '2347']\n",
            "['2020-04-20', 'Brasil', '2055', '115', '38654', '2462']\n",
            "['2020-04-21', 'Brasil', '1927', '113', '40581', '2575']\n",
            "['2020-04-22', 'Brasil', '2498', '166', '43079', '2741']\n",
            "['2020-04-23', 'Brasil', '2678', '165', '45757', '2906']\n",
            "['2020-04-24', 'Brasil', '3735', '407', '49492', '3313']\n",
            "['2020-04-25', 'Brasil', '3503', '357', '52995', '3670']\n",
            "['2020-04-26', 'Brasil', '5514', '346', '58509', '4016']\n",
            "['2020-04-27', 'Brasil', '3379', '189', '61888', '4205']\n",
            "['2020-04-28', 'Brasil', '4613', '338', '66501', '4543']\n",
            "['2020-04-29', 'Brasil', '5385', '474', '71886', '5017']\n",
            "['2020-04-30', 'Brasil', '6276', '449', '78162', '5466']\n",
            "['2020-05-01', 'Brasil', '7218', '435', '85380', '5901']\n",
            "['2020-05-02', 'Brasil', '6209', '428', '91589', '6329']\n",
            "['2020-05-03', 'Brasil', '4970', '421', '96559', '6750']\n",
            "['2020-05-04', 'Brasil', '4588', '275', '101147', '7025']\n",
            "['2020-05-05', 'Brasil', '6633', '296', '107780', '7321']\n",
            "['2020-05-06', 'Brasil', '6935', '600', '114715', '7921']\n",
            "['2020-05-07', 'Brasil', '10503', '615', '125218', '8536']\n",
            "['2020-05-08', 'Brasil', '9888', '610', '135106', '9146']\n",
            "['2020-05-09', 'Brasil', '10222', '751', '145328', '9897']\n",
            "['2020-05-10', 'Brasil', '10611', '730', '155939', '10627']\n",
            "['2020-05-11', 'Brasil', '6760', '496', '162699', '11123']\n",
            "['2020-05-12', 'Brasil', '5632', '396', '168331', '11519']\n",
            "['2020-05-13', 'Brasil', '9258', '881', '177589', '12400']\n",
            "['2020-05-14', 'Brasil', '11385', '749', '188974', '13149']\n",
            "['2020-05-15', 'Brasil', '13944', '844', '202918', '13993']\n",
            "['2020-05-16', 'Brasil', '15305', '824', '218223', '14817']\n",
            "['2020-05-17', 'Brasil', '14919', '816', '233142', '15633']\n",
            "['2020-05-18', 'Brasil', '7938', '485', '241080', '16118']\n",
            "['2020-05-19', 'Brasil', '13140', '674', '254220', '16792']\n",
            "['2020-05-20', 'Brasil', '17408', '1179', '271628', '17971']\n",
            "['2020-05-21', 'Brasil', '19951', '888', '291579', '18859']\n",
            "['2020-05-22', 'Brasil', '18508', '1188', '310087', '20047']\n",
            "['2020-05-23', 'Brasil', '20803', '1001', '330890', '21048']\n",
            "['2020-05-24', 'Brasil', '16508', '965', '347398', '22013']\n",
            "['2020-05-25', 'Brasil', '15813', '653', '363211', '22666']\n",
            "['2020-05-26', 'Brasil', '11687', '807', '374898', '23473']\n",
            "['2020-05-27', 'Brasil', '16324', '1039', '391222', '24512']\n",
            "['2020-05-28', 'Brasil', '20599', '1086', '411821', '25598']\n",
            "['2020-05-29', 'Brasil', '26417', '1156', '438238', '26754']\n",
            "['2020-05-30', 'Brasil', '26928', '1124', '465166', '27878']\n",
            "['2020-05-31', 'Brasil', '33274', '956', '498440', '28834']\n",
            "['2020-06-01', 'Brasil', '16409', '480', '514849', '29314']\n",
            "['2020-06-02', 'Brasil', '11598', '623', '526447', '29937']\n",
            "['2020-06-03', 'Brasil', '28936', '1262', '555383', '31199']\n",
            "['2020-06-04', 'Brasil', '28633', '1349', '584016', '32548']\n",
            "['2020-06-05', 'Brasil', '30916', '1473', '614932', '34021']\n",
            "['2020-06-06', 'Brasil', '30830', '1005', '645762', '35026']\n",
            "['2020-06-07', 'Brasil', '27075', '904', '672837', '35930']\n",
            "['2020-06-08', 'Brasil', '18921', '525', '691758', '36455']\n",
            "['2020-06-09', 'Brasil', '15654', '679', '707412', '37134']\n",
            "['2020-06-10', 'Brasil', '32091', '1272', '739503', '38406']\n",
            "['2020-06-11', 'Brasil', '32913', '1274', '772416', '39680']\n",
            "['2020-06-12', 'Brasil', '30412', '1239', '802828', '40919']\n",
            "['2020-06-13', 'Brasil', '25982', '909', '828810', '41828']\n",
            "['2020-06-14', 'Brasil', '21704', '892', '850514', '42720']\n",
            "['2020-06-15', 'Brasil', '17110', '612', '867624', '43332']\n",
            "['2020-06-16', 'Brasil', '20647', '627', '888271', '43959']\n"
          ],
          "name": "stdout"
        }
      ]
    },
    {
      "cell_type": "code",
      "metadata": {
        "id": "0zR3gkTuiSGD"
      },
      "source": [
        "# criando um arquivo csv e a inserção de dados\n",
        "with open('users.csv', 'w', encoding='utf-8') as arquivo_users:  \n",
        "  escritor = csv.writer(arquivo_users)\n",
        "  escritor.writerow(['nome', 'sobrenome', 'email', 'genero'])\n",
        "  escritor.writerow(['Fernando', 'Galvao', 'fernando@email.com', 'masculino'])"
      ],
      "execution_count": 23,
      "outputs": []
    },
    {
      "cell_type": "code",
      "metadata": {
        "colab": {
          "base_uri": "https://localhost:8080/"
        },
        "id": "YvY5_C6riSAg",
        "outputId": "dbec6ac6-38f6-49fe-b83e-3faea56ef167"
      },
      "source": [
        "# abrindo o arquivo criado acima\n",
        "with open('users.csv', 'r') as csv_file:\n",
        "  linhas = csv_file.read()\n",
        "  linhas = linhas.split('\\n')\n",
        "\n",
        "  for linha in linhas:\n",
        "    linha = linha.split(',')\n",
        "    print(linha)"
      ],
      "execution_count": 24,
      "outputs": [
        {
          "output_type": "stream",
          "text": [
            "['nome', 'sobrenome', 'email', 'genero']\n",
            "['Fernando', 'Galvao', 'fernando@email.com', 'masculino']\n",
            "['']\n"
          ],
          "name": "stdout"
        }
      ]
    },
    {
      "cell_type": "markdown",
      "metadata": {
        "id": "HEeIDTrbpRjZ"
      },
      "source": [
        "> **Perceba que o Python pulou a última linha.**\n",
        "- podemos resolver esse problema com o parâmetro `newline=''`."
      ]
    },
    {
      "cell_type": "code",
      "metadata": {
        "id": "Hx22X9ZEiR30"
      },
      "source": [
        "# criando novamente um arquivo csv e a inserção de dados\n",
        "with open('users.csv', 'w', encoding='utf-8', newline='') as arquivo_users:  \n",
        "  escritor = csv.writer(arquivo_users)\n",
        "  escritor.writerow(['nome', 'sobrenome', 'data_nascimento', 'email', 'genero'])\n",
        "  escritor.writerow(['Fernando', 'Galvao', '13/10/1977', 'fernando@email.com', 'masculino'])\n",
        "  escritor.writerow(['Kátia', 'Galvao', '21/11/1980', 'katia@email.com', 'feminino'])\n",
        "  escritor.writerow(['Sara', 'Galvao', '15/01/2000', 'sara@email.com', 'feminino'])\n",
        "  escritor.writerow(['Eloah', 'Galvao', '22/10/2007', 'eloah@email.com', 'feminino'])"
      ],
      "execution_count": 27,
      "outputs": []
    },
    {
      "cell_type": "code",
      "metadata": {
        "colab": {
          "base_uri": "https://localhost:8080/"
        },
        "id": "TyJWIoFcl5Tz",
        "outputId": "1c2ced14-e036-4dbd-aeec-1644f7984a48"
      },
      "source": [
        "# abrindo o arquivo atualizado criado acima\n",
        "with open('users.csv', 'r') as csv_file:\n",
        "  linhas = csv_file.read()\n",
        "  linhas = linhas.split('\\n')\n",
        "\n",
        "  for linha in linhas:\n",
        "    linha = linha.split(',')\n",
        "    print(linha)"
      ],
      "execution_count": 28,
      "outputs": [
        {
          "output_type": "stream",
          "text": [
            "['nome', 'sobrenome', 'data_nascimento', 'email', 'genero']\n",
            "['Fernando', 'Galvao', '13/10/1977', 'fernando@email.com', 'masculino']\n",
            "['Kátia', 'Galvao', '21/11/1980', 'katia@email.com', 'feminino']\n",
            "['Sara', 'Galvao', '15/01/2000', 'sara@email.com', 'feminino']\n",
            "['Eloah', 'Galvao', '22/10/2007', 'eloah@email.com', 'feminino']\n",
            "['']\n"
          ],
          "name": "stdout"
        }
      ]
    },
    {
      "cell_type": "markdown",
      "metadata": {
        "id": "Z5TxV4NsrQMh"
      },
      "source": [
        "**Vamos codificar um arquivo de cadastros.**"
      ]
    },
    {
      "cell_type": "code",
      "metadata": {
        "colab": {
          "base_uri": "https://localhost:8080/"
        },
        "id": "xOzSBo_il43s",
        "outputId": "9972fe01-65fc-4e3c-bbbd-fba15f1c9f35"
      },
      "source": [
        "# cabeçalho\n",
        "header = ['nome', 'sobrenome', 'telefone', 'email']\n",
        "# instanciando uma lista vazia\n",
        "data = []\n",
        "# comando de entrada via usuário\n",
        "opt = input('O que você deseja fazer? \\n1 - Cadastrar \\n0 - Sair: ')\n",
        "\n",
        "# definindo um while\n",
        "while opt != '0':\n",
        "  # instanciando os dados\n",
        "  nome = input('\\nQual seu nome?: ').title()\n",
        "  sobrenome = input('Qual seu sobrenome?: ').title()\n",
        "  telefone = input('Qual seu telefone?: ')\n",
        "  email = input('Qual seu e-mail?: ')\n",
        "  data.append([nome, sobrenome, telefone, email])\n",
        "  \n",
        "  # comando de entrada via usuário\n",
        "  opt = input('\\nO que você deseja fazer? \\n1 - Cadastrar \\n0 - Sair: ')"
      ],
      "execution_count": 39,
      "outputs": [
        {
          "output_type": "stream",
          "text": [
            "O que você deseja fazer? \n",
            "1 - Cadastrar \n",
            "0 - Sair: 1\n",
            "\n",
            "Qual seu nome?: fernando\n",
            "Qual seu sobrenome?: galvao\n",
            "Qual seu telefone?: 123-456\n",
            "Qual seu e-mail?: fernando@email.com\n",
            "\n",
            "O que você deseja fazer? \n",
            "1 - Cadastrar \n",
            "0 - Sair: 1\n",
            "\n",
            "Qual seu nome?: katia\n",
            "Qual seu sobrenome?: galvao\n",
            "Qual seu telefone?: 456-789\n",
            "Qual seu e-mail?: katia@email.com\n",
            "\n",
            "O que você deseja fazer? \n",
            "1 - Cadastrar \n",
            "0 - Sair: 1\n",
            "\n",
            "Qual seu nome?: sara\n",
            "Qual seu sobrenome?: galvao\n",
            "Qual seu telefone?: 789-012\n",
            "Qual seu e-mail?: sara@email.com\n",
            "\n",
            "O que você deseja fazer? \n",
            "1 - Cadastrar \n",
            "0 - Sair: 0\n"
          ],
          "name": "stdout"
        }
      ]
    },
    {
      "cell_type": "code",
      "metadata": {
        "colab": {
          "base_uri": "https://localhost:8080/"
        },
        "id": "SC4I2CzzsawM",
        "outputId": "b24c2fa6-a225-46f7-d714-ca74225ac2db"
      },
      "source": [
        "# visualizando o arquivo criado\n",
        "print(data)"
      ],
      "execution_count": 40,
      "outputs": [
        {
          "output_type": "stream",
          "text": [
            "[['Fernando', 'Galvao', '123-456', 'fernando@email.com'], ['Katia', 'Galvao', '456-789', 'katia@email.com'], ['Sara', 'Galvao', '789-012', 'sara@email.com']]\n"
          ],
          "name": "stdout"
        }
      ]
    },
    {
      "cell_type": "code",
      "metadata": {
        "colab": {
          "base_uri": "https://localhost:8080/"
        },
        "id": "fMRTbimqxGMX",
        "outputId": "0f21099d-ea1f-4ce7-d54f-6a70cf16160b"
      },
      "source": [
        "with open('users.csv', 'w', newline='') as arquivo_csv:\n",
        "  writer = csv.writer(arquivo_csv)\n",
        "  writer.writerow(header)\n",
        "  writer.writerow(data)\n",
        "\n",
        "with open('users.csv', 'r') as csv_file:\n",
        "  csv_reader = csv.reader(csv_file, delimiter=',')\n",
        "\n",
        "  for row in csv_reader:\n",
        "    print(row)"
      ],
      "execution_count": 42,
      "outputs": [
        {
          "output_type": "stream",
          "text": [
            "['nome', 'sobrenome', 'telefone', 'email']\n",
            "[\"['Fernando', 'Galvao', '123-456', 'fernando@email.com']\", \"['Katia', 'Galvao', '456-789', 'katia@email.com']\", \"['Sara', 'Galvao', '789-012', 'sara@email.com']\"]\n"
          ],
          "name": "stdout"
        }
      ]
    },
    {
      "cell_type": "markdown",
      "metadata": {
        "id": "4UElxWP0diPD"
      },
      "source": [
        "## **DictReader e DictWriter**\n",
        "\n",
        "Podemos também trabalhar com dicionários, nos quais a primeira linha é lida como a chave e as demais são os respectivos valores:\n"
      ]
    },
    {
      "cell_type": "markdown",
      "metadata": {
        "id": "0WBa4lK_28p2"
      },
      "source": [
        "    import csv\n",
        "\n",
        "    with open('email.csv', 'r') as emails:\n",
        "      leitor = csv.DictReader(emails, delimiter=';') # a primeira linha é lida como um cabeçalho\n",
        "      for linha in leitor:\n",
        "        print(linha['Login email']) # podemos chamar um valor específico de cada linha pela chave no cabeçallho\n",
        "\n",
        "\n",
        "    with open('names.csv', 'w', newline='') as csvfile:\n",
        "      chaves = ['first_name', 'last_name'] # definimos o cabeçalho\n",
        "      writer = csv.DictWriter(csvfile, fieldnames=chaves) # especificamos o cabeçalho\n",
        "\n",
        "      writer.writeheader() # escrevemos o cabeçalho\n",
        "      writer.writerow({'first_name': 'Senhor', 'last_name': 'Batata'}) # escrevemos linhas com as chaves e valores\n",
        "      writer.writerow({'first_name': 'Will', 'last_name': 'Smith'})\n",
        "      writer.writerow({'first_name': 'Elon', 'last_name': 'Musk'})"
      ]
    },
    {
      "cell_type": "markdown",
      "metadata": {
        "id": "ZIkxlvHRdiPG"
      },
      "source": [
        "# **Aula 03 - APIs**"
      ]
    },
    {
      "cell_type": "markdown",
      "metadata": {
        "id": "h8rnUZ7udiPH"
      },
      "source": [
        "Clique no link abaixo para acessar a documentação da Exchange Rate API.\n",
        "- https://www.exchangerate-api.com/docs/free-exchange-rate-api "
      ]
    },
    {
      "cell_type": "markdown",
      "metadata": {
        "id": "pFIzyksOdiPI"
      },
      "source": [
        "## **Application Programming Interface**\n",
        "\n",
        "Hoje em dia é muito comum que diferentes aplicações consumam dados pela internet, muitas vezes dados providenciados por terceiros. Por exemplo, um aplicativo de entrega de alimentos pode usar dados de geolocalização do Google para localizar restaurantes próximos ao usuário e exibir a rota percorrida pelo entregador.\n",
        "\n",
        "Como as aplicações podem rodar em diferentes plataformas (Windows, Android, MacOS, iOS, um navegador de internet...), é importante estabelecer uma linguagem comum para que todos consigam consumir esses dados.\n",
        "\n",
        "Essa \"linguagem comum\" é o que chamamos de API: Application Programming Interface. A organização que disponibiliza os dados estabelece algumas \"regrinhas\" para fazermos requisições, e em contrapartida ela garante que os recursos fornecidos também seguirão certos padrões, facilitando a vida dos programadores.\n",
        "\n",
        "Portanto, quando decidimos utilizar uma API, a primeira coisa que precisamos fazer é estudar sua documentação. Vejamos alguns dos pontos mais relevantes para procurar.\n",
        "\n",
        "Todos os exemplos de requisição que mostraremos aqui podem ser colados em seu navegador ou estudados usando um requests.get no Python e imprimindo seu campo text."
      ]
    },
    {
      "cell_type": "markdown",
      "metadata": {
        "id": "61ijEC1wdiPJ"
      },
      "source": [
        "## **URI base**\n",
        "\n",
        "Várias APIs fornecem um \"endereço base\". Todas as suas requisições incluirão esse endereço, e ao final dele nós colocamos detalhes específicos para cada um dos recursos disponíveis.\n",
        "\n",
        "Por exemplo, na AlphaVantage (https://www.alphavantage.co/), uma API de dados de bolsas de valores e criptomoedas, a URI base é:\n",
        "\n",
        "https://www.alphavantage.co/query?\n",
        "\n",
        "Após a interrogação nós colocaremos os campos para nossa consulta. Por exemplo, para fazer uma consulta sem autenticação para valores da IBM, de 5 em 5 minutos, o endereço completo fica:\n",
        "\n",
        "https://www.alphavantage.co/query?function=TIME_SERIES_INTRADAY&symbol=IBM&interval=5min&apikey=demo\n",
        "\n",
        "Note o formato com &NomeDoCampo=ValorDoCampo. Ele é bastante comum. Outro formato bastante comum é o de \"subdiretórios\".\n",
        "\n",
        "Um exemplo é a PokéAPI. A URI base é:\n",
        "\n",
        "https://pokeapi.co/api/v2/\n",
        "\n",
        "Para procurar por pokémons, adicionamos pokemon/. Em seguida, podemos colocar números (índices) ou nomes de Pokémon, como:\n",
        "\n",
        "https://pokeapi.co/api/v2/pokemon/ditto/\n",
        "\n",
        "https://pokeapi.co/api/v2/pokemon/25\n",
        "\n",
        "Se ao invés de pokémons estivéssemos interessados em tipos de pokémon, usaríamos types/ e o nome ou índice do tipo desejado:\n",
        "\n",
        "https://pokeapi.co/api/v2/type/ghost"
      ]
    },
    {
      "cell_type": "markdown",
      "metadata": {
        "id": "uwtP9tSQdiPK"
      },
      "source": [
        "## **Formato**\n",
        "\n",
        "## **Tipo de dado**\n",
        "\n",
        "Algumas APIs possuem formatos fixos de dados. Outros permitem que você escolha. É comum, por exemplo, que uma API permita que você escolha entre JSON, XML, CSV e/ou outros formatos.\n",
        "\n",
        "Caso você tenha entrado no AlphaVantage e se registrado para obter uma chave (falaremos mais adiante), você pode especificar, por exemplo, que gostaria de resultados no formato CSV:\n",
        "\n",
        "https://www.alphavantage.co/query?function=TIME_SERIES_INTRADAY&symbol=IBM&interval=5min&dataformat=csv&apikey=demo\n",
        "\n",
        "Substitua \"demo\" por sua chave no exemplo acima e ele funcionará."
      ]
    },
    {
      "cell_type": "markdown",
      "metadata": {
        "id": "BsXV5QVvdiPM"
      },
      "source": [
        "## **Schema**\n",
        "\n",
        "É bastante comum que as APIs disponibilizem um \"modelo\" genérico de como será formatado o seu JSON, XML etc para que os desenvolvedores saibam quais campos esperar e quais tipos de dados serão possíveis para cada campo. Por exemplo:\n",
        "\n",
        "    {\n",
        "        'nome':string,\n",
        "        'pontuacao':integer\n",
        "    }"
      ]
    },
    {
      "cell_type": "markdown",
      "metadata": {
        "id": "gxxxSQgrdiPN"
      },
      "source": [
        "## **Autenticação**\n",
        "Outro aspecto importante é a autenticação. Enquanto algumas APIs são grátis, outras são pagas. Ainda temos algumas híbridas: você pode gratuitamente acessar certos recursos, ou consumir um certo volume de dados, e acima disso você deverá pagar. Os dois modelos mais comuns de autenticação:\n",
        "\n",
        "- Chave: ao fazer seu registro, você recebe uma chave que será inclusa na requisição, como é o caso do AlphaVantage.\n",
        "- OAuth: um esquema um pouco mais complexo onde são combinados códigos de autorização, identificação do cliente e segredo do cliente em um POST, e o servidor cria uma sessão por um tempo limitado e fornece o ID da mesma. APIs de gigantes da internet (como Google e Facebook) costumam usar esse modelo."
      ]
    },
    {
      "cell_type": "markdown",
      "metadata": {
        "id": "XXhPrcS9diPO"
      },
      "source": [
        "## **Rate limiting**\n",
        "\n",
        "Um dado parcialmente relacionado ao item anterior. As APIs costumam limitar o número de requisições que você pode fazer em um instante de tempo (3 requisições por minuto, 10000 requisições por dia etc). Temos dois motivos:\n",
        "\n",
        "- Segurança: evitar uma sobrecarga no servidor deles que possa indisponibilizar a API para todos os usuários.\n",
        "- Venda de planos: várias APIs pagas possuem diferentes planos de pagamento. Os planos mais caros costumam permitir mais requisições do que os mais baratos ou gratuitos."
      ]
    },
    {
      "cell_type": "markdown",
      "metadata": {
        "id": "faTXumMCdiPP"
      },
      "source": [
        "## **Wrappers**\n",
        "\n",
        "Algumas APIs possuem tantas buscas diferentes e os resultados podem ser tão complexos que mesmo vindo em formatos simples como JSON pode ser um pouco trabalhoso montar as requisições e isolar os dados que queremos. Por conta disso, frequentemente são fornecidas wrapper libraries: bibliotecas escritas em linguagens de programação específicas que já trazem classes e funções prontas para fazer requisições automaticamente e já quebrar o resultado em objetos fáceis de serem utilizados. Elas também costumam oferecer alguns benefícios adicionais, como caching: de tempos em tempos a base de dados é totalmente ou parcialmente baixada por completo e salva localmente, o que ajuda a economizar requisições e, consequentemente, uso de dados (bastante útil considerando em usuários de dispositivos móveis, por exemplo).\n"
      ]
    },
    {
      "cell_type": "markdown",
      "metadata": {
        "id": "NmJkE2qsdiPQ"
      },
      "source": [
        "## **Sandbox**\n",
        "\n",
        "Várias APIs possuem no mesmo site de sua documentação uma área conhecida como sandbox, onde você pode simular requisições no próprio navegador e ver não só a resposta formatada, como informações sobre como montar aquela requisição em software.\n",
        "\n",
        "Aqui podemos observar a área de sandbox para fazer consultas de gastos por meio de cartão de pagamento do Portal da Transparência do governo federal. Note que ele mostra o schema e apresenta campos para preenchermos as buscas."
      ]
    },
    {
      "cell_type": "markdown",
      "metadata": {
        "id": "wn9oqQPngmwS"
      },
      "source": [
        "![image.png](data:image/png;base64,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)"
      ]
    },
    {
      "cell_type": "markdown",
      "metadata": {
        "id": "701Yvov3diPR"
      },
      "source": [
        "E aqui, o resultado: ele gera o endereço completo para a busca baseado nos valores preenchidos nos campos e mostra a resposta formatada."
      ]
    },
    {
      "cell_type": "markdown",
      "metadata": {
        "id": "_584EmWtgyqd"
      },
      "source": [
        "![image.png](data:image/png;base64,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)"
      ]
    },
    {
      "cell_type": "markdown",
      "metadata": {
        "id": "9HRzgs0IdiPS"
      },
      "source": [
        "## **Consumindo APIs em Python**\n",
        "\n",
        "As APIs são meios de nos conectarmos a recursos na internet. Portanto, já possuímos as ferramentas na mão desde os capítulos anteriores. Você irá construir a lógica para decidir o que você irá buscar/consultar, montará uma string seguindo o formato indicado pela documentação da API (como todos os exemplos deste capítulo). Em seguida você tratará a resposta de acordo:\n",
        "\n",
        "- Se for JSON, utilize o método json da própria requests.\n",
        "- Se for CSV, utilize o módulo CSV estudado anteriormente.\n",
        "- Se for XML, podemos utilizar o módulo BeautifulSoup, que não será estudado aqui.\n",
        "- Para outros formatos, provavelmente a solução mais fácil será baixar um módulo preparado para lidar com eles.\n",
        "  \n",
        "**Descobrindo APIs**: tem boas ideias e gostaria de saber se existe uma boa API para ajudar? Confira alguns bons repositórios de API organizados por categoria:\n",
        "\n",
        "https://github.com/n0shake/public-apis\n",
        "\n",
        "https://github.com/public-apis/public-apis\n",
        "\n",
        "https://any-api.com/\n",
        "\n",
        "Sites de governos costumam ter uma grande riqueza de dados também. Segue abaixo algumas sugestões (oficiais ou mantidas por voluntários) com dados do Brasil como um todo. Experimente buscar por bases de dados de sua cidade ou estado!\n",
        "\n",
        "http://www.transparencia.gov.br/swagger-ui.html\n",
        "\n",
        "http://www.dados.gov.br/\n",
        "\n",
        "https://brasil.io/home/"
      ]
    },
    {
      "cell_type": "markdown",
      "metadata": {
        "id": "HOmu8f0m0m_v"
      },
      "source": [
        "## **Atividade da aula**"
      ]
    },
    {
      "cell_type": "markdown",
      "metadata": {
        "id": "_nlSVpL34fgx"
      },
      "source": [
        "**Uso de API**"
      ]
    },
    {
      "cell_type": "code",
      "metadata": {
        "colab": {
          "base_uri": "https://localhost:8080/"
        },
        "id": "JdJTQCHP0oly",
        "outputId": "14f16e49-bfe8-417d-c21b-26b6a5034a89"
      },
      "source": [
        "# instalando a biblioteca necessária para uso de API\n",
        "!pip install requests"
      ],
      "execution_count": 45,
      "outputs": [
        {
          "output_type": "stream",
          "text": [
            "Requirement already satisfied: requests in /usr/local/lib/python3.7/dist-packages (2.23.0)\n",
            "Requirement already satisfied: idna<3,>=2.5 in /usr/local/lib/python3.7/dist-packages (from requests) (2.10)\n",
            "Requirement already satisfied: certifi>=2017.4.17 in /usr/local/lib/python3.7/dist-packages (from requests) (2021.5.30)\n",
            "Requirement already satisfied: urllib3!=1.25.0,!=1.25.1,<1.26,>=1.21.1 in /usr/local/lib/python3.7/dist-packages (from requests) (1.24.3)\n",
            "Requirement already satisfied: chardet<4,>=3.0.2 in /usr/local/lib/python3.7/dist-packages (from requests) (3.0.4)\n"
          ],
          "name": "stdout"
        }
      ]
    },
    {
      "cell_type": "code",
      "metadata": {
        "id": "G0Y5NN-M0ojE"
      },
      "source": [
        "# importando a biblioteca\n",
        "import requests"
      ],
      "execution_count": 46,
      "outputs": []
    },
    {
      "cell_type": "code",
      "metadata": {
        "id": "WjWfdYoP0ofJ"
      },
      "source": [
        "# instanciando url\n",
        "url = 'https://api.exchangerate-api.com/v6/latest'"
      ],
      "execution_count": 47,
      "outputs": []
    },
    {
      "cell_type": "code",
      "metadata": {
        "colab": {
          "base_uri": "https://localhost:8080/"
        },
        "id": "x3VOZJ3K0occ",
        "outputId": "1b4c3377-7e40-4a2e-fdde-4f56d3f4fbc6"
      },
      "source": [
        "# fazendo a requisição \n",
        "requisicao = requests.get(url)\n",
        "\n",
        "# verificando o status da url\n",
        "print(requisicao.status_code)"
      ],
      "execution_count": 48,
      "outputs": [
        {
          "output_type": "stream",
          "text": [
            "200\n"
          ],
          "name": "stdout"
        }
      ]
    },
    {
      "cell_type": "code",
      "metadata": {
        "colab": {
          "base_uri": "https://localhost:8080/"
        },
        "id": "zFh6ogwi0oaV",
        "outputId": "c780cadf-dad3-4e23-9b1a-d89c04f5de37"
      },
      "source": [
        "# recuperando os dados da requisição\n",
        "dados = requisicao.json()\n",
        "\n",
        "# visualizando os dados da variável\n",
        "dados"
      ],
      "execution_count": 50,
      "outputs": [
        {
          "output_type": "execute_result",
          "data": {
            "text/plain": [
              "{'WARNING_NEW_ENDPOINT': 'Swap *api.exchangerate-api.com* with *open.er-api.com* for better servers!',\n",
              " 'base_code': 'USD',\n",
              " 'documentation': 'https://www.exchangerate-api.com/docs/free',\n",
              " 'provider': 'https://www.exchangerate-api.com',\n",
              " 'rates': {'AED': 3.67,\n",
              "  'AFN': 79.42,\n",
              "  'ALL': 102.69,\n",
              "  'AMD': 495.5,\n",
              "  'ANG': 1.79,\n",
              "  'AOA': 650.19,\n",
              "  'ARS': 95.76,\n",
              "  'AUD': 1.33,\n",
              "  'AWG': 1.79,\n",
              "  'AZN': 1.7,\n",
              "  'BAM': 1.65,\n",
              "  'BBD': 2,\n",
              "  'BDT': 84.62,\n",
              "  'BGN': 1.65,\n",
              "  'BHD': 0.376,\n",
              "  'BIF': 1968.35,\n",
              "  'BMD': 1,\n",
              "  'BND': 1.35,\n",
              "  'BOB': 6.87,\n",
              "  'BRL': 5.03,\n",
              "  'BSD': 1,\n",
              "  'BTN': 74.62,\n",
              "  'BWP': 11.01,\n",
              "  'BYN': 2.54,\n",
              "  'BZD': 2,\n",
              "  'CAD': 1.24,\n",
              "  'CDF': 1988.62,\n",
              "  'CHF': 0.923,\n",
              "  'CLP': 737.69,\n",
              "  'CNY': 6.47,\n",
              "  'COP': 3737.79,\n",
              "  'CRC': 619.48,\n",
              "  'CUC': 1,\n",
              "  'CUP': 25.75,\n",
              "  'CVE': 92.94,\n",
              "  'CZK': 21.56,\n",
              "  'DJF': 177.72,\n",
              "  'DKK': 6.29,\n",
              "  'DOP': 56.89,\n",
              "  'DZD': 134.03,\n",
              "  'EGP': 15.65,\n",
              "  'ERN': 15,\n",
              "  'ETB': 43.88,\n",
              "  'EUR': 0.843,\n",
              "  'FJD': 2.07,\n",
              "  'FKP': 0.724,\n",
              "  'FOK': 6.29,\n",
              "  'GBP': 0.724,\n",
              "  'GEL': 3.16,\n",
              "  'GGP': 0.724,\n",
              "  'GHS': 5.89,\n",
              "  'GIP': 0.724,\n",
              "  'GMD': 51.99,\n",
              "  'GNF': 9819.77,\n",
              "  'GTQ': 7.74,\n",
              "  'GYD': 209.12,\n",
              "  'HKD': 7.76,\n",
              "  'HNL': 23.87,\n",
              "  'HRK': 6.35,\n",
              "  'HTG': 93.16,\n",
              "  'HUF': 296.75,\n",
              "  'IDR': 14554.76,\n",
              "  'ILS': 3.27,\n",
              "  'IMP': 0.724,\n",
              "  'INR': 74.62,\n",
              "  'IQD': 1459.39,\n",
              "  'IRR': 41883.62,\n",
              "  'ISK': 124.42,\n",
              "  'JMD': 149.76,\n",
              "  'JOD': 0.709,\n",
              "  'JPY': 111.27,\n",
              "  'KES': 107.77,\n",
              "  'KGS': 84.7,\n",
              "  'KHR': 4073.15,\n",
              "  'KID': 1.33,\n",
              "  'KMF': 414.67,\n",
              "  'KRW': 1134.3,\n",
              "  'KWD': 0.3,\n",
              "  'KYD': 0.833,\n",
              "  'KZT': 426.3,\n",
              "  'LAK': 9464.13,\n",
              "  'LBP': 1507.5,\n",
              "  'LKR': 199.18,\n",
              "  'LRD': 171.01,\n",
              "  'LSL': 14.31,\n",
              "  'LYD': 4.51,\n",
              "  'MAD': 8.92,\n",
              "  'MDL': 18.03,\n",
              "  'MGA': 3908.26,\n",
              "  'MKD': 52.17,\n",
              "  'MMK': 1642.85,\n",
              "  'MNT': 2855.18,\n",
              "  'MOP': 8,\n",
              "  'MRU': 36.16,\n",
              "  'MUR': 42.75,\n",
              "  'MVR': 15.4,\n",
              "  'MWK': 798.74,\n",
              "  'MXN': 19.88,\n",
              "  'MYR': 4.16,\n",
              "  'MZN': 63.81,\n",
              "  'NAD': 14.31,\n",
              "  'NGN': 429.18,\n",
              "  'NIO': 35.1,\n",
              "  'NOK': 8.62,\n",
              "  'NPR': 119.4,\n",
              "  'NZD': 1.43,\n",
              "  'OMR': 0.384,\n",
              "  'PAB': 1,\n",
              "  'PEN': 3.87,\n",
              "  'PGK': 3.5,\n",
              "  'PHP': 49.29,\n",
              "  'PKR': 157.49,\n",
              "  'PLN': 3.81,\n",
              "  'PYG': 6730.94,\n",
              "  'QAR': 3.64,\n",
              "  'RON': 4.15,\n",
              "  'RSD': 99.01,\n",
              "  'RUB': 73.44,\n",
              "  'RWF': 1004.66,\n",
              "  'SAR': 3.75,\n",
              "  'SBD': 7.91,\n",
              "  'SCR': 14.69,\n",
              "  'SDG': 452.41,\n",
              "  'SEK': 8.56,\n",
              "  'SGD': 1.35,\n",
              "  'SHP': 0.724,\n",
              "  'SLL': 10270.95,\n",
              "  'SOS': 578.78,\n",
              "  'SRD': 20.85,\n",
              "  'SSP': 177.61,\n",
              "  'STN': 20.65,\n",
              "  'SYP': 1304.5,\n",
              "  'SZL': 14.31,\n",
              "  'THB': 32.15,\n",
              "  'TJS': 11.31,\n",
              "  'TMT': 3.5,\n",
              "  'TND': 2.77,\n",
              "  'TOP': 2.23,\n",
              "  'TRY': 8.69,\n",
              "  'TTD': 6.74,\n",
              "  'TVD': 1.33,\n",
              "  'TWD': 27.92,\n",
              "  'TZS': 2315.9,\n",
              "  'UAH': 27.33,\n",
              "  'UGX': 3555.83,\n",
              "  'USD': 1,\n",
              "  'UYU': 43.51,\n",
              "  'UZS': 10545.74,\n",
              "  'VES': 3239490.65,\n",
              "  'VND': 22961.09,\n",
              "  'VUV': 109.95,\n",
              "  'WST': 2.54,\n",
              "  'XAF': 552.9,\n",
              "  'XCD': 2.7,\n",
              "  'XDR': 0.703,\n",
              "  'XOF': 552.9,\n",
              "  'XPF': 100.58,\n",
              "  'YER': 249.81,\n",
              "  'ZAR': 14.31,\n",
              "  'ZMW': 22.61},\n",
              " 'result': 'success',\n",
              " 'terms_of_use': 'https://www.exchangerate-api.com/terms',\n",
              " 'time_eol_unix': 0,\n",
              " 'time_last_update_unix': 1625356952,\n",
              " 'time_last_update_utc': 'Sun, 04 Jul 2021 00:02:32 +0000',\n",
              " 'time_next_update_unix': 1625445342,\n",
              " 'time_next_update_utc': 'Mon, 05 Jul 2021 00:35:42 +0000'}"
            ]
          },
          "metadata": {
            "tags": []
          },
          "execution_count": 50
        }
      ]
    },
    {
      "cell_type": "markdown",
      "metadata": {
        "id": "0jWL9kEz7G_b"
      },
      "source": [
        "> Veja na chave `'base_code'` e seu valor é `'USD'`.\n",
        " - que é a base monetária em dólar americano.\n",
        "\n",
        "> E na chave `'rates'` temos valor do dólar em várias moedas mundiais.\n",
        " - perceba que temos o `BRL` - moeda brasileira."
      ]
    },
    {
      "cell_type": "code",
      "metadata": {
        "colab": {
          "base_uri": "https://localhost:8080/"
        },
        "id": "ETDJ1v740oXT",
        "outputId": "401b2dd7-9c74-4c2d-87af-c5cd158d4dd1"
      },
      "source": [
        "valor_reais = float (input('Informe o valor em R$ a ser convertido: '))\n",
        "cotacao = dados['rates']['BRL']\n",
        "\n",
        "print(f'\\nR$ {valor_reais} em dólar valem US$ {(valor_reais / cotacao):.2f}')"
      ],
      "execution_count": 56,
      "outputs": [
        {
          "output_type": "stream",
          "text": [
            "Informe o valor em R$ a ser convertido: 100\n",
            "\n",
            "R$ 100.0 em dólar valem US$ 19.88\n"
          ],
          "name": "stdout"
        }
      ]
    },
    {
      "cell_type": "markdown",
      "metadata": {
        "id": "VYM6NK2XdiPU"
      },
      "source": [
        "# **Aula 04 - Projeto | Parte 1**"
      ]
    },
    {
      "cell_type": "markdown",
      "metadata": {
        "id": "XWx4PYcddiPU"
      },
      "source": [
        "## **Datetime**\n",
        "\n",
        "Para treinar o uso da biblioteca datetime, execute as funções do código a seguir, tentando prever os seus resultados:"
      ]
    },
    {
      "cell_type": "code",
      "metadata": {
        "id": "IMHCukumdiPV",
        "outputId": "7e6b2dc0-86e9-4d84-96c6-9584e272c6a0"
      },
      "source": [
        "import datetime\n",
        "\n",
        "d = datetime.date(2001, 9, 11)\n",
        "tday = datetime.date.today()\n",
        "print(tday, d)\n",
        "\n",
        "\n",
        "# datetime.timedelta(days=0, seconds=0, microseconds=0, milliseconds=0, minutes=0, hours=0, weeks=0)"
      ],
      "execution_count": null,
      "outputs": [
        {
          "output_type": "stream",
          "text": [
            "2021-07-04 2001-09-11\n"
          ],
          "name": "stdout"
        }
      ]
    },
    {
      "cell_type": "code",
      "metadata": {
        "id": "AOoRuvXOdiPX",
        "outputId": "df7dbdb8-d9d0-4030-be71-415143ca66fd"
      },
      "source": [
        "tdelta = datetime.timedelta(hours=12)\n",
        "print(tday + tdelta)"
      ],
      "execution_count": null,
      "outputs": [
        {
          "output_type": "stream",
          "text": [
            "2021-07-04\n"
          ],
          "name": "stdout"
        }
      ]
    },
    {
      "cell_type": "code",
      "metadata": {
        "id": "ia5VnuYjdiPY",
        "outputId": "603652d1-3bbb-4e06-d992-1dfc11ccb027"
      },
      "source": [
        "bday = datetime.date(2016, 9, 24)\n",
        "till_bday = bday - tday\n",
        "print(till_bday.days)"
      ],
      "execution_count": null,
      "outputs": [
        {
          "output_type": "stream",
          "text": [
            "-1744\n"
          ],
          "name": "stdout"
        }
      ]
    },
    {
      "cell_type": "code",
      "metadata": {
        "id": "kabbwIIndiPZ",
        "outputId": "21fe99d4-0b20-4dfc-9306-d95a731f3764"
      },
      "source": [
        "dt_agora = datetime.datetime.now()\n",
        "print(dt_agora.strftime('%B %d, %Y'))"
      ],
      "execution_count": null,
      "outputs": [
        {
          "output_type": "stream",
          "text": [
            "July 04, 2021\n"
          ],
          "name": "stdout"
        }
      ]
    },
    {
      "cell_type": "code",
      "metadata": {
        "id": "u8NQJ9d-diPa",
        "outputId": "e0dc1dc9-f9dc-4206-9901-6664a896833e"
      },
      "source": [
        "dt_str = 'July 24, 2016'\n",
        "dt = datetime.datetime.strptime(dt_str, '%B %d, %Y')\n",
        "print(dt)\n",
        "\n",
        "# strftime - Datetime para String\n",
        "# strptime - String para Datetime"
      ],
      "execution_count": null,
      "outputs": [
        {
          "output_type": "stream",
          "text": [
            "2016-07-24 00:00:00\n"
          ],
          "name": "stdout"
        }
      ]
    },
    {
      "cell_type": "markdown",
      "metadata": {
        "id": "3LXHFyLPJ1tZ"
      },
      "source": [
        "## **Atividade da aula**"
      ]
    },
    {
      "cell_type": "markdown",
      "metadata": {
        "id": "2UdqkdSxbhpt"
      },
      "source": [
        "### **PROJETO FINAL - Parte 1**"
      ]
    },
    {
      "cell_type": "code",
      "metadata": {
        "id": "4FwUy7tqbgtp"
      },
      "source": [
        "# importando a biblioteca\n",
        "import requests as r"
      ],
      "execution_count": 1,
      "outputs": []
    },
    {
      "cell_type": "code",
      "metadata": {
        "id": "yjHGpawAbgr2"
      },
      "source": [
        "# instanciando a url\n",
        "url = 'https://api.covid19api.com/dayone/country/brazil'\n",
        "\n",
        "# resultado da requisição instanciando na variável \"resposta\"\n",
        "resposta = r.get(url)"
      ],
      "execution_count": 2,
      "outputs": []
    },
    {
      "cell_type": "code",
      "metadata": {
        "colab": {
          "base_uri": "https://localhost:8080/"
        },
        "id": "-Z2rHsC6bgo0",
        "outputId": "a1706fa3-9d63-49af-8e83-273b1e1f4cf5"
      },
      "source": [
        "# verificando o status da requisição\n",
        "resposta.status_code"
      ],
      "execution_count": 3,
      "outputs": [
        {
          "output_type": "execute_result",
          "data": {
            "text/plain": [
              "200"
            ]
          },
          "metadata": {
            "tags": []
          },
          "execution_count": 3
        }
      ]
    },
    {
      "cell_type": "code",
      "metadata": {
        "colab": {
          "base_uri": "https://localhost:8080/"
        },
        "id": "VZu8XTVJbglC",
        "outputId": "58945b2d-0d04-4109-df6c-c02be30d4e38"
      },
      "source": [
        "# instanciando a resposta da requisição na variável \"raw_data\"\n",
        "raw_data = resposta.json() # \"json\" formato do tipo de dado da api\n",
        "\n",
        "# visualizando a posição zero (0)\n",
        "raw_data[0]"
      ],
      "execution_count": 4,
      "outputs": [
        {
          "output_type": "execute_result",
          "data": {
            "text/plain": [
              "{'Active': 1,\n",
              " 'City': '',\n",
              " 'CityCode': '',\n",
              " 'Confirmed': 1,\n",
              " 'Country': 'Brazil',\n",
              " 'CountryCode': 'BR',\n",
              " 'Date': '2020-02-26T00:00:00Z',\n",
              " 'Deaths': 0,\n",
              " 'ID': '5b679794-2952-4c4c-a873-af6ff457b0fd',\n",
              " 'Lat': '-14.24',\n",
              " 'Lon': '-51.93',\n",
              " 'Province': '',\n",
              " 'Recovered': 0}"
            ]
          },
          "metadata": {
            "tags": []
          },
          "execution_count": 4
        }
      ]
    },
    {
      "cell_type": "code",
      "metadata": {
        "colab": {
          "base_uri": "https://localhost:8080/"
        },
        "id": "yptP4OfXbgi6",
        "outputId": "c76a4f83-6eac-487d-a9b1-389d78b181ca"
      },
      "source": [
        "# visualizando as 5 primeiras posições\n",
        "raw_data[:4]"
      ],
      "execution_count": 5,
      "outputs": [
        {
          "output_type": "execute_result",
          "data": {
            "text/plain": [
              "[{'Active': 1,\n",
              "  'City': '',\n",
              "  'CityCode': '',\n",
              "  'Confirmed': 1,\n",
              "  'Country': 'Brazil',\n",
              "  'CountryCode': 'BR',\n",
              "  'Date': '2020-02-26T00:00:00Z',\n",
              "  'Deaths': 0,\n",
              "  'ID': '5b679794-2952-4c4c-a873-af6ff457b0fd',\n",
              "  'Lat': '-14.24',\n",
              "  'Lon': '-51.93',\n",
              "  'Province': '',\n",
              "  'Recovered': 0},\n",
              " {'Active': 1,\n",
              "  'City': '',\n",
              "  'CityCode': '',\n",
              "  'Confirmed': 1,\n",
              "  'Country': 'Brazil',\n",
              "  'CountryCode': 'BR',\n",
              "  'Date': '2020-02-27T00:00:00Z',\n",
              "  'Deaths': 0,\n",
              "  'ID': 'a832f928-7fc5-4b87-9f25-240412f6ac82',\n",
              "  'Lat': '-14.24',\n",
              "  'Lon': '-51.93',\n",
              "  'Province': '',\n",
              "  'Recovered': 0},\n",
              " {'Active': 1,\n",
              "  'City': '',\n",
              "  'CityCode': '',\n",
              "  'Confirmed': 1,\n",
              "  'Country': 'Brazil',\n",
              "  'CountryCode': 'BR',\n",
              "  'Date': '2020-02-28T00:00:00Z',\n",
              "  'Deaths': 0,\n",
              "  'ID': '540e68fd-caf1-4f49-98e0-da00dc785621',\n",
              "  'Lat': '-14.24',\n",
              "  'Lon': '-51.93',\n",
              "  'Province': '',\n",
              "  'Recovered': 0},\n",
              " {'Active': 2,\n",
              "  'City': '',\n",
              "  'CityCode': '',\n",
              "  'Confirmed': 2,\n",
              "  'Country': 'Brazil',\n",
              "  'CountryCode': 'BR',\n",
              "  'Date': '2020-02-29T00:00:00Z',\n",
              "  'Deaths': 0,\n",
              "  'ID': 'f007180e-8fbf-4a05-82fe-d531d5e49ea0',\n",
              "  'Lat': '-14.24',\n",
              "  'Lon': '-51.93',\n",
              "  'Province': '',\n",
              "  'Recovered': 0}]"
            ]
          },
          "metadata": {
            "tags": []
          },
          "execution_count": 5
        }
      ]
    },
    {
      "cell_type": "code",
      "metadata": {
        "id": "mYt9O9B5bge2"
      },
      "source": [
        "# filtrando as features que precisamos\n",
        "final_data = []\n",
        "\n",
        "for obs in raw_data:\n",
        "  final_data.append([obs['Confirmed'],\n",
        "                    obs['Deaths'],\n",
        "                    obs['Recovered'],\n",
        "                    obs['Active'],\n",
        "                    obs['Date']])"
      ],
      "execution_count": 6,
      "outputs": []
    },
    {
      "cell_type": "code",
      "metadata": {
        "colab": {
          "base_uri": "https://localhost:8080/"
        },
        "id": "L0B9jdpRfWE0",
        "outputId": "dd58bd76-9648-43eb-bffa-905913bb3b56"
      },
      "source": [
        "# visualizando a seleção das features\n",
        "final_data"
      ],
      "execution_count": 7,
      "outputs": [
        {
          "output_type": "execute_result",
          "data": {
            "text/plain": [
              "[[1, 0, 0, 1, '2020-02-26T00:00:00Z'],\n",
              " [1, 0, 0, 1, '2020-02-27T00:00:00Z'],\n",
              " [1, 0, 0, 1, '2020-02-28T00:00:00Z'],\n",
              " [2, 0, 0, 2, '2020-02-29T00:00:00Z'],\n",
              " [2, 0, 0, 2, '2020-03-01T00:00:00Z'],\n",
              " [2, 0, 0, 2, '2020-03-02T00:00:00Z'],\n",
              " [2, 0, 0, 2, '2020-03-03T00:00:00Z'],\n",
              " [4, 0, 0, 4, '2020-03-04T00:00:00Z'],\n",
              " [4, 0, 0, 4, '2020-03-05T00:00:00Z'],\n",
              " [13, 0, 0, 13, '2020-03-06T00:00:00Z'],\n",
              " [13, 0, 0, 13, '2020-03-07T00:00:00Z'],\n",
              " [20, 0, 0, 20, '2020-03-08T00:00:00Z'],\n",
              " [25, 0, 0, 25, '2020-03-09T00:00:00Z'],\n",
              " [31, 0, 0, 31, '2020-03-10T00:00:00Z'],\n",
              " [38, 0, 0, 38, '2020-03-11T00:00:00Z'],\n",
              " [52, 0, 0, 52, '2020-03-12T00:00:00Z'],\n",
              " [151, 0, 0, 151, '2020-03-13T00:00:00Z'],\n",
              " [151, 0, 0, 151, '2020-03-14T00:00:00Z'],\n",
              " [162, 0, 0, 162, '2020-03-15T00:00:00Z'],\n",
              " [200, 0, 1, 199, '2020-03-16T00:00:00Z'],\n",
              " [321, 1, 2, 318, '2020-03-17T00:00:00Z'],\n",
              " [372, 3, 2, 367, '2020-03-18T00:00:00Z'],\n",
              " [621, 6, 2, 613, '2020-03-19T00:00:00Z'],\n",
              " [793, 11, 2, 780, '2020-03-20T00:00:00Z'],\n",
              " [1021, 15, 2, 1004, '2020-03-21T00:00:00Z'],\n",
              " [1546, 25, 2, 1519, '2020-03-22T00:00:00Z'],\n",
              " [1924, 34, 2, 1888, '2020-03-23T00:00:00Z'],\n",
              " [2247, 46, 2, 2199, '2020-03-24T00:00:00Z'],\n",
              " [2554, 59, 2, 2493, '2020-03-25T00:00:00Z'],\n",
              " [2985, 77, 6, 2902, '2020-03-26T00:00:00Z'],\n",
              " [3417, 92, 6, 3319, '2020-03-27T00:00:00Z'],\n",
              " [3904, 111, 6, 3787, '2020-03-28T00:00:00Z'],\n",
              " [4256, 136, 6, 4114, '2020-03-29T00:00:00Z'],\n",
              " [4579, 159, 120, 4300, '2020-03-30T00:00:00Z'],\n",
              " [5717, 201, 127, 5389, '2020-03-31T00:00:00Z'],\n",
              " [6836, 240, 127, 6469, '2020-04-01T00:00:00Z'],\n",
              " [8044, 324, 127, 7593, '2020-04-02T00:00:00Z'],\n",
              " [9056, 359, 127, 8570, '2020-04-03T00:00:00Z'],\n",
              " [10360, 445, 127, 9788, '2020-04-04T00:00:00Z'],\n",
              " [11130, 486, 127, 10517, '2020-04-05T00:00:00Z'],\n",
              " [12161, 564, 127, 11470, '2020-04-06T00:00:00Z'],\n",
              " [14034, 686, 127, 13221, '2020-04-07T00:00:00Z'],\n",
              " [16170, 819, 127, 15224, '2020-04-08T00:00:00Z'],\n",
              " [18092, 950, 173, 16969, '2020-04-09T00:00:00Z'],\n",
              " [19638, 1057, 173, 18408, '2020-04-10T00:00:00Z'],\n",
              " [20727, 1124, 173, 19430, '2020-04-11T00:00:00Z'],\n",
              " [22192, 1223, 173, 20796, '2020-04-12T00:00:00Z'],\n",
              " [23430, 1328, 173, 21929, '2020-04-13T00:00:00Z'],\n",
              " [25262, 1532, 3046, 20684, '2020-04-14T00:00:00Z'],\n",
              " [28320, 1736, 14026, 12558, '2020-04-15T00:00:00Z'],\n",
              " [30425, 1924, 14026, 14475, '2020-04-16T00:00:00Z'],\n",
              " [33682, 2141, 14026, 17515, '2020-04-17T00:00:00Z'],\n",
              " [36658, 2354, 14026, 20278, '2020-04-18T00:00:00Z'],\n",
              " [38654, 2462, 22130, 14062, '2020-04-19T00:00:00Z'],\n",
              " [40743, 2587, 22130, 16026, '2020-04-20T00:00:00Z'],\n",
              " [43079, 2741, 22991, 17347, '2020-04-21T00:00:00Z'],\n",
              " [45757, 2906, 25318, 17533, '2020-04-22T00:00:00Z'],\n",
              " [50036, 3331, 26573, 20132, '2020-04-23T00:00:00Z'],\n",
              " [54043, 3704, 27655, 22684, '2020-04-24T00:00:00Z'],\n",
              " [59324, 4057, 29160, 26107, '2020-04-25T00:00:00Z'],\n",
              " [63100, 4286, 30152, 28662, '2020-04-26T00:00:00Z'],\n",
              " [67446, 4603, 31142, 31701, '2020-04-27T00:00:00Z'],\n",
              " [73235, 5083, 32544, 35608, '2020-04-28T00:00:00Z'],\n",
              " [79685, 5513, 34132, 40040, '2020-04-29T00:00:00Z'],\n",
              " [87187, 6006, 35935, 45246, '2020-04-30T00:00:00Z'],\n",
              " [92202, 6412, 38039, 47751, '2020-05-01T00:00:00Z'],\n",
              " [97100, 6761, 40937, 49402, '2020-05-02T00:00:00Z'],\n",
              " [101826, 7051, 42991, 51784, '2020-05-03T00:00:00Z'],\n",
              " [108620, 7367, 45815, 55438, '2020-05-04T00:00:00Z'],\n",
              " [115455, 7938, 48221, 59296, '2020-05-05T00:00:00Z'],\n",
              " [126611, 8588, 51370, 66653, '2020-05-06T00:00:00Z'],\n",
              " [135773, 9190, 55350, 71233, '2020-05-07T00:00:00Z'],\n",
              " [146894, 10017, 59297, 77580, '2020-05-08T00:00:00Z'],\n",
              " [156061, 10656, 61685, 83720, '2020-05-09T00:00:00Z'],\n",
              " [162699, 11123, 64957, 86619, '2020-05-10T00:00:00Z'],\n",
              " [169594, 11653, 67384, 90557, '2020-05-11T00:00:00Z'],\n",
              " [178214, 12461, 72597, 93156, '2020-05-12T00:00:00Z'],\n",
              " [190137, 13240, 78424, 98473, '2020-05-13T00:00:00Z'],\n",
              " [203165, 13999, 79479, 109687, '2020-05-14T00:00:00Z'],\n",
              " [220291, 14962, 84970, 120359, '2020-05-15T00:00:00Z'],\n",
              " [233511, 15662, 89672, 128177, '2020-05-16T00:00:00Z'],\n",
              " [241080, 16118, 94122, 130840, '2020-05-17T00:00:00Z'],\n",
              " [255368, 16853, 100459, 138056, '2020-05-18T00:00:00Z'],\n",
              " [271885, 17983, 106794, 147108, '2020-05-19T00:00:00Z'],\n",
              " [291579, 18859, 116683, 156037, '2020-05-20T00:00:00Z'],\n",
              " [310087, 20047, 125960, 164080, '2020-05-21T00:00:00Z'],\n",
              " [330890, 21048, 135430, 174412, '2020-05-22T00:00:00Z'],\n",
              " [347398, 22013, 142587, 182798, '2020-05-23T00:00:00Z'],\n",
              " [363211, 22666, 149911, 190634, '2020-05-24T00:00:00Z'],\n",
              " [374898, 23473, 153833, 197592, '2020-05-25T00:00:00Z'],\n",
              " [391222, 24512, 158593, 208117, '2020-05-26T00:00:00Z'],\n",
              " [411821, 25598, 166647, 219576, '2020-05-27T00:00:00Z'],\n",
              " [438238, 26754, 177604, 233880, '2020-05-28T00:00:00Z'],\n",
              " [465166, 27878, 189476, 247812, '2020-05-29T00:00:00Z'],\n",
              " [498440, 28834, 200892, 268714, '2020-05-30T00:00:00Z'],\n",
              " [514849, 29314, 206555, 278980, '2020-05-31T00:00:00Z'],\n",
              " [526447, 29937, 211080, 285430, '2020-06-01T00:00:00Z'],\n",
              " [555383, 31199, 223638, 300546, '2020-06-02T00:00:00Z'],\n",
              " [584016, 32548, 238617, 312851, '2020-06-03T00:00:00Z'],\n",
              " [614941, 34021, 254963, 325957, '2020-06-04T00:00:00Z'],\n",
              " [645771, 35026, 266940, 343805, '2020-06-05T00:00:00Z'],\n",
              " [672846, 35930, 277149, 359767, '2020-06-06T00:00:00Z'],\n",
              " [691758, 36455, 283952, 371351, '2020-06-07T00:00:00Z'],\n",
              " [707412, 37134, 378257, 292021, '2020-06-08T00:00:00Z'],\n",
              " [739503, 38406, 396737, 304360, '2020-06-09T00:00:00Z'],\n",
              " [772416, 39680, 413916, 318820, '2020-06-10T00:00:00Z'],\n",
              " [802828, 40919, 429965, 331944, '2020-06-11T00:00:00Z'],\n",
              " [828810, 41828, 445123, 341859, '2020-06-12T00:00:00Z'],\n",
              " [850514, 42720, 459436, 348358, '2020-06-13T00:00:00Z'],\n",
              " [867624, 43332, 469141, 355151, '2020-06-14T00:00:00Z'],\n",
              " [888271, 43959, 477709, 366603, '2020-06-15T00:00:00Z'],\n",
              " [923189, 45241, 490005, 387943, '2020-06-16T00:00:00Z'],\n",
              " [955377, 46510, 521046, 387821, '2020-06-17T00:00:00Z'],\n",
              " [978142, 47748, 534580, 395814, '2020-06-18T00:00:00Z'],\n",
              " [1032913, 48954, 551631, 432328, '2020-06-19T00:00:00Z'],\n",
              " [1067579, 49976, 576779, 440824, '2020-06-20T00:00:00Z'],\n",
              " [1083341, 50591, 588118, 444632, '2020-06-21T00:00:00Z'],\n",
              " [1106470, 51271, 601736, 453463, '2020-06-22T00:00:00Z'],\n",
              " [1145906, 52645, 627963, 465298, '2020-06-23T00:00:00Z'],\n",
              " [1188631, 53830, 660469, 474332, '2020-06-24T00:00:00Z'],\n",
              " [1228114, 54971, 679524, 493619, '2020-06-25T00:00:00Z'],\n",
              " [1274974, 55961, 702399, 516614, '2020-06-26T00:00:00Z'],\n",
              " [1313667, 57070, 727715, 528882, '2020-06-27T00:00:00Z'],\n",
              " [1344143, 57622, 746018, 540503, '2020-06-28T00:00:00Z'],\n",
              " [1368195, 58314, 757811, 552070, '2020-06-29T00:00:00Z'],\n",
              " [1402041, 59594, 788318, 554129, '2020-06-30T00:00:00Z'],\n",
              " [1448753, 60632, 817642, 570479, '2020-07-01T00:00:00Z'],\n",
              " [1496858, 61884, 957692, 477282, '2020-07-02T00:00:00Z'],\n",
              " [1539081, 63174, 984615, 491292, '2020-07-03T00:00:00Z'],\n",
              " [1577004, 64265, 990731, 522008, '2020-07-04T00:00:00Z'],\n",
              " [1603055, 64867, 1029045, 509143, '2020-07-05T00:00:00Z'],\n",
              " [1623284, 65487, 1062542, 495255, '2020-07-06T00:00:00Z'],\n",
              " [1668589, 66741, 1107012, 494836, '2020-07-07T00:00:00Z'],\n",
              " [1713160, 67964, 1139844, 505352, '2020-07-08T00:00:00Z'],\n",
              " [1755779, 69184, 1171447, 515148, '2020-07-09T00:00:00Z'],\n",
              " [1800827, 70398, 1217361, 513068, '2020-07-10T00:00:00Z'],\n",
              " [1839850, 71469, 1244088, 524293, '2020-07-11T00:00:00Z'],\n",
              " [1864681, 72100, 1264843, 527738, '2020-07-12T00:00:00Z'],\n",
              " [1884967, 72833, 1291251, 520883, '2020-07-13T00:00:00Z'],\n",
              " [1926824, 74133, 1323425, 529266, '2020-07-14T00:00:00Z'],\n",
              " [1966748, 75366, 1350098, 541284, '2020-07-15T00:00:00Z'],\n",
              " [2012151, 76688, 1397531, 537932, '2020-07-16T00:00:00Z'],\n",
              " [2046328, 77851, 1428520, 539957, '2020-07-17T00:00:00Z'],\n",
              " [2074860, 78772, 1447408, 548680, '2020-07-18T00:00:00Z'],\n",
              " [2098389, 79488, 1459072, 559829, '2020-07-19T00:00:00Z'],\n",
              " [2118646, 80120, 1514300, 524226, '2020-07-20T00:00:00Z'],\n",
              " [2159654, 81487, 1555339, 522828, '2020-07-21T00:00:00Z'],\n",
              " [2227514, 82771, 1591975, 552768, '2020-07-22T00:00:00Z'],\n",
              " [2287475, 84082, 1620313, 583080, '2020-07-23T00:00:00Z'],\n",
              " [2343366, 85238, 1693214, 564914, '2020-07-24T00:00:00Z'],\n",
              " [2394513, 86449, 1785359, 522705, '2020-07-25T00:00:00Z'],\n",
              " [2419091, 87004, 1812913, 519174, '2020-07-26T00:00:00Z'],\n",
              " [2442375, 87618, 1846641, 508116, '2020-07-27T00:00:00Z'],\n",
              " [2483191, 88539, 1868749, 525903, '2020-07-28T00:00:00Z'],\n",
              " [2552265, 90134, 1922802, 539329, '2020-07-29T00:00:00Z'],\n",
              " [2610102, 91263, 1956807, 562032, '2020-07-30T00:00:00Z'],\n",
              " [2662485, 92475, 2008854, 561156, '2020-07-31T00:00:00Z'],\n",
              " [2707877, 93563, 2037982, 576332, '2020-08-01T00:00:00Z'],\n",
              " [2733677, 94104, 2062876, 576697, '2020-08-02T00:00:00Z'],\n",
              " [2750318, 94665, 2098976, 556677, '2020-08-03T00:00:00Z'],\n",
              " [2801921, 95819, 2157484, 548618, '2020-08-04T00:00:00Z'],\n",
              " [2859073, 97256, 2190361, 571456, '2020-08-05T00:00:00Z'],\n",
              " [2912212, 98493, 2230542, 583177, '2020-08-06T00:00:00Z'],\n",
              " [2962442, 99572, 2272299, 590571, '2020-08-07T00:00:00Z'],\n",
              " [3012412, 100477, 2321537, 590398, '2020-08-08T00:00:00Z'],\n",
              " [3035422, 101049, 2356983, 577390, '2020-08-09T00:00:00Z'],\n",
              " [3057470, 101752, 2390830, 564888, '2020-08-10T00:00:00Z'],\n",
              " [3109630, 103026, 2449338, 557266, '2020-08-11T00:00:00Z'],\n",
              " [3164785, 104201, 2506228, 554356, '2020-08-12T00:00:00Z'],\n",
              " [3224876, 105463, 2521100, 598313, '2020-08-13T00:00:00Z'],\n",
              " [3275520, 106523, 2616981, 552016, '2020-08-14T00:00:00Z'],\n",
              " [3317096, 107232, 2622878, 586986, '2020-08-15T00:00:00Z'],\n",
              " [3340197, 107852, 2655017, 577328, '2020-08-16T00:00:00Z'],\n",
              " [3359570, 108536, 2699080, 551954, '2020-08-17T00:00:00Z'],\n",
              " [3407354, 109888, 2751246, 546220, '2020-08-18T00:00:00Z'],\n",
              " [3456652, 111100, 2801931, 543621, '2020-08-19T00:00:00Z'],\n",
              " [3501975, 112304, 2844318, 545353, '2020-08-20T00:00:00Z'],\n",
              " [3532330, 113358, 2855558, 563414, '2020-08-21T00:00:00Z'],\n",
              " [3582362, 114250, 2913966, 554146, '2020-08-22T00:00:00Z'],\n",
              " [3605783, 114744, 2947784, 543255, '2020-08-23T00:00:00Z'],\n",
              " [3622861, 115309, 2976256, 531296, '2020-08-24T00:00:00Z'],\n",
              " [3669995, 116580, 3032551, 520864, '2020-08-25T00:00:00Z'],\n",
              " [3717156, 117665, 3082447, 517044, '2020-08-26T00:00:00Z'],\n",
              " [3761391, 118649, 3122846, 519896, '2020-08-27T00:00:00Z'],\n",
              " [3804803, 119504, 3158783, 526516, '2020-08-28T00:00:00Z'],\n",
              " [3846153, 120262, 3202185, 523706, '2020-08-29T00:00:00Z'],\n",
              " [3862311, 120828, 3237615, 503868, '2020-08-30T00:00:00Z'],\n",
              " [3908272, 121381, 3268591, 518300, '2020-08-31T00:00:00Z'],\n",
              " [3950931, 122596, 3345240, 483095, '2020-09-01T00:00:00Z'],\n",
              " [3997865, 123780, 3387309, 486776, '2020-09-02T00:00:00Z'],\n",
              " [4041638, 124614, 3429435, 487589, '2020-09-03T00:00:00Z'],\n",
              " [4091801, 125502, 3464278, 502021, '2020-09-04T00:00:00Z'],\n",
              " [4123000, 126203, 3498999, 497798, '2020-09-05T00:00:00Z'],\n",
              " [4137521, 126650, 3522155, 488716, '2020-09-06T00:00:00Z'],\n",
              " [4147794, 126960, 3549201, 471633, '2020-09-07T00:00:00Z'],\n",
              " [4162073, 127464, 3572421, 462188, '2020-09-08T00:00:00Z'],\n",
              " [4197889, 128539, 3611632, 457718, '2020-09-09T00:00:00Z'],\n",
              " [4238446, 129522, 3657701, 451223, '2020-09-10T00:00:00Z'],\n",
              " [4282164, 130396, 3695158, 456610, '2020-09-11T00:00:00Z'],\n",
              " [4315687, 131210, 3723206, 461271, '2020-09-12T00:00:00Z'],\n",
              " [4330455, 131625, 3723206, 475624, '2020-09-13T00:00:00Z'],\n",
              " [4345610, 132006, 3770138, 443466, '2020-09-14T00:00:00Z'],\n",
              " [4382263, 133119, 3811505, 437639, '2020-09-15T00:00:00Z'],\n",
              " [4419083, 134106, 3845464, 439513, '2020-09-16T00:00:00Z'],\n",
              " [4455386, 134935, 3873934, 446517, '2020-09-17T00:00:00Z'],\n",
              " [4495183, 135793, 3897539, 461851, '2020-09-18T00:00:00Z'],\n",
              " [4528240, 136532, 3936893, 454815, '2020-09-19T00:00:00Z'],\n",
              " [4544629, 136895, 3963446, 444288, '2020-09-20T00:00:00Z'],\n",
              " [4558040, 137272, 3993432, 427336, '2020-09-21T00:00:00Z'],\n",
              " [4591364, 138105, 4016831, 436428, '2020-09-22T00:00:00Z'],\n",
              " [4591364, 138105, 4046827, 406432, '2020-09-23T00:00:00Z'],\n",
              " [4657702, 139808, 4102954, 414940, '2020-09-24T00:00:00Z'],\n",
              " [4689613, 140537, 4128490, 420586, '2020-09-25T00:00:00Z'],\n",
              " [4717991, 141406, 4153307, 423278, '2020-09-26T00:00:00Z'],\n",
              " [4732309, 141741, 4172711, 417857, '2020-09-27T00:00:00Z'],\n",
              " [4745464, 142058, 4197372, 406034, '2020-09-28T00:00:00Z'],\n",
              " [4777522, 142921, 4237152, 397449, '2020-09-29T00:00:00Z'],\n",
              " [4810935, 143952, 4274774, 392209, '2020-09-30T00:00:00Z'],\n",
              " [4847092, 144680, 4299659, 402753, '2020-10-01T00:00:00Z'],\n",
              " [4847092, 144680, 4299659, 402753, '2020-10-02T00:00:00Z'],\n",
              " [4906833, 145987, 4361108, 399738, '2020-10-03T00:00:00Z'],\n",
              " [4915289, 146352, 4375354, 393583, '2020-10-04T00:00:00Z'],\n",
              " [4927235, 146675, 4397882, 382678, '2020-10-05T00:00:00Z'],\n",
              " [4969141, 147494, 4430340, 391307, '2020-10-06T00:00:00Z'],\n",
              " [5000694, 148228, 4457172, 395294, '2020-10-07T00:00:00Z'],\n",
              " [5028444, 148957, 4488092, 391395, '2020-10-08T00:00:00Z'],\n",
              " [5055888, 149639, 4502854, 403395, '2020-10-09T00:00:00Z'],\n",
              " [5082637, 150198, 4502854, 429585, '2020-10-10T00:00:00Z'],\n",
              " [5094979, 150488, 4526393, 418098, '2020-10-11T00:00:00Z'],\n",
              " [5103408, 150689, 4526393, 426326, '2020-10-12T00:00:00Z'],\n",
              " [5113628, 150998, 4526393, 436237, '2020-10-13T00:00:00Z'],\n",
              " [5140863, 151747, 4526393, 462723, '2020-10-14T00:00:00Z'],\n",
              " [5169386, 152460, 4526393, 490533, '2020-10-15T00:00:00Z'],\n",
              " [5200300, 153214, 4526393, 520693, '2020-10-16T00:00:00Z'],\n",
              " [5224362, 153675, 4526393, 544294, '2020-10-17T00:00:00Z'],\n",
              " [5224362, 153675, 4526393, 544294, '2020-10-18T00:00:00Z'],\n",
              " [5250727, 154176, 4526393, 570158, '2020-10-19T00:00:00Z'],\n",
              " [5273954, 154837, 4526393, 592724, '2020-10-20T00:00:00Z'],\n",
              " [5298772, 155403, 4526393, 616976, '2020-10-21T00:00:00Z'],\n",
              " [5323630, 155900, 4526393, 641337, '2020-10-22T00:00:00Z'],\n",
              " [5353656, 156471, 4526393, 670792, '2020-10-23T00:00:00Z'],\n",
              " [5380635, 156903, 4526393, 697339, '2020-10-24T00:00:00Z'],\n",
              " [5394128, 157134, 4526393, 710601, '2020-10-25T00:00:00Z'],\n",
              " [5409854, 157397, 4526393, 726064, '2020-10-26T00:00:00Z'],\n",
              " [5439641, 157946, 4914733, 366962, '2020-10-27T00:00:00Z'],\n",
              " [5468270, 158456, 4947777, 362037, '2020-10-28T00:00:00Z'],\n",
              " [5494376, 158969, 4962574, 372833, '2020-10-29T00:00:00Z'],\n",
              " [5516658, 159477, 4987435, 369746, '2020-10-30T00:00:00Z'],\n",
              " [5535605, 159884, 5005161, 370560, '2020-10-31T00:00:00Z'],\n",
              " [5545705, 160074, 5022338, 363293, '2020-11-01T00:00:00Z'],\n",
              " [5554206, 160253, 5039438, 354515, '2020-11-02T00:00:00Z'],\n",
              " [5566049, 160496, 5060697, 344856, '2020-11-03T00:00:00Z'],\n",
              " [5590025, 161106, 5078162, 350757, '2020-11-04T00:00:00Z'],\n",
              " [5590025, 161106, 5078162, 350757, '2020-11-05T00:00:00Z'],\n",
              " [5631181, 162015, 5118156, 351010, '2020-11-06T00:00:00Z'],\n",
              " [5653561, 162269, 5138641, 352651, '2020-11-07T00:00:00Z'],\n",
              " [5664115, 162397, 5147172, 354546, '2020-11-08T00:00:00Z'],\n",
              " [5675032, 162628, 5163226, 349178, '2020-11-09T00:00:00Z'],\n",
              " [5699005, 162802, 5183970, 352233, '2020-11-10T00:00:00Z'],\n",
              " [5747660, 163368, 5222937, 361355, '2020-11-11T00:00:00Z'],\n",
              " [5781582, 164281, 5254457, 362844, '2020-11-12T00:00:00Z'],\n",
              " [5810652, 164737, 5274812, 371103, '2020-11-13T00:00:00Z'],\n",
              " [5848959, 165658, 5279452, 403849, '2020-11-14T00:00:00Z'],\n",
              " [5863093, 165798, 5279452, 417843, '2020-11-15T00:00:00Z'],\n",
              " [5876464, 166014, 5335498, 374952, '2020-11-16T00:00:00Z'],\n",
              " [5911758, 166699, 5358299, 386760, '2020-11-17T00:00:00Z'],\n",
              " [5945849, 167455, 5383385, 395009, '2020-11-18T00:00:00Z'],\n",
              " [5981767, 168061, 5406066, 407640, '2020-11-19T00:00:00Z'],\n",
              " [6020164, 168613, 5430896, 420655, '2020-11-20T00:00:00Z'],\n",
              " [6052786, 168989, 5437189, 446608, '2020-11-21T00:00:00Z'],\n",
              " [6071401, 169183, 5457973, 444245, '2020-11-22T00:00:00Z'],\n",
              " [6087608, 169485, 5481184, 436939, '2020-11-23T00:00:00Z'],\n",
              " [6118708, 170115, 5509645, 438948, '2020-11-24T00:00:00Z'],\n",
              " [6166606, 170769, 5534010, 461827, '2020-11-25T00:00:00Z'],\n",
              " [6204220, 171460, 5556887, 475873, '2020-11-26T00:00:00Z'],\n",
              " [6238350, 171974, 5581436, 484940, '2020-11-27T00:00:00Z'],\n",
              " [6290272, 172561, 5581436, 536275, '2020-11-28T00:00:00Z'],\n",
              " [6314740, 172833, 5581436, 560471, '2020-11-29T00:00:00Z'],\n",
              " [6335878, 173120, 5597802, 564956, '2020-11-30T00:00:00Z'],\n",
              " [6386787, 173817, 5712305, 500665, '2020-12-01T00:00:00Z'],\n",
              " [6436650, 174515, 5759294, 502841, '2020-12-02T00:00:00Z'],\n",
              " [6487084, 175270, 5792539, 519275, '2020-12-03T00:00:00Z'],\n",
              " [6533968, 175964, 5825745, 532259, '2020-12-04T00:00:00Z'],\n",
              " [6577177, 176628, 5864838, 535711, '2020-12-05T00:00:00Z'],\n",
              " [6603540, 176941, 5866657, 559942, '2020-12-06T00:00:00Z'],\n",
              " [6623911, 177317, 5897526, 549068, '2020-12-07T00:00:00Z'],\n",
              " [6674999, 178159, 5965492, 531348, '2020-12-08T00:00:00Z'],\n",
              " [6728452, 178995, 5966118, 583339, '2020-12-09T00:00:00Z'],\n",
              " [6781799, 179765, 6043219, 558815, '2020-12-10T00:00:00Z'],\n",
              " [6836227, 180437, 6078287, 577503, '2020-12-11T00:00:00Z'],\n",
              " [6880127, 181123, 6078287, 620717, '2020-12-12T00:00:00Z'],\n",
              " [6901952, 181402, 6138349, 582201, '2020-12-13T00:00:00Z'],\n",
              " [6927145, 181835, 6158049, 587261, '2020-12-14T00:00:00Z'],\n",
              " [6970034, 182799, 6206483, 580752, '2020-12-15T00:00:00Z'],\n",
              " [7040608, 183735, 6239192, 617681, '2020-12-16T00:00:00Z'],\n",
              " [7110434, 184827, 6301547, 624060, '2020-12-17T00:00:00Z'],\n",
              " [7162978, 185650, 6322955, 654373, '2020-12-18T00:00:00Z'],\n",
              " [7213155, 186356, 6388938, 637861, '2020-12-19T00:00:00Z'],\n",
              " [7238600, 186764, 6408517, 643319, '2020-12-20T00:00:00Z'],\n",
              " [7263619, 187291, 6469310, 607018, '2020-12-21T00:00:00Z'],\n",
              " [7318821, 188259, 6501341, 629221, '2020-12-22T00:00:00Z'],\n",
              " [7365517, 189220, 6512717, 663580, '2020-12-23T00:00:00Z'],\n",
              " [7423945, 189982, 6512717, 721246, '2020-12-24T00:00:00Z'],\n",
              " [7448560, 190488, 6512717, 745355, '2020-12-25T00:00:00Z'],\n",
              " [7465806, 190795, 6654189, 620822, '2020-12-26T00:00:00Z'],\n",
              " [7484285, 191139, 6677235, 615911, '2020-12-27T00:00:00Z'],\n",
              " [7504833, 191570, 6712757, 600506, '2020-12-28T00:00:00Z'],\n",
              " [7563551, 192681, 6754111, 616759, '2020-12-29T00:00:00Z'],\n",
              " [7619200, 193875, 6814092, 611233, '2020-12-30T00:00:00Z'],\n",
              " [7675973, 194949, 6848844, 632180, '2020-12-31T00:00:00Z'],\n",
              " [7700578, 195411, 6855372, 649795, '2021-01-01T00:00:00Z'],\n",
              " [7716405, 195725, 6893256, 627424, '2021-01-02T00:00:00Z'],\n",
              " [7733746, 196018, 6904172, 633556, '2021-01-03T00:00:00Z'],\n",
              " [7753752, 196561, 6950045, 607146, '2021-01-04T00:00:00Z'],\n",
              " [7810400, 197732, 6994845, 617823, '2021-01-05T00:00:00Z'],\n",
              " [7873830, 198974, 7033286, 641570, '2021-01-06T00:00:00Z'],\n",
              " [7961673, 200498, 7081521, 679654, '2021-01-07T00:00:00Z'],\n",
              " [8013708, 201460, 7136817, 675431, '2021-01-08T00:00:00Z'],\n",
              " [8075998, 202631, 7205410, 667957, '2021-01-09T00:00:00Z'],\n",
              " [8105790, 203100, 7231336, 671354, '2021-01-10T00:00:00Z'],\n",
              " [8131612, 203580, 7273237, 654795, '2021-01-11T00:00:00Z'],\n",
              " [8195637, 204690, 7284945, 706002, '2021-01-12T00:00:00Z'],\n",
              " [8256536, 205964, 7347080, 703492, '2021-01-13T00:00:00Z'],\n",
              " [8324294, 207095, 7394739, 722460, '2021-01-14T00:00:00Z'],\n",
              " [8393492, 208246, 7438075, 747171, '2021-01-15T00:00:00Z'],\n",
              " [8455059, 209296, 7485823, 759940, '2021-01-16T00:00:00Z'],\n",
              " [8488099, 209847, 7509009, 769243, '2021-01-17T00:00:00Z'],\n",
              " [8511770, 210299, 7560460, 741011, '2021-01-18T00:00:00Z'],\n",
              " [8573864, 211491, 7618080, 744293, '2021-01-19T00:00:00Z'],\n",
              " [8638249, 212831, 7618080, 807338, '2021-01-20T00:00:00Z'],\n",
              " [8697368, 214147, 7673092, 810129, '2021-01-21T00:00:00Z'],\n",
              " [8753920, 215243, 7746910, 791767, '2021-01-22T00:00:00Z'],\n",
              " [8816254, 216445, 7775928, 823881, '2021-01-23T00:00:00Z'],\n",
              " [8844577, 217037, 7821376, 806164, '2021-01-24T00:00:00Z'],\n",
              " [8871393, 217664, 7864969, 788760, '2021-01-25T00:00:00Z'],\n",
              " [8933356, 218878, 7896290, 818188, '2021-01-26T00:00:00Z'],\n",
              " [8996876, 220161, 7964176, 812539, '2021-01-27T00:00:00Z'],\n",
              " [9058687, 221547, 7979513, 857627, '2021-01-28T00:00:00Z'],\n",
              " [9118513, 222666, 8066603, 829244, '2021-01-29T00:00:00Z'],\n",
              " [9176975, 223945, 8148671, 804359, '2021-01-30T00:00:00Z'],\n",
              " [9204731, 224504, 8176373, 803854, '2021-01-31T00:00:00Z'],\n",
              " [9229322, 225099, 8202354, 801869, '2021-02-01T00:00:00Z'],\n",
              " [9283418, 226309, 8258074, 799035, '2021-02-02T00:00:00Z'],\n",
              " [9339420, 227563, 8311881, 799976, '2021-02-03T00:00:00Z'],\n",
              " [9396293, 228795, 8366197, 801301, '2021-02-04T00:00:00Z'],\n",
              " [9447165, 230034, 8396148, 820983, '2021-02-05T00:00:00Z'],\n",
              " [9447165, 230034, 8428992, 788139, '2021-02-06T00:00:00Z'],\n",
              " [9524640, 231534, 8467982, 825124, '2021-02-07T00:00:00Z'],\n",
              " [9524640, 231534, 8478818, 814288, '2021-02-08T00:00:00Z'],\n",
              " [9599565, 233520, 8577207, 788838, '2021-02-09T00:00:00Z'],\n",
              " [9659167, 234850, 8616282, 808035, '2021-02-10T00:00:00Z'],\n",
              " [9713909, 236201, 8637050, 840658, '2021-02-11T00:00:00Z'],\n",
              " [9765455, 237489, 8691664, 836302, '2021-02-12T00:00:00Z'],\n",
              " [9809754, 238532, 8740445, 830777, '2021-02-13T00:00:00Z'],\n",
              " [9834513, 239245, 8765048, 830220, '2021-02-14T00:00:00Z'],\n",
              " [9866710, 239773, 8821887, 805050, '2021-02-15T00:00:00Z'],\n",
              " [9921981, 240940, 8847264, 833777, '2021-02-16T00:00:00Z'],\n",
              " [9978747, 242090, 8933402, 803255, '2021-02-17T00:00:00Z'],\n",
              " [10030626, 243457, 8960755, 826414, '2021-02-18T00:00:00Z'],\n",
              " [10084208, 244737, 8988618, 850853, '2021-02-19T00:00:00Z'],\n",
              " [10139148, 245977, 9070505, 822666, '2021-02-20T00:00:00Z'],\n",
              " [10168174, 246504, 9095692, 825978, '2021-02-21T00:00:00Z'],\n",
              " [10195160, 247143, 9108205, 839812, '2021-02-22T00:00:00Z'],\n",
              " [10257875, 248529, 9189903, 819443, '2021-02-23T00:00:00Z'],\n",
              " [10324463, 249957, 9214337, 860169, '2021-02-24T00:00:00Z'],\n",
              " [10390461, 251498, 9264696, 874267, '2021-02-25T00:00:00Z'],\n",
              " [10455630, 252835, 9309568, 893227, '2021-02-26T00:00:00Z'],\n",
              " [10517232, 254221, 9371448, 891563, '2021-02-27T00:00:00Z'],\n",
              " [10551259, 254942, 9382316, 914001, '2021-02-28T00:00:00Z'],\n",
              " [10587001, 255720, 9437611, 893670, '2021-03-01T00:00:00Z'],\n",
              " [10646926, 257361, 9506251, 883314, '2021-03-02T00:00:00Z'],\n",
              " [10718630, 259271, 9548315, 911044, '2021-03-03T00:00:00Z'],\n",
              " [10793732, 260970, 9605870, 926892, '2021-03-04T00:00:00Z'],\n",
              " [10869227, 262770, 9647550, 958907, '2021-03-05T00:00:00Z'],\n",
              " [10938836, 264325, 9686024, 988487, '2021-03-06T00:00:00Z'],\n",
              " [11019344, 265411, 9739464, 10753933, '2021-03-07T00:00:00Z'],\n",
              " [11051665, 266398, 9826292, 958975, '2021-03-08T00:00:00Z'],\n",
              " [11122429, 268370, 9878566, 975493, '2021-03-09T00:00:00Z'],\n",
              " [11202305, 270656, 9921994, 1009655, '2021-03-10T00:00:00Z'],\n",
              " [11277717, 272889, 9983656, 1021172, '2021-03-11T00:00:00Z'],\n",
              " [11363380, 275105, 10041024, 1047251, '2021-03-12T00:00:00Z'],\n",
              " [11439558, 277102, 10084820, 1077636, '2021-03-13T00:00:00Z'],\n",
              " [11483370, 278229, 10113487, 1091654, '2021-03-14T00:00:00Z'],\n",
              " [11519609, 279286, 10195598, 1044725, '2021-03-15T00:00:00Z'],\n",
              " [11603535, 282127, 10261154, 1060254, '2021-03-16T00:00:00Z'],\n",
              " [11693838, 284775, 10326375, 1082688, '2021-03-17T00:00:00Z'],\n",
              " [11780820, 287499, 10383496, 1109825, '2021-03-18T00:00:00Z'],\n",
              " [11871390, 290314, 10435864, 1145212, '2021-03-19T00:00:00Z'],\n",
              " [11950459, 292752, 10476123, 1181584, '2021-03-20T00:00:00Z'],\n",
              " [11998233, 294042, 10509457, 1194734, '2021-03-21T00:00:00Z'],\n",
              " [12047526, 295425, 10611595, 1140506, '2021-03-22T00:00:00Z'],\n",
              " [12130019, 298676, 10665161, 1166182, '2021-03-23T00:00:00Z'],\n",
              " [12220011, 300685, 10750131, 1169195, '2021-03-24T00:00:00Z'],\n",
              " [12320169, 303462, 10808499, 1208208, '2021-03-25T00:00:00Z'],\n",
              " [12404414, 307112, 10886792, 1210510, '2021-03-26T00:00:00Z'],\n",
              " [12490362, 310550, 10948382, 1231430, '2021-03-27T00:00:00Z'],\n",
              " [12534688, 312206, 11004281, 1218201, '2021-03-28T00:00:00Z'],\n",
              " [12573615, 313866, 11022192, 1237557, '2021-03-29T00:00:00Z'],\n",
              " [12658109, 317646, 11085369, 1255094, '2021-03-30T00:00:00Z'],\n",
              " [12748747, 321515, 11181371, 1245861, '2021-03-31T00:00:00Z'],\n",
              " [12839844, 325284, 11240213, 1274347, '2021-04-01T00:00:00Z'],\n",
              " [12910082, 328206, 11277632, 1304244, '2021-04-02T00:00:00Z'],\n",
              " [12953597, 330193, 11327510, 1295894, '2021-04-03T00:00:00Z'],\n",
              " [12984956, 331433, 11343607, 1309916, '2021-04-04T00:00:00Z'],\n",
              " [13013601, 332752, 11405558, 1275291, '2021-04-05T00:00:00Z'],\n",
              " [13100580, 336947, 11459548, 1304085, '2021-04-06T00:00:00Z'],\n",
              " [13193205, 340776, 11592159, 1260270, '2021-04-07T00:00:00Z'],\n",
              " [13279857, 345025, 11668734, 1266098, '2021-04-08T00:00:00Z'],\n",
              " [13373174, 348718, 11722181, 1302275, '2021-04-09T00:00:00Z'],\n",
              " [13445006, 351334, 11739649, 1354023, '2021-04-10T00:00:00Z'],\n",
              " [13482023, 353137, 11878958, 1249928, '2021-04-11T00:00:00Z'],\n",
              " [13517808, 354617, 11892229, 1270962, '2021-04-12T00:00:00Z'],\n",
              " [13599994, 358425, 11975121, 1266448, '2021-04-13T00:00:00Z'],\n",
              " [13673507, 361884, 12033880, 1277743, '2021-04-14T00:00:00Z'],\n",
              " [13746681, 365444, 12084851, 1296386, '2021-04-15T00:00:00Z'],\n",
              " [13832455, 368749, 12163831, 1299875, '2021-04-16T00:00:00Z'],\n",
              " [13900091, 371678, 12212890, 1315523, '2021-04-17T00:00:00Z'],\n",
              " [13943071, 373335, 12303538, 1266198, '2021-04-18T00:00:00Z'],\n",
              " [13973695, 374682, 12346828, 1252185, '2021-04-19T00:00:00Z'],\n",
              " [14043076, 378003, 12425791, 1239282, '2021-04-20T00:00:00Z'],\n",
              " [14122795, 381475, 12436210, 1305110, '2021-04-21T00:00:00Z'],\n",
              " [14167973, 383502, 12530970, 1253501, '2021-04-22T00:00:00Z'],\n",
              " [14237078, 386416, 12586272, 1264390, '2021-04-23T00:00:00Z'],\n",
              " [14308215, 389492, 12606011, 1312712, '2021-04-24T00:00:00Z'],\n",
              " [14340787, 390797, 12614559, 1335431, '2021-04-25T00:00:00Z'],\n",
              " [14369423, 391936, 12707500, 1269987, '2021-04-26T00:00:00Z'],\n",
              " [14441563, 395022, 12815119, 1231422, '2021-04-27T00:00:00Z'],\n",
              " [14521289, 398185, 12849663, 1273441, '2021-04-28T00:00:00Z'],\n",
              " [14590678, 401186, 12942081, 1247411, '2021-04-29T00:00:00Z'],\n",
              " [14659011, 403781, 12991951, 1263279, '2021-04-30T00:00:00Z'],\n",
              " [14725975, 406437, 13023892, 1295646, '2021-05-01T00:00:00Z'],\n",
              " [14754910, 407639, 13083550, 1263721, '2021-05-02T00:00:00Z'],\n",
              " [14779529, 408622, 13135143, 1235764, '2021-05-03T00:00:00Z'],\n",
              " [14856888, 411588, 13170561, 1274739, '2021-05-04T00:00:00Z'],\n",
              " [14930183, 414399, 13254660, 1261124, '2021-05-05T00:00:00Z'],\n",
              " [15003563, 416949, 13285589, 1301025, '2021-05-06T00:00:00Z'],\n",
              " [15082449, 419114, 13400075, 1263260, '2021-05-07T00:00:00Z'],\n",
              " [15145879, 421316, 13422047, 1302516, '2021-05-08T00:00:00Z'],\n",
              " [15184790, 422340, 13457400, 1305050, '2021-05-09T00:00:00Z'],\n",
              " [15209990, 423229, 13481062, 1305699, '2021-05-10T00:00:00Z'],\n",
              " [15282705, 425540, 13592463, 1264702, '2021-05-11T00:00:00Z'],\n",
              " [15359397, 428034, 13622419, 1308944, '2021-05-12T00:00:00Z'],\n",
              " [15433989, 430417, 13662690, 1340882, '2021-05-13T00:00:00Z'],\n",
              " [15519525, 432628, 13703280, 1383617, '2021-05-14T00:00:00Z'],\n",
              " [15586534, 434715, 13710822, 1440997, '2021-05-15T00:00:00Z'],\n",
              " [15627243, 435751, 13764520, 1426972, '2021-05-16T00:00:00Z'],\n",
              " [15657391, 436537, 13856731, 1364123, '2021-05-17T00:00:00Z'],\n",
              " [15732836, 439050, 13957814, 1335972, '2021-05-18T00:00:00Z'],\n",
              " [15812055, 441691, 14043766, 1326598, '2021-05-19T00:00:00Z'],\n",
              " [15894094, 444094, 14080089, 1369911, '2021-05-20T00:00:00Z'],\n",
              " [15970949, 446309, 14103800, 1420840, '2021-05-21T00:00:00Z'],\n",
              " [16047439, 448208, 14132443, 1466788, '2021-05-22T00:00:00Z'],\n",
              " [16083258, 449068, 14132443, 1501747, '2021-05-23T00:00:00Z'],\n",
              " [16120756, 449858, 14190644, 1480254, '2021-05-24T00:00:00Z'],\n",
              " [16194209, 452031, 14231991, 1510187, '2021-05-25T00:00:00Z'],\n",
              " [16274695, 454429, 14272174, 1548092, '2021-05-26T00:00:00Z'],\n",
              " [16342162, 456674, 14455810, 1429678, '2021-05-27T00:00:00Z'],\n",
              " [16391930, 459045, 14492701, 1440184, '2021-05-28T00:00:00Z'],\n",
              " [16471600, 461057, 14496224, 1514319, '2021-05-29T00:00:00Z'],\n",
              " [16515120, 461931, 14540507, 1512682, '2021-05-30T00:00:00Z'],\n",
              " [16545554, 462791, 14586009, 1496754, '2021-05-31T00:00:00Z'],\n",
              " [16624480, 465199, 14694950, 1464331, '2021-06-01T00:00:00Z'],\n",
              " [16720081, 467706, 14763694, 1488681, '2021-06-02T00:00:00Z'],\n",
              " [16803472, 469388, 14763694, 1570390, '2021-06-03T00:00:00Z'],\n",
              " [16841408, 470842, 14868994, 1501572, '2021-06-04T00:00:00Z'],\n",
              " [16907425, 472531, 14944069, 1490825, '2021-06-05T00:00:00Z'],\n",
              " [16947062, 473404, 15000718, 1472940, '2021-06-06T00:00:00Z'],\n",
              " [16984218, 474414, 15019797, 1490007, '2021-06-07T00:00:00Z'],\n",
              " [17037129, 476792, 15055747, 1504590, '2021-06-08T00:00:00Z'],\n",
              " [17122877, 479515, 15154101, 1489261, '2021-06-09T00:00:00Z'],\n",
              " [17210969, 482019, 15211176, 1517774, '2021-06-10T00:00:00Z'],\n",
              " [17296118, 484235, 15260459, 1551424, '2021-06-11T00:00:00Z'],\n",
              " [17374818, 486272, 15271120, 1617426, '2021-06-12T00:00:00Z'],\n",
              " [17412766, 487401, 15400169, 1525196, '2021-06-13T00:00:00Z'],\n",
              " [17452612, 488228, 15421397, 1542987, '2021-06-14T00:00:00Z'],\n",
              " [17533221, 490696, 15519955, 1522570, '2021-06-15T00:00:00Z'],\n",
              " [17628588, 493693, 15569556, 1565339, '2021-06-16T00:00:00Z'],\n",
              " [17702630, 496004, 15660614, 1546012, '2021-06-17T00:00:00Z'],\n",
              " [17801462, 498499, 15687189, 1615774, '2021-06-18T00:00:00Z'],\n",
              " [17883750, 500800, 15745463, 1637487, '2021-06-19T00:00:00Z'],\n",
              " [17927928, 501825, 15745463, 1680640, '2021-06-20T00:00:00Z'],\n",
              " [17966831, 502586, 15819764, 1644481, '2021-06-21T00:00:00Z'],\n",
              " [18054653, 504717, 15862096, 1687840, '2021-06-22T00:00:00Z'],\n",
              " [18169881, 507109, 16008271, 1654501, '2021-06-23T00:00:00Z'],\n",
              " [18243483, 509141, 16038230, 1696112, '2021-06-24T00:00:00Z'],\n",
              " [18322760, 511142, 16097711, 1713907, '2021-06-25T00:00:00Z'],\n",
              " [18386894, 512735, 16146608, 1727551, '2021-06-26T00:00:00Z'],\n",
              " [18420598, 513474, 16160826, 1746298, '2021-06-27T00:00:00Z'],\n",
              " [18448402, 514092, 16240380, 1693930, '2021-06-28T00:00:00Z'],\n",
              " [18513305, 515985, 16277785, 1719535, '2021-06-29T00:00:00Z'],\n",
              " [18557141, 518066, 16299258, 1739817, '2021-06-30T00:00:00Z'],\n",
              " [18622304, 520095, 16477253, 1624956, '2021-07-01T00:00:00Z'],\n",
              " [18687469, 521952, 16509821, 1655696, '2021-07-02T00:00:00Z'],\n",
              " [18742025, 523587, 16524100, 1694338, '2021-07-03T00:00:00Z'],\n",
              " [18769808, 524417, 16582483, 1662908, '2021-07-04T00:00:00Z']]"
            ]
          },
          "metadata": {
            "tags": []
          },
          "execution_count": 7
        }
      ]
    },
    {
      "cell_type": "code",
      "metadata": {
        "colab": {
          "base_uri": "https://localhost:8080/"
        },
        "id": "dEyNKxgYbgbp",
        "outputId": "ad1bee84-b6de-4d22-8763-287ac9f8ffce"
      },
      "source": [
        "# vamos instanciar um cabeçalho para as features selecioanadas \n",
        "final_data.insert(0, ['confirmados', 'obitos', \n",
        "                      'recuperados', 'ativos', 'data'])\n",
        "\n",
        "# visualizando a seleção com o headers\n",
        "final_data"
      ],
      "execution_count": 8,
      "outputs": [
        {
          "output_type": "execute_result",
          "data": {
            "text/plain": [
              "[['confirmados', 'obitos', 'recuperados', 'ativos', 'data'],\n",
              " [1, 0, 0, 1, '2020-02-26T00:00:00Z'],\n",
              " [1, 0, 0, 1, '2020-02-27T00:00:00Z'],\n",
              " [1, 0, 0, 1, '2020-02-28T00:00:00Z'],\n",
              " [2, 0, 0, 2, '2020-02-29T00:00:00Z'],\n",
              " [2, 0, 0, 2, '2020-03-01T00:00:00Z'],\n",
              " [2, 0, 0, 2, '2020-03-02T00:00:00Z'],\n",
              " [2, 0, 0, 2, '2020-03-03T00:00:00Z'],\n",
              " [4, 0, 0, 4, '2020-03-04T00:00:00Z'],\n",
              " [4, 0, 0, 4, '2020-03-05T00:00:00Z'],\n",
              " [13, 0, 0, 13, '2020-03-06T00:00:00Z'],\n",
              " [13, 0, 0, 13, '2020-03-07T00:00:00Z'],\n",
              " [20, 0, 0, 20, '2020-03-08T00:00:00Z'],\n",
              " [25, 0, 0, 25, '2020-03-09T00:00:00Z'],\n",
              " [31, 0, 0, 31, '2020-03-10T00:00:00Z'],\n",
              " [38, 0, 0, 38, '2020-03-11T00:00:00Z'],\n",
              " [52, 0, 0, 52, '2020-03-12T00:00:00Z'],\n",
              " [151, 0, 0, 151, '2020-03-13T00:00:00Z'],\n",
              " [151, 0, 0, 151, '2020-03-14T00:00:00Z'],\n",
              " [162, 0, 0, 162, '2020-03-15T00:00:00Z'],\n",
              " [200, 0, 1, 199, '2020-03-16T00:00:00Z'],\n",
              " [321, 1, 2, 318, '2020-03-17T00:00:00Z'],\n",
              " [372, 3, 2, 367, '2020-03-18T00:00:00Z'],\n",
              " [621, 6, 2, 613, '2020-03-19T00:00:00Z'],\n",
              " [793, 11, 2, 780, '2020-03-20T00:00:00Z'],\n",
              " [1021, 15, 2, 1004, '2020-03-21T00:00:00Z'],\n",
              " [1546, 25, 2, 1519, '2020-03-22T00:00:00Z'],\n",
              " [1924, 34, 2, 1888, '2020-03-23T00:00:00Z'],\n",
              " [2247, 46, 2, 2199, '2020-03-24T00:00:00Z'],\n",
              " [2554, 59, 2, 2493, '2020-03-25T00:00:00Z'],\n",
              " [2985, 77, 6, 2902, '2020-03-26T00:00:00Z'],\n",
              " [3417, 92, 6, 3319, '2020-03-27T00:00:00Z'],\n",
              " [3904, 111, 6, 3787, '2020-03-28T00:00:00Z'],\n",
              " [4256, 136, 6, 4114, '2020-03-29T00:00:00Z'],\n",
              " [4579, 159, 120, 4300, '2020-03-30T00:00:00Z'],\n",
              " [5717, 201, 127, 5389, '2020-03-31T00:00:00Z'],\n",
              " [6836, 240, 127, 6469, '2020-04-01T00:00:00Z'],\n",
              " [8044, 324, 127, 7593, '2020-04-02T00:00:00Z'],\n",
              " [9056, 359, 127, 8570, '2020-04-03T00:00:00Z'],\n",
              " [10360, 445, 127, 9788, '2020-04-04T00:00:00Z'],\n",
              " [11130, 486, 127, 10517, '2020-04-05T00:00:00Z'],\n",
              " [12161, 564, 127, 11470, '2020-04-06T00:00:00Z'],\n",
              " [14034, 686, 127, 13221, '2020-04-07T00:00:00Z'],\n",
              " [16170, 819, 127, 15224, '2020-04-08T00:00:00Z'],\n",
              " [18092, 950, 173, 16969, '2020-04-09T00:00:00Z'],\n",
              " [19638, 1057, 173, 18408, '2020-04-10T00:00:00Z'],\n",
              " [20727, 1124, 173, 19430, '2020-04-11T00:00:00Z'],\n",
              " [22192, 1223, 173, 20796, '2020-04-12T00:00:00Z'],\n",
              " [23430, 1328, 173, 21929, '2020-04-13T00:00:00Z'],\n",
              " [25262, 1532, 3046, 20684, '2020-04-14T00:00:00Z'],\n",
              " [28320, 1736, 14026, 12558, '2020-04-15T00:00:00Z'],\n",
              " [30425, 1924, 14026, 14475, '2020-04-16T00:00:00Z'],\n",
              " [33682, 2141, 14026, 17515, '2020-04-17T00:00:00Z'],\n",
              " [36658, 2354, 14026, 20278, '2020-04-18T00:00:00Z'],\n",
              " [38654, 2462, 22130, 14062, '2020-04-19T00:00:00Z'],\n",
              " [40743, 2587, 22130, 16026, '2020-04-20T00:00:00Z'],\n",
              " [43079, 2741, 22991, 17347, '2020-04-21T00:00:00Z'],\n",
              " [45757, 2906, 25318, 17533, '2020-04-22T00:00:00Z'],\n",
              " [50036, 3331, 26573, 20132, '2020-04-23T00:00:00Z'],\n",
              " [54043, 3704, 27655, 22684, '2020-04-24T00:00:00Z'],\n",
              " [59324, 4057, 29160, 26107, '2020-04-25T00:00:00Z'],\n",
              " [63100, 4286, 30152, 28662, '2020-04-26T00:00:00Z'],\n",
              " [67446, 4603, 31142, 31701, '2020-04-27T00:00:00Z'],\n",
              " [73235, 5083, 32544, 35608, '2020-04-28T00:00:00Z'],\n",
              " [79685, 5513, 34132, 40040, '2020-04-29T00:00:00Z'],\n",
              " [87187, 6006, 35935, 45246, '2020-04-30T00:00:00Z'],\n",
              " [92202, 6412, 38039, 47751, '2020-05-01T00:00:00Z'],\n",
              " [97100, 6761, 40937, 49402, '2020-05-02T00:00:00Z'],\n",
              " [101826, 7051, 42991, 51784, '2020-05-03T00:00:00Z'],\n",
              " [108620, 7367, 45815, 55438, '2020-05-04T00:00:00Z'],\n",
              " [115455, 7938, 48221, 59296, '2020-05-05T00:00:00Z'],\n",
              " [126611, 8588, 51370, 66653, '2020-05-06T00:00:00Z'],\n",
              " [135773, 9190, 55350, 71233, '2020-05-07T00:00:00Z'],\n",
              " [146894, 10017, 59297, 77580, '2020-05-08T00:00:00Z'],\n",
              " [156061, 10656, 61685, 83720, '2020-05-09T00:00:00Z'],\n",
              " [162699, 11123, 64957, 86619, '2020-05-10T00:00:00Z'],\n",
              " [169594, 11653, 67384, 90557, '2020-05-11T00:00:00Z'],\n",
              " [178214, 12461, 72597, 93156, '2020-05-12T00:00:00Z'],\n",
              " [190137, 13240, 78424, 98473, '2020-05-13T00:00:00Z'],\n",
              " [203165, 13999, 79479, 109687, '2020-05-14T00:00:00Z'],\n",
              " [220291, 14962, 84970, 120359, '2020-05-15T00:00:00Z'],\n",
              " [233511, 15662, 89672, 128177, '2020-05-16T00:00:00Z'],\n",
              " [241080, 16118, 94122, 130840, '2020-05-17T00:00:00Z'],\n",
              " [255368, 16853, 100459, 138056, '2020-05-18T00:00:00Z'],\n",
              " [271885, 17983, 106794, 147108, '2020-05-19T00:00:00Z'],\n",
              " [291579, 18859, 116683, 156037, '2020-05-20T00:00:00Z'],\n",
              " [310087, 20047, 125960, 164080, '2020-05-21T00:00:00Z'],\n",
              " [330890, 21048, 135430, 174412, '2020-05-22T00:00:00Z'],\n",
              " [347398, 22013, 142587, 182798, '2020-05-23T00:00:00Z'],\n",
              " [363211, 22666, 149911, 190634, '2020-05-24T00:00:00Z'],\n",
              " [374898, 23473, 153833, 197592, '2020-05-25T00:00:00Z'],\n",
              " [391222, 24512, 158593, 208117, '2020-05-26T00:00:00Z'],\n",
              " [411821, 25598, 166647, 219576, '2020-05-27T00:00:00Z'],\n",
              " [438238, 26754, 177604, 233880, '2020-05-28T00:00:00Z'],\n",
              " [465166, 27878, 189476, 247812, '2020-05-29T00:00:00Z'],\n",
              " [498440, 28834, 200892, 268714, '2020-05-30T00:00:00Z'],\n",
              " [514849, 29314, 206555, 278980, '2020-05-31T00:00:00Z'],\n",
              " [526447, 29937, 211080, 285430, '2020-06-01T00:00:00Z'],\n",
              " [555383, 31199, 223638, 300546, '2020-06-02T00:00:00Z'],\n",
              " [584016, 32548, 238617, 312851, '2020-06-03T00:00:00Z'],\n",
              " [614941, 34021, 254963, 325957, '2020-06-04T00:00:00Z'],\n",
              " [645771, 35026, 266940, 343805, '2020-06-05T00:00:00Z'],\n",
              " [672846, 35930, 277149, 359767, '2020-06-06T00:00:00Z'],\n",
              " [691758, 36455, 283952, 371351, '2020-06-07T00:00:00Z'],\n",
              " [707412, 37134, 378257, 292021, '2020-06-08T00:00:00Z'],\n",
              " [739503, 38406, 396737, 304360, '2020-06-09T00:00:00Z'],\n",
              " [772416, 39680, 413916, 318820, '2020-06-10T00:00:00Z'],\n",
              " [802828, 40919, 429965, 331944, '2020-06-11T00:00:00Z'],\n",
              " [828810, 41828, 445123, 341859, '2020-06-12T00:00:00Z'],\n",
              " [850514, 42720, 459436, 348358, '2020-06-13T00:00:00Z'],\n",
              " [867624, 43332, 469141, 355151, '2020-06-14T00:00:00Z'],\n",
              " [888271, 43959, 477709, 366603, '2020-06-15T00:00:00Z'],\n",
              " [923189, 45241, 490005, 387943, '2020-06-16T00:00:00Z'],\n",
              " [955377, 46510, 521046, 387821, '2020-06-17T00:00:00Z'],\n",
              " [978142, 47748, 534580, 395814, '2020-06-18T00:00:00Z'],\n",
              " [1032913, 48954, 551631, 432328, '2020-06-19T00:00:00Z'],\n",
              " [1067579, 49976, 576779, 440824, '2020-06-20T00:00:00Z'],\n",
              " [1083341, 50591, 588118, 444632, '2020-06-21T00:00:00Z'],\n",
              " [1106470, 51271, 601736, 453463, '2020-06-22T00:00:00Z'],\n",
              " [1145906, 52645, 627963, 465298, '2020-06-23T00:00:00Z'],\n",
              " [1188631, 53830, 660469, 474332, '2020-06-24T00:00:00Z'],\n",
              " [1228114, 54971, 679524, 493619, '2020-06-25T00:00:00Z'],\n",
              " [1274974, 55961, 702399, 516614, '2020-06-26T00:00:00Z'],\n",
              " [1313667, 57070, 727715, 528882, '2020-06-27T00:00:00Z'],\n",
              " [1344143, 57622, 746018, 540503, '2020-06-28T00:00:00Z'],\n",
              " [1368195, 58314, 757811, 552070, '2020-06-29T00:00:00Z'],\n",
              " [1402041, 59594, 788318, 554129, '2020-06-30T00:00:00Z'],\n",
              " [1448753, 60632, 817642, 570479, '2020-07-01T00:00:00Z'],\n",
              " [1496858, 61884, 957692, 477282, '2020-07-02T00:00:00Z'],\n",
              " [1539081, 63174, 984615, 491292, '2020-07-03T00:00:00Z'],\n",
              " [1577004, 64265, 990731, 522008, '2020-07-04T00:00:00Z'],\n",
              " [1603055, 64867, 1029045, 509143, '2020-07-05T00:00:00Z'],\n",
              " [1623284, 65487, 1062542, 495255, '2020-07-06T00:00:00Z'],\n",
              " [1668589, 66741, 1107012, 494836, '2020-07-07T00:00:00Z'],\n",
              " [1713160, 67964, 1139844, 505352, '2020-07-08T00:00:00Z'],\n",
              " [1755779, 69184, 1171447, 515148, '2020-07-09T00:00:00Z'],\n",
              " [1800827, 70398, 1217361, 513068, '2020-07-10T00:00:00Z'],\n",
              " [1839850, 71469, 1244088, 524293, '2020-07-11T00:00:00Z'],\n",
              " [1864681, 72100, 1264843, 527738, '2020-07-12T00:00:00Z'],\n",
              " [1884967, 72833, 1291251, 520883, '2020-07-13T00:00:00Z'],\n",
              " [1926824, 74133, 1323425, 529266, '2020-07-14T00:00:00Z'],\n",
              " [1966748, 75366, 1350098, 541284, '2020-07-15T00:00:00Z'],\n",
              " [2012151, 76688, 1397531, 537932, '2020-07-16T00:00:00Z'],\n",
              " [2046328, 77851, 1428520, 539957, '2020-07-17T00:00:00Z'],\n",
              " [2074860, 78772, 1447408, 548680, '2020-07-18T00:00:00Z'],\n",
              " [2098389, 79488, 1459072, 559829, '2020-07-19T00:00:00Z'],\n",
              " [2118646, 80120, 1514300, 524226, '2020-07-20T00:00:00Z'],\n",
              " [2159654, 81487, 1555339, 522828, '2020-07-21T00:00:00Z'],\n",
              " [2227514, 82771, 1591975, 552768, '2020-07-22T00:00:00Z'],\n",
              " [2287475, 84082, 1620313, 583080, '2020-07-23T00:00:00Z'],\n",
              " [2343366, 85238, 1693214, 564914, '2020-07-24T00:00:00Z'],\n",
              " [2394513, 86449, 1785359, 522705, '2020-07-25T00:00:00Z'],\n",
              " [2419091, 87004, 1812913, 519174, '2020-07-26T00:00:00Z'],\n",
              " [2442375, 87618, 1846641, 508116, '2020-07-27T00:00:00Z'],\n",
              " [2483191, 88539, 1868749, 525903, '2020-07-28T00:00:00Z'],\n",
              " [2552265, 90134, 1922802, 539329, '2020-07-29T00:00:00Z'],\n",
              " [2610102, 91263, 1956807, 562032, '2020-07-30T00:00:00Z'],\n",
              " [2662485, 92475, 2008854, 561156, '2020-07-31T00:00:00Z'],\n",
              " [2707877, 93563, 2037982, 576332, '2020-08-01T00:00:00Z'],\n",
              " [2733677, 94104, 2062876, 576697, '2020-08-02T00:00:00Z'],\n",
              " [2750318, 94665, 2098976, 556677, '2020-08-03T00:00:00Z'],\n",
              " [2801921, 95819, 2157484, 548618, '2020-08-04T00:00:00Z'],\n",
              " [2859073, 97256, 2190361, 571456, '2020-08-05T00:00:00Z'],\n",
              " [2912212, 98493, 2230542, 583177, '2020-08-06T00:00:00Z'],\n",
              " [2962442, 99572, 2272299, 590571, '2020-08-07T00:00:00Z'],\n",
              " [3012412, 100477, 2321537, 590398, '2020-08-08T00:00:00Z'],\n",
              " [3035422, 101049, 2356983, 577390, '2020-08-09T00:00:00Z'],\n",
              " [3057470, 101752, 2390830, 564888, '2020-08-10T00:00:00Z'],\n",
              " [3109630, 103026, 2449338, 557266, '2020-08-11T00:00:00Z'],\n",
              " [3164785, 104201, 2506228, 554356, '2020-08-12T00:00:00Z'],\n",
              " [3224876, 105463, 2521100, 598313, '2020-08-13T00:00:00Z'],\n",
              " [3275520, 106523, 2616981, 552016, '2020-08-14T00:00:00Z'],\n",
              " [3317096, 107232, 2622878, 586986, '2020-08-15T00:00:00Z'],\n",
              " [3340197, 107852, 2655017, 577328, '2020-08-16T00:00:00Z'],\n",
              " [3359570, 108536, 2699080, 551954, '2020-08-17T00:00:00Z'],\n",
              " [3407354, 109888, 2751246, 546220, '2020-08-18T00:00:00Z'],\n",
              " [3456652, 111100, 2801931, 543621, '2020-08-19T00:00:00Z'],\n",
              " [3501975, 112304, 2844318, 545353, '2020-08-20T00:00:00Z'],\n",
              " [3532330, 113358, 2855558, 563414, '2020-08-21T00:00:00Z'],\n",
              " [3582362, 114250, 2913966, 554146, '2020-08-22T00:00:00Z'],\n",
              " [3605783, 114744, 2947784, 543255, '2020-08-23T00:00:00Z'],\n",
              " [3622861, 115309, 2976256, 531296, '2020-08-24T00:00:00Z'],\n",
              " [3669995, 116580, 3032551, 520864, '2020-08-25T00:00:00Z'],\n",
              " [3717156, 117665, 3082447, 517044, '2020-08-26T00:00:00Z'],\n",
              " [3761391, 118649, 3122846, 519896, '2020-08-27T00:00:00Z'],\n",
              " [3804803, 119504, 3158783, 526516, '2020-08-28T00:00:00Z'],\n",
              " [3846153, 120262, 3202185, 523706, '2020-08-29T00:00:00Z'],\n",
              " [3862311, 120828, 3237615, 503868, '2020-08-30T00:00:00Z'],\n",
              " [3908272, 121381, 3268591, 518300, '2020-08-31T00:00:00Z'],\n",
              " [3950931, 122596, 3345240, 483095, '2020-09-01T00:00:00Z'],\n",
              " [3997865, 123780, 3387309, 486776, '2020-09-02T00:00:00Z'],\n",
              " [4041638, 124614, 3429435, 487589, '2020-09-03T00:00:00Z'],\n",
              " [4091801, 125502, 3464278, 502021, '2020-09-04T00:00:00Z'],\n",
              " [4123000, 126203, 3498999, 497798, '2020-09-05T00:00:00Z'],\n",
              " [4137521, 126650, 3522155, 488716, '2020-09-06T00:00:00Z'],\n",
              " [4147794, 126960, 3549201, 471633, '2020-09-07T00:00:00Z'],\n",
              " [4162073, 127464, 3572421, 462188, '2020-09-08T00:00:00Z'],\n",
              " [4197889, 128539, 3611632, 457718, '2020-09-09T00:00:00Z'],\n",
              " [4238446, 129522, 3657701, 451223, '2020-09-10T00:00:00Z'],\n",
              " [4282164, 130396, 3695158, 456610, '2020-09-11T00:00:00Z'],\n",
              " [4315687, 131210, 3723206, 461271, '2020-09-12T00:00:00Z'],\n",
              " [4330455, 131625, 3723206, 475624, '2020-09-13T00:00:00Z'],\n",
              " [4345610, 132006, 3770138, 443466, '2020-09-14T00:00:00Z'],\n",
              " [4382263, 133119, 3811505, 437639, '2020-09-15T00:00:00Z'],\n",
              " [4419083, 134106, 3845464, 439513, '2020-09-16T00:00:00Z'],\n",
              " [4455386, 134935, 3873934, 446517, '2020-09-17T00:00:00Z'],\n",
              " [4495183, 135793, 3897539, 461851, '2020-09-18T00:00:00Z'],\n",
              " [4528240, 136532, 3936893, 454815, '2020-09-19T00:00:00Z'],\n",
              " [4544629, 136895, 3963446, 444288, '2020-09-20T00:00:00Z'],\n",
              " [4558040, 137272, 3993432, 427336, '2020-09-21T00:00:00Z'],\n",
              " [4591364, 138105, 4016831, 436428, '2020-09-22T00:00:00Z'],\n",
              " [4591364, 138105, 4046827, 406432, '2020-09-23T00:00:00Z'],\n",
              " [4657702, 139808, 4102954, 414940, '2020-09-24T00:00:00Z'],\n",
              " [4689613, 140537, 4128490, 420586, '2020-09-25T00:00:00Z'],\n",
              " [4717991, 141406, 4153307, 423278, '2020-09-26T00:00:00Z'],\n",
              " [4732309, 141741, 4172711, 417857, '2020-09-27T00:00:00Z'],\n",
              " [4745464, 142058, 4197372, 406034, '2020-09-28T00:00:00Z'],\n",
              " [4777522, 142921, 4237152, 397449, '2020-09-29T00:00:00Z'],\n",
              " [4810935, 143952, 4274774, 392209, '2020-09-30T00:00:00Z'],\n",
              " [4847092, 144680, 4299659, 402753, '2020-10-01T00:00:00Z'],\n",
              " [4847092, 144680, 4299659, 402753, '2020-10-02T00:00:00Z'],\n",
              " [4906833, 145987, 4361108, 399738, '2020-10-03T00:00:00Z'],\n",
              " [4915289, 146352, 4375354, 393583, '2020-10-04T00:00:00Z'],\n",
              " [4927235, 146675, 4397882, 382678, '2020-10-05T00:00:00Z'],\n",
              " [4969141, 147494, 4430340, 391307, '2020-10-06T00:00:00Z'],\n",
              " [5000694, 148228, 4457172, 395294, '2020-10-07T00:00:00Z'],\n",
              " [5028444, 148957, 4488092, 391395, '2020-10-08T00:00:00Z'],\n",
              " [5055888, 149639, 4502854, 403395, '2020-10-09T00:00:00Z'],\n",
              " [5082637, 150198, 4502854, 429585, '2020-10-10T00:00:00Z'],\n",
              " [5094979, 150488, 4526393, 418098, '2020-10-11T00:00:00Z'],\n",
              " [5103408, 150689, 4526393, 426326, '2020-10-12T00:00:00Z'],\n",
              " [5113628, 150998, 4526393, 436237, '2020-10-13T00:00:00Z'],\n",
              " [5140863, 151747, 4526393, 462723, '2020-10-14T00:00:00Z'],\n",
              " [5169386, 152460, 4526393, 490533, '2020-10-15T00:00:00Z'],\n",
              " [5200300, 153214, 4526393, 520693, '2020-10-16T00:00:00Z'],\n",
              " [5224362, 153675, 4526393, 544294, '2020-10-17T00:00:00Z'],\n",
              " [5224362, 153675, 4526393, 544294, '2020-10-18T00:00:00Z'],\n",
              " [5250727, 154176, 4526393, 570158, '2020-10-19T00:00:00Z'],\n",
              " [5273954, 154837, 4526393, 592724, '2020-10-20T00:00:00Z'],\n",
              " [5298772, 155403, 4526393, 616976, '2020-10-21T00:00:00Z'],\n",
              " [5323630, 155900, 4526393, 641337, '2020-10-22T00:00:00Z'],\n",
              " [5353656, 156471, 4526393, 670792, '2020-10-23T00:00:00Z'],\n",
              " [5380635, 156903, 4526393, 697339, '2020-10-24T00:00:00Z'],\n",
              " [5394128, 157134, 4526393, 710601, '2020-10-25T00:00:00Z'],\n",
              " [5409854, 157397, 4526393, 726064, '2020-10-26T00:00:00Z'],\n",
              " [5439641, 157946, 4914733, 366962, '2020-10-27T00:00:00Z'],\n",
              " [5468270, 158456, 4947777, 362037, '2020-10-28T00:00:00Z'],\n",
              " [5494376, 158969, 4962574, 372833, '2020-10-29T00:00:00Z'],\n",
              " [5516658, 159477, 4987435, 369746, '2020-10-30T00:00:00Z'],\n",
              " [5535605, 159884, 5005161, 370560, '2020-10-31T00:00:00Z'],\n",
              " [5545705, 160074, 5022338, 363293, '2020-11-01T00:00:00Z'],\n",
              " [5554206, 160253, 5039438, 354515, '2020-11-02T00:00:00Z'],\n",
              " [5566049, 160496, 5060697, 344856, '2020-11-03T00:00:00Z'],\n",
              " [5590025, 161106, 5078162, 350757, '2020-11-04T00:00:00Z'],\n",
              " [5590025, 161106, 5078162, 350757, '2020-11-05T00:00:00Z'],\n",
              " [5631181, 162015, 5118156, 351010, '2020-11-06T00:00:00Z'],\n",
              " [5653561, 162269, 5138641, 352651, '2020-11-07T00:00:00Z'],\n",
              " [5664115, 162397, 5147172, 354546, '2020-11-08T00:00:00Z'],\n",
              " [5675032, 162628, 5163226, 349178, '2020-11-09T00:00:00Z'],\n",
              " [5699005, 162802, 5183970, 352233, '2020-11-10T00:00:00Z'],\n",
              " [5747660, 163368, 5222937, 361355, '2020-11-11T00:00:00Z'],\n",
              " [5781582, 164281, 5254457, 362844, '2020-11-12T00:00:00Z'],\n",
              " [5810652, 164737, 5274812, 371103, '2020-11-13T00:00:00Z'],\n",
              " [5848959, 165658, 5279452, 403849, '2020-11-14T00:00:00Z'],\n",
              " [5863093, 165798, 5279452, 417843, '2020-11-15T00:00:00Z'],\n",
              " [5876464, 166014, 5335498, 374952, '2020-11-16T00:00:00Z'],\n",
              " [5911758, 166699, 5358299, 386760, '2020-11-17T00:00:00Z'],\n",
              " [5945849, 167455, 5383385, 395009, '2020-11-18T00:00:00Z'],\n",
              " [5981767, 168061, 5406066, 407640, '2020-11-19T00:00:00Z'],\n",
              " [6020164, 168613, 5430896, 420655, '2020-11-20T00:00:00Z'],\n",
              " [6052786, 168989, 5437189, 446608, '2020-11-21T00:00:00Z'],\n",
              " [6071401, 169183, 5457973, 444245, '2020-11-22T00:00:00Z'],\n",
              " [6087608, 169485, 5481184, 436939, '2020-11-23T00:00:00Z'],\n",
              " [6118708, 170115, 5509645, 438948, '2020-11-24T00:00:00Z'],\n",
              " [6166606, 170769, 5534010, 461827, '2020-11-25T00:00:00Z'],\n",
              " [6204220, 171460, 5556887, 475873, '2020-11-26T00:00:00Z'],\n",
              " [6238350, 171974, 5581436, 484940, '2020-11-27T00:00:00Z'],\n",
              " [6290272, 172561, 5581436, 536275, '2020-11-28T00:00:00Z'],\n",
              " [6314740, 172833, 5581436, 560471, '2020-11-29T00:00:00Z'],\n",
              " [6335878, 173120, 5597802, 564956, '2020-11-30T00:00:00Z'],\n",
              " [6386787, 173817, 5712305, 500665, '2020-12-01T00:00:00Z'],\n",
              " [6436650, 174515, 5759294, 502841, '2020-12-02T00:00:00Z'],\n",
              " [6487084, 175270, 5792539, 519275, '2020-12-03T00:00:00Z'],\n",
              " [6533968, 175964, 5825745, 532259, '2020-12-04T00:00:00Z'],\n",
              " [6577177, 176628, 5864838, 535711, '2020-12-05T00:00:00Z'],\n",
              " [6603540, 176941, 5866657, 559942, '2020-12-06T00:00:00Z'],\n",
              " [6623911, 177317, 5897526, 549068, '2020-12-07T00:00:00Z'],\n",
              " [6674999, 178159, 5965492, 531348, '2020-12-08T00:00:00Z'],\n",
              " [6728452, 178995, 5966118, 583339, '2020-12-09T00:00:00Z'],\n",
              " [6781799, 179765, 6043219, 558815, '2020-12-10T00:00:00Z'],\n",
              " [6836227, 180437, 6078287, 577503, '2020-12-11T00:00:00Z'],\n",
              " [6880127, 181123, 6078287, 620717, '2020-12-12T00:00:00Z'],\n",
              " [6901952, 181402, 6138349, 582201, '2020-12-13T00:00:00Z'],\n",
              " [6927145, 181835, 6158049, 587261, '2020-12-14T00:00:00Z'],\n",
              " [6970034, 182799, 6206483, 580752, '2020-12-15T00:00:00Z'],\n",
              " [7040608, 183735, 6239192, 617681, '2020-12-16T00:00:00Z'],\n",
              " [7110434, 184827, 6301547, 624060, '2020-12-17T00:00:00Z'],\n",
              " [7162978, 185650, 6322955, 654373, '2020-12-18T00:00:00Z'],\n",
              " [7213155, 186356, 6388938, 637861, '2020-12-19T00:00:00Z'],\n",
              " [7238600, 186764, 6408517, 643319, '2020-12-20T00:00:00Z'],\n",
              " [7263619, 187291, 6469310, 607018, '2020-12-21T00:00:00Z'],\n",
              " [7318821, 188259, 6501341, 629221, '2020-12-22T00:00:00Z'],\n",
              " [7365517, 189220, 6512717, 663580, '2020-12-23T00:00:00Z'],\n",
              " [7423945, 189982, 6512717, 721246, '2020-12-24T00:00:00Z'],\n",
              " [7448560, 190488, 6512717, 745355, '2020-12-25T00:00:00Z'],\n",
              " [7465806, 190795, 6654189, 620822, '2020-12-26T00:00:00Z'],\n",
              " [7484285, 191139, 6677235, 615911, '2020-12-27T00:00:00Z'],\n",
              " [7504833, 191570, 6712757, 600506, '2020-12-28T00:00:00Z'],\n",
              " [7563551, 192681, 6754111, 616759, '2020-12-29T00:00:00Z'],\n",
              " [7619200, 193875, 6814092, 611233, '2020-12-30T00:00:00Z'],\n",
              " [7675973, 194949, 6848844, 632180, '2020-12-31T00:00:00Z'],\n",
              " [7700578, 195411, 6855372, 649795, '2021-01-01T00:00:00Z'],\n",
              " [7716405, 195725, 6893256, 627424, '2021-01-02T00:00:00Z'],\n",
              " [7733746, 196018, 6904172, 633556, '2021-01-03T00:00:00Z'],\n",
              " [7753752, 196561, 6950045, 607146, '2021-01-04T00:00:00Z'],\n",
              " [7810400, 197732, 6994845, 617823, '2021-01-05T00:00:00Z'],\n",
              " [7873830, 198974, 7033286, 641570, '2021-01-06T00:00:00Z'],\n",
              " [7961673, 200498, 7081521, 679654, '2021-01-07T00:00:00Z'],\n",
              " [8013708, 201460, 7136817, 675431, '2021-01-08T00:00:00Z'],\n",
              " [8075998, 202631, 7205410, 667957, '2021-01-09T00:00:00Z'],\n",
              " [8105790, 203100, 7231336, 671354, '2021-01-10T00:00:00Z'],\n",
              " [8131612, 203580, 7273237, 654795, '2021-01-11T00:00:00Z'],\n",
              " [8195637, 204690, 7284945, 706002, '2021-01-12T00:00:00Z'],\n",
              " [8256536, 205964, 7347080, 703492, '2021-01-13T00:00:00Z'],\n",
              " [8324294, 207095, 7394739, 722460, '2021-01-14T00:00:00Z'],\n",
              " [8393492, 208246, 7438075, 747171, '2021-01-15T00:00:00Z'],\n",
              " [8455059, 209296, 7485823, 759940, '2021-01-16T00:00:00Z'],\n",
              " [8488099, 209847, 7509009, 769243, '2021-01-17T00:00:00Z'],\n",
              " [8511770, 210299, 7560460, 741011, '2021-01-18T00:00:00Z'],\n",
              " [8573864, 211491, 7618080, 744293, '2021-01-19T00:00:00Z'],\n",
              " [8638249, 212831, 7618080, 807338, '2021-01-20T00:00:00Z'],\n",
              " [8697368, 214147, 7673092, 810129, '2021-01-21T00:00:00Z'],\n",
              " [8753920, 215243, 7746910, 791767, '2021-01-22T00:00:00Z'],\n",
              " [8816254, 216445, 7775928, 823881, '2021-01-23T00:00:00Z'],\n",
              " [8844577, 217037, 7821376, 806164, '2021-01-24T00:00:00Z'],\n",
              " [8871393, 217664, 7864969, 788760, '2021-01-25T00:00:00Z'],\n",
              " [8933356, 218878, 7896290, 818188, '2021-01-26T00:00:00Z'],\n",
              " [8996876, 220161, 7964176, 812539, '2021-01-27T00:00:00Z'],\n",
              " [9058687, 221547, 7979513, 857627, '2021-01-28T00:00:00Z'],\n",
              " [9118513, 222666, 8066603, 829244, '2021-01-29T00:00:00Z'],\n",
              " [9176975, 223945, 8148671, 804359, '2021-01-30T00:00:00Z'],\n",
              " [9204731, 224504, 8176373, 803854, '2021-01-31T00:00:00Z'],\n",
              " [9229322, 225099, 8202354, 801869, '2021-02-01T00:00:00Z'],\n",
              " [9283418, 226309, 8258074, 799035, '2021-02-02T00:00:00Z'],\n",
              " [9339420, 227563, 8311881, 799976, '2021-02-03T00:00:00Z'],\n",
              " [9396293, 228795, 8366197, 801301, '2021-02-04T00:00:00Z'],\n",
              " [9447165, 230034, 8396148, 820983, '2021-02-05T00:00:00Z'],\n",
              " [9447165, 230034, 8428992, 788139, '2021-02-06T00:00:00Z'],\n",
              " [9524640, 231534, 8467982, 825124, '2021-02-07T00:00:00Z'],\n",
              " [9524640, 231534, 8478818, 814288, '2021-02-08T00:00:00Z'],\n",
              " [9599565, 233520, 8577207, 788838, '2021-02-09T00:00:00Z'],\n",
              " [9659167, 234850, 8616282, 808035, '2021-02-10T00:00:00Z'],\n",
              " [9713909, 236201, 8637050, 840658, '2021-02-11T00:00:00Z'],\n",
              " [9765455, 237489, 8691664, 836302, '2021-02-12T00:00:00Z'],\n",
              " [9809754, 238532, 8740445, 830777, '2021-02-13T00:00:00Z'],\n",
              " [9834513, 239245, 8765048, 830220, '2021-02-14T00:00:00Z'],\n",
              " [9866710, 239773, 8821887, 805050, '2021-02-15T00:00:00Z'],\n",
              " [9921981, 240940, 8847264, 833777, '2021-02-16T00:00:00Z'],\n",
              " [9978747, 242090, 8933402, 803255, '2021-02-17T00:00:00Z'],\n",
              " [10030626, 243457, 8960755, 826414, '2021-02-18T00:00:00Z'],\n",
              " [10084208, 244737, 8988618, 850853, '2021-02-19T00:00:00Z'],\n",
              " [10139148, 245977, 9070505, 822666, '2021-02-20T00:00:00Z'],\n",
              " [10168174, 246504, 9095692, 825978, '2021-02-21T00:00:00Z'],\n",
              " [10195160, 247143, 9108205, 839812, '2021-02-22T00:00:00Z'],\n",
              " [10257875, 248529, 9189903, 819443, '2021-02-23T00:00:00Z'],\n",
              " [10324463, 249957, 9214337, 860169, '2021-02-24T00:00:00Z'],\n",
              " [10390461, 251498, 9264696, 874267, '2021-02-25T00:00:00Z'],\n",
              " [10455630, 252835, 9309568, 893227, '2021-02-26T00:00:00Z'],\n",
              " [10517232, 254221, 9371448, 891563, '2021-02-27T00:00:00Z'],\n",
              " [10551259, 254942, 9382316, 914001, '2021-02-28T00:00:00Z'],\n",
              " [10587001, 255720, 9437611, 893670, '2021-03-01T00:00:00Z'],\n",
              " [10646926, 257361, 9506251, 883314, '2021-03-02T00:00:00Z'],\n",
              " [10718630, 259271, 9548315, 911044, '2021-03-03T00:00:00Z'],\n",
              " [10793732, 260970, 9605870, 926892, '2021-03-04T00:00:00Z'],\n",
              " [10869227, 262770, 9647550, 958907, '2021-03-05T00:00:00Z'],\n",
              " [10938836, 264325, 9686024, 988487, '2021-03-06T00:00:00Z'],\n",
              " [11019344, 265411, 9739464, 10753933, '2021-03-07T00:00:00Z'],\n",
              " [11051665, 266398, 9826292, 958975, '2021-03-08T00:00:00Z'],\n",
              " [11122429, 268370, 9878566, 975493, '2021-03-09T00:00:00Z'],\n",
              " [11202305, 270656, 9921994, 1009655, '2021-03-10T00:00:00Z'],\n",
              " [11277717, 272889, 9983656, 1021172, '2021-03-11T00:00:00Z'],\n",
              " [11363380, 275105, 10041024, 1047251, '2021-03-12T00:00:00Z'],\n",
              " [11439558, 277102, 10084820, 1077636, '2021-03-13T00:00:00Z'],\n",
              " [11483370, 278229, 10113487, 1091654, '2021-03-14T00:00:00Z'],\n",
              " [11519609, 279286, 10195598, 1044725, '2021-03-15T00:00:00Z'],\n",
              " [11603535, 282127, 10261154, 1060254, '2021-03-16T00:00:00Z'],\n",
              " [11693838, 284775, 10326375, 1082688, '2021-03-17T00:00:00Z'],\n",
              " [11780820, 287499, 10383496, 1109825, '2021-03-18T00:00:00Z'],\n",
              " [11871390, 290314, 10435864, 1145212, '2021-03-19T00:00:00Z'],\n",
              " [11950459, 292752, 10476123, 1181584, '2021-03-20T00:00:00Z'],\n",
              " [11998233, 294042, 10509457, 1194734, '2021-03-21T00:00:00Z'],\n",
              " [12047526, 295425, 10611595, 1140506, '2021-03-22T00:00:00Z'],\n",
              " [12130019, 298676, 10665161, 1166182, '2021-03-23T00:00:00Z'],\n",
              " [12220011, 300685, 10750131, 1169195, '2021-03-24T00:00:00Z'],\n",
              " [12320169, 303462, 10808499, 1208208, '2021-03-25T00:00:00Z'],\n",
              " [12404414, 307112, 10886792, 1210510, '2021-03-26T00:00:00Z'],\n",
              " [12490362, 310550, 10948382, 1231430, '2021-03-27T00:00:00Z'],\n",
              " [12534688, 312206, 11004281, 1218201, '2021-03-28T00:00:00Z'],\n",
              " [12573615, 313866, 11022192, 1237557, '2021-03-29T00:00:00Z'],\n",
              " [12658109, 317646, 11085369, 1255094, '2021-03-30T00:00:00Z'],\n",
              " [12748747, 321515, 11181371, 1245861, '2021-03-31T00:00:00Z'],\n",
              " [12839844, 325284, 11240213, 1274347, '2021-04-01T00:00:00Z'],\n",
              " [12910082, 328206, 11277632, 1304244, '2021-04-02T00:00:00Z'],\n",
              " [12953597, 330193, 11327510, 1295894, '2021-04-03T00:00:00Z'],\n",
              " [12984956, 331433, 11343607, 1309916, '2021-04-04T00:00:00Z'],\n",
              " [13013601, 332752, 11405558, 1275291, '2021-04-05T00:00:00Z'],\n",
              " [13100580, 336947, 11459548, 1304085, '2021-04-06T00:00:00Z'],\n",
              " [13193205, 340776, 11592159, 1260270, '2021-04-07T00:00:00Z'],\n",
              " [13279857, 345025, 11668734, 1266098, '2021-04-08T00:00:00Z'],\n",
              " [13373174, 348718, 11722181, 1302275, '2021-04-09T00:00:00Z'],\n",
              " [13445006, 351334, 11739649, 1354023, '2021-04-10T00:00:00Z'],\n",
              " [13482023, 353137, 11878958, 1249928, '2021-04-11T00:00:00Z'],\n",
              " [13517808, 354617, 11892229, 1270962, '2021-04-12T00:00:00Z'],\n",
              " [13599994, 358425, 11975121, 1266448, '2021-04-13T00:00:00Z'],\n",
              " [13673507, 361884, 12033880, 1277743, '2021-04-14T00:00:00Z'],\n",
              " [13746681, 365444, 12084851, 1296386, '2021-04-15T00:00:00Z'],\n",
              " [13832455, 368749, 12163831, 1299875, '2021-04-16T00:00:00Z'],\n",
              " [13900091, 371678, 12212890, 1315523, '2021-04-17T00:00:00Z'],\n",
              " [13943071, 373335, 12303538, 1266198, '2021-04-18T00:00:00Z'],\n",
              " [13973695, 374682, 12346828, 1252185, '2021-04-19T00:00:00Z'],\n",
              " [14043076, 378003, 12425791, 1239282, '2021-04-20T00:00:00Z'],\n",
              " [14122795, 381475, 12436210, 1305110, '2021-04-21T00:00:00Z'],\n",
              " [14167973, 383502, 12530970, 1253501, '2021-04-22T00:00:00Z'],\n",
              " [14237078, 386416, 12586272, 1264390, '2021-04-23T00:00:00Z'],\n",
              " [14308215, 389492, 12606011, 1312712, '2021-04-24T00:00:00Z'],\n",
              " [14340787, 390797, 12614559, 1335431, '2021-04-25T00:00:00Z'],\n",
              " [14369423, 391936, 12707500, 1269987, '2021-04-26T00:00:00Z'],\n",
              " [14441563, 395022, 12815119, 1231422, '2021-04-27T00:00:00Z'],\n",
              " [14521289, 398185, 12849663, 1273441, '2021-04-28T00:00:00Z'],\n",
              " [14590678, 401186, 12942081, 1247411, '2021-04-29T00:00:00Z'],\n",
              " [14659011, 403781, 12991951, 1263279, '2021-04-30T00:00:00Z'],\n",
              " [14725975, 406437, 13023892, 1295646, '2021-05-01T00:00:00Z'],\n",
              " [14754910, 407639, 13083550, 1263721, '2021-05-02T00:00:00Z'],\n",
              " [14779529, 408622, 13135143, 1235764, '2021-05-03T00:00:00Z'],\n",
              " [14856888, 411588, 13170561, 1274739, '2021-05-04T00:00:00Z'],\n",
              " [14930183, 414399, 13254660, 1261124, '2021-05-05T00:00:00Z'],\n",
              " [15003563, 416949, 13285589, 1301025, '2021-05-06T00:00:00Z'],\n",
              " [15082449, 419114, 13400075, 1263260, '2021-05-07T00:00:00Z'],\n",
              " [15145879, 421316, 13422047, 1302516, '2021-05-08T00:00:00Z'],\n",
              " [15184790, 422340, 13457400, 1305050, '2021-05-09T00:00:00Z'],\n",
              " [15209990, 423229, 13481062, 1305699, '2021-05-10T00:00:00Z'],\n",
              " [15282705, 425540, 13592463, 1264702, '2021-05-11T00:00:00Z'],\n",
              " [15359397, 428034, 13622419, 1308944, '2021-05-12T00:00:00Z'],\n",
              " [15433989, 430417, 13662690, 1340882, '2021-05-13T00:00:00Z'],\n",
              " [15519525, 432628, 13703280, 1383617, '2021-05-14T00:00:00Z'],\n",
              " [15586534, 434715, 13710822, 1440997, '2021-05-15T00:00:00Z'],\n",
              " [15627243, 435751, 13764520, 1426972, '2021-05-16T00:00:00Z'],\n",
              " [15657391, 436537, 13856731, 1364123, '2021-05-17T00:00:00Z'],\n",
              " [15732836, 439050, 13957814, 1335972, '2021-05-18T00:00:00Z'],\n",
              " [15812055, 441691, 14043766, 1326598, '2021-05-19T00:00:00Z'],\n",
              " [15894094, 444094, 14080089, 1369911, '2021-05-20T00:00:00Z'],\n",
              " [15970949, 446309, 14103800, 1420840, '2021-05-21T00:00:00Z'],\n",
              " [16047439, 448208, 14132443, 1466788, '2021-05-22T00:00:00Z'],\n",
              " [16083258, 449068, 14132443, 1501747, '2021-05-23T00:00:00Z'],\n",
              " [16120756, 449858, 14190644, 1480254, '2021-05-24T00:00:00Z'],\n",
              " [16194209, 452031, 14231991, 1510187, '2021-05-25T00:00:00Z'],\n",
              " [16274695, 454429, 14272174, 1548092, '2021-05-26T00:00:00Z'],\n",
              " [16342162, 456674, 14455810, 1429678, '2021-05-27T00:00:00Z'],\n",
              " [16391930, 459045, 14492701, 1440184, '2021-05-28T00:00:00Z'],\n",
              " [16471600, 461057, 14496224, 1514319, '2021-05-29T00:00:00Z'],\n",
              " [16515120, 461931, 14540507, 1512682, '2021-05-30T00:00:00Z'],\n",
              " [16545554, 462791, 14586009, 1496754, '2021-05-31T00:00:00Z'],\n",
              " [16624480, 465199, 14694950, 1464331, '2021-06-01T00:00:00Z'],\n",
              " [16720081, 467706, 14763694, 1488681, '2021-06-02T00:00:00Z'],\n",
              " [16803472, 469388, 14763694, 1570390, '2021-06-03T00:00:00Z'],\n",
              " [16841408, 470842, 14868994, 1501572, '2021-06-04T00:00:00Z'],\n",
              " [16907425, 472531, 14944069, 1490825, '2021-06-05T00:00:00Z'],\n",
              " [16947062, 473404, 15000718, 1472940, '2021-06-06T00:00:00Z'],\n",
              " [16984218, 474414, 15019797, 1490007, '2021-06-07T00:00:00Z'],\n",
              " [17037129, 476792, 15055747, 1504590, '2021-06-08T00:00:00Z'],\n",
              " [17122877, 479515, 15154101, 1489261, '2021-06-09T00:00:00Z'],\n",
              " [17210969, 482019, 15211176, 1517774, '2021-06-10T00:00:00Z'],\n",
              " [17296118, 484235, 15260459, 1551424, '2021-06-11T00:00:00Z'],\n",
              " [17374818, 486272, 15271120, 1617426, '2021-06-12T00:00:00Z'],\n",
              " [17412766, 487401, 15400169, 1525196, '2021-06-13T00:00:00Z'],\n",
              " [17452612, 488228, 15421397, 1542987, '2021-06-14T00:00:00Z'],\n",
              " [17533221, 490696, 15519955, 1522570, '2021-06-15T00:00:00Z'],\n",
              " [17628588, 493693, 15569556, 1565339, '2021-06-16T00:00:00Z'],\n",
              " [17702630, 496004, 15660614, 1546012, '2021-06-17T00:00:00Z'],\n",
              " [17801462, 498499, 15687189, 1615774, '2021-06-18T00:00:00Z'],\n",
              " [17883750, 500800, 15745463, 1637487, '2021-06-19T00:00:00Z'],\n",
              " [17927928, 501825, 15745463, 1680640, '2021-06-20T00:00:00Z'],\n",
              " [17966831, 502586, 15819764, 1644481, '2021-06-21T00:00:00Z'],\n",
              " [18054653, 504717, 15862096, 1687840, '2021-06-22T00:00:00Z'],\n",
              " [18169881, 507109, 16008271, 1654501, '2021-06-23T00:00:00Z'],\n",
              " [18243483, 509141, 16038230, 1696112, '2021-06-24T00:00:00Z'],\n",
              " [18322760, 511142, 16097711, 1713907, '2021-06-25T00:00:00Z'],\n",
              " [18386894, 512735, 16146608, 1727551, '2021-06-26T00:00:00Z'],\n",
              " [18420598, 513474, 16160826, 1746298, '2021-06-27T00:00:00Z'],\n",
              " [18448402, 514092, 16240380, 1693930, '2021-06-28T00:00:00Z'],\n",
              " [18513305, 515985, 16277785, 1719535, '2021-06-29T00:00:00Z'],\n",
              " [18557141, 518066, 16299258, 1739817, '2021-06-30T00:00:00Z'],\n",
              " [18622304, 520095, 16477253, 1624956, '2021-07-01T00:00:00Z'],\n",
              " [18687469, 521952, 16509821, 1655696, '2021-07-02T00:00:00Z'],\n",
              " [18742025, 523587, 16524100, 1694338, '2021-07-03T00:00:00Z'],\n",
              " [18769808, 524417, 16582483, 1662908, '2021-07-04T00:00:00Z']]"
            ]
          },
          "metadata": {
            "tags": []
          },
          "execution_count": 8
        }
      ]
    },
    {
      "cell_type": "code",
      "metadata": {
        "id": "CHm3ZYEcbgZl"
      },
      "source": [
        "# referenciando variáveis com valor constante para facilitar o tratamento dos dados\n",
        "CONFIRMADOS = 0\n",
        "OBITOS = 1\n",
        "RECUPERADOS = 2\n",
        "ATIVOS = 3\n",
        "DATA = 4"
      ],
      "execution_count": 9,
      "outputs": []
    },
    {
      "cell_type": "code",
      "metadata": {
        "id": "Gj_g7DuzbgX2"
      },
      "source": [
        "# realizando um \"for\" para tratar o formato da data\n",
        "for i in range(1, len(final_data)):\n",
        "  final_data[i][DATA] = final_data[i][DATA][:10]"
      ],
      "execution_count": 10,
      "outputs": []
    },
    {
      "cell_type": "code",
      "metadata": {
        "colab": {
          "base_uri": "https://localhost:8080/"
        },
        "id": "kDdGHSUmbgUR",
        "outputId": "0d956a3d-9fbe-4681-8e5e-3a8aefce0484"
      },
      "source": [
        "# visualizando nossa seleção depois de formatar a feature \"data\"\n",
        "final_data"
      ],
      "execution_count": 11,
      "outputs": [
        {
          "output_type": "execute_result",
          "data": {
            "text/plain": [
              "[['confirmados', 'obitos', 'recuperados', 'ativos', 'data'],\n",
              " [1, 0, 0, 1, '2020-02-26'],\n",
              " [1, 0, 0, 1, '2020-02-27'],\n",
              " [1, 0, 0, 1, '2020-02-28'],\n",
              " [2, 0, 0, 2, '2020-02-29'],\n",
              " [2, 0, 0, 2, '2020-03-01'],\n",
              " [2, 0, 0, 2, '2020-03-02'],\n",
              " [2, 0, 0, 2, '2020-03-03'],\n",
              " [4, 0, 0, 4, '2020-03-04'],\n",
              " [4, 0, 0, 4, '2020-03-05'],\n",
              " [13, 0, 0, 13, '2020-03-06'],\n",
              " [13, 0, 0, 13, '2020-03-07'],\n",
              " [20, 0, 0, 20, '2020-03-08'],\n",
              " [25, 0, 0, 25, '2020-03-09'],\n",
              " [31, 0, 0, 31, '2020-03-10'],\n",
              " [38, 0, 0, 38, '2020-03-11'],\n",
              " [52, 0, 0, 52, '2020-03-12'],\n",
              " [151, 0, 0, 151, '2020-03-13'],\n",
              " [151, 0, 0, 151, '2020-03-14'],\n",
              " [162, 0, 0, 162, '2020-03-15'],\n",
              " [200, 0, 1, 199, '2020-03-16'],\n",
              " [321, 1, 2, 318, '2020-03-17'],\n",
              " [372, 3, 2, 367, '2020-03-18'],\n",
              " [621, 6, 2, 613, '2020-03-19'],\n",
              " [793, 11, 2, 780, '2020-03-20'],\n",
              " [1021, 15, 2, 1004, '2020-03-21'],\n",
              " [1546, 25, 2, 1519, '2020-03-22'],\n",
              " [1924, 34, 2, 1888, '2020-03-23'],\n",
              " [2247, 46, 2, 2199, '2020-03-24'],\n",
              " [2554, 59, 2, 2493, '2020-03-25'],\n",
              " [2985, 77, 6, 2902, '2020-03-26'],\n",
              " [3417, 92, 6, 3319, '2020-03-27'],\n",
              " [3904, 111, 6, 3787, '2020-03-28'],\n",
              " [4256, 136, 6, 4114, '2020-03-29'],\n",
              " [4579, 159, 120, 4300, '2020-03-30'],\n",
              " [5717, 201, 127, 5389, '2020-03-31'],\n",
              " [6836, 240, 127, 6469, '2020-04-01'],\n",
              " [8044, 324, 127, 7593, '2020-04-02'],\n",
              " [9056, 359, 127, 8570, '2020-04-03'],\n",
              " [10360, 445, 127, 9788, '2020-04-04'],\n",
              " [11130, 486, 127, 10517, '2020-04-05'],\n",
              " [12161, 564, 127, 11470, '2020-04-06'],\n",
              " [14034, 686, 127, 13221, '2020-04-07'],\n",
              " [16170, 819, 127, 15224, '2020-04-08'],\n",
              " [18092, 950, 173, 16969, '2020-04-09'],\n",
              " [19638, 1057, 173, 18408, '2020-04-10'],\n",
              " [20727, 1124, 173, 19430, '2020-04-11'],\n",
              " [22192, 1223, 173, 20796, '2020-04-12'],\n",
              " [23430, 1328, 173, 21929, '2020-04-13'],\n",
              " [25262, 1532, 3046, 20684, '2020-04-14'],\n",
              " [28320, 1736, 14026, 12558, '2020-04-15'],\n",
              " [30425, 1924, 14026, 14475, '2020-04-16'],\n",
              " [33682, 2141, 14026, 17515, '2020-04-17'],\n",
              " [36658, 2354, 14026, 20278, '2020-04-18'],\n",
              " [38654, 2462, 22130, 14062, '2020-04-19'],\n",
              " [40743, 2587, 22130, 16026, '2020-04-20'],\n",
              " [43079, 2741, 22991, 17347, '2020-04-21'],\n",
              " [45757, 2906, 25318, 17533, '2020-04-22'],\n",
              " [50036, 3331, 26573, 20132, '2020-04-23'],\n",
              " [54043, 3704, 27655, 22684, '2020-04-24'],\n",
              " [59324, 4057, 29160, 26107, '2020-04-25'],\n",
              " [63100, 4286, 30152, 28662, '2020-04-26'],\n",
              " [67446, 4603, 31142, 31701, '2020-04-27'],\n",
              " [73235, 5083, 32544, 35608, '2020-04-28'],\n",
              " [79685, 5513, 34132, 40040, '2020-04-29'],\n",
              " [87187, 6006, 35935, 45246, '2020-04-30'],\n",
              " [92202, 6412, 38039, 47751, '2020-05-01'],\n",
              " [97100, 6761, 40937, 49402, '2020-05-02'],\n",
              " [101826, 7051, 42991, 51784, '2020-05-03'],\n",
              " [108620, 7367, 45815, 55438, '2020-05-04'],\n",
              " [115455, 7938, 48221, 59296, '2020-05-05'],\n",
              " [126611, 8588, 51370, 66653, '2020-05-06'],\n",
              " [135773, 9190, 55350, 71233, '2020-05-07'],\n",
              " [146894, 10017, 59297, 77580, '2020-05-08'],\n",
              " [156061, 10656, 61685, 83720, '2020-05-09'],\n",
              " [162699, 11123, 64957, 86619, '2020-05-10'],\n",
              " [169594, 11653, 67384, 90557, '2020-05-11'],\n",
              " [178214, 12461, 72597, 93156, '2020-05-12'],\n",
              " [190137, 13240, 78424, 98473, '2020-05-13'],\n",
              " [203165, 13999, 79479, 109687, '2020-05-14'],\n",
              " [220291, 14962, 84970, 120359, '2020-05-15'],\n",
              " [233511, 15662, 89672, 128177, '2020-05-16'],\n",
              " [241080, 16118, 94122, 130840, '2020-05-17'],\n",
              " [255368, 16853, 100459, 138056, '2020-05-18'],\n",
              " [271885, 17983, 106794, 147108, '2020-05-19'],\n",
              " [291579, 18859, 116683, 156037, '2020-05-20'],\n",
              " [310087, 20047, 125960, 164080, '2020-05-21'],\n",
              " [330890, 21048, 135430, 174412, '2020-05-22'],\n",
              " [347398, 22013, 142587, 182798, '2020-05-23'],\n",
              " [363211, 22666, 149911, 190634, '2020-05-24'],\n",
              " [374898, 23473, 153833, 197592, '2020-05-25'],\n",
              " [391222, 24512, 158593, 208117, '2020-05-26'],\n",
              " [411821, 25598, 166647, 219576, '2020-05-27'],\n",
              " [438238, 26754, 177604, 233880, '2020-05-28'],\n",
              " [465166, 27878, 189476, 247812, '2020-05-29'],\n",
              " [498440, 28834, 200892, 268714, '2020-05-30'],\n",
              " [514849, 29314, 206555, 278980, '2020-05-31'],\n",
              " [526447, 29937, 211080, 285430, '2020-06-01'],\n",
              " [555383, 31199, 223638, 300546, '2020-06-02'],\n",
              " [584016, 32548, 238617, 312851, '2020-06-03'],\n",
              " [614941, 34021, 254963, 325957, '2020-06-04'],\n",
              " [645771, 35026, 266940, 343805, '2020-06-05'],\n",
              " [672846, 35930, 277149, 359767, '2020-06-06'],\n",
              " [691758, 36455, 283952, 371351, '2020-06-07'],\n",
              " [707412, 37134, 378257, 292021, '2020-06-08'],\n",
              " [739503, 38406, 396737, 304360, '2020-06-09'],\n",
              " [772416, 39680, 413916, 318820, '2020-06-10'],\n",
              " [802828, 40919, 429965, 331944, '2020-06-11'],\n",
              " [828810, 41828, 445123, 341859, '2020-06-12'],\n",
              " [850514, 42720, 459436, 348358, '2020-06-13'],\n",
              " [867624, 43332, 469141, 355151, '2020-06-14'],\n",
              " [888271, 43959, 477709, 366603, '2020-06-15'],\n",
              " [923189, 45241, 490005, 387943, '2020-06-16'],\n",
              " [955377, 46510, 521046, 387821, '2020-06-17'],\n",
              " [978142, 47748, 534580, 395814, '2020-06-18'],\n",
              " [1032913, 48954, 551631, 432328, '2020-06-19'],\n",
              " [1067579, 49976, 576779, 440824, '2020-06-20'],\n",
              " [1083341, 50591, 588118, 444632, '2020-06-21'],\n",
              " [1106470, 51271, 601736, 453463, '2020-06-22'],\n",
              " [1145906, 52645, 627963, 465298, '2020-06-23'],\n",
              " [1188631, 53830, 660469, 474332, '2020-06-24'],\n",
              " [1228114, 54971, 679524, 493619, '2020-06-25'],\n",
              " [1274974, 55961, 702399, 516614, '2020-06-26'],\n",
              " [1313667, 57070, 727715, 528882, '2020-06-27'],\n",
              " [1344143, 57622, 746018, 540503, '2020-06-28'],\n",
              " [1368195, 58314, 757811, 552070, '2020-06-29'],\n",
              " [1402041, 59594, 788318, 554129, '2020-06-30'],\n",
              " [1448753, 60632, 817642, 570479, '2020-07-01'],\n",
              " [1496858, 61884, 957692, 477282, '2020-07-02'],\n",
              " [1539081, 63174, 984615, 491292, '2020-07-03'],\n",
              " [1577004, 64265, 990731, 522008, '2020-07-04'],\n",
              " [1603055, 64867, 1029045, 509143, '2020-07-05'],\n",
              " [1623284, 65487, 1062542, 495255, '2020-07-06'],\n",
              " [1668589, 66741, 1107012, 494836, '2020-07-07'],\n",
              " [1713160, 67964, 1139844, 505352, '2020-07-08'],\n",
              " [1755779, 69184, 1171447, 515148, '2020-07-09'],\n",
              " [1800827, 70398, 1217361, 513068, '2020-07-10'],\n",
              " [1839850, 71469, 1244088, 524293, '2020-07-11'],\n",
              " [1864681, 72100, 1264843, 527738, '2020-07-12'],\n",
              " [1884967, 72833, 1291251, 520883, '2020-07-13'],\n",
              " [1926824, 74133, 1323425, 529266, '2020-07-14'],\n",
              " [1966748, 75366, 1350098, 541284, '2020-07-15'],\n",
              " [2012151, 76688, 1397531, 537932, '2020-07-16'],\n",
              " [2046328, 77851, 1428520, 539957, '2020-07-17'],\n",
              " [2074860, 78772, 1447408, 548680, '2020-07-18'],\n",
              " [2098389, 79488, 1459072, 559829, '2020-07-19'],\n",
              " [2118646, 80120, 1514300, 524226, '2020-07-20'],\n",
              " [2159654, 81487, 1555339, 522828, '2020-07-21'],\n",
              " [2227514, 82771, 1591975, 552768, '2020-07-22'],\n",
              " [2287475, 84082, 1620313, 583080, '2020-07-23'],\n",
              " [2343366, 85238, 1693214, 564914, '2020-07-24'],\n",
              " [2394513, 86449, 1785359, 522705, '2020-07-25'],\n",
              " [2419091, 87004, 1812913, 519174, '2020-07-26'],\n",
              " [2442375, 87618, 1846641, 508116, '2020-07-27'],\n",
              " [2483191, 88539, 1868749, 525903, '2020-07-28'],\n",
              " [2552265, 90134, 1922802, 539329, '2020-07-29'],\n",
              " [2610102, 91263, 1956807, 562032, '2020-07-30'],\n",
              " [2662485, 92475, 2008854, 561156, '2020-07-31'],\n",
              " [2707877, 93563, 2037982, 576332, '2020-08-01'],\n",
              " [2733677, 94104, 2062876, 576697, '2020-08-02'],\n",
              " [2750318, 94665, 2098976, 556677, '2020-08-03'],\n",
              " [2801921, 95819, 2157484, 548618, '2020-08-04'],\n",
              " [2859073, 97256, 2190361, 571456, '2020-08-05'],\n",
              " [2912212, 98493, 2230542, 583177, '2020-08-06'],\n",
              " [2962442, 99572, 2272299, 590571, '2020-08-07'],\n",
              " [3012412, 100477, 2321537, 590398, '2020-08-08'],\n",
              " [3035422, 101049, 2356983, 577390, '2020-08-09'],\n",
              " [3057470, 101752, 2390830, 564888, '2020-08-10'],\n",
              " [3109630, 103026, 2449338, 557266, '2020-08-11'],\n",
              " [3164785, 104201, 2506228, 554356, '2020-08-12'],\n",
              " [3224876, 105463, 2521100, 598313, '2020-08-13'],\n",
              " [3275520, 106523, 2616981, 552016, '2020-08-14'],\n",
              " [3317096, 107232, 2622878, 586986, '2020-08-15'],\n",
              " [3340197, 107852, 2655017, 577328, '2020-08-16'],\n",
              " [3359570, 108536, 2699080, 551954, '2020-08-17'],\n",
              " [3407354, 109888, 2751246, 546220, '2020-08-18'],\n",
              " [3456652, 111100, 2801931, 543621, '2020-08-19'],\n",
              " [3501975, 112304, 2844318, 545353, '2020-08-20'],\n",
              " [3532330, 113358, 2855558, 563414, '2020-08-21'],\n",
              " [3582362, 114250, 2913966, 554146, '2020-08-22'],\n",
              " [3605783, 114744, 2947784, 543255, '2020-08-23'],\n",
              " [3622861, 115309, 2976256, 531296, '2020-08-24'],\n",
              " [3669995, 116580, 3032551, 520864, '2020-08-25'],\n",
              " [3717156, 117665, 3082447, 517044, '2020-08-26'],\n",
              " [3761391, 118649, 3122846, 519896, '2020-08-27'],\n",
              " [3804803, 119504, 3158783, 526516, '2020-08-28'],\n",
              " [3846153, 120262, 3202185, 523706, '2020-08-29'],\n",
              " [3862311, 120828, 3237615, 503868, '2020-08-30'],\n",
              " [3908272, 121381, 3268591, 518300, '2020-08-31'],\n",
              " [3950931, 122596, 3345240, 483095, '2020-09-01'],\n",
              " [3997865, 123780, 3387309, 486776, '2020-09-02'],\n",
              " [4041638, 124614, 3429435, 487589, '2020-09-03'],\n",
              " [4091801, 125502, 3464278, 502021, '2020-09-04'],\n",
              " [4123000, 126203, 3498999, 497798, '2020-09-05'],\n",
              " [4137521, 126650, 3522155, 488716, '2020-09-06'],\n",
              " [4147794, 126960, 3549201, 471633, '2020-09-07'],\n",
              " [4162073, 127464, 3572421, 462188, '2020-09-08'],\n",
              " [4197889, 128539, 3611632, 457718, '2020-09-09'],\n",
              " [4238446, 129522, 3657701, 451223, '2020-09-10'],\n",
              " [4282164, 130396, 3695158, 456610, '2020-09-11'],\n",
              " [4315687, 131210, 3723206, 461271, '2020-09-12'],\n",
              " [4330455, 131625, 3723206, 475624, '2020-09-13'],\n",
              " [4345610, 132006, 3770138, 443466, '2020-09-14'],\n",
              " [4382263, 133119, 3811505, 437639, '2020-09-15'],\n",
              " [4419083, 134106, 3845464, 439513, '2020-09-16'],\n",
              " [4455386, 134935, 3873934, 446517, '2020-09-17'],\n",
              " [4495183, 135793, 3897539, 461851, '2020-09-18'],\n",
              " [4528240, 136532, 3936893, 454815, '2020-09-19'],\n",
              " [4544629, 136895, 3963446, 444288, '2020-09-20'],\n",
              " [4558040, 137272, 3993432, 427336, '2020-09-21'],\n",
              " [4591364, 138105, 4016831, 436428, '2020-09-22'],\n",
              " [4591364, 138105, 4046827, 406432, '2020-09-23'],\n",
              " [4657702, 139808, 4102954, 414940, '2020-09-24'],\n",
              " [4689613, 140537, 4128490, 420586, '2020-09-25'],\n",
              " [4717991, 141406, 4153307, 423278, '2020-09-26'],\n",
              " [4732309, 141741, 4172711, 417857, '2020-09-27'],\n",
              " [4745464, 142058, 4197372, 406034, '2020-09-28'],\n",
              " [4777522, 142921, 4237152, 397449, '2020-09-29'],\n",
              " [4810935, 143952, 4274774, 392209, '2020-09-30'],\n",
              " [4847092, 144680, 4299659, 402753, '2020-10-01'],\n",
              " [4847092, 144680, 4299659, 402753, '2020-10-02'],\n",
              " [4906833, 145987, 4361108, 399738, '2020-10-03'],\n",
              " [4915289, 146352, 4375354, 393583, '2020-10-04'],\n",
              " [4927235, 146675, 4397882, 382678, '2020-10-05'],\n",
              " [4969141, 147494, 4430340, 391307, '2020-10-06'],\n",
              " [5000694, 148228, 4457172, 395294, '2020-10-07'],\n",
              " [5028444, 148957, 4488092, 391395, '2020-10-08'],\n",
              " [5055888, 149639, 4502854, 403395, '2020-10-09'],\n",
              " [5082637, 150198, 4502854, 429585, '2020-10-10'],\n",
              " [5094979, 150488, 4526393, 418098, '2020-10-11'],\n",
              " [5103408, 150689, 4526393, 426326, '2020-10-12'],\n",
              " [5113628, 150998, 4526393, 436237, '2020-10-13'],\n",
              " [5140863, 151747, 4526393, 462723, '2020-10-14'],\n",
              " [5169386, 152460, 4526393, 490533, '2020-10-15'],\n",
              " [5200300, 153214, 4526393, 520693, '2020-10-16'],\n",
              " [5224362, 153675, 4526393, 544294, '2020-10-17'],\n",
              " [5224362, 153675, 4526393, 544294, '2020-10-18'],\n",
              " [5250727, 154176, 4526393, 570158, '2020-10-19'],\n",
              " [5273954, 154837, 4526393, 592724, '2020-10-20'],\n",
              " [5298772, 155403, 4526393, 616976, '2020-10-21'],\n",
              " [5323630, 155900, 4526393, 641337, '2020-10-22'],\n",
              " [5353656, 156471, 4526393, 670792, '2020-10-23'],\n",
              " [5380635, 156903, 4526393, 697339, '2020-10-24'],\n",
              " [5394128, 157134, 4526393, 710601, '2020-10-25'],\n",
              " [5409854, 157397, 4526393, 726064, '2020-10-26'],\n",
              " [5439641, 157946, 4914733, 366962, '2020-10-27'],\n",
              " [5468270, 158456, 4947777, 362037, '2020-10-28'],\n",
              " [5494376, 158969, 4962574, 372833, '2020-10-29'],\n",
              " [5516658, 159477, 4987435, 369746, '2020-10-30'],\n",
              " [5535605, 159884, 5005161, 370560, '2020-10-31'],\n",
              " [5545705, 160074, 5022338, 363293, '2020-11-01'],\n",
              " [5554206, 160253, 5039438, 354515, '2020-11-02'],\n",
              " [5566049, 160496, 5060697, 344856, '2020-11-03'],\n",
              " [5590025, 161106, 5078162, 350757, '2020-11-04'],\n",
              " [5590025, 161106, 5078162, 350757, '2020-11-05'],\n",
              " [5631181, 162015, 5118156, 351010, '2020-11-06'],\n",
              " [5653561, 162269, 5138641, 352651, '2020-11-07'],\n",
              " [5664115, 162397, 5147172, 354546, '2020-11-08'],\n",
              " [5675032, 162628, 5163226, 349178, '2020-11-09'],\n",
              " [5699005, 162802, 5183970, 352233, '2020-11-10'],\n",
              " [5747660, 163368, 5222937, 361355, '2020-11-11'],\n",
              " [5781582, 164281, 5254457, 362844, '2020-11-12'],\n",
              " [5810652, 164737, 5274812, 371103, '2020-11-13'],\n",
              " [5848959, 165658, 5279452, 403849, '2020-11-14'],\n",
              " [5863093, 165798, 5279452, 417843, '2020-11-15'],\n",
              " [5876464, 166014, 5335498, 374952, '2020-11-16'],\n",
              " [5911758, 166699, 5358299, 386760, '2020-11-17'],\n",
              " [5945849, 167455, 5383385, 395009, '2020-11-18'],\n",
              " [5981767, 168061, 5406066, 407640, '2020-11-19'],\n",
              " [6020164, 168613, 5430896, 420655, '2020-11-20'],\n",
              " [6052786, 168989, 5437189, 446608, '2020-11-21'],\n",
              " [6071401, 169183, 5457973, 444245, '2020-11-22'],\n",
              " [6087608, 169485, 5481184, 436939, '2020-11-23'],\n",
              " [6118708, 170115, 5509645, 438948, '2020-11-24'],\n",
              " [6166606, 170769, 5534010, 461827, '2020-11-25'],\n",
              " [6204220, 171460, 5556887, 475873, '2020-11-26'],\n",
              " [6238350, 171974, 5581436, 484940, '2020-11-27'],\n",
              " [6290272, 172561, 5581436, 536275, '2020-11-28'],\n",
              " [6314740, 172833, 5581436, 560471, '2020-11-29'],\n",
              " [6335878, 173120, 5597802, 564956, '2020-11-30'],\n",
              " [6386787, 173817, 5712305, 500665, '2020-12-01'],\n",
              " [6436650, 174515, 5759294, 502841, '2020-12-02'],\n",
              " [6487084, 175270, 5792539, 519275, '2020-12-03'],\n",
              " [6533968, 175964, 5825745, 532259, '2020-12-04'],\n",
              " [6577177, 176628, 5864838, 535711, '2020-12-05'],\n",
              " [6603540, 176941, 5866657, 559942, '2020-12-06'],\n",
              " [6623911, 177317, 5897526, 549068, '2020-12-07'],\n",
              " [6674999, 178159, 5965492, 531348, '2020-12-08'],\n",
              " [6728452, 178995, 5966118, 583339, '2020-12-09'],\n",
              " [6781799, 179765, 6043219, 558815, '2020-12-10'],\n",
              " [6836227, 180437, 6078287, 577503, '2020-12-11'],\n",
              " [6880127, 181123, 6078287, 620717, '2020-12-12'],\n",
              " [6901952, 181402, 6138349, 582201, '2020-12-13'],\n",
              " [6927145, 181835, 6158049, 587261, '2020-12-14'],\n",
              " [6970034, 182799, 6206483, 580752, '2020-12-15'],\n",
              " [7040608, 183735, 6239192, 617681, '2020-12-16'],\n",
              " [7110434, 184827, 6301547, 624060, '2020-12-17'],\n",
              " [7162978, 185650, 6322955, 654373, '2020-12-18'],\n",
              " [7213155, 186356, 6388938, 637861, '2020-12-19'],\n",
              " [7238600, 186764, 6408517, 643319, '2020-12-20'],\n",
              " [7263619, 187291, 6469310, 607018, '2020-12-21'],\n",
              " [7318821, 188259, 6501341, 629221, '2020-12-22'],\n",
              " [7365517, 189220, 6512717, 663580, '2020-12-23'],\n",
              " [7423945, 189982, 6512717, 721246, '2020-12-24'],\n",
              " [7448560, 190488, 6512717, 745355, '2020-12-25'],\n",
              " [7465806, 190795, 6654189, 620822, '2020-12-26'],\n",
              " [7484285, 191139, 6677235, 615911, '2020-12-27'],\n",
              " [7504833, 191570, 6712757, 600506, '2020-12-28'],\n",
              " [7563551, 192681, 6754111, 616759, '2020-12-29'],\n",
              " [7619200, 193875, 6814092, 611233, '2020-12-30'],\n",
              " [7675973, 194949, 6848844, 632180, '2020-12-31'],\n",
              " [7700578, 195411, 6855372, 649795, '2021-01-01'],\n",
              " [7716405, 195725, 6893256, 627424, '2021-01-02'],\n",
              " [7733746, 196018, 6904172, 633556, '2021-01-03'],\n",
              " [7753752, 196561, 6950045, 607146, '2021-01-04'],\n",
              " [7810400, 197732, 6994845, 617823, '2021-01-05'],\n",
              " [7873830, 198974, 7033286, 641570, '2021-01-06'],\n",
              " [7961673, 200498, 7081521, 679654, '2021-01-07'],\n",
              " [8013708, 201460, 7136817, 675431, '2021-01-08'],\n",
              " [8075998, 202631, 7205410, 667957, '2021-01-09'],\n",
              " [8105790, 203100, 7231336, 671354, '2021-01-10'],\n",
              " [8131612, 203580, 7273237, 654795, '2021-01-11'],\n",
              " [8195637, 204690, 7284945, 706002, '2021-01-12'],\n",
              " [8256536, 205964, 7347080, 703492, '2021-01-13'],\n",
              " [8324294, 207095, 7394739, 722460, '2021-01-14'],\n",
              " [8393492, 208246, 7438075, 747171, '2021-01-15'],\n",
              " [8455059, 209296, 7485823, 759940, '2021-01-16'],\n",
              " [8488099, 209847, 7509009, 769243, '2021-01-17'],\n",
              " [8511770, 210299, 7560460, 741011, '2021-01-18'],\n",
              " [8573864, 211491, 7618080, 744293, '2021-01-19'],\n",
              " [8638249, 212831, 7618080, 807338, '2021-01-20'],\n",
              " [8697368, 214147, 7673092, 810129, '2021-01-21'],\n",
              " [8753920, 215243, 7746910, 791767, '2021-01-22'],\n",
              " [8816254, 216445, 7775928, 823881, '2021-01-23'],\n",
              " [8844577, 217037, 7821376, 806164, '2021-01-24'],\n",
              " [8871393, 217664, 7864969, 788760, '2021-01-25'],\n",
              " [8933356, 218878, 7896290, 818188, '2021-01-26'],\n",
              " [8996876, 220161, 7964176, 812539, '2021-01-27'],\n",
              " [9058687, 221547, 7979513, 857627, '2021-01-28'],\n",
              " [9118513, 222666, 8066603, 829244, '2021-01-29'],\n",
              " [9176975, 223945, 8148671, 804359, '2021-01-30'],\n",
              " [9204731, 224504, 8176373, 803854, '2021-01-31'],\n",
              " [9229322, 225099, 8202354, 801869, '2021-02-01'],\n",
              " [9283418, 226309, 8258074, 799035, '2021-02-02'],\n",
              " [9339420, 227563, 8311881, 799976, '2021-02-03'],\n",
              " [9396293, 228795, 8366197, 801301, '2021-02-04'],\n",
              " [9447165, 230034, 8396148, 820983, '2021-02-05'],\n",
              " [9447165, 230034, 8428992, 788139, '2021-02-06'],\n",
              " [9524640, 231534, 8467982, 825124, '2021-02-07'],\n",
              " [9524640, 231534, 8478818, 814288, '2021-02-08'],\n",
              " [9599565, 233520, 8577207, 788838, '2021-02-09'],\n",
              " [9659167, 234850, 8616282, 808035, '2021-02-10'],\n",
              " [9713909, 236201, 8637050, 840658, '2021-02-11'],\n",
              " [9765455, 237489, 8691664, 836302, '2021-02-12'],\n",
              " [9809754, 238532, 8740445, 830777, '2021-02-13'],\n",
              " [9834513, 239245, 8765048, 830220, '2021-02-14'],\n",
              " [9866710, 239773, 8821887, 805050, '2021-02-15'],\n",
              " [9921981, 240940, 8847264, 833777, '2021-02-16'],\n",
              " [9978747, 242090, 8933402, 803255, '2021-02-17'],\n",
              " [10030626, 243457, 8960755, 826414, '2021-02-18'],\n",
              " [10084208, 244737, 8988618, 850853, '2021-02-19'],\n",
              " [10139148, 245977, 9070505, 822666, '2021-02-20'],\n",
              " [10168174, 246504, 9095692, 825978, '2021-02-21'],\n",
              " [10195160, 247143, 9108205, 839812, '2021-02-22'],\n",
              " [10257875, 248529, 9189903, 819443, '2021-02-23'],\n",
              " [10324463, 249957, 9214337, 860169, '2021-02-24'],\n",
              " [10390461, 251498, 9264696, 874267, '2021-02-25'],\n",
              " [10455630, 252835, 9309568, 893227, '2021-02-26'],\n",
              " [10517232, 254221, 9371448, 891563, '2021-02-27'],\n",
              " [10551259, 254942, 9382316, 914001, '2021-02-28'],\n",
              " [10587001, 255720, 9437611, 893670, '2021-03-01'],\n",
              " [10646926, 257361, 9506251, 883314, '2021-03-02'],\n",
              " [10718630, 259271, 9548315, 911044, '2021-03-03'],\n",
              " [10793732, 260970, 9605870, 926892, '2021-03-04'],\n",
              " [10869227, 262770, 9647550, 958907, '2021-03-05'],\n",
              " [10938836, 264325, 9686024, 988487, '2021-03-06'],\n",
              " [11019344, 265411, 9739464, 10753933, '2021-03-07'],\n",
              " [11051665, 266398, 9826292, 958975, '2021-03-08'],\n",
              " [11122429, 268370, 9878566, 975493, '2021-03-09'],\n",
              " [11202305, 270656, 9921994, 1009655, '2021-03-10'],\n",
              " [11277717, 272889, 9983656, 1021172, '2021-03-11'],\n",
              " [11363380, 275105, 10041024, 1047251, '2021-03-12'],\n",
              " [11439558, 277102, 10084820, 1077636, '2021-03-13'],\n",
              " [11483370, 278229, 10113487, 1091654, '2021-03-14'],\n",
              " [11519609, 279286, 10195598, 1044725, '2021-03-15'],\n",
              " [11603535, 282127, 10261154, 1060254, '2021-03-16'],\n",
              " [11693838, 284775, 10326375, 1082688, '2021-03-17'],\n",
              " [11780820, 287499, 10383496, 1109825, '2021-03-18'],\n",
              " [11871390, 290314, 10435864, 1145212, '2021-03-19'],\n",
              " [11950459, 292752, 10476123, 1181584, '2021-03-20'],\n",
              " [11998233, 294042, 10509457, 1194734, '2021-03-21'],\n",
              " [12047526, 295425, 10611595, 1140506, '2021-03-22'],\n",
              " [12130019, 298676, 10665161, 1166182, '2021-03-23'],\n",
              " [12220011, 300685, 10750131, 1169195, '2021-03-24'],\n",
              " [12320169, 303462, 10808499, 1208208, '2021-03-25'],\n",
              " [12404414, 307112, 10886792, 1210510, '2021-03-26'],\n",
              " [12490362, 310550, 10948382, 1231430, '2021-03-27'],\n",
              " [12534688, 312206, 11004281, 1218201, '2021-03-28'],\n",
              " [12573615, 313866, 11022192, 1237557, '2021-03-29'],\n",
              " [12658109, 317646, 11085369, 1255094, '2021-03-30'],\n",
              " [12748747, 321515, 11181371, 1245861, '2021-03-31'],\n",
              " [12839844, 325284, 11240213, 1274347, '2021-04-01'],\n",
              " [12910082, 328206, 11277632, 1304244, '2021-04-02'],\n",
              " [12953597, 330193, 11327510, 1295894, '2021-04-03'],\n",
              " [12984956, 331433, 11343607, 1309916, '2021-04-04'],\n",
              " [13013601, 332752, 11405558, 1275291, '2021-04-05'],\n",
              " [13100580, 336947, 11459548, 1304085, '2021-04-06'],\n",
              " [13193205, 340776, 11592159, 1260270, '2021-04-07'],\n",
              " [13279857, 345025, 11668734, 1266098, '2021-04-08'],\n",
              " [13373174, 348718, 11722181, 1302275, '2021-04-09'],\n",
              " [13445006, 351334, 11739649, 1354023, '2021-04-10'],\n",
              " [13482023, 353137, 11878958, 1249928, '2021-04-11'],\n",
              " [13517808, 354617, 11892229, 1270962, '2021-04-12'],\n",
              " [13599994, 358425, 11975121, 1266448, '2021-04-13'],\n",
              " [13673507, 361884, 12033880, 1277743, '2021-04-14'],\n",
              " [13746681, 365444, 12084851, 1296386, '2021-04-15'],\n",
              " [13832455, 368749, 12163831, 1299875, '2021-04-16'],\n",
              " [13900091, 371678, 12212890, 1315523, '2021-04-17'],\n",
              " [13943071, 373335, 12303538, 1266198, '2021-04-18'],\n",
              " [13973695, 374682, 12346828, 1252185, '2021-04-19'],\n",
              " [14043076, 378003, 12425791, 1239282, '2021-04-20'],\n",
              " [14122795, 381475, 12436210, 1305110, '2021-04-21'],\n",
              " [14167973, 383502, 12530970, 1253501, '2021-04-22'],\n",
              " [14237078, 386416, 12586272, 1264390, '2021-04-23'],\n",
              " [14308215, 389492, 12606011, 1312712, '2021-04-24'],\n",
              " [14340787, 390797, 12614559, 1335431, '2021-04-25'],\n",
              " [14369423, 391936, 12707500, 1269987, '2021-04-26'],\n",
              " [14441563, 395022, 12815119, 1231422, '2021-04-27'],\n",
              " [14521289, 398185, 12849663, 1273441, '2021-04-28'],\n",
              " [14590678, 401186, 12942081, 1247411, '2021-04-29'],\n",
              " [14659011, 403781, 12991951, 1263279, '2021-04-30'],\n",
              " [14725975, 406437, 13023892, 1295646, '2021-05-01'],\n",
              " [14754910, 407639, 13083550, 1263721, '2021-05-02'],\n",
              " [14779529, 408622, 13135143, 1235764, '2021-05-03'],\n",
              " [14856888, 411588, 13170561, 1274739, '2021-05-04'],\n",
              " [14930183, 414399, 13254660, 1261124, '2021-05-05'],\n",
              " [15003563, 416949, 13285589, 1301025, '2021-05-06'],\n",
              " [15082449, 419114, 13400075, 1263260, '2021-05-07'],\n",
              " [15145879, 421316, 13422047, 1302516, '2021-05-08'],\n",
              " [15184790, 422340, 13457400, 1305050, '2021-05-09'],\n",
              " [15209990, 423229, 13481062, 1305699, '2021-05-10'],\n",
              " [15282705, 425540, 13592463, 1264702, '2021-05-11'],\n",
              " [15359397, 428034, 13622419, 1308944, '2021-05-12'],\n",
              " [15433989, 430417, 13662690, 1340882, '2021-05-13'],\n",
              " [15519525, 432628, 13703280, 1383617, '2021-05-14'],\n",
              " [15586534, 434715, 13710822, 1440997, '2021-05-15'],\n",
              " [15627243, 435751, 13764520, 1426972, '2021-05-16'],\n",
              " [15657391, 436537, 13856731, 1364123, '2021-05-17'],\n",
              " [15732836, 439050, 13957814, 1335972, '2021-05-18'],\n",
              " [15812055, 441691, 14043766, 1326598, '2021-05-19'],\n",
              " [15894094, 444094, 14080089, 1369911, '2021-05-20'],\n",
              " [15970949, 446309, 14103800, 1420840, '2021-05-21'],\n",
              " [16047439, 448208, 14132443, 1466788, '2021-05-22'],\n",
              " [16083258, 449068, 14132443, 1501747, '2021-05-23'],\n",
              " [16120756, 449858, 14190644, 1480254, '2021-05-24'],\n",
              " [16194209, 452031, 14231991, 1510187, '2021-05-25'],\n",
              " [16274695, 454429, 14272174, 1548092, '2021-05-26'],\n",
              " [16342162, 456674, 14455810, 1429678, '2021-05-27'],\n",
              " [16391930, 459045, 14492701, 1440184, '2021-05-28'],\n",
              " [16471600, 461057, 14496224, 1514319, '2021-05-29'],\n",
              " [16515120, 461931, 14540507, 1512682, '2021-05-30'],\n",
              " [16545554, 462791, 14586009, 1496754, '2021-05-31'],\n",
              " [16624480, 465199, 14694950, 1464331, '2021-06-01'],\n",
              " [16720081, 467706, 14763694, 1488681, '2021-06-02'],\n",
              " [16803472, 469388, 14763694, 1570390, '2021-06-03'],\n",
              " [16841408, 470842, 14868994, 1501572, '2021-06-04'],\n",
              " [16907425, 472531, 14944069, 1490825, '2021-06-05'],\n",
              " [16947062, 473404, 15000718, 1472940, '2021-06-06'],\n",
              " [16984218, 474414, 15019797, 1490007, '2021-06-07'],\n",
              " [17037129, 476792, 15055747, 1504590, '2021-06-08'],\n",
              " [17122877, 479515, 15154101, 1489261, '2021-06-09'],\n",
              " [17210969, 482019, 15211176, 1517774, '2021-06-10'],\n",
              " [17296118, 484235, 15260459, 1551424, '2021-06-11'],\n",
              " [17374818, 486272, 15271120, 1617426, '2021-06-12'],\n",
              " [17412766, 487401, 15400169, 1525196, '2021-06-13'],\n",
              " [17452612, 488228, 15421397, 1542987, '2021-06-14'],\n",
              " [17533221, 490696, 15519955, 1522570, '2021-06-15'],\n",
              " [17628588, 493693, 15569556, 1565339, '2021-06-16'],\n",
              " [17702630, 496004, 15660614, 1546012, '2021-06-17'],\n",
              " [17801462, 498499, 15687189, 1615774, '2021-06-18'],\n",
              " [17883750, 500800, 15745463, 1637487, '2021-06-19'],\n",
              " [17927928, 501825, 15745463, 1680640, '2021-06-20'],\n",
              " [17966831, 502586, 15819764, 1644481, '2021-06-21'],\n",
              " [18054653, 504717, 15862096, 1687840, '2021-06-22'],\n",
              " [18169881, 507109, 16008271, 1654501, '2021-06-23'],\n",
              " [18243483, 509141, 16038230, 1696112, '2021-06-24'],\n",
              " [18322760, 511142, 16097711, 1713907, '2021-06-25'],\n",
              " [18386894, 512735, 16146608, 1727551, '2021-06-26'],\n",
              " [18420598, 513474, 16160826, 1746298, '2021-06-27'],\n",
              " [18448402, 514092, 16240380, 1693930, '2021-06-28'],\n",
              " [18513305, 515985, 16277785, 1719535, '2021-06-29'],\n",
              " [18557141, 518066, 16299258, 1739817, '2021-06-30'],\n",
              " [18622304, 520095, 16477253, 1624956, '2021-07-01'],\n",
              " [18687469, 521952, 16509821, 1655696, '2021-07-02'],\n",
              " [18742025, 523587, 16524100, 1694338, '2021-07-03'],\n",
              " [18769808, 524417, 16582483, 1662908, '2021-07-04']]"
            ]
          },
          "metadata": {
            "tags": []
          },
          "execution_count": 11
        }
      ]
    },
    {
      "cell_type": "markdown",
      "metadata": {
        "id": "bmU4l7eOk7pm"
      },
      "source": [
        "> Perceba que, a data está em formato de string.\n",
        "  - portanto teremos que transforma-la em formato de data para seja possível realizar manipulações com a mesma."
      ]
    },
    {
      "cell_type": "code",
      "metadata": {
        "id": "i55uMbnvbgSc"
      },
      "source": [
        "# importando a biblioteca \n",
        "import datetime as dt"
      ],
      "execution_count": 12,
      "outputs": []
    },
    {
      "cell_type": "markdown",
      "metadata": {
        "id": "DT7yMbbul1vu"
      },
      "source": [
        "**Vamos conhecer as funções da biblioteca** `datetime`."
      ]
    },
    {
      "cell_type": "code",
      "metadata": {
        "colab": {
          "base_uri": "https://localhost:8080/"
        },
        "id": "MQOyjIYgbgOv",
        "outputId": "3bb217e7-5886-4041-c075-30b75ee99fe3"
      },
      "source": [
        "print(dt.time(12, 6, 21, 7), 'Hora:minuto:segundo.microsegundo')\n",
        "print('----')\n",
        "print(dt.date(2020, 4, 25), 'Ano-mês-dia')\n",
        "print('----')\n",
        "print(dt.datetime(2020, 4, 25, 12, 6, 21, 7), 'Ano-mês-dia Hora:minuto:segundo.microsegundo')"
      ],
      "execution_count": 13,
      "outputs": [
        {
          "output_type": "stream",
          "text": [
            "12:06:21.000007 Hora:minuto:segundo.microsegundo\n",
            "----\n",
            "2020-04-25 Ano-mês-dia\n",
            "----\n",
            "2020-04-25 12:06:21.000007 Ano-mês-dia Hora:minuto:segundo.microsegundo\n"
          ],
          "name": "stdout"
        }
      ]
    },
    {
      "cell_type": "markdown",
      "metadata": {
        "id": "R9zUDu-kop-y"
      },
      "source": [
        "**Podemos realizar operações com as datas**."
      ]
    },
    {
      "cell_type": "code",
      "metadata": {
        "colab": {
          "base_uri": "https://localhost:8080/"
        },
        "id": "G8tRmIxjlm45",
        "outputId": "d98f8ce6-b786-40f7-bc18-7f26a2878326"
      },
      "source": [
        "natal = dt.date(2020, 12, 25)\n",
        "reveillon = dt.date(2021, 1, 1)\n",
        "\n",
        "print(reveillon - natal)\n",
        "print((reveillon - natal).days)\n",
        "print((reveillon - natal).seconds)\n",
        "print((reveillon - natal).microseconds)"
      ],
      "execution_count": 14,
      "outputs": [
        {
          "output_type": "stream",
          "text": [
            "7 days, 0:00:00\n",
            "7\n",
            "0\n",
            "0\n"
          ],
          "name": "stdout"
        }
      ]
    },
    {
      "cell_type": "markdown",
      "metadata": {
        "id": "skzEK8ylJisD"
      },
      "source": [
        "**Vamos guardar nosso arquivo selecionado em dataframe.**\n",
        " - para podemos trabalhar futuramente com o arrquivo."
      ]
    },
    {
      "cell_type": "code",
      "metadata": {
        "id": "Jld10r-Xlm1W"
      },
      "source": [
        "# importando a biblioteca\n",
        "import csv"
      ],
      "execution_count": 15,
      "outputs": []
    },
    {
      "cell_type": "code",
      "metadata": {
        "id": "N91hHNGvlmz0"
      },
      "source": [
        "# instanciando o arquivo selecionado na variável \"final_data\"\n",
        "with open('brasil-covid.csv', 'w') as file:\n",
        "  writer = csv.writer(file)\n",
        "  writer.writerows(final_data)"
      ],
      "execution_count": 16,
      "outputs": []
    },
    {
      "cell_type": "markdown",
      "metadata": {
        "id": "Nl4olGyELAAp"
      },
      "source": [
        "**Agora vamos tratar a feature** `data` **e tranforma o tipo de dado de string para o formato realmente de data.**"
      ]
    },
    {
      "cell_type": "code",
      "metadata": {
        "id": "oCHLtuwRlmwu"
      },
      "source": [
        "# vamos realizar um \"for\" para percorrer nosso arquivo na feature \"data\" e realizar a trnsformação\n",
        "for i in range(1, len(final_data)):\n",
        "  final_data[i][DATA] = dt.datetime.strptime(final_data[i][DATA], \n",
        "                                             '%Y-%m-%d')"
      ],
      "execution_count": 17,
      "outputs": []
    },
    {
      "cell_type": "code",
      "metadata": {
        "colab": {
          "base_uri": "https://localhost:8080/"
        },
        "id": "6obJBBbplmvL",
        "outputId": "8436bb32-c505-4b50-cb69-5543c852ef41"
      },
      "source": [
        "# visualizando novamente o arquivo e conferindo a transformação\n",
        "final_data"
      ],
      "execution_count": 18,
      "outputs": [
        {
          "output_type": "execute_result",
          "data": {
            "text/plain": [
              "[['confirmados', 'obitos', 'recuperados', 'ativos', 'data'],\n",
              " [1, 0, 0, 1, datetime.datetime(2020, 2, 26, 0, 0)],\n",
              " [1, 0, 0, 1, datetime.datetime(2020, 2, 27, 0, 0)],\n",
              " [1, 0, 0, 1, datetime.datetime(2020, 2, 28, 0, 0)],\n",
              " [2, 0, 0, 2, datetime.datetime(2020, 2, 29, 0, 0)],\n",
              " [2, 0, 0, 2, datetime.datetime(2020, 3, 1, 0, 0)],\n",
              " [2, 0, 0, 2, datetime.datetime(2020, 3, 2, 0, 0)],\n",
              " [2, 0, 0, 2, datetime.datetime(2020, 3, 3, 0, 0)],\n",
              " [4, 0, 0, 4, datetime.datetime(2020, 3, 4, 0, 0)],\n",
              " [4, 0, 0, 4, datetime.datetime(2020, 3, 5, 0, 0)],\n",
              " [13, 0, 0, 13, datetime.datetime(2020, 3, 6, 0, 0)],\n",
              " [13, 0, 0, 13, datetime.datetime(2020, 3, 7, 0, 0)],\n",
              " [20, 0, 0, 20, datetime.datetime(2020, 3, 8, 0, 0)],\n",
              " [25, 0, 0, 25, datetime.datetime(2020, 3, 9, 0, 0)],\n",
              " [31, 0, 0, 31, datetime.datetime(2020, 3, 10, 0, 0)],\n",
              " [38, 0, 0, 38, datetime.datetime(2020, 3, 11, 0, 0)],\n",
              " [52, 0, 0, 52, datetime.datetime(2020, 3, 12, 0, 0)],\n",
              " [151, 0, 0, 151, datetime.datetime(2020, 3, 13, 0, 0)],\n",
              " [151, 0, 0, 151, datetime.datetime(2020, 3, 14, 0, 0)],\n",
              " [162, 0, 0, 162, datetime.datetime(2020, 3, 15, 0, 0)],\n",
              " [200, 0, 1, 199, datetime.datetime(2020, 3, 16, 0, 0)],\n",
              " [321, 1, 2, 318, datetime.datetime(2020, 3, 17, 0, 0)],\n",
              " [372, 3, 2, 367, datetime.datetime(2020, 3, 18, 0, 0)],\n",
              " [621, 6, 2, 613, datetime.datetime(2020, 3, 19, 0, 0)],\n",
              " [793, 11, 2, 780, datetime.datetime(2020, 3, 20, 0, 0)],\n",
              " [1021, 15, 2, 1004, datetime.datetime(2020, 3, 21, 0, 0)],\n",
              " [1546, 25, 2, 1519, datetime.datetime(2020, 3, 22, 0, 0)],\n",
              " [1924, 34, 2, 1888, datetime.datetime(2020, 3, 23, 0, 0)],\n",
              " [2247, 46, 2, 2199, datetime.datetime(2020, 3, 24, 0, 0)],\n",
              " [2554, 59, 2, 2493, datetime.datetime(2020, 3, 25, 0, 0)],\n",
              " [2985, 77, 6, 2902, datetime.datetime(2020, 3, 26, 0, 0)],\n",
              " [3417, 92, 6, 3319, datetime.datetime(2020, 3, 27, 0, 0)],\n",
              " [3904, 111, 6, 3787, datetime.datetime(2020, 3, 28, 0, 0)],\n",
              " [4256, 136, 6, 4114, datetime.datetime(2020, 3, 29, 0, 0)],\n",
              " [4579, 159, 120, 4300, datetime.datetime(2020, 3, 30, 0, 0)],\n",
              " [5717, 201, 127, 5389, datetime.datetime(2020, 3, 31, 0, 0)],\n",
              " [6836, 240, 127, 6469, datetime.datetime(2020, 4, 1, 0, 0)],\n",
              " [8044, 324, 127, 7593, datetime.datetime(2020, 4, 2, 0, 0)],\n",
              " [9056, 359, 127, 8570, datetime.datetime(2020, 4, 3, 0, 0)],\n",
              " [10360, 445, 127, 9788, datetime.datetime(2020, 4, 4, 0, 0)],\n",
              " [11130, 486, 127, 10517, datetime.datetime(2020, 4, 5, 0, 0)],\n",
              " [12161, 564, 127, 11470, datetime.datetime(2020, 4, 6, 0, 0)],\n",
              " [14034, 686, 127, 13221, datetime.datetime(2020, 4, 7, 0, 0)],\n",
              " [16170, 819, 127, 15224, datetime.datetime(2020, 4, 8, 0, 0)],\n",
              " [18092, 950, 173, 16969, datetime.datetime(2020, 4, 9, 0, 0)],\n",
              " [19638, 1057, 173, 18408, datetime.datetime(2020, 4, 10, 0, 0)],\n",
              " [20727, 1124, 173, 19430, datetime.datetime(2020, 4, 11, 0, 0)],\n",
              " [22192, 1223, 173, 20796, datetime.datetime(2020, 4, 12, 0, 0)],\n",
              " [23430, 1328, 173, 21929, datetime.datetime(2020, 4, 13, 0, 0)],\n",
              " [25262, 1532, 3046, 20684, datetime.datetime(2020, 4, 14, 0, 0)],\n",
              " [28320, 1736, 14026, 12558, datetime.datetime(2020, 4, 15, 0, 0)],\n",
              " [30425, 1924, 14026, 14475, datetime.datetime(2020, 4, 16, 0, 0)],\n",
              " [33682, 2141, 14026, 17515, datetime.datetime(2020, 4, 17, 0, 0)],\n",
              " [36658, 2354, 14026, 20278, datetime.datetime(2020, 4, 18, 0, 0)],\n",
              " [38654, 2462, 22130, 14062, datetime.datetime(2020, 4, 19, 0, 0)],\n",
              " [40743, 2587, 22130, 16026, datetime.datetime(2020, 4, 20, 0, 0)],\n",
              " [43079, 2741, 22991, 17347, datetime.datetime(2020, 4, 21, 0, 0)],\n",
              " [45757, 2906, 25318, 17533, datetime.datetime(2020, 4, 22, 0, 0)],\n",
              " [50036, 3331, 26573, 20132, datetime.datetime(2020, 4, 23, 0, 0)],\n",
              " [54043, 3704, 27655, 22684, datetime.datetime(2020, 4, 24, 0, 0)],\n",
              " [59324, 4057, 29160, 26107, datetime.datetime(2020, 4, 25, 0, 0)],\n",
              " [63100, 4286, 30152, 28662, datetime.datetime(2020, 4, 26, 0, 0)],\n",
              " [67446, 4603, 31142, 31701, datetime.datetime(2020, 4, 27, 0, 0)],\n",
              " [73235, 5083, 32544, 35608, datetime.datetime(2020, 4, 28, 0, 0)],\n",
              " [79685, 5513, 34132, 40040, datetime.datetime(2020, 4, 29, 0, 0)],\n",
              " [87187, 6006, 35935, 45246, datetime.datetime(2020, 4, 30, 0, 0)],\n",
              " [92202, 6412, 38039, 47751, datetime.datetime(2020, 5, 1, 0, 0)],\n",
              " [97100, 6761, 40937, 49402, datetime.datetime(2020, 5, 2, 0, 0)],\n",
              " [101826, 7051, 42991, 51784, datetime.datetime(2020, 5, 3, 0, 0)],\n",
              " [108620, 7367, 45815, 55438, datetime.datetime(2020, 5, 4, 0, 0)],\n",
              " [115455, 7938, 48221, 59296, datetime.datetime(2020, 5, 5, 0, 0)],\n",
              " [126611, 8588, 51370, 66653, datetime.datetime(2020, 5, 6, 0, 0)],\n",
              " [135773, 9190, 55350, 71233, datetime.datetime(2020, 5, 7, 0, 0)],\n",
              " [146894, 10017, 59297, 77580, datetime.datetime(2020, 5, 8, 0, 0)],\n",
              " [156061, 10656, 61685, 83720, datetime.datetime(2020, 5, 9, 0, 0)],\n",
              " [162699, 11123, 64957, 86619, datetime.datetime(2020, 5, 10, 0, 0)],\n",
              " [169594, 11653, 67384, 90557, datetime.datetime(2020, 5, 11, 0, 0)],\n",
              " [178214, 12461, 72597, 93156, datetime.datetime(2020, 5, 12, 0, 0)],\n",
              " [190137, 13240, 78424, 98473, datetime.datetime(2020, 5, 13, 0, 0)],\n",
              " [203165, 13999, 79479, 109687, datetime.datetime(2020, 5, 14, 0, 0)],\n",
              " [220291, 14962, 84970, 120359, datetime.datetime(2020, 5, 15, 0, 0)],\n",
              " [233511, 15662, 89672, 128177, datetime.datetime(2020, 5, 16, 0, 0)],\n",
              " [241080, 16118, 94122, 130840, datetime.datetime(2020, 5, 17, 0, 0)],\n",
              " [255368, 16853, 100459, 138056, datetime.datetime(2020, 5, 18, 0, 0)],\n",
              " [271885, 17983, 106794, 147108, datetime.datetime(2020, 5, 19, 0, 0)],\n",
              " [291579, 18859, 116683, 156037, datetime.datetime(2020, 5, 20, 0, 0)],\n",
              " [310087, 20047, 125960, 164080, datetime.datetime(2020, 5, 21, 0, 0)],\n",
              " [330890, 21048, 135430, 174412, datetime.datetime(2020, 5, 22, 0, 0)],\n",
              " [347398, 22013, 142587, 182798, datetime.datetime(2020, 5, 23, 0, 0)],\n",
              " [363211, 22666, 149911, 190634, datetime.datetime(2020, 5, 24, 0, 0)],\n",
              " [374898, 23473, 153833, 197592, datetime.datetime(2020, 5, 25, 0, 0)],\n",
              " [391222, 24512, 158593, 208117, datetime.datetime(2020, 5, 26, 0, 0)],\n",
              " [411821, 25598, 166647, 219576, datetime.datetime(2020, 5, 27, 0, 0)],\n",
              " [438238, 26754, 177604, 233880, datetime.datetime(2020, 5, 28, 0, 0)],\n",
              " [465166, 27878, 189476, 247812, datetime.datetime(2020, 5, 29, 0, 0)],\n",
              " [498440, 28834, 200892, 268714, datetime.datetime(2020, 5, 30, 0, 0)],\n",
              " [514849, 29314, 206555, 278980, datetime.datetime(2020, 5, 31, 0, 0)],\n",
              " [526447, 29937, 211080, 285430, datetime.datetime(2020, 6, 1, 0, 0)],\n",
              " [555383, 31199, 223638, 300546, datetime.datetime(2020, 6, 2, 0, 0)],\n",
              " [584016, 32548, 238617, 312851, datetime.datetime(2020, 6, 3, 0, 0)],\n",
              " [614941, 34021, 254963, 325957, datetime.datetime(2020, 6, 4, 0, 0)],\n",
              " [645771, 35026, 266940, 343805, datetime.datetime(2020, 6, 5, 0, 0)],\n",
              " [672846, 35930, 277149, 359767, datetime.datetime(2020, 6, 6, 0, 0)],\n",
              " [691758, 36455, 283952, 371351, datetime.datetime(2020, 6, 7, 0, 0)],\n",
              " [707412, 37134, 378257, 292021, datetime.datetime(2020, 6, 8, 0, 0)],\n",
              " [739503, 38406, 396737, 304360, datetime.datetime(2020, 6, 9, 0, 0)],\n",
              " [772416, 39680, 413916, 318820, datetime.datetime(2020, 6, 10, 0, 0)],\n",
              " [802828, 40919, 429965, 331944, datetime.datetime(2020, 6, 11, 0, 0)],\n",
              " [828810, 41828, 445123, 341859, datetime.datetime(2020, 6, 12, 0, 0)],\n",
              " [850514, 42720, 459436, 348358, datetime.datetime(2020, 6, 13, 0, 0)],\n",
              " [867624, 43332, 469141, 355151, datetime.datetime(2020, 6, 14, 0, 0)],\n",
              " [888271, 43959, 477709, 366603, datetime.datetime(2020, 6, 15, 0, 0)],\n",
              " [923189, 45241, 490005, 387943, datetime.datetime(2020, 6, 16, 0, 0)],\n",
              " [955377, 46510, 521046, 387821, datetime.datetime(2020, 6, 17, 0, 0)],\n",
              " [978142, 47748, 534580, 395814, datetime.datetime(2020, 6, 18, 0, 0)],\n",
              " [1032913, 48954, 551631, 432328, datetime.datetime(2020, 6, 19, 0, 0)],\n",
              " [1067579, 49976, 576779, 440824, datetime.datetime(2020, 6, 20, 0, 0)],\n",
              " [1083341, 50591, 588118, 444632, datetime.datetime(2020, 6, 21, 0, 0)],\n",
              " [1106470, 51271, 601736, 453463, datetime.datetime(2020, 6, 22, 0, 0)],\n",
              " [1145906, 52645, 627963, 465298, datetime.datetime(2020, 6, 23, 0, 0)],\n",
              " [1188631, 53830, 660469, 474332, datetime.datetime(2020, 6, 24, 0, 0)],\n",
              " [1228114, 54971, 679524, 493619, datetime.datetime(2020, 6, 25, 0, 0)],\n",
              " [1274974, 55961, 702399, 516614, datetime.datetime(2020, 6, 26, 0, 0)],\n",
              " [1313667, 57070, 727715, 528882, datetime.datetime(2020, 6, 27, 0, 0)],\n",
              " [1344143, 57622, 746018, 540503, datetime.datetime(2020, 6, 28, 0, 0)],\n",
              " [1368195, 58314, 757811, 552070, datetime.datetime(2020, 6, 29, 0, 0)],\n",
              " [1402041, 59594, 788318, 554129, datetime.datetime(2020, 6, 30, 0, 0)],\n",
              " [1448753, 60632, 817642, 570479, datetime.datetime(2020, 7, 1, 0, 0)],\n",
              " [1496858, 61884, 957692, 477282, datetime.datetime(2020, 7, 2, 0, 0)],\n",
              " [1539081, 63174, 984615, 491292, datetime.datetime(2020, 7, 3, 0, 0)],\n",
              " [1577004, 64265, 990731, 522008, datetime.datetime(2020, 7, 4, 0, 0)],\n",
              " [1603055, 64867, 1029045, 509143, datetime.datetime(2020, 7, 5, 0, 0)],\n",
              " [1623284, 65487, 1062542, 495255, datetime.datetime(2020, 7, 6, 0, 0)],\n",
              " [1668589, 66741, 1107012, 494836, datetime.datetime(2020, 7, 7, 0, 0)],\n",
              " [1713160, 67964, 1139844, 505352, datetime.datetime(2020, 7, 8, 0, 0)],\n",
              " [1755779, 69184, 1171447, 515148, datetime.datetime(2020, 7, 9, 0, 0)],\n",
              " [1800827, 70398, 1217361, 513068, datetime.datetime(2020, 7, 10, 0, 0)],\n",
              " [1839850, 71469, 1244088, 524293, datetime.datetime(2020, 7, 11, 0, 0)],\n",
              " [1864681, 72100, 1264843, 527738, datetime.datetime(2020, 7, 12, 0, 0)],\n",
              " [1884967, 72833, 1291251, 520883, datetime.datetime(2020, 7, 13, 0, 0)],\n",
              " [1926824, 74133, 1323425, 529266, datetime.datetime(2020, 7, 14, 0, 0)],\n",
              " [1966748, 75366, 1350098, 541284, datetime.datetime(2020, 7, 15, 0, 0)],\n",
              " [2012151, 76688, 1397531, 537932, datetime.datetime(2020, 7, 16, 0, 0)],\n",
              " [2046328, 77851, 1428520, 539957, datetime.datetime(2020, 7, 17, 0, 0)],\n",
              " [2074860, 78772, 1447408, 548680, datetime.datetime(2020, 7, 18, 0, 0)],\n",
              " [2098389, 79488, 1459072, 559829, datetime.datetime(2020, 7, 19, 0, 0)],\n",
              " [2118646, 80120, 1514300, 524226, datetime.datetime(2020, 7, 20, 0, 0)],\n",
              " [2159654, 81487, 1555339, 522828, datetime.datetime(2020, 7, 21, 0, 0)],\n",
              " [2227514, 82771, 1591975, 552768, datetime.datetime(2020, 7, 22, 0, 0)],\n",
              " [2287475, 84082, 1620313, 583080, datetime.datetime(2020, 7, 23, 0, 0)],\n",
              " [2343366, 85238, 1693214, 564914, datetime.datetime(2020, 7, 24, 0, 0)],\n",
              " [2394513, 86449, 1785359, 522705, datetime.datetime(2020, 7, 25, 0, 0)],\n",
              " [2419091, 87004, 1812913, 519174, datetime.datetime(2020, 7, 26, 0, 0)],\n",
              " [2442375, 87618, 1846641, 508116, datetime.datetime(2020, 7, 27, 0, 0)],\n",
              " [2483191, 88539, 1868749, 525903, datetime.datetime(2020, 7, 28, 0, 0)],\n",
              " [2552265, 90134, 1922802, 539329, datetime.datetime(2020, 7, 29, 0, 0)],\n",
              " [2610102, 91263, 1956807, 562032, datetime.datetime(2020, 7, 30, 0, 0)],\n",
              " [2662485, 92475, 2008854, 561156, datetime.datetime(2020, 7, 31, 0, 0)],\n",
              " [2707877, 93563, 2037982, 576332, datetime.datetime(2020, 8, 1, 0, 0)],\n",
              " [2733677, 94104, 2062876, 576697, datetime.datetime(2020, 8, 2, 0, 0)],\n",
              " [2750318, 94665, 2098976, 556677, datetime.datetime(2020, 8, 3, 0, 0)],\n",
              " [2801921, 95819, 2157484, 548618, datetime.datetime(2020, 8, 4, 0, 0)],\n",
              " [2859073, 97256, 2190361, 571456, datetime.datetime(2020, 8, 5, 0, 0)],\n",
              " [2912212, 98493, 2230542, 583177, datetime.datetime(2020, 8, 6, 0, 0)],\n",
              " [2962442, 99572, 2272299, 590571, datetime.datetime(2020, 8, 7, 0, 0)],\n",
              " [3012412, 100477, 2321537, 590398, datetime.datetime(2020, 8, 8, 0, 0)],\n",
              " [3035422, 101049, 2356983, 577390, datetime.datetime(2020, 8, 9, 0, 0)],\n",
              " [3057470, 101752, 2390830, 564888, datetime.datetime(2020, 8, 10, 0, 0)],\n",
              " [3109630, 103026, 2449338, 557266, datetime.datetime(2020, 8, 11, 0, 0)],\n",
              " [3164785, 104201, 2506228, 554356, datetime.datetime(2020, 8, 12, 0, 0)],\n",
              " [3224876, 105463, 2521100, 598313, datetime.datetime(2020, 8, 13, 0, 0)],\n",
              " [3275520, 106523, 2616981, 552016, datetime.datetime(2020, 8, 14, 0, 0)],\n",
              " [3317096, 107232, 2622878, 586986, datetime.datetime(2020, 8, 15, 0, 0)],\n",
              " [3340197, 107852, 2655017, 577328, datetime.datetime(2020, 8, 16, 0, 0)],\n",
              " [3359570, 108536, 2699080, 551954, datetime.datetime(2020, 8, 17, 0, 0)],\n",
              " [3407354, 109888, 2751246, 546220, datetime.datetime(2020, 8, 18, 0, 0)],\n",
              " [3456652, 111100, 2801931, 543621, datetime.datetime(2020, 8, 19, 0, 0)],\n",
              " [3501975, 112304, 2844318, 545353, datetime.datetime(2020, 8, 20, 0, 0)],\n",
              " [3532330, 113358, 2855558, 563414, datetime.datetime(2020, 8, 21, 0, 0)],\n",
              " [3582362, 114250, 2913966, 554146, datetime.datetime(2020, 8, 22, 0, 0)],\n",
              " [3605783, 114744, 2947784, 543255, datetime.datetime(2020, 8, 23, 0, 0)],\n",
              " [3622861, 115309, 2976256, 531296, datetime.datetime(2020, 8, 24, 0, 0)],\n",
              " [3669995, 116580, 3032551, 520864, datetime.datetime(2020, 8, 25, 0, 0)],\n",
              " [3717156, 117665, 3082447, 517044, datetime.datetime(2020, 8, 26, 0, 0)],\n",
              " [3761391, 118649, 3122846, 519896, datetime.datetime(2020, 8, 27, 0, 0)],\n",
              " [3804803, 119504, 3158783, 526516, datetime.datetime(2020, 8, 28, 0, 0)],\n",
              " [3846153, 120262, 3202185, 523706, datetime.datetime(2020, 8, 29, 0, 0)],\n",
              " [3862311, 120828, 3237615, 503868, datetime.datetime(2020, 8, 30, 0, 0)],\n",
              " [3908272, 121381, 3268591, 518300, datetime.datetime(2020, 8, 31, 0, 0)],\n",
              " [3950931, 122596, 3345240, 483095, datetime.datetime(2020, 9, 1, 0, 0)],\n",
              " [3997865, 123780, 3387309, 486776, datetime.datetime(2020, 9, 2, 0, 0)],\n",
              " [4041638, 124614, 3429435, 487589, datetime.datetime(2020, 9, 3, 0, 0)],\n",
              " [4091801, 125502, 3464278, 502021, datetime.datetime(2020, 9, 4, 0, 0)],\n",
              " [4123000, 126203, 3498999, 497798, datetime.datetime(2020, 9, 5, 0, 0)],\n",
              " [4137521, 126650, 3522155, 488716, datetime.datetime(2020, 9, 6, 0, 0)],\n",
              " [4147794, 126960, 3549201, 471633, datetime.datetime(2020, 9, 7, 0, 0)],\n",
              " [4162073, 127464, 3572421, 462188, datetime.datetime(2020, 9, 8, 0, 0)],\n",
              " [4197889, 128539, 3611632, 457718, datetime.datetime(2020, 9, 9, 0, 0)],\n",
              " [4238446, 129522, 3657701, 451223, datetime.datetime(2020, 9, 10, 0, 0)],\n",
              " [4282164, 130396, 3695158, 456610, datetime.datetime(2020, 9, 11, 0, 0)],\n",
              " [4315687, 131210, 3723206, 461271, datetime.datetime(2020, 9, 12, 0, 0)],\n",
              " [4330455, 131625, 3723206, 475624, datetime.datetime(2020, 9, 13, 0, 0)],\n",
              " [4345610, 132006, 3770138, 443466, datetime.datetime(2020, 9, 14, 0, 0)],\n",
              " [4382263, 133119, 3811505, 437639, datetime.datetime(2020, 9, 15, 0, 0)],\n",
              " [4419083, 134106, 3845464, 439513, datetime.datetime(2020, 9, 16, 0, 0)],\n",
              " [4455386, 134935, 3873934, 446517, datetime.datetime(2020, 9, 17, 0, 0)],\n",
              " [4495183, 135793, 3897539, 461851, datetime.datetime(2020, 9, 18, 0, 0)],\n",
              " [4528240, 136532, 3936893, 454815, datetime.datetime(2020, 9, 19, 0, 0)],\n",
              " [4544629, 136895, 3963446, 444288, datetime.datetime(2020, 9, 20, 0, 0)],\n",
              " [4558040, 137272, 3993432, 427336, datetime.datetime(2020, 9, 21, 0, 0)],\n",
              " [4591364, 138105, 4016831, 436428, datetime.datetime(2020, 9, 22, 0, 0)],\n",
              " [4591364, 138105, 4046827, 406432, datetime.datetime(2020, 9, 23, 0, 0)],\n",
              " [4657702, 139808, 4102954, 414940, datetime.datetime(2020, 9, 24, 0, 0)],\n",
              " [4689613, 140537, 4128490, 420586, datetime.datetime(2020, 9, 25, 0, 0)],\n",
              " [4717991, 141406, 4153307, 423278, datetime.datetime(2020, 9, 26, 0, 0)],\n",
              " [4732309, 141741, 4172711, 417857, datetime.datetime(2020, 9, 27, 0, 0)],\n",
              " [4745464, 142058, 4197372, 406034, datetime.datetime(2020, 9, 28, 0, 0)],\n",
              " [4777522, 142921, 4237152, 397449, datetime.datetime(2020, 9, 29, 0, 0)],\n",
              " [4810935, 143952, 4274774, 392209, datetime.datetime(2020, 9, 30, 0, 0)],\n",
              " [4847092, 144680, 4299659, 402753, datetime.datetime(2020, 10, 1, 0, 0)],\n",
              " [4847092, 144680, 4299659, 402753, datetime.datetime(2020, 10, 2, 0, 0)],\n",
              " [4906833, 145987, 4361108, 399738, datetime.datetime(2020, 10, 3, 0, 0)],\n",
              " [4915289, 146352, 4375354, 393583, datetime.datetime(2020, 10, 4, 0, 0)],\n",
              " [4927235, 146675, 4397882, 382678, datetime.datetime(2020, 10, 5, 0, 0)],\n",
              " [4969141, 147494, 4430340, 391307, datetime.datetime(2020, 10, 6, 0, 0)],\n",
              " [5000694, 148228, 4457172, 395294, datetime.datetime(2020, 10, 7, 0, 0)],\n",
              " [5028444, 148957, 4488092, 391395, datetime.datetime(2020, 10, 8, 0, 0)],\n",
              " [5055888, 149639, 4502854, 403395, datetime.datetime(2020, 10, 9, 0, 0)],\n",
              " [5082637, 150198, 4502854, 429585, datetime.datetime(2020, 10, 10, 0, 0)],\n",
              " [5094979, 150488, 4526393, 418098, datetime.datetime(2020, 10, 11, 0, 0)],\n",
              " [5103408, 150689, 4526393, 426326, datetime.datetime(2020, 10, 12, 0, 0)],\n",
              " [5113628, 150998, 4526393, 436237, datetime.datetime(2020, 10, 13, 0, 0)],\n",
              " [5140863, 151747, 4526393, 462723, datetime.datetime(2020, 10, 14, 0, 0)],\n",
              " [5169386, 152460, 4526393, 490533, datetime.datetime(2020, 10, 15, 0, 0)],\n",
              " [5200300, 153214, 4526393, 520693, datetime.datetime(2020, 10, 16, 0, 0)],\n",
              " [5224362, 153675, 4526393, 544294, datetime.datetime(2020, 10, 17, 0, 0)],\n",
              " [5224362, 153675, 4526393, 544294, datetime.datetime(2020, 10, 18, 0, 0)],\n",
              " [5250727, 154176, 4526393, 570158, datetime.datetime(2020, 10, 19, 0, 0)],\n",
              " [5273954, 154837, 4526393, 592724, datetime.datetime(2020, 10, 20, 0, 0)],\n",
              " [5298772, 155403, 4526393, 616976, datetime.datetime(2020, 10, 21, 0, 0)],\n",
              " [5323630, 155900, 4526393, 641337, datetime.datetime(2020, 10, 22, 0, 0)],\n",
              " [5353656, 156471, 4526393, 670792, datetime.datetime(2020, 10, 23, 0, 0)],\n",
              " [5380635, 156903, 4526393, 697339, datetime.datetime(2020, 10, 24, 0, 0)],\n",
              " [5394128, 157134, 4526393, 710601, datetime.datetime(2020, 10, 25, 0, 0)],\n",
              " [5409854, 157397, 4526393, 726064, datetime.datetime(2020, 10, 26, 0, 0)],\n",
              " [5439641, 157946, 4914733, 366962, datetime.datetime(2020, 10, 27, 0, 0)],\n",
              " [5468270, 158456, 4947777, 362037, datetime.datetime(2020, 10, 28, 0, 0)],\n",
              " [5494376, 158969, 4962574, 372833, datetime.datetime(2020, 10, 29, 0, 0)],\n",
              " [5516658, 159477, 4987435, 369746, datetime.datetime(2020, 10, 30, 0, 0)],\n",
              " [5535605, 159884, 5005161, 370560, datetime.datetime(2020, 10, 31, 0, 0)],\n",
              " [5545705, 160074, 5022338, 363293, datetime.datetime(2020, 11, 1, 0, 0)],\n",
              " [5554206, 160253, 5039438, 354515, datetime.datetime(2020, 11, 2, 0, 0)],\n",
              " [5566049, 160496, 5060697, 344856, datetime.datetime(2020, 11, 3, 0, 0)],\n",
              " [5590025, 161106, 5078162, 350757, datetime.datetime(2020, 11, 4, 0, 0)],\n",
              " [5590025, 161106, 5078162, 350757, datetime.datetime(2020, 11, 5, 0, 0)],\n",
              " [5631181, 162015, 5118156, 351010, datetime.datetime(2020, 11, 6, 0, 0)],\n",
              " [5653561, 162269, 5138641, 352651, datetime.datetime(2020, 11, 7, 0, 0)],\n",
              " [5664115, 162397, 5147172, 354546, datetime.datetime(2020, 11, 8, 0, 0)],\n",
              " [5675032, 162628, 5163226, 349178, datetime.datetime(2020, 11, 9, 0, 0)],\n",
              " [5699005, 162802, 5183970, 352233, datetime.datetime(2020, 11, 10, 0, 0)],\n",
              " [5747660, 163368, 5222937, 361355, datetime.datetime(2020, 11, 11, 0, 0)],\n",
              " [5781582, 164281, 5254457, 362844, datetime.datetime(2020, 11, 12, 0, 0)],\n",
              " [5810652, 164737, 5274812, 371103, datetime.datetime(2020, 11, 13, 0, 0)],\n",
              " [5848959, 165658, 5279452, 403849, datetime.datetime(2020, 11, 14, 0, 0)],\n",
              " [5863093, 165798, 5279452, 417843, datetime.datetime(2020, 11, 15, 0, 0)],\n",
              " [5876464, 166014, 5335498, 374952, datetime.datetime(2020, 11, 16, 0, 0)],\n",
              " [5911758, 166699, 5358299, 386760, datetime.datetime(2020, 11, 17, 0, 0)],\n",
              " [5945849, 167455, 5383385, 395009, datetime.datetime(2020, 11, 18, 0, 0)],\n",
              " [5981767, 168061, 5406066, 407640, datetime.datetime(2020, 11, 19, 0, 0)],\n",
              " [6020164, 168613, 5430896, 420655, datetime.datetime(2020, 11, 20, 0, 0)],\n",
              " [6052786, 168989, 5437189, 446608, datetime.datetime(2020, 11, 21, 0, 0)],\n",
              " [6071401, 169183, 5457973, 444245, datetime.datetime(2020, 11, 22, 0, 0)],\n",
              " [6087608, 169485, 5481184, 436939, datetime.datetime(2020, 11, 23, 0, 0)],\n",
              " [6118708, 170115, 5509645, 438948, datetime.datetime(2020, 11, 24, 0, 0)],\n",
              " [6166606, 170769, 5534010, 461827, datetime.datetime(2020, 11, 25, 0, 0)],\n",
              " [6204220, 171460, 5556887, 475873, datetime.datetime(2020, 11, 26, 0, 0)],\n",
              " [6238350, 171974, 5581436, 484940, datetime.datetime(2020, 11, 27, 0, 0)],\n",
              " [6290272, 172561, 5581436, 536275, datetime.datetime(2020, 11, 28, 0, 0)],\n",
              " [6314740, 172833, 5581436, 560471, datetime.datetime(2020, 11, 29, 0, 0)],\n",
              " [6335878, 173120, 5597802, 564956, datetime.datetime(2020, 11, 30, 0, 0)],\n",
              " [6386787, 173817, 5712305, 500665, datetime.datetime(2020, 12, 1, 0, 0)],\n",
              " [6436650, 174515, 5759294, 502841, datetime.datetime(2020, 12, 2, 0, 0)],\n",
              " [6487084, 175270, 5792539, 519275, datetime.datetime(2020, 12, 3, 0, 0)],\n",
              " [6533968, 175964, 5825745, 532259, datetime.datetime(2020, 12, 4, 0, 0)],\n",
              " [6577177, 176628, 5864838, 535711, datetime.datetime(2020, 12, 5, 0, 0)],\n",
              " [6603540, 176941, 5866657, 559942, datetime.datetime(2020, 12, 6, 0, 0)],\n",
              " [6623911, 177317, 5897526, 549068, datetime.datetime(2020, 12, 7, 0, 0)],\n",
              " [6674999, 178159, 5965492, 531348, datetime.datetime(2020, 12, 8, 0, 0)],\n",
              " [6728452, 178995, 5966118, 583339, datetime.datetime(2020, 12, 9, 0, 0)],\n",
              " [6781799, 179765, 6043219, 558815, datetime.datetime(2020, 12, 10, 0, 0)],\n",
              " [6836227, 180437, 6078287, 577503, datetime.datetime(2020, 12, 11, 0, 0)],\n",
              " [6880127, 181123, 6078287, 620717, datetime.datetime(2020, 12, 12, 0, 0)],\n",
              " [6901952, 181402, 6138349, 582201, datetime.datetime(2020, 12, 13, 0, 0)],\n",
              " [6927145, 181835, 6158049, 587261, datetime.datetime(2020, 12, 14, 0, 0)],\n",
              " [6970034, 182799, 6206483, 580752, datetime.datetime(2020, 12, 15, 0, 0)],\n",
              " [7040608, 183735, 6239192, 617681, datetime.datetime(2020, 12, 16, 0, 0)],\n",
              " [7110434, 184827, 6301547, 624060, datetime.datetime(2020, 12, 17, 0, 0)],\n",
              " [7162978, 185650, 6322955, 654373, datetime.datetime(2020, 12, 18, 0, 0)],\n",
              " [7213155, 186356, 6388938, 637861, datetime.datetime(2020, 12, 19, 0, 0)],\n",
              " [7238600, 186764, 6408517, 643319, datetime.datetime(2020, 12, 20, 0, 0)],\n",
              " [7263619, 187291, 6469310, 607018, datetime.datetime(2020, 12, 21, 0, 0)],\n",
              " [7318821, 188259, 6501341, 629221, datetime.datetime(2020, 12, 22, 0, 0)],\n",
              " [7365517, 189220, 6512717, 663580, datetime.datetime(2020, 12, 23, 0, 0)],\n",
              " [7423945, 189982, 6512717, 721246, datetime.datetime(2020, 12, 24, 0, 0)],\n",
              " [7448560, 190488, 6512717, 745355, datetime.datetime(2020, 12, 25, 0, 0)],\n",
              " [7465806, 190795, 6654189, 620822, datetime.datetime(2020, 12, 26, 0, 0)],\n",
              " [7484285, 191139, 6677235, 615911, datetime.datetime(2020, 12, 27, 0, 0)],\n",
              " [7504833, 191570, 6712757, 600506, datetime.datetime(2020, 12, 28, 0, 0)],\n",
              " [7563551, 192681, 6754111, 616759, datetime.datetime(2020, 12, 29, 0, 0)],\n",
              " [7619200, 193875, 6814092, 611233, datetime.datetime(2020, 12, 30, 0, 0)],\n",
              " [7675973, 194949, 6848844, 632180, datetime.datetime(2020, 12, 31, 0, 0)],\n",
              " [7700578, 195411, 6855372, 649795, datetime.datetime(2021, 1, 1, 0, 0)],\n",
              " [7716405, 195725, 6893256, 627424, datetime.datetime(2021, 1, 2, 0, 0)],\n",
              " [7733746, 196018, 6904172, 633556, datetime.datetime(2021, 1, 3, 0, 0)],\n",
              " [7753752, 196561, 6950045, 607146, datetime.datetime(2021, 1, 4, 0, 0)],\n",
              " [7810400, 197732, 6994845, 617823, datetime.datetime(2021, 1, 5, 0, 0)],\n",
              " [7873830, 198974, 7033286, 641570, datetime.datetime(2021, 1, 6, 0, 0)],\n",
              " [7961673, 200498, 7081521, 679654, datetime.datetime(2021, 1, 7, 0, 0)],\n",
              " [8013708, 201460, 7136817, 675431, datetime.datetime(2021, 1, 8, 0, 0)],\n",
              " [8075998, 202631, 7205410, 667957, datetime.datetime(2021, 1, 9, 0, 0)],\n",
              " [8105790, 203100, 7231336, 671354, datetime.datetime(2021, 1, 10, 0, 0)],\n",
              " [8131612, 203580, 7273237, 654795, datetime.datetime(2021, 1, 11, 0, 0)],\n",
              " [8195637, 204690, 7284945, 706002, datetime.datetime(2021, 1, 12, 0, 0)],\n",
              " [8256536, 205964, 7347080, 703492, datetime.datetime(2021, 1, 13, 0, 0)],\n",
              " [8324294, 207095, 7394739, 722460, datetime.datetime(2021, 1, 14, 0, 0)],\n",
              " [8393492, 208246, 7438075, 747171, datetime.datetime(2021, 1, 15, 0, 0)],\n",
              " [8455059, 209296, 7485823, 759940, datetime.datetime(2021, 1, 16, 0, 0)],\n",
              " [8488099, 209847, 7509009, 769243, datetime.datetime(2021, 1, 17, 0, 0)],\n",
              " [8511770, 210299, 7560460, 741011, datetime.datetime(2021, 1, 18, 0, 0)],\n",
              " [8573864, 211491, 7618080, 744293, datetime.datetime(2021, 1, 19, 0, 0)],\n",
              " [8638249, 212831, 7618080, 807338, datetime.datetime(2021, 1, 20, 0, 0)],\n",
              " [8697368, 214147, 7673092, 810129, datetime.datetime(2021, 1, 21, 0, 0)],\n",
              " [8753920, 215243, 7746910, 791767, datetime.datetime(2021, 1, 22, 0, 0)],\n",
              " [8816254, 216445, 7775928, 823881, datetime.datetime(2021, 1, 23, 0, 0)],\n",
              " [8844577, 217037, 7821376, 806164, datetime.datetime(2021, 1, 24, 0, 0)],\n",
              " [8871393, 217664, 7864969, 788760, datetime.datetime(2021, 1, 25, 0, 0)],\n",
              " [8933356, 218878, 7896290, 818188, datetime.datetime(2021, 1, 26, 0, 0)],\n",
              " [8996876, 220161, 7964176, 812539, datetime.datetime(2021, 1, 27, 0, 0)],\n",
              " [9058687, 221547, 7979513, 857627, datetime.datetime(2021, 1, 28, 0, 0)],\n",
              " [9118513, 222666, 8066603, 829244, datetime.datetime(2021, 1, 29, 0, 0)],\n",
              " [9176975, 223945, 8148671, 804359, datetime.datetime(2021, 1, 30, 0, 0)],\n",
              " [9204731, 224504, 8176373, 803854, datetime.datetime(2021, 1, 31, 0, 0)],\n",
              " [9229322, 225099, 8202354, 801869, datetime.datetime(2021, 2, 1, 0, 0)],\n",
              " [9283418, 226309, 8258074, 799035, datetime.datetime(2021, 2, 2, 0, 0)],\n",
              " [9339420, 227563, 8311881, 799976, datetime.datetime(2021, 2, 3, 0, 0)],\n",
              " [9396293, 228795, 8366197, 801301, datetime.datetime(2021, 2, 4, 0, 0)],\n",
              " [9447165, 230034, 8396148, 820983, datetime.datetime(2021, 2, 5, 0, 0)],\n",
              " [9447165, 230034, 8428992, 788139, datetime.datetime(2021, 2, 6, 0, 0)],\n",
              " [9524640, 231534, 8467982, 825124, datetime.datetime(2021, 2, 7, 0, 0)],\n",
              " [9524640, 231534, 8478818, 814288, datetime.datetime(2021, 2, 8, 0, 0)],\n",
              " [9599565, 233520, 8577207, 788838, datetime.datetime(2021, 2, 9, 0, 0)],\n",
              " [9659167, 234850, 8616282, 808035, datetime.datetime(2021, 2, 10, 0, 0)],\n",
              " [9713909, 236201, 8637050, 840658, datetime.datetime(2021, 2, 11, 0, 0)],\n",
              " [9765455, 237489, 8691664, 836302, datetime.datetime(2021, 2, 12, 0, 0)],\n",
              " [9809754, 238532, 8740445, 830777, datetime.datetime(2021, 2, 13, 0, 0)],\n",
              " [9834513, 239245, 8765048, 830220, datetime.datetime(2021, 2, 14, 0, 0)],\n",
              " [9866710, 239773, 8821887, 805050, datetime.datetime(2021, 2, 15, 0, 0)],\n",
              " [9921981, 240940, 8847264, 833777, datetime.datetime(2021, 2, 16, 0, 0)],\n",
              " [9978747, 242090, 8933402, 803255, datetime.datetime(2021, 2, 17, 0, 0)],\n",
              " [10030626, 243457, 8960755, 826414, datetime.datetime(2021, 2, 18, 0, 0)],\n",
              " [10084208, 244737, 8988618, 850853, datetime.datetime(2021, 2, 19, 0, 0)],\n",
              " [10139148, 245977, 9070505, 822666, datetime.datetime(2021, 2, 20, 0, 0)],\n",
              " [10168174, 246504, 9095692, 825978, datetime.datetime(2021, 2, 21, 0, 0)],\n",
              " [10195160, 247143, 9108205, 839812, datetime.datetime(2021, 2, 22, 0, 0)],\n",
              " [10257875, 248529, 9189903, 819443, datetime.datetime(2021, 2, 23, 0, 0)],\n",
              " [10324463, 249957, 9214337, 860169, datetime.datetime(2021, 2, 24, 0, 0)],\n",
              " [10390461, 251498, 9264696, 874267, datetime.datetime(2021, 2, 25, 0, 0)],\n",
              " [10455630, 252835, 9309568, 893227, datetime.datetime(2021, 2, 26, 0, 0)],\n",
              " [10517232, 254221, 9371448, 891563, datetime.datetime(2021, 2, 27, 0, 0)],\n",
              " [10551259, 254942, 9382316, 914001, datetime.datetime(2021, 2, 28, 0, 0)],\n",
              " [10587001, 255720, 9437611, 893670, datetime.datetime(2021, 3, 1, 0, 0)],\n",
              " [10646926, 257361, 9506251, 883314, datetime.datetime(2021, 3, 2, 0, 0)],\n",
              " [10718630, 259271, 9548315, 911044, datetime.datetime(2021, 3, 3, 0, 0)],\n",
              " [10793732, 260970, 9605870, 926892, datetime.datetime(2021, 3, 4, 0, 0)],\n",
              " [10869227, 262770, 9647550, 958907, datetime.datetime(2021, 3, 5, 0, 0)],\n",
              " [10938836, 264325, 9686024, 988487, datetime.datetime(2021, 3, 6, 0, 0)],\n",
              " [11019344, 265411, 9739464, 10753933, datetime.datetime(2021, 3, 7, 0, 0)],\n",
              " [11051665, 266398, 9826292, 958975, datetime.datetime(2021, 3, 8, 0, 0)],\n",
              " [11122429, 268370, 9878566, 975493, datetime.datetime(2021, 3, 9, 0, 0)],\n",
              " [11202305, 270656, 9921994, 1009655, datetime.datetime(2021, 3, 10, 0, 0)],\n",
              " [11277717, 272889, 9983656, 1021172, datetime.datetime(2021, 3, 11, 0, 0)],\n",
              " [11363380, 275105, 10041024, 1047251, datetime.datetime(2021, 3, 12, 0, 0)],\n",
              " [11439558, 277102, 10084820, 1077636, datetime.datetime(2021, 3, 13, 0, 0)],\n",
              " [11483370, 278229, 10113487, 1091654, datetime.datetime(2021, 3, 14, 0, 0)],\n",
              " [11519609, 279286, 10195598, 1044725, datetime.datetime(2021, 3, 15, 0, 0)],\n",
              " [11603535, 282127, 10261154, 1060254, datetime.datetime(2021, 3, 16, 0, 0)],\n",
              " [11693838, 284775, 10326375, 1082688, datetime.datetime(2021, 3, 17, 0, 0)],\n",
              " [11780820, 287499, 10383496, 1109825, datetime.datetime(2021, 3, 18, 0, 0)],\n",
              " [11871390, 290314, 10435864, 1145212, datetime.datetime(2021, 3, 19, 0, 0)],\n",
              " [11950459, 292752, 10476123, 1181584, datetime.datetime(2021, 3, 20, 0, 0)],\n",
              " [11998233, 294042, 10509457, 1194734, datetime.datetime(2021, 3, 21, 0, 0)],\n",
              " [12047526, 295425, 10611595, 1140506, datetime.datetime(2021, 3, 22, 0, 0)],\n",
              " [12130019, 298676, 10665161, 1166182, datetime.datetime(2021, 3, 23, 0, 0)],\n",
              " [12220011, 300685, 10750131, 1169195, datetime.datetime(2021, 3, 24, 0, 0)],\n",
              " [12320169, 303462, 10808499, 1208208, datetime.datetime(2021, 3, 25, 0, 0)],\n",
              " [12404414, 307112, 10886792, 1210510, datetime.datetime(2021, 3, 26, 0, 0)],\n",
              " [12490362, 310550, 10948382, 1231430, datetime.datetime(2021, 3, 27, 0, 0)],\n",
              " [12534688, 312206, 11004281, 1218201, datetime.datetime(2021, 3, 28, 0, 0)],\n",
              " [12573615, 313866, 11022192, 1237557, datetime.datetime(2021, 3, 29, 0, 0)],\n",
              " [12658109, 317646, 11085369, 1255094, datetime.datetime(2021, 3, 30, 0, 0)],\n",
              " [12748747, 321515, 11181371, 1245861, datetime.datetime(2021, 3, 31, 0, 0)],\n",
              " [12839844, 325284, 11240213, 1274347, datetime.datetime(2021, 4, 1, 0, 0)],\n",
              " [12910082, 328206, 11277632, 1304244, datetime.datetime(2021, 4, 2, 0, 0)],\n",
              " [12953597, 330193, 11327510, 1295894, datetime.datetime(2021, 4, 3, 0, 0)],\n",
              " [12984956, 331433, 11343607, 1309916, datetime.datetime(2021, 4, 4, 0, 0)],\n",
              " [13013601, 332752, 11405558, 1275291, datetime.datetime(2021, 4, 5, 0, 0)],\n",
              " [13100580, 336947, 11459548, 1304085, datetime.datetime(2021, 4, 6, 0, 0)],\n",
              " [13193205, 340776, 11592159, 1260270, datetime.datetime(2021, 4, 7, 0, 0)],\n",
              " [13279857, 345025, 11668734, 1266098, datetime.datetime(2021, 4, 8, 0, 0)],\n",
              " [13373174, 348718, 11722181, 1302275, datetime.datetime(2021, 4, 9, 0, 0)],\n",
              " [13445006, 351334, 11739649, 1354023, datetime.datetime(2021, 4, 10, 0, 0)],\n",
              " [13482023, 353137, 11878958, 1249928, datetime.datetime(2021, 4, 11, 0, 0)],\n",
              " [13517808, 354617, 11892229, 1270962, datetime.datetime(2021, 4, 12, 0, 0)],\n",
              " [13599994, 358425, 11975121, 1266448, datetime.datetime(2021, 4, 13, 0, 0)],\n",
              " [13673507, 361884, 12033880, 1277743, datetime.datetime(2021, 4, 14, 0, 0)],\n",
              " [13746681, 365444, 12084851, 1296386, datetime.datetime(2021, 4, 15, 0, 0)],\n",
              " [13832455, 368749, 12163831, 1299875, datetime.datetime(2021, 4, 16, 0, 0)],\n",
              " [13900091, 371678, 12212890, 1315523, datetime.datetime(2021, 4, 17, 0, 0)],\n",
              " [13943071, 373335, 12303538, 1266198, datetime.datetime(2021, 4, 18, 0, 0)],\n",
              " [13973695, 374682, 12346828, 1252185, datetime.datetime(2021, 4, 19, 0, 0)],\n",
              " [14043076, 378003, 12425791, 1239282, datetime.datetime(2021, 4, 20, 0, 0)],\n",
              " [14122795, 381475, 12436210, 1305110, datetime.datetime(2021, 4, 21, 0, 0)],\n",
              " [14167973, 383502, 12530970, 1253501, datetime.datetime(2021, 4, 22, 0, 0)],\n",
              " [14237078, 386416, 12586272, 1264390, datetime.datetime(2021, 4, 23, 0, 0)],\n",
              " [14308215, 389492, 12606011, 1312712, datetime.datetime(2021, 4, 24, 0, 0)],\n",
              " [14340787, 390797, 12614559, 1335431, datetime.datetime(2021, 4, 25, 0, 0)],\n",
              " [14369423, 391936, 12707500, 1269987, datetime.datetime(2021, 4, 26, 0, 0)],\n",
              " [14441563, 395022, 12815119, 1231422, datetime.datetime(2021, 4, 27, 0, 0)],\n",
              " [14521289, 398185, 12849663, 1273441, datetime.datetime(2021, 4, 28, 0, 0)],\n",
              " [14590678, 401186, 12942081, 1247411, datetime.datetime(2021, 4, 29, 0, 0)],\n",
              " [14659011, 403781, 12991951, 1263279, datetime.datetime(2021, 4, 30, 0, 0)],\n",
              " [14725975, 406437, 13023892, 1295646, datetime.datetime(2021, 5, 1, 0, 0)],\n",
              " [14754910, 407639, 13083550, 1263721, datetime.datetime(2021, 5, 2, 0, 0)],\n",
              " [14779529, 408622, 13135143, 1235764, datetime.datetime(2021, 5, 3, 0, 0)],\n",
              " [14856888, 411588, 13170561, 1274739, datetime.datetime(2021, 5, 4, 0, 0)],\n",
              " [14930183, 414399, 13254660, 1261124, datetime.datetime(2021, 5, 5, 0, 0)],\n",
              " [15003563, 416949, 13285589, 1301025, datetime.datetime(2021, 5, 6, 0, 0)],\n",
              " [15082449, 419114, 13400075, 1263260, datetime.datetime(2021, 5, 7, 0, 0)],\n",
              " [15145879, 421316, 13422047, 1302516, datetime.datetime(2021, 5, 8, 0, 0)],\n",
              " [15184790, 422340, 13457400, 1305050, datetime.datetime(2021, 5, 9, 0, 0)],\n",
              " [15209990, 423229, 13481062, 1305699, datetime.datetime(2021, 5, 10, 0, 0)],\n",
              " [15282705, 425540, 13592463, 1264702, datetime.datetime(2021, 5, 11, 0, 0)],\n",
              " [15359397, 428034, 13622419, 1308944, datetime.datetime(2021, 5, 12, 0, 0)],\n",
              " [15433989, 430417, 13662690, 1340882, datetime.datetime(2021, 5, 13, 0, 0)],\n",
              " [15519525, 432628, 13703280, 1383617, datetime.datetime(2021, 5, 14, 0, 0)],\n",
              " [15586534, 434715, 13710822, 1440997, datetime.datetime(2021, 5, 15, 0, 0)],\n",
              " [15627243, 435751, 13764520, 1426972, datetime.datetime(2021, 5, 16, 0, 0)],\n",
              " [15657391, 436537, 13856731, 1364123, datetime.datetime(2021, 5, 17, 0, 0)],\n",
              " [15732836, 439050, 13957814, 1335972, datetime.datetime(2021, 5, 18, 0, 0)],\n",
              " [15812055, 441691, 14043766, 1326598, datetime.datetime(2021, 5, 19, 0, 0)],\n",
              " [15894094, 444094, 14080089, 1369911, datetime.datetime(2021, 5, 20, 0, 0)],\n",
              " [15970949, 446309, 14103800, 1420840, datetime.datetime(2021, 5, 21, 0, 0)],\n",
              " [16047439, 448208, 14132443, 1466788, datetime.datetime(2021, 5, 22, 0, 0)],\n",
              " [16083258, 449068, 14132443, 1501747, datetime.datetime(2021, 5, 23, 0, 0)],\n",
              " [16120756, 449858, 14190644, 1480254, datetime.datetime(2021, 5, 24, 0, 0)],\n",
              " [16194209, 452031, 14231991, 1510187, datetime.datetime(2021, 5, 25, 0, 0)],\n",
              " [16274695, 454429, 14272174, 1548092, datetime.datetime(2021, 5, 26, 0, 0)],\n",
              " [16342162, 456674, 14455810, 1429678, datetime.datetime(2021, 5, 27, 0, 0)],\n",
              " [16391930, 459045, 14492701, 1440184, datetime.datetime(2021, 5, 28, 0, 0)],\n",
              " [16471600, 461057, 14496224, 1514319, datetime.datetime(2021, 5, 29, 0, 0)],\n",
              " [16515120, 461931, 14540507, 1512682, datetime.datetime(2021, 5, 30, 0, 0)],\n",
              " [16545554, 462791, 14586009, 1496754, datetime.datetime(2021, 5, 31, 0, 0)],\n",
              " [16624480, 465199, 14694950, 1464331, datetime.datetime(2021, 6, 1, 0, 0)],\n",
              " [16720081, 467706, 14763694, 1488681, datetime.datetime(2021, 6, 2, 0, 0)],\n",
              " [16803472, 469388, 14763694, 1570390, datetime.datetime(2021, 6, 3, 0, 0)],\n",
              " [16841408, 470842, 14868994, 1501572, datetime.datetime(2021, 6, 4, 0, 0)],\n",
              " [16907425, 472531, 14944069, 1490825, datetime.datetime(2021, 6, 5, 0, 0)],\n",
              " [16947062, 473404, 15000718, 1472940, datetime.datetime(2021, 6, 6, 0, 0)],\n",
              " [16984218, 474414, 15019797, 1490007, datetime.datetime(2021, 6, 7, 0, 0)],\n",
              " [17037129, 476792, 15055747, 1504590, datetime.datetime(2021, 6, 8, 0, 0)],\n",
              " [17122877, 479515, 15154101, 1489261, datetime.datetime(2021, 6, 9, 0, 0)],\n",
              " [17210969, 482019, 15211176, 1517774, datetime.datetime(2021, 6, 10, 0, 0)],\n",
              " [17296118, 484235, 15260459, 1551424, datetime.datetime(2021, 6, 11, 0, 0)],\n",
              " [17374818, 486272, 15271120, 1617426, datetime.datetime(2021, 6, 12, 0, 0)],\n",
              " [17412766, 487401, 15400169, 1525196, datetime.datetime(2021, 6, 13, 0, 0)],\n",
              " [17452612, 488228, 15421397, 1542987, datetime.datetime(2021, 6, 14, 0, 0)],\n",
              " [17533221, 490696, 15519955, 1522570, datetime.datetime(2021, 6, 15, 0, 0)],\n",
              " [17628588, 493693, 15569556, 1565339, datetime.datetime(2021, 6, 16, 0, 0)],\n",
              " [17702630, 496004, 15660614, 1546012, datetime.datetime(2021, 6, 17, 0, 0)],\n",
              " [17801462, 498499, 15687189, 1615774, datetime.datetime(2021, 6, 18, 0, 0)],\n",
              " [17883750, 500800, 15745463, 1637487, datetime.datetime(2021, 6, 19, 0, 0)],\n",
              " [17927928, 501825, 15745463, 1680640, datetime.datetime(2021, 6, 20, 0, 0)],\n",
              " [17966831, 502586, 15819764, 1644481, datetime.datetime(2021, 6, 21, 0, 0)],\n",
              " [18054653, 504717, 15862096, 1687840, datetime.datetime(2021, 6, 22, 0, 0)],\n",
              " [18169881, 507109, 16008271, 1654501, datetime.datetime(2021, 6, 23, 0, 0)],\n",
              " [18243483, 509141, 16038230, 1696112, datetime.datetime(2021, 6, 24, 0, 0)],\n",
              " [18322760, 511142, 16097711, 1713907, datetime.datetime(2021, 6, 25, 0, 0)],\n",
              " [18386894, 512735, 16146608, 1727551, datetime.datetime(2021, 6, 26, 0, 0)],\n",
              " [18420598, 513474, 16160826, 1746298, datetime.datetime(2021, 6, 27, 0, 0)],\n",
              " [18448402, 514092, 16240380, 1693930, datetime.datetime(2021, 6, 28, 0, 0)],\n",
              " [18513305, 515985, 16277785, 1719535, datetime.datetime(2021, 6, 29, 0, 0)],\n",
              " [18557141, 518066, 16299258, 1739817, datetime.datetime(2021, 6, 30, 0, 0)],\n",
              " [18622304, 520095, 16477253, 1624956, datetime.datetime(2021, 7, 1, 0, 0)],\n",
              " [18687469, 521952, 16509821, 1655696, datetime.datetime(2021, 7, 2, 0, 0)],\n",
              " [18742025, 523587, 16524100, 1694338, datetime.datetime(2021, 7, 3, 0, 0)],\n",
              " [18769808, 524417, 16582483, 1662908, datetime.datetime(2021, 7, 4, 0, 0)]]"
            ]
          },
          "metadata": {
            "tags": []
          },
          "execution_count": 18
        }
      ]
    },
    {
      "cell_type": "markdown",
      "metadata": {
        "id": "9lkR3hKzN0zt"
      },
      "source": [
        "### **PROJETO FINAL - Parte 2**"
      ]
    },
    {
      "cell_type": "code",
      "metadata": {
        "id": "Xp_lB-DDdiPc"
      },
      "source": [
        "# criando uma função para receber o dados do eixo y\n",
        "def get_datasets(y, labels):\n",
        "  if type (y[0]) == list:\n",
        "    datasets = []\n",
        "\n",
        "    for i in range(len(y)):\n",
        "      datasets.append({\n",
        "          'label': labels[i],\n",
        "          'data': y[i]\n",
        "      })\n",
        "\n",
        "    return datasets\n",
        "\n",
        "  else:\n",
        "    return [\n",
        "            {\n",
        "                'label': labels[0],\n",
        "                'data': y\n",
        "             }\n",
        "            ]"
      ],
      "execution_count": 19,
      "outputs": []
    },
    {
      "cell_type": "code",
      "metadata": {
        "id": "1sFjho8cdiPg"
      },
      "source": [
        "# criando uma função para setar um título\n",
        "def set_title(title=''):\n",
        "\n",
        "  if title != '':\n",
        "    display = 'true'\n",
        "  else:\n",
        "    display = 'false'\n",
        "\n",
        "  return {\n",
        "      'title': title,\n",
        "      'display': display\n",
        "  }"
      ],
      "execution_count": 20,
      "outputs": []
    },
    {
      "cell_type": "code",
      "metadata": {
        "id": "hyDV7l_bM395"
      },
      "source": [
        "# criando uma função para representar o gráfico\n",
        "# nesse caso, iremos utilizar gráfico de barras\n",
        "def create_chart(x,y, labels, kind='bar', title=''):\n",
        "\n",
        "  datasets = get_datasets(y, labels)\n",
        "  options = set_title(title)\n",
        "\n",
        "  chart = {\n",
        "      'type': kind,\n",
        "      'data': {\n",
        "          'labels': x,\n",
        "          'datasets': datasets\n",
        "      },\n",
        "      'options': options\n",
        "  }\n",
        "\n",
        "  return chart"
      ],
      "execution_count": 21,
      "outputs": []
    },
    {
      "cell_type": "code",
      "metadata": {
        "id": "LWVbAb9EM3wc"
      },
      "source": [
        "# criando uma função para realizar a requisição no API\n",
        "def get_api_chart(chart):\n",
        "  url_base = 'https://quickchart.io/chart'\n",
        "  resposta = r.get(f'{url_base}?c={str (chart)}')\n",
        "  return resposta.content"
      ],
      "execution_count": 22,
      "outputs": []
    },
    {
      "cell_type": "code",
      "metadata": {
        "id": "UZW_jhuhPfKG"
      },
      "source": [
        "# criando uma função para salvar a imagem gerada\n",
        "def save_image(path, content):\n",
        "  with open(path, 'wb') as image:\n",
        "    image.write(content)"
      ],
      "execution_count": 23,
      "outputs": []
    },
    {
      "cell_type": "code",
      "metadata": {
        "id": "42xZjFpsPe5Z"
      },
      "source": [
        "# importando as bibliotecas necessárias\n",
        "from PIL import Image\n",
        "from IPython.display import display"
      ],
      "execution_count": 24,
      "outputs": []
    },
    {
      "cell_type": "code",
      "metadata": {
        "id": "PUtTORQEP-ma"
      },
      "source": [
        "# criando uma função para abrir a imagem gerada\n",
        "def display_image(path):\n",
        "  img_pil = Image.open(path)\n",
        "  display(img_pil)"
      ],
      "execution_count": 25,
      "outputs": []
    },
    {
      "cell_type": "code",
      "metadata": {
        "colab": {
          "base_uri": "https://localhost:8080/",
          "height": 617
        },
        "id": "g8lweB8bP-bA",
        "outputId": "d46a7f71-3ba4-4982-acb1-fc92cb8b43ec"
      },
      "source": [
        "# instanciando os dados e as funções para gerar o nosso gráfico de barras\n",
        "y_data_1 = []\n",
        "for obs in final_data[1::10]:\n",
        "  y_data_1.append(obs[CONFIRMADOS])\n",
        "\n",
        "y_data_2 = []\n",
        "for obs in final_data[1::10]:\n",
        "  y_data_2.append(obs[RECUPERADOS])\n",
        "\n",
        "labels = ['Confirmados', 'Recuperados']\n",
        "\n",
        "x = []\n",
        "for obs in final_data[1::10]:\n",
        "  x.append(obs[DATA].strftime('%d/%m/%Y'))\n",
        "\n",
        "chart = create_chart(x, [y_data_1, y_data_2], labels,\n",
        "                     title='Gráfico confirmados VS recuperados')\n",
        "\n",
        "chart_content = get_api_chart(chart)\n",
        "save_image('meu-primeiro-grafico.png', chart_content)\n",
        "display_image('meu-primeiro-grafico.png')"
      ],
      "execution_count": 26,
      "outputs": [
        {
          "output_type": "display_data",
          "data": {
            "image/png": "[encoded data removed]",
            "text/plain": [
              "<PIL.PngImagePlugin.PngImageFile image mode=RGBA size=1000x600 at 0x7FA6C90DA250>"
            ]
          },
          "metadata": {
            "tags": []
          }
        }
      ]
    },
    {
      "cell_type": "markdown",
      "metadata": {
        "id": "sZpnt7d2SPaC"
      },
      "source": [
        "**A biblioteca do** `quickchart` **permite a geração de** `QRCode` **do criado gráfico**.\n",
        " - agora vamos explorar essa possiblidades."
      ]
    },
    {
      "cell_type": "code",
      "metadata": {
        "id": "LYrlXNHrVJCh"
      },
      "source": [
        "# importando a biblioteca para auxiliar a geração do QRCode\n",
        "from urllib.parse import quote"
      ],
      "execution_count": 28,
      "outputs": []
    },
    {
      "cell_type": "code",
      "metadata": {
        "id": "0sqLCcdLQpMz"
      },
      "source": [
        "# criando a função para gerar o QRCode\n",
        "def get_api_qrcode(link):\n",
        "  text = quote(link) # parsing do link para url\n",
        "  url_base = 'https://quickchart.io/qr'\n",
        "  resposta = r.get(f'{url_base}?text={text}')\n",
        "  return resposta.content"
      ],
      "execution_count": 29,
      "outputs": []
    },
    {
      "cell_type": "code",
      "metadata": {
        "colab": {
          "base_uri": "https://localhost:8080/",
          "height": 677
        },
        "id": "ne8ZRuP4QpJ-",
        "outputId": "8894cf2b-1c12-4709-a84a-cbd9729a798f"
      },
      "source": [
        "url_base = 'https://quickchart.io/chart'\n",
        "link = f'{url_base}?c={str (chart)}'\n",
        "save_image('qr-code.png', get_api_qrcode(link))\n",
        "display_image('qr-code.png')"
      ],
      "execution_count": 30,
      "outputs": [
        {
          "output_type": "display_data",
          "data": {
            "image/png": "[encoded data removed]",
            "text/plain": [
              "<PIL.PngImagePlugin.PngImageFile image mode=RGBA size=660x660 at 0x7FA6C90C9910>"
            ]
          },
          "metadata": {
            "tags": []
          }
        }
      ]
    },
    {
      "cell_type": "code",
      "metadata": {
        "id": "mh-wukKaQpGe"
      },
      "source": [
        ""
      ],
      "execution_count": null,
      "outputs": []
    },
    {
      "cell_type": "code",
      "metadata": {
        "id": "aw5egqrSQpDt"
      },
      "source": [
        ""
      ],
      "execution_count": null,
      "outputs": []
    },
    {
      "cell_type": "code",
      "metadata": {
        "id": "4dKi2xtCQo3P"
      },
      "source": [
        ""
      ],
      "execution_count": null,
      "outputs": []
    }
  ]
}