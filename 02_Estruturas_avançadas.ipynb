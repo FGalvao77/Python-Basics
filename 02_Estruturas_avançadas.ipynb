{
  "nbformat": 4,
  "nbformat_minor": 0,
  "metadata": {
    "colab": {
      "name": "02 - Estruturas avançadas.ipynb",
      "provenance": [],
      "collapsed_sections": [],
      "include_colab_link": true
    },
    "language_info": {
      "name": "python"
    },
    "kernelspec": {
      "name": "python3",
      "display_name": "Python 3"
    }
  },
  "cells": [
    {
      "cell_type": "markdown",
      "metadata": {
        "id": "view-in-github",
        "colab_type": "text"
      },
      "source": [
        "<a href=\"https://colab.research.google.com/github/FGalvao77/Python-Basics/blob/main/02_Estruturas_avan%C3%A7adas.ipynb\" target=\"_parent\"><img src=\"https://colab.research.google.com/assets/colab-badge.svg\" alt=\"Open In Colab\"/></a>"
      ]
    },
    {
      "cell_type": "markdown",
      "metadata": {
        "id": "QmK2TquNAehZ"
      },
      "source": [
        "# **Aula 01 - Listas e Tuplas**"
      ]
    },
    {
      "cell_type": "markdown",
      "metadata": {
        "id": "BI1AjlboAehb"
      },
      "source": [
        "## **Listas**\n",
        "Listas são coleções de objetos em Python. Ao invés de declarar 1 variável para cada valor que gostaríamos de armazenar, podemos criar uma lista para armazenar vários valores."
      ]
    },
    {
      "cell_type": "code",
      "metadata": {
        "id": "Oxb-25iOAehc"
      },
      "source": [
        "# criando uma lista vazia\n",
        "listaVazia = []"
      ],
      "execution_count": 2,
      "outputs": []
    },
    {
      "cell_type": "code",
      "metadata": {
        "colab": {
          "base_uri": "https://localhost:8080/"
        },
        "id": "7B9rTVw5Aehc",
        "outputId": "d8e89d53-9569-4a0c-c5ca-53a522aa97c3"
      },
      "source": [
        "# imprimido o tipo do objeto criado\n",
        "type(listaVazia)"
      ],
      "execution_count": 3,
      "outputs": [
        {
          "output_type": "execute_result",
          "data": {
            "text/plain": [
              "list"
            ]
          },
          "metadata": {
            "tags": []
          },
          "execution_count": 3
        }
      ]
    },
    {
      "cell_type": "code",
      "metadata": {
        "colab": {
          "base_uri": "https://localhost:8080/"
        },
        "id": "KONLEeAVAehd",
        "outputId": "aa03583e-50fa-446c-e420-a97cd6499cd5"
      },
      "source": [
        "# imprimindo a lista\n",
        "listaVazia # não nenhum item na lista"
      ],
      "execution_count": 4,
      "outputs": [
        {
          "output_type": "execute_result",
          "data": {
            "text/plain": [
              "[]"
            ]
          },
          "metadata": {
            "tags": []
          },
          "execution_count": 4
        }
      ]
    },
    {
      "cell_type": "code",
      "metadata": {
        "colab": {
          "base_uri": "https://localhost:8080/"
        },
        "id": "iCLD35j-Aehe",
        "outputId": "9e161b1b-d6e7-4b2c-9e36-2bc7d1833bc3"
      },
      "source": [
        "# criando uma lista com alguns valores e imprimindo-a\n",
        "numeros = [1, 3, 7, 8, 9]\n",
        "print(numeros, type(numeros))"
      ],
      "execution_count": 5,
      "outputs": [
        {
          "output_type": "stream",
          "text": [
            "[1, 3, 7, 8, 9] <class 'list'>\n"
          ],
          "name": "stdout"
        }
      ]
    },
    {
      "cell_type": "code",
      "metadata": {
        "colab": {
          "base_uri": "https://localhost:8080/"
        },
        "id": "RXO3Ef4XAehe",
        "outputId": "7955cdb7-83b9-453b-988b-2c9f0578c5a7"
      },
      "source": [
        "# listas podem mesclar diferentes tipos de valores\n",
        "listaMista = [14, \"let's code\", 0.1, True]\n",
        "listaMista"
      ],
      "execution_count": 6,
      "outputs": [
        {
          "output_type": "execute_result",
          "data": {
            "text/plain": [
              "[14, \"let's code\", 0.1, True]"
            ]
          },
          "metadata": {
            "tags": []
          },
          "execution_count": 6
        }
      ]
    },
    {
      "cell_type": "code",
      "metadata": {
        "colab": {
          "base_uri": "https://localhost:8080/"
        },
        "id": "wRqpd3dVAehe",
        "outputId": "66530b48-ebe8-4992-bd4b-9562fd77763e"
      },
      "source": [
        "# acessamos cada elemento da lista através de um índice entre colchetes\n",
        "# os índices começam em 0\n",
        "print(numeros[0])\n",
        "print(numeros[1])\n",
        "print(numeros[2])\n",
        "print(numeros[3])\n",
        "print(numeros[4])"
      ],
      "execution_count": 7,
      "outputs": [
        {
          "output_type": "stream",
          "text": [
            "1\n",
            "3\n",
            "7\n",
            "8\n",
            "9\n"
          ],
          "name": "stdout"
        }
      ]
    },
    {
      "cell_type": "code",
      "metadata": {
        "colab": {
          "base_uri": "https://localhost:8080/"
        },
        "id": "Zl0TtwGCAehf",
        "outputId": "072acef5-2b33-42ae-8e5f-7712d0a7e15f"
      },
      "source": [
        "# também podemos acessar mais de um item\n",
        "print(numeros[2], numeros[4])"
      ],
      "execution_count": 8,
      "outputs": [
        {
          "output_type": "stream",
          "text": [
            "7 9\n"
          ],
          "name": "stdout"
        }
      ]
    },
    {
      "cell_type": "code",
      "metadata": {
        "colab": {
          "base_uri": "https://localhost:8080/"
        },
        "id": "ZCUjKWZpAehf",
        "outputId": "4339c95d-7bc1-4ffc-9cc2-d629472d0290"
      },
      "source": [
        "# listas são mutáveis: podemos alterar o valor de seus itens\n",
        "print('valor antes:', numeros[2])\n",
        "\n",
        "numeros[2] = 5\n",
        "print('valor depois:', numeros[2])"
      ],
      "execution_count": 9,
      "outputs": [
        {
          "output_type": "stream",
          "text": [
            "valor antes: 7\n",
            "valor depois: 5\n"
          ],
          "name": "stdout"
        }
      ]
    },
    {
      "cell_type": "code",
      "metadata": {
        "colab": {
          "base_uri": "https://localhost:8080/"
        },
        "id": "8aWceYFOAehg",
        "outputId": "90474ce4-297f-4b9f-9247-a82d7194532e"
      },
      "source": [
        "# um jeito inteligente de trabalhar com listas é utilizando loops\n",
        "indice = 0\n",
        "while indice < 5:\n",
        "    print(numeros[indice])\n",
        "    indice = indice + 1"
      ],
      "execution_count": 10,
      "outputs": [
        {
          "output_type": "stream",
          "text": [
            "1\n",
            "3\n",
            "5\n",
            "8\n",
            "9\n"
          ],
          "name": "stdout"
        }
      ]
    },
    {
      "cell_type": "markdown",
      "metadata": {
        "id": "RsplUMwXAehg"
      },
      "source": [
        "## **Atividade prática (vídeo-aula)**"
      ]
    },
    {
      "cell_type": "code",
      "metadata": {
        "id": "odjj-g-1Aehg"
      },
      "source": [
        "# declarando uma lista\n",
        "nome_paises = ['Brasil', 'Alemanha', \n",
        "               'China', 'Canadá',\n",
        "               'Japão', 'EUA']"
      ],
      "execution_count": 11,
      "outputs": []
    },
    {
      "cell_type": "code",
      "metadata": {
        "colab": {
          "base_uri": "https://localhost:8080/"
        },
        "id": "YGjNcmVvAehg",
        "outputId": "cbf38a0d-e140-4ea9-9797-b3e47ea205cd"
      },
      "source": [
        "# imprimindo os elementos da variável\n",
        "print(nome_paises)"
      ],
      "execution_count": 12,
      "outputs": [
        {
          "output_type": "stream",
          "text": [
            "['Brasil', 'Alemanha', 'China', 'Canadá', 'Japão', 'EUA']\n"
          ],
          "name": "stdout"
        }
      ]
    },
    {
      "cell_type": "code",
      "metadata": {
        "colab": {
          "base_uri": "https://localhost:8080/"
        },
        "id": "IQpvMp4RAehh",
        "outputId": "cf605bf7-ef3c-46a7-aaf3-b6a8036a3128"
      },
      "source": [
        "# quantidade de elementos na lista\n",
        "# para isso utilizamos a função \"len()\"\n",
        "print(f'Quantidade de elementos na lista: {len(nome_paises)}')"
      ],
      "execution_count": 13,
      "outputs": [
        {
          "output_type": "stream",
          "text": [
            "Quantidade de elementos na lista: 6\n"
          ],
          "name": "stdout"
        }
      ]
    },
    {
      "cell_type": "code",
      "metadata": {
        "colab": {
          "base_uri": "https://localhost:8080/"
        },
        "id": "01H9dhWwAehh",
        "outputId": "77ec453b-4c52-4af8-9761-086efed63290"
      },
      "source": [
        "# imprimindo o país Japão\n",
        "print(f'País: {nome_paises[4]}')"
      ],
      "execution_count": 14,
      "outputs": [
        {
          "output_type": "stream",
          "text": [
            "País: Japão\n"
          ],
          "name": "stdout"
        }
      ]
    },
    {
      "cell_type": "code",
      "metadata": {
        "colab": {
          "base_uri": "https://localhost:8080/"
        },
        "id": "-gHWNeQSAehh",
        "outputId": "6b7528c2-4b1d-43b1-e13a-ef24a7f1662b"
      },
      "source": [
        "# acessando o último elemento da lista\n",
        "# utilizando índice negativo\n",
        "print(f'País: {nome_paises[-1]}')"
      ],
      "execution_count": 15,
      "outputs": [
        {
          "output_type": "stream",
          "text": [
            "País: EUA\n"
          ],
          "name": "stdout"
        }
      ]
    },
    {
      "cell_type": "code",
      "metadata": {
        "id": "izIRcF5IAehi"
      },
      "source": [
        "# sobrescrevendo um item da lista\n",
        "nome_paises[0] = 'Espanha' # trocando no índice 0 - Brasil por Espanha"
      ],
      "execution_count": 16,
      "outputs": []
    },
    {
      "cell_type": "code",
      "metadata": {
        "colab": {
          "base_uri": "https://localhost:8080/"
        },
        "id": "4frJs6JxAehi",
        "outputId": "55cb142c-76f7-4acc-8fa5-f85329e05fdf"
      },
      "source": [
        "# imprimindo a lista atualizada\n",
        "nome_paises"
      ],
      "execution_count": 17,
      "outputs": [
        {
          "output_type": "execute_result",
          "data": {
            "text/plain": [
              "['Espanha', 'Alemanha', 'China', 'Canadá', 'Japão', 'EUA']"
            ]
          },
          "metadata": {
            "tags": []
          },
          "execution_count": 17
        }
      ]
    },
    {
      "cell_type": "code",
      "metadata": {
        "colab": {
          "base_uri": "https://localhost:8080/",
          "height": 197
        },
        "id": "f3wn4lINAehi",
        "outputId": "5a817168-1699-49e1-ce47-70edddbcfa9d"
      },
      "source": [
        "# se você tentar acessar um elemento de índice maior que o seu limite\n",
        "# você terá uma mensagem de erro\n",
        "nome_paises[6]"
      ],
      "execution_count": 18,
      "outputs": [
        {
          "output_type": "error",
          "ename": "IndexError",
          "evalue": "ignored",
          "traceback": [
            "\u001b[0;31m---------------------------------------------------------------------------\u001b[0m",
            "\u001b[0;31mIndexError\u001b[0m                                Traceback (most recent call last)",
            "\u001b[0;32m<ipython-input-18-98cf1c16dbe6>\u001b[0m in \u001b[0;36m<module>\u001b[0;34m()\u001b[0m\n\u001b[1;32m      1\u001b[0m \u001b[0;31m# se você tentar acessar um elemento de índice maior que o seu limite\u001b[0m\u001b[0;34m\u001b[0m\u001b[0;34m\u001b[0m\u001b[0;34m\u001b[0m\u001b[0m\n\u001b[1;32m      2\u001b[0m \u001b[0;31m# você terá uma mensagem de erro\u001b[0m\u001b[0;34m\u001b[0m\u001b[0;34m\u001b[0m\u001b[0;34m\u001b[0m\u001b[0m\n\u001b[0;32m----> 3\u001b[0;31m \u001b[0mnome_paises\u001b[0m\u001b[0;34m[\u001b[0m\u001b[0;36m6\u001b[0m\u001b[0;34m]\u001b[0m\u001b[0;34m\u001b[0m\u001b[0;34m\u001b[0m\u001b[0m\n\u001b[0m",
            "\u001b[0;31mIndexError\u001b[0m: list index out of range"
          ]
        }
      ]
    },
    {
      "cell_type": "code",
      "metadata": {
        "colab": {
          "base_uri": "https://localhost:8080/"
        },
        "id": "bPkf_FO-Aehi",
        "outputId": "e3e5196a-9a0c-4e23-8ded-077146ed8464"
      },
      "source": [
        "# slicing - fatiamento de uma lista\n",
        "# acessando os elementos \n",
        "print(nome_paises[2:4]) # do segundo índice até o quarto (exclusivo)"
      ],
      "execution_count": 19,
      "outputs": [
        {
          "output_type": "stream",
          "text": [
            "['China', 'Canadá']\n"
          ],
          "name": "stdout"
        }
      ]
    },
    {
      "cell_type": "code",
      "metadata": {
        "colab": {
          "base_uri": "https://localhost:8080/"
        },
        "id": "MtwNA3EAAehj",
        "outputId": "f114f8ee-760d-4618-8bb8-65c2046b7ae7"
      },
      "source": [
        "# podemos realizar um slicing também com índice negativo\n",
        "nome_paises[2:-1] # do segundo índice até o menos último "
      ],
      "execution_count": 20,
      "outputs": [
        {
          "output_type": "execute_result",
          "data": {
            "text/plain": [
              "['China', 'Canadá', 'Japão']"
            ]
          },
          "metadata": {
            "tags": []
          },
          "execution_count": 20
        }
      ]
    },
    {
      "cell_type": "code",
      "metadata": {
        "colab": {
          "base_uri": "https://localhost:8080/"
        },
        "id": "23VYE8hrAehj",
        "outputId": "0b9249dd-38d3-418c-f492-2dd47ea840fa"
      },
      "source": [
        "# podemos também inverter a ordem dos elementos \n",
        "# da lista de trás pra frente\n",
        "nome_paises[::-1]"
      ],
      "execution_count": 21,
      "outputs": [
        {
          "output_type": "execute_result",
          "data": {
            "text/plain": [
              "['EUA', 'Japão', 'Canadá', 'China', 'Alemanha', 'Espanha']"
            ]
          },
          "metadata": {
            "tags": []
          },
          "execution_count": 21
        }
      ]
    },
    {
      "cell_type": "code",
      "metadata": {
        "colab": {
          "base_uri": "https://localhost:8080/"
        },
        "id": "1GZpGOVbAehj",
        "outputId": "5b3c8ed6-5de3-453b-d255-bcd174897966"
      },
      "source": [
        "# podemos omitir o índice final do fatiamento\n",
        "nome_paises[2:] # entende que queremos até o último índice"
      ],
      "execution_count": 22,
      "outputs": [
        {
          "output_type": "execute_result",
          "data": {
            "text/plain": [
              "['China', 'Canadá', 'Japão', 'EUA']"
            ]
          },
          "metadata": {
            "tags": []
          },
          "execution_count": 22
        }
      ]
    },
    {
      "cell_type": "code",
      "metadata": {
        "colab": {
          "base_uri": "https://localhost:8080/"
        },
        "id": "ogqTzNdWAehj",
        "outputId": "96bc426e-c3eb-440f-ab4b-fb6dbb9835d3"
      },
      "source": [
        "# também podemos omitir o índice inicial\n",
        "# entende que, queremos ir do índice 0 até o índice instanciado\n",
        "nome_paises[:-2] "
      ],
      "execution_count": 23,
      "outputs": [
        {
          "output_type": "execute_result",
          "data": {
            "text/plain": [
              "['Espanha', 'Alemanha', 'China', 'Canadá']"
            ]
          },
          "metadata": {
            "tags": []
          },
          "execution_count": 23
        }
      ]
    },
    {
      "cell_type": "code",
      "metadata": {
        "colab": {
          "base_uri": "https://localhost:8080/"
        },
        "id": "ld5x6uxtAehk",
        "outputId": "54c31999-a485-42c3-fc8e-03798af04a64"
      },
      "source": [
        "# podemos omitir tanto o índice incial e final\n",
        "# o seu retorno é todos os elementos da lista\n",
        "nome_paises[:]"
      ],
      "execution_count": 24,
      "outputs": [
        {
          "output_type": "execute_result",
          "data": {
            "text/plain": [
              "['Espanha', 'Alemanha', 'China', 'Canadá', 'Japão', 'EUA']"
            ]
          },
          "metadata": {
            "tags": []
          },
          "execution_count": 24
        }
      ]
    },
    {
      "cell_type": "code",
      "metadata": {
        "colab": {
          "base_uri": "https://localhost:8080/",
          "height": 35
        },
        "id": "198T_5w4Aehk",
        "outputId": "40445963-74c7-4b0b-9265-8d5546653783"
      },
      "source": [
        "# podemos também acessar um elemento pelo índice\n",
        "# e realizar um slice no elemento acessado\n",
        "nome_paises[0][:3]"
      ],
      "execution_count": 25,
      "outputs": [
        {
          "output_type": "execute_result",
          "data": {
            "application/vnd.google.colaboratory.intrinsic+json": {
              "type": "string"
            },
            "text/plain": [
              "'Esp'"
            ]
          },
          "metadata": {
            "tags": []
          },
          "execution_count": 25
        }
      ]
    },
    {
      "cell_type": "code",
      "metadata": {
        "colab": {
          "base_uri": "https://localhost:8080/",
          "height": 35
        },
        "id": "CoHEyMXnAehk",
        "outputId": "1bc5033f-5841-45e0-ab9f-4e1ecd7fa152"
      },
      "source": [
        "# segue outro exemlpo\n",
        "nome_paises[-2][3:]"
      ],
      "execution_count": 26,
      "outputs": [
        {
          "output_type": "execute_result",
          "data": {
            "application/vnd.google.colaboratory.intrinsic+json": {
              "type": "string"
            },
            "text/plain": [
              "'ão'"
            ]
          },
          "metadata": {
            "tags": []
          },
          "execution_count": 26
        }
      ]
    },
    {
      "cell_type": "code",
      "metadata": {
        "colab": {
          "base_uri": "https://localhost:8080/",
          "height": 35
        },
        "id": "T84k-cGkAehk",
        "outputId": "a69c2faf-a7f5-4096-f265-0c2a58aa8523"
      },
      "source": [
        "# vamos acessar o último elemento, utilizando índide negativo \n",
        "# e realizando o fatiamento de trás pra frente do elemento\n",
        "nome_paises[-1][::-1]"
      ],
      "execution_count": 27,
      "outputs": [
        {
          "output_type": "execute_result",
          "data": {
            "application/vnd.google.colaboratory.intrinsic+json": {
              "type": "string"
            },
            "text/plain": [
              "'AUE'"
            ]
          },
          "metadata": {
            "tags": []
          },
          "execution_count": 27
        }
      ]
    },
    {
      "cell_type": "code",
      "metadata": {
        "colab": {
          "base_uri": "https://localhost:8080/"
        },
        "id": "DhuPeEsLAehk",
        "outputId": "e80ef403-18cf-4a65-c45e-aaa99c76113a"
      },
      "source": [
        "print(nome_paises[2])\n",
        "print(nome_paises[2][::-1])\n",
        "print(nome_paises[2][0::-1])\n",
        "print(nome_paises[2][1::-1])\n",
        "print(nome_paises[2][2::-1])\n",
        "print(nome_paises[2][3::-1])\n",
        "print(nome_paises[2][4::-1])\n",
        "print(nome_paises[2][0])\n",
        "print(nome_paises[2][1])\n",
        "print(nome_paises[2][2])\n",
        "print(nome_paises[2][3])\n",
        "print(nome_paises[2][4])"
      ],
      "execution_count": 28,
      "outputs": [
        {
          "output_type": "stream",
          "text": [
            "China\n",
            "anihC\n",
            "C\n",
            "hC\n",
            "ihC\n",
            "nihC\n",
            "anihC\n",
            "C\n",
            "h\n",
            "i\n",
            "n\n",
            "a\n"
          ],
          "name": "stdout"
        }
      ]
    },
    {
      "cell_type": "code",
      "metadata": {
        "colab": {
          "base_uri": "https://localhost:8080/"
        },
        "id": "z3TlzkjlAehl",
        "outputId": "d09dc7b2-823b-4e96-ef44-6717f8f1b616"
      },
      "source": [
        "print(nome_paises[2][0])\n",
        "print(nome_paises[2][0:2])\n",
        "print(nome_paises[2][0:3])\n",
        "print(nome_paises[2][0:4])\n",
        "print(nome_paises[2][0:])"
      ],
      "execution_count": 29,
      "outputs": [
        {
          "output_type": "stream",
          "text": [
            "C\n",
            "Ch\n",
            "Chi\n",
            "Chin\n",
            "China\n"
          ],
          "name": "stdout"
        }
      ]
    },
    {
      "cell_type": "code",
      "metadata": {
        "colab": {
          "base_uri": "https://localhost:8080/"
        },
        "id": "gTAaoTEdAehl",
        "outputId": "2b4d43e4-5415-47d6-fe4f-386c92d620a7"
      },
      "source": [
        "print(nome_paises[2][0])\n",
        "print(nome_paises[2][0:2])\n",
        "print(nome_paises[2][0:3])\n",
        "print(nome_paises[2][0:4])\n",
        "print(nome_paises[2][0:])\n",
        "print(nome_paises[2][0:4])\n",
        "print(nome_paises[2][0:3])\n",
        "print(nome_paises[2][0:2])\n",
        "print(nome_paises[2][0])"
      ],
      "execution_count": 30,
      "outputs": [
        {
          "output_type": "stream",
          "text": [
            "C\n",
            "Ch\n",
            "Chi\n",
            "Chin\n",
            "China\n",
            "Chin\n",
            "Chi\n",
            "Ch\n",
            "C\n"
          ],
          "name": "stdout"
        }
      ]
    },
    {
      "cell_type": "code",
      "metadata": {
        "colab": {
          "base_uri": "https://localhost:8080/"
        },
        "id": "2R7sl-tKAehl",
        "outputId": "fd93040b-c3eb-4b78-81ea-230ead0fc44b"
      },
      "source": [
        "print(nome_paises[2][0] * 3)\n",
        "print(nome_paises[2][0:2] * 3)\n",
        "print(nome_paises[2][0:3] * 3)\n",
        "print(nome_paises[2][0:4] * 3)\n",
        "print(nome_paises[2][0:] * 3)\n",
        "print(nome_paises[2][0:4] * 3)\n",
        "print(nome_paises[2][0:3] * 3)\n",
        "print(nome_paises[2][0:2] * 3)\n",
        "print(nome_paises[2][0] * 3)"
      ],
      "execution_count": 31,
      "outputs": [
        {
          "output_type": "stream",
          "text": [
            "CCC\n",
            "ChChCh\n",
            "ChiChiChi\n",
            "ChinChinChin\n",
            "ChinaChinaChina\n",
            "ChinChinChin\n",
            "ChiChiChi\n",
            "ChChCh\n",
            "CCC\n"
          ],
          "name": "stdout"
        }
      ]
    },
    {
      "cell_type": "code",
      "metadata": {
        "colab": {
          "base_uri": "https://localhost:8080/"
        },
        "id": "i1y4XmlxAehm",
        "outputId": "a2b29999-0282-4cca-ca96-5b6f11aa810a"
      },
      "source": [
        "# podemos passar como argumento um passo e os elementos que será acessados\n",
        "nome_paises[::2] # do índice 0 de dois em dois"
      ],
      "execution_count": 32,
      "outputs": [
        {
          "output_type": "execute_result",
          "data": {
            "text/plain": [
              "['Espanha', 'China', 'Japão']"
            ]
          },
          "metadata": {
            "tags": []
          },
          "execution_count": 32
        }
      ]
    },
    {
      "cell_type": "code",
      "metadata": {
        "colab": {
          "base_uri": "https://localhost:8080/"
        },
        "id": "32-96JT9Aehm",
        "outputId": "fd851b7e-4cd1-4e52-8b09-db18b6d525ad"
      },
      "source": [
        "nome_paises[1::3]  # do índice 1 de três em três"
      ],
      "execution_count": 33,
      "outputs": [
        {
          "output_type": "execute_result",
          "data": {
            "text/plain": [
              "['Alemanha', 'Japão']"
            ]
          },
          "metadata": {
            "tags": []
          },
          "execution_count": 33
        }
      ]
    },
    {
      "cell_type": "code",
      "metadata": {
        "colab": {
          "base_uri": "https://localhost:8080/"
        },
        "id": "xBjkULyPAehm",
        "outputId": "94a852ea-041f-48c8-ffad-1863238aa4da"
      },
      "source": [
        "# podemos procurar se um elemento pertence a lista\n",
        "# pra isso, utilizamos a função \"in\"\n",
        "print('Espanha' in nome_paises) # o seu retorno é um resultado booleano"
      ],
      "execution_count": 34,
      "outputs": [
        {
          "output_type": "stream",
          "text": [
            "True\n"
          ],
          "name": "stdout"
        }
      ]
    },
    {
      "cell_type": "code",
      "metadata": {
        "colab": {
          "base_uri": "https://localhost:8080/"
        },
        "id": "oSA96amuAehm",
        "outputId": "8894e05d-72a5-4049-82cb-e58b02b83a6d"
      },
      "source": [
        "# outro exemplo\n",
        "print('Brasil' in nome_paises) # falso"
      ],
      "execution_count": 35,
      "outputs": [
        {
          "output_type": "stream",
          "text": [
            "False\n"
          ],
          "name": "stdout"
        }
      ]
    },
    {
      "cell_type": "code",
      "metadata": {
        "colab": {
          "base_uri": "https://localhost:8080/"
        },
        "id": "D0I2s7DpAehm",
        "outputId": "10370c68-6047-44b1-b0c4-302dbaac9fc2"
      },
      "source": [
        "# também podemos utilizar operador lógico de negação\n",
        "print('Canadá' not in nome_paises) # Canadá não está em nome_paises? falso\n",
        "                                   # Canadá pertende sim a lista nome_paises"
      ],
      "execution_count": 36,
      "outputs": [
        {
          "output_type": "stream",
          "text": [
            "False\n"
          ],
          "name": "stdout"
        }
      ]
    },
    {
      "cell_type": "code",
      "metadata": {
        "colab": {
          "base_uri": "https://localhost:8080/"
        },
        "id": "R1odYNABAehn",
        "outputId": "222bacc6-150f-44cc-862c-4d51c6644345"
      },
      "source": [
        "# criando uma lista vazia\n",
        "lista_capitais = []\n",
        "\n",
        "# imprimindo a quantidade de elementos da lista criada e a própria lista\n",
        "print(len(lista_capitais), lista_capitais)"
      ],
      "execution_count": 37,
      "outputs": [
        {
          "output_type": "stream",
          "text": [
            "0 []\n"
          ],
          "name": "stdout"
        }
      ]
    },
    {
      "cell_type": "code",
      "metadata": {
        "colab": {
          "base_uri": "https://localhost:8080/"
        },
        "id": "-ywJZyu7Aehn",
        "outputId": "07e03a3f-22b4-411b-b21b-107f388f0833"
      },
      "source": [
        "# inserindo elemento na lista \"lista_capitais\"\n",
        "# utilizamos o método \".append(' ')\" e passando o elemento desejado entre aspas como argumento dentro do parênteses\"\n",
        "lista_capitais.append('São Paulo')\n",
        "\n",
        "# imprimindo a  atualizada\n",
        "lista_capitais"
      ],
      "execution_count": 38,
      "outputs": [
        {
          "output_type": "execute_result",
          "data": {
            "text/plain": [
              "['São Paulo']"
            ]
          },
          "metadata": {
            "tags": []
          },
          "execution_count": 38
        }
      ]
    },
    {
      "cell_type": "code",
      "metadata": {
        "id": "IVJW--6aAeho"
      },
      "source": [
        "# inserindo outros elementos na lista\n",
        "lista_capitais.append('Rio de Janeiro')"
      ],
      "execution_count": 39,
      "outputs": []
    },
    {
      "cell_type": "code",
      "metadata": {
        "colab": {
          "base_uri": "https://localhost:8080/"
        },
        "id": "Ok8EOWiWAeho",
        "outputId": "d5c26549-faf9-48a5-b6f5-a5c3674a7f52"
      },
      "source": [
        "# imprimindo a lista\n",
        "lista_capitais"
      ],
      "execution_count": 40,
      "outputs": [
        {
          "output_type": "execute_result",
          "data": {
            "text/plain": [
              "['São Paulo', 'Rio de Janeiro']"
            ]
          },
          "metadata": {
            "tags": []
          },
          "execution_count": 40
        }
      ]
    },
    {
      "cell_type": "code",
      "metadata": {
        "colab": {
          "base_uri": "https://localhost:8080/"
        },
        "id": "xzhv8LkRAeho",
        "outputId": "b0425432-c85a-4a1a-ccca-c76e7eb0c76c"
      },
      "source": [
        "# perceba que, todo elemento é inserido no final da lista\n",
        "lista_capitais.append('Belo Horizonte')\n",
        "lista_capitais"
      ],
      "execution_count": 41,
      "outputs": [
        {
          "output_type": "execute_result",
          "data": {
            "text/plain": [
              "['São Paulo', 'Rio de Janeiro', 'Belo Horizonte']"
            ]
          },
          "metadata": {
            "tags": []
          },
          "execution_count": 41
        }
      ]
    },
    {
      "cell_type": "code",
      "metadata": {
        "colab": {
          "base_uri": "https://localhost:8080/"
        },
        "id": "kNfpWuHwAeho",
        "outputId": "5c681aff-ff3e-4d4e-e95a-52bca7de70ed"
      },
      "source": [
        "# mas se quiser inserir um elemento em uma posição específica\n",
        "# utilizamos o método \".insert(x, 'aaa')\", passando com argumento o número da posição e o elemento\n",
        "lista_capitais.insert(2, 'Recife')\n",
        "lista_capitais"
      ],
      "execution_count": 42,
      "outputs": [
        {
          "output_type": "execute_result",
          "data": {
            "text/plain": [
              "['São Paulo', 'Rio de Janeiro', 'Recife', 'Belo Horizonte']"
            ]
          },
          "metadata": {
            "tags": []
          },
          "execution_count": 42
        }
      ]
    },
    {
      "cell_type": "code",
      "metadata": {
        "colab": {
          "base_uri": "https://localhost:8080/"
        },
        "id": "DgAya22NAeho",
        "outputId": "dada87a3-3429-4f90-a52c-161b4c4103ca"
      },
      "source": [
        "# outro exemplo\n",
        "lista_capitais.insert(0, 'Curitiba')\n",
        "lista_capitais"
      ],
      "execution_count": 43,
      "outputs": [
        {
          "output_type": "execute_result",
          "data": {
            "text/plain": [
              "['Curitiba', 'São Paulo', 'Rio de Janeiro', 'Recife', 'Belo Horizonte']"
            ]
          },
          "metadata": {
            "tags": []
          },
          "execution_count": 43
        }
      ]
    },
    {
      "cell_type": "code",
      "metadata": {
        "colab": {
          "base_uri": "https://localhost:8080/"
        },
        "id": "HxFUtigQAehp",
        "outputId": "1972b808-a016-4e1b-b599-fd916ea4de73"
      },
      "source": [
        "# podemos ordenar os elementos da lista\n",
        "sorted(lista_capitais)"
      ],
      "execution_count": 44,
      "outputs": [
        {
          "output_type": "execute_result",
          "data": {
            "text/plain": [
              "['Belo Horizonte', 'Curitiba', 'Recife', 'Rio de Janeiro', 'São Paulo']"
            ]
          },
          "metadata": {
            "tags": []
          },
          "execution_count": 44
        }
      ]
    },
    {
      "cell_type": "code",
      "metadata": {
        "colab": {
          "base_uri": "https://localhost:8080/"
        },
        "id": "8pG4UdxZAehp",
        "outputId": "b3e0a82d-4878-495c-8674-3340ab1a368a"
      },
      "source": [
        "# podemos deletar um elemento da lista\n",
        "# utilizamos o método \".remove()\"\n",
        "lista_capitais.remove('São Paulo')\n",
        "lista_capitais"
      ],
      "execution_count": 45,
      "outputs": [
        {
          "output_type": "execute_result",
          "data": {
            "text/plain": [
              "['Curitiba', 'Rio de Janeiro', 'Recife', 'Belo Horizonte']"
            ]
          },
          "metadata": {
            "tags": []
          },
          "execution_count": 45
        }
      ]
    },
    {
      "cell_type": "code",
      "metadata": {
        "colab": {
          "base_uri": "https://localhost:8080/"
        },
        "id": "tjWelwiyAehp",
        "outputId": "b6b2aef7-490c-4cd1-cbac-c16285bcd695"
      },
      "source": [
        "# também temos o método \".pop()\" que remove um elemento passando sua posição\n",
        "lista_capitais.pop(1)\n",
        "lista_capitais"
      ],
      "execution_count": 46,
      "outputs": [
        {
          "output_type": "execute_result",
          "data": {
            "text/plain": [
              "['Curitiba', 'Recife', 'Belo Horizonte']"
            ]
          },
          "metadata": {
            "tags": []
          },
          "execution_count": 46
        }
      ]
    },
    {
      "cell_type": "code",
      "metadata": {
        "colab": {
          "base_uri": "https://localhost:8080/"
        },
        "id": "QcAqte-5Aehp",
        "outputId": "c7ada139-4d0e-459d-dec8-40971fff756b"
      },
      "source": [
        "# outro exemplo\n",
        "item_removido = lista_capitais.pop(0)\n",
        "print(lista_capitais, item_removido)"
      ],
      "execution_count": 47,
      "outputs": [
        {
          "output_type": "stream",
          "text": [
            "['Recife', 'Belo Horizonte'] Curitiba\n"
          ],
          "name": "stdout"
        }
      ]
    },
    {
      "cell_type": "code",
      "metadata": {
        "colab": {
          "base_uri": "https://localhost:8080/"
        },
        "id": "rD9q3JRxAehp",
        "outputId": "aa3a7fb0-cc61-4e24-ae12-ad8c7288d382"
      },
      "source": [
        "# podemos limpar toda lista\n",
        "# com o método \".clear()\"\n",
        "lista_capitais.clear()\n",
        "lista_capitais"
      ],
      "execution_count": 48,
      "outputs": [
        {
          "output_type": "execute_result",
          "data": {
            "text/plain": [
              "[]"
            ]
          },
          "metadata": {
            "tags": []
          },
          "execution_count": 48
        }
      ]
    },
    {
      "cell_type": "markdown",
      "metadata": {
        "id": "-pXpW9EZAehq"
      },
      "source": [
        "**Conhecendo mais sobre listas**"
      ]
    },
    {
      "cell_type": "code",
      "metadata": {
        "colab": {
          "base_uri": "https://localhost:8080/"
        },
        "id": "HvSxq9p1Aehq",
        "outputId": "5642e66a-9350-4f1d-c21d-890313237b9c"
      },
      "source": [
        "lista = []\n",
        "print(type (lista))\n",
        "\n",
        "lista = input('Digite uma fruta: ')\n",
        "\n",
        "print(list (lista))\n",
        "print(type (lista))"
      ],
      "execution_count": 49,
      "outputs": [
        {
          "output_type": "stream",
          "text": [
            "<class 'list'>\n",
            "Digite uma fruta: maçã\n",
            "['m', 'a', 'ç', 'ã']\n",
            "<class 'str'>\n"
          ],
          "name": "stdout"
        }
      ]
    },
    {
      "cell_type": "code",
      "metadata": {
        "colab": {
          "base_uri": "https://localhost:8080/"
        },
        "id": "OxB3QhQ3Aehq",
        "outputId": "c01caf84-9f3b-450a-f2b9-618db2ff9d5e"
      },
      "source": [
        "lista = []\n",
        "print(type (lista))\n",
        "\n",
        "lista = input('Digite uma fruta: ')\n",
        "\n",
        "for fruta in lista:\n",
        "    print(list (lista))\n",
        "\n",
        "print(type (lista))"
      ],
      "execution_count": 50,
      "outputs": [
        {
          "output_type": "stream",
          "text": [
            "<class 'list'>\n",
            "Digite uma fruta: banana\n",
            "['b', 'a', 'n', 'a', 'n', 'a']\n",
            "['b', 'a', 'n', 'a', 'n', 'a']\n",
            "['b', 'a', 'n', 'a', 'n', 'a']\n",
            "['b', 'a', 'n', 'a', 'n', 'a']\n",
            "['b', 'a', 'n', 'a', 'n', 'a']\n",
            "['b', 'a', 'n', 'a', 'n', 'a']\n",
            "<class 'str'>\n"
          ],
          "name": "stdout"
        }
      ]
    },
    {
      "cell_type": "code",
      "metadata": {
        "colab": {
          "base_uri": "https://localhost:8080/"
        },
        "id": "Rkb9Iwu4Aehq",
        "outputId": "dc2ab2b3-7ab2-431c-d420-8bdf221b589f"
      },
      "source": [
        "lista = []\n",
        "print(type (lista))\n",
        "\n",
        "lista = input('Digite uma fruta: ')\n",
        "for fruta in lista:\n",
        "    print(str (lista))\n",
        "\n",
        "print(type (lista))"
      ],
      "execution_count": 51,
      "outputs": [
        {
          "output_type": "stream",
          "text": [
            "<class 'list'>\n",
            "Digite uma fruta: uva\n",
            "uva\n",
            "uva\n",
            "uva\n",
            "<class 'str'>\n"
          ],
          "name": "stdout"
        }
      ]
    },
    {
      "cell_type": "code",
      "metadata": {
        "colab": {
          "base_uri": "https://localhost:8080/"
        },
        "id": "jfVlAfG6Aehr",
        "outputId": "ae112501-5a64-4037-94ec-b902131fb190"
      },
      "source": [
        "lista = []\n",
        "print(type (lista))\n",
        "\n",
        "lista = input('Digite uma fruta: ')\n",
        "\n",
        "for fruta in lista:\n",
        "    print(tuple (lista))\n",
        "\n",
        "print(type (lista))"
      ],
      "execution_count": 54,
      "outputs": [
        {
          "output_type": "stream",
          "text": [
            "<class 'list'>\n",
            "Digite uma fruta: abacaxi\n",
            "('a', 'b', 'a', 'c', 'a', 'x', 'i')\n",
            "('a', 'b', 'a', 'c', 'a', 'x', 'i')\n",
            "('a', 'b', 'a', 'c', 'a', 'x', 'i')\n",
            "('a', 'b', 'a', 'c', 'a', 'x', 'i')\n",
            "('a', 'b', 'a', 'c', 'a', 'x', 'i')\n",
            "('a', 'b', 'a', 'c', 'a', 'x', 'i')\n",
            "('a', 'b', 'a', 'c', 'a', 'x', 'i')\n",
            "<class 'str'>\n"
          ],
          "name": "stdout"
        }
      ]
    },
    {
      "cell_type": "code",
      "metadata": {
        "colab": {
          "base_uri": "https://localhost:8080/"
        },
        "id": "NAMm83dTAehr",
        "outputId": "58d6b040-c11c-4ff6-b1aa-4759980a8c90"
      },
      "source": [
        "lista = []\n",
        "print(type (lista))\n",
        "\n",
        "lista = input('Digite uma fruta: ')\n",
        "\n",
        "for fruta in lista:\n",
        "    print(bool (lista))\n",
        "\n",
        "print(type (lista))"
      ],
      "execution_count": 55,
      "outputs": [
        {
          "output_type": "stream",
          "text": [
            "<class 'list'>\n",
            "Digite uma fruta: uva\n",
            "True\n",
            "True\n",
            "True\n",
            "<class 'str'>\n"
          ],
          "name": "stdout"
        }
      ]
    },
    {
      "cell_type": "markdown",
      "metadata": {
        "id": "2YbG4RX7Aehr"
      },
      "source": [
        "## **Funções de listas**\n",
        "\n",
        "Algumas funções podem nos ajudar a trabalhar com listas. Ao percorrermos nossa lista com um while, poderíamos usar len() caso não soubéssemos o comprimento da lista."
      ]
    },
    {
      "cell_type": "code",
      "metadata": {
        "colab": {
          "base_uri": "https://localhost:8080/"
        },
        "id": "jL-Mhrx3Aehr",
        "outputId": "8c21c17d-9d77-450d-e5d3-c698695ec5ff"
      },
      "source": [
        "indice = 0\n",
        "while indice < len(numeros):\n",
        "    print(numeros[indice])\n",
        "    indice = indice + 1"
      ],
      "execution_count": 56,
      "outputs": [
        {
          "output_type": "stream",
          "text": [
            "1\n",
            "3\n",
            "5\n",
            "8\n",
            "9\n"
          ],
          "name": "stdout"
        }
      ]
    },
    {
      "cell_type": "markdown",
      "metadata": {
        "id": "yqpmQMzCAehs"
      },
      "source": [
        "Outra função útil é lista.append(), que coloca um elemento novo ao final da lista."
      ]
    },
    {
      "cell_type": "code",
      "metadata": {
        "colab": {
          "base_uri": "https://localhost:8080/"
        },
        "id": "yl3nB6r6Aehs",
        "outputId": "f15e4b31-8a94-417b-8f31-441e014e3201"
      },
      "source": [
        "animais = []\n",
        "resposta = 's'\n",
        "\n",
        "while resposta == 's' or resposta == 'S':\n",
        "    resposta = input('Deseja adicionar um animal à lista (s/n)? ')\n",
        "    if resposta == 's' or resposta == 'S':\n",
        "        animal = input('Digite o nome do animal: ')\n",
        "        animais.append(animal) # adiciona o novo animal à lista\n",
        "        \n",
        "print(animais)"
      ],
      "execution_count": 59,
      "outputs": [
        {
          "output_type": "stream",
          "text": [
            "Deseja adicionar um animal à lista (s/n)? s\n",
            "Digite o nome do animal: gato\n",
            "Deseja adicionar um animal à lista (s/n)? s\n",
            "Digite o nome do animal: cão\n",
            "Deseja adicionar um animal à lista (s/n)? s\n",
            "Digite o nome do animal: papagaio\n",
            "Deseja adicionar um animal à lista (s/n)? n\n",
            "['gato', 'cão', 'papagaio']\n"
          ],
          "name": "stdout"
        }
      ]
    },
    {
      "cell_type": "markdown",
      "metadata": {
        "id": "BzuNbbCiAehs"
      },
      "source": [
        "A função lista.remove() deleta um elemento da lista. (mas dá erro se o elemento não existir)."
      ]
    },
    {
      "cell_type": "code",
      "metadata": {
        "colab": {
          "base_uri": "https://localhost:8080/"
        },
        "id": "FT_EwL-rAehs",
        "outputId": "7371e409-abe1-4dc6-bd51-2f503264b5e4"
      },
      "source": [
        "animal = input('Digite o animal a ser deletado da lista: ')\n",
        "animais.remove(animal)\n",
        "print(animais)"
      ],
      "execution_count": 60,
      "outputs": [
        {
          "output_type": "stream",
          "text": [
            "Digite o animal a ser deletado da lista: papagaio\n",
            "['gato', 'cão']\n"
          ],
          "name": "stdout"
        }
      ]
    },
    {
      "cell_type": "markdown",
      "metadata": {
        "id": "oerJmPLxAehs"
      },
      "source": [
        "Algumas outras funções úteis:\n",
        "\n",
        "- lista.count() conta quantas vezes um elemento aparece."
      ]
    },
    {
      "cell_type": "code",
      "metadata": {
        "colab": {
          "base_uri": "https://localhost:8080/"
        },
        "id": "VK5RCrTCAeht",
        "outputId": "24b2d83f-9025-4597-c798-bfa20dad2afa"
      },
      "source": [
        "jogadores = ['Ronaldo', 'Rivaldo', 'Ronaldo', 'Adriano']\n",
        "ronaldos = jogadores.count('Ronaldo')\n",
        "\n",
        "print(jogadores)\n",
        "print('Quantidade de Ronaldos: ', ronaldos)"
      ],
      "execution_count": 61,
      "outputs": [
        {
          "output_type": "stream",
          "text": [
            "['Ronaldo', 'Rivaldo', 'Ronaldo', 'Adriano']\n",
            "Quantidade de Ronaldos:  2\n"
          ],
          "name": "stdout"
        }
      ]
    },
    {
      "cell_type": "markdown",
      "metadata": {
        "id": "3u70IAKbAeht"
      },
      "source": [
        "- lista.index() busca em um elemento e fala em qual posição ele aparece."
      ]
    },
    {
      "cell_type": "code",
      "metadata": {
        "colab": {
          "base_uri": "https://localhost:8080/"
        },
        "id": "GjKOTfJzAeht",
        "outputId": "84311035-a501-4229-fd66-a666462a644c"
      },
      "source": [
        "rivaldo = jogadores.index('Rivaldo')\n",
        "print(\"Rivaldo está na posição \", rivaldo)"
      ],
      "execution_count": 62,
      "outputs": [
        {
          "output_type": "stream",
          "text": [
            "Rivaldo está na posição  1\n"
          ],
          "name": "stdout"
        }
      ]
    },
    {
      "cell_type": "markdown",
      "metadata": {
        "id": "laDEvk5KAeht"
      },
      "source": [
        "- lista.sort() ordena uma lista."
      ]
    },
    {
      "cell_type": "code",
      "metadata": {
        "colab": {
          "base_uri": "https://localhost:8080/"
        },
        "id": "ZBplvStRAeht",
        "outputId": "bd8efb10-a1d6-4a79-c306-14cc504683f4"
      },
      "source": [
        "jogadores.sort()\n",
        "print(\"jogadores em ordem alfabética: \", jogadores)"
      ],
      "execution_count": 63,
      "outputs": [
        {
          "output_type": "stream",
          "text": [
            "jogadores em ordem alfabética:  ['Adriano', 'Rivaldo', 'Ronaldo', 'Ronaldo']\n"
          ],
          "name": "stdout"
        }
      ]
    },
    {
      "cell_type": "markdown",
      "metadata": {
        "id": "a8SlvAm_Aehu"
      },
      "source": [
        "- as funções max(lista) e min(lista) obtém, respectivamente, o maior e o menor valor."
      ]
    },
    {
      "cell_type": "code",
      "metadata": {
        "colab": {
          "base_uri": "https://localhost:8080/"
        },
        "id": "QCs8apSNAehu",
        "outputId": "c23d89bb-c91e-4061-da93-44e414b76380"
      },
      "source": [
        "digitos = [3, 1, 4, 1, 5, 9, 2, 6, 5]\n",
        "\n",
        "maior = max(digitos)\n",
        "menor = min(digitos)\n",
        "\n",
        "print(digitos)\n",
        "print(\"Maior = \", maior, \"e menor = \", menor)"
      ],
      "execution_count": 64,
      "outputs": [
        {
          "output_type": "stream",
          "text": [
            "[3, 1, 4, 1, 5, 9, 2, 6, 5]\n",
            "Maior =  9 e menor =  1\n"
          ],
          "name": "stdout"
        }
      ]
    },
    {
      "cell_type": "markdown",
      "metadata": {
        "id": "PKEKrZzKAehu"
      },
      "source": [
        "## **Atividade prática (vídeo-aula)**"
      ]
    },
    {
      "cell_type": "code",
      "metadata": {
        "id": "rBjmIIHvAehu"
      },
      "source": [
        "idades = [44, 40, 21, 14]"
      ],
      "execution_count": 65,
      "outputs": []
    },
    {
      "cell_type": "code",
      "metadata": {
        "colab": {
          "base_uri": "https://localhost:8080/"
        },
        "id": "ZSRasqW0Aehu",
        "outputId": "b39a96f8-1a39-4976-a577-b9a709299688"
      },
      "source": [
        "print(sum(idades)) # soma das idades\n",
        "print(max(idades)) # idade máxima\n",
        "print(min(idades)) # idade mínima\n",
        "print(sum(idades) / len(idades)) # valor médio das idades"
      ],
      "execution_count": 66,
      "outputs": [
        {
          "output_type": "stream",
          "text": [
            "119\n",
            "44\n",
            "14\n",
            "29.75\n"
          ],
          "name": "stdout"
        }
      ]
    },
    {
      "cell_type": "code",
      "metadata": {
        "colab": {
          "base_uri": "https://localhost:8080/"
        },
        "id": "TYNUe2C8Aehv",
        "outputId": "752255ea-ed3d-4bbb-9a14-acac2ff31b46"
      },
      "source": [
        "indice = 0\n",
        "\n",
        "while indice < len(idades):\n",
        "    print(idades[indice])\n",
        "    indice = indice + 1"
      ],
      "execution_count": 67,
      "outputs": [
        {
          "output_type": "stream",
          "text": [
            "44\n",
            "40\n",
            "21\n",
            "14\n"
          ],
          "name": "stdout"
        }
      ]
    },
    {
      "cell_type": "code",
      "metadata": {
        "colab": {
          "base_uri": "https://localhost:8080/"
        },
        "id": "Ukn1W7zLAehv",
        "outputId": "74c60426-7f3f-499b-c8e9-dd5aa561db4f"
      },
      "source": [
        "lista_convidados = [] # instanciando uma lista vazia\n",
        "\n",
        "resposta = 's'\n",
        "while resposta == 's' or resposta == 'S':\n",
        "    resposta = input('Deseja adicionar um nome a lista de convidados (S/n)?: ')\n",
        "\n",
        "    if resposta == 's' or resposta == 'S':\n",
        "        nome = input('Digite o nome do convidado: ')\n",
        "        lista_convidados.append(nome) # adiciona novo nome à lista\n",
        "\n",
        "print(f'\\nLISTA DE CONVIDADOS: \\n\\t{sorted(lista_convidados)}')"
      ],
      "execution_count": 68,
      "outputs": [
        {
          "output_type": "stream",
          "text": [
            "Deseja adicionar um nome a lista de convidados (S/n)?: s\n",
            "Digite o nome do convidado: fernando\n",
            "Deseja adicionar um nome a lista de convidados (S/n)?: s\n",
            "Digite o nome do convidado: katia\n",
            "Deseja adicionar um nome a lista de convidados (S/n)?: s\n",
            "Digite o nome do convidado: sara\n",
            "Deseja adicionar um nome a lista de convidados (S/n)?: s\n",
            "Digite o nome do convidado: eloah\n",
            "Deseja adicionar um nome a lista de convidados (S/n)?: n\n",
            "\n",
            "LISTA DE CONVIDADOS: \n",
            "\t['eloah', 'fernando', 'katia', 'sara']\n"
          ],
          "name": "stdout"
        }
      ]
    },
    {
      "cell_type": "code",
      "metadata": {
        "colab": {
          "base_uri": "https://localhost:8080/"
        },
        "id": "av0PWk2GAehv",
        "outputId": "028638aa-472e-4eac-adc2-969a2708fbf0"
      },
      "source": [
        "lista_convidados = [] # instanciando uma lista vazia\n",
        "\n",
        "resposta = 's'\n",
        "while resposta == 's' or resposta == 'S':\n",
        "    resposta = input('Deseja adicionar um nome a lista de convidados (S/n)?: ')\n",
        "\n",
        "    if resposta == 's' or resposta == 'S':\n",
        "        nome = input('Digite o nome do convidado: ')\n",
        "        lista_convidados.append(nome) # adiciona novo nome à lista\n",
        "    \n",
        "print('\\nLISTA DE CONVIDADOS:')\n",
        "\n",
        "indice = 0\n",
        "while indice < len(lista_convidados):\n",
        "    print(f'\\t{lista_convidados[indice]}')\n",
        "    indice = indice + 1"
      ],
      "execution_count": 69,
      "outputs": [
        {
          "output_type": "stream",
          "text": [
            "Deseja adicionar um nome a lista de convidados (S/n)?: s\n",
            "Digite o nome do convidado: fernando\n",
            "Deseja adicionar um nome a lista de convidados (S/n)?: s\n",
            "Digite o nome do convidado: katia\n",
            "Deseja adicionar um nome a lista de convidados (S/n)?: n\n",
            "\n",
            "LISTA DE CONVIDADOS:\n",
            "\tfernando\n",
            "\tkatia\n"
          ],
          "name": "stdout"
        }
      ]
    },
    {
      "cell_type": "markdown",
      "metadata": {
        "id": "D_vfgUxNAehw"
      },
      "source": [
        "## **Tuplas**\n",
        "\n",
        "Uma tupla é uma coleção de objetos que lembra muito as listas.\n",
        "\n",
        "Ao invés de colchetes, usamos parênteses para declarar as tuplas:\n",
        "\n",
        "numeros = (1,2,3,5,7,11)\n",
        "\n",
        "Podemos declarar sem parênteses também:\n",
        "\n",
        "        numeros = 1,2,3,5,7,11"
      ]
    },
    {
      "cell_type": "code",
      "metadata": {
        "id": "qz1xdsBBAehw",
        "outputId": "a2c218fc-b30a-45f2-ff85-09f446f5c1b3"
      },
      "source": [
        "# Instanciando um objeto chamado \"numeros\" e imprimindo-o seu tipo\n",
        "numeros = 1,2,3,5,7,11\n",
        "type(numeros)"
      ],
      "execution_count": null,
      "outputs": [
        {
          "output_type": "display_data",
          "data": {
            "text/plain": [
              "tuple"
            ]
          },
          "metadata": {
            "tags": []
          }
        }
      ]
    },
    {
      "cell_type": "code",
      "metadata": {
        "id": "UL5_LJLWAehw",
        "outputId": "9656657d-b1d6-4c4b-ae03-0811c5b4eeec"
      },
      "source": [
        "# Para acessar um valor, utilizamos a mesma sintaxe das listas\n",
        "print(numeros[4])"
      ],
      "execution_count": null,
      "outputs": [
        {
          "output_type": "stream",
          "text": [
            "7\n"
          ],
          "name": "stdout"
        }
      ]
    },
    {
      "cell_type": "code",
      "metadata": {
        "id": "6UrWxSUZAehw",
        "outputId": "1c532248-bdf3-4d2c-c131-378bdca0a328"
      },
      "source": [
        "'''\n",
        "Porém, tuplas são imutáveis: não é possível adicionar ou modificar valores.\n",
        "Ao tentar realizar uma atualização e/ou uma nova atribuição algum index da tupla, você terá uma mensagem de erro.\n",
        "\n",
        "Descomente o código e execute-o:\n",
        "'''\n",
        "# numeros[4] = 8 "
      ],
      "execution_count": null,
      "outputs": [
        {
          "output_type": "display_data",
          "data": {
            "text/plain": [
              "'\\nPorém, tuplas são imutáveis: não é possível adicionar ou modificar valores.\\nAo tentar realizar uma atualização e/ou uma nova atribuição algum index da tupla, você terá uma mensagem de erro.\\n\\nDescomente o código e execute-o:\\n'"
            ]
          },
          "metadata": {
            "tags": []
          }
        }
      ]
    },
    {
      "cell_type": "code",
      "metadata": {
        "id": "q57qBeK9Aehx",
        "outputId": "03bfc9e1-a110-44d7-f51b-e0d983a17aed"
      },
      "source": [
        "# Podemos gerar uma tupla a partir de uma lista...\n",
        "lista1 = [3, 1, 4, 1, 5, 9, 2, 6, 5]\n",
        "print(type(lista1))\n",
        "\n",
        "tupla1 = tuple(lista1)\n",
        "print(type(tupla1))\n",
        "\n",
        "print(tupla1)"
      ],
      "execution_count": null,
      "outputs": [
        {
          "output_type": "stream",
          "text": [
            "<class 'list'>\n",
            "<class 'tuple'>\n",
            "(3, 1, 4, 1, 5, 9, 2, 6, 5)\n"
          ],
          "name": "stdout"
        }
      ]
    },
    {
      "cell_type": "code",
      "metadata": {
        "id": "BLtNx7zWAehx",
        "outputId": "3eabc89f-b315-4b3a-b47d-ee3be797905b"
      },
      "source": [
        "# ...ou uma lista a partir de uma tupla:\n",
        "tupla2 = 1, 6, 1, 8\n",
        "print(type(tupla2))\n",
        "\n",
        "lista2 = list(tupla2)\n",
        "print(type(lista2))\n",
        "\n",
        "print(lista2)"
      ],
      "execution_count": null,
      "outputs": [
        {
          "output_type": "stream",
          "text": [
            "<class 'tuple'>\n",
            "<class 'list'>\n",
            "[1, 6, 1, 8]\n"
          ],
          "name": "stdout"
        }
      ]
    },
    {
      "cell_type": "code",
      "metadata": {
        "id": "tG1kvh2PAehx",
        "outputId": "27b65b0d-d6b8-4101-8005-8af593a3ac6c"
      },
      "source": [
        "# Também pode-se usar o unpacking com uma tupla:\n",
        "print(numeros)\n",
        "\n",
        "a, b, c, d, e, f = numeros # \"desempacota\" a tupla numeros\n",
        "print(\"O primeiro vale:\", a, \"e o ultimo vale:\", f)"
      ],
      "execution_count": null,
      "outputs": [
        {
          "output_type": "stream",
          "text": [
            "(1, 2, 3, 5, 7, 11)\n",
            "O primeiro vale: 1 e o ultimo vale: 11\n"
          ],
          "name": "stdout"
        }
      ]
    },
    {
      "cell_type": "markdown",
      "metadata": {
        "id": "svW5AL64Aehx"
      },
      "source": [
        "## **Atividade prática (vídeo-aula)**"
      ]
    },
    {
      "cell_type": "code",
      "metadata": {
        "id": "VFDk8lzWAehx",
        "outputId": "a3189f2f-4b99-4cbc-f15a-4312a56ecb50"
      },
      "source": [
        "# instanciando uma tupla\n",
        "estados_BR = ('São Paulo', 'Minas Gerais', 'Paraná')\n",
        "print(estados_BR, type(estados_BR)) # imprimindo os elementos e o tipo de objeto"
      ],
      "execution_count": null,
      "outputs": [
        {
          "output_type": "stream",
          "text": [
            "('São Paulo', 'Minas Gerais', 'Paraná') <class 'tuple'>\n"
          ],
          "name": "stdout"
        }
      ]
    },
    {
      "cell_type": "code",
      "metadata": {
        "id": "oG4LkVNyAehy",
        "outputId": "08d2d9ea-8a03-4ff5-b888-d5177e92884e"
      },
      "source": [
        "# podemos também instanciar uma tupla sem parênteses\n",
        "paises_eropeu = 'Portugal', 'Itália', 'França', 'Holanda'\n",
        "print(paises_eropeu, type(paises_eropeu))"
      ],
      "execution_count": null,
      "outputs": [
        {
          "output_type": "stream",
          "text": [
            "('Portugal', 'Itália', 'França', 'Holanda') <class 'tuple'>\n"
          ],
          "name": "stdout"
        }
      ]
    },
    {
      "cell_type": "code",
      "metadata": {
        "id": "t-a-3S4UAehy",
        "outputId": "af5a0d2f-69c0-49cc-89c4-d864fbbb8dba"
      },
      "source": [
        "# declarando uma tupla com um elemento\n",
        "marca_carro = 'Audi',\n",
        "print(marca_carro, type(marca_carro))"
      ],
      "execution_count": null,
      "outputs": [
        {
          "output_type": "stream",
          "text": [
            "('Audi',) <class 'tuple'>\n"
          ],
          "name": "stdout"
        }
      ]
    },
    {
      "cell_type": "code",
      "metadata": {
        "id": "1dQ-kuh7Aehy",
        "outputId": "a1f2dcb6-1396-432f-9e84-754cf13adf7c"
      },
      "source": [
        "# também podemos utilizar a função \"len()\" para contar os elementos presentes em uma tupla\n",
        "print(len(estados_BR))\n",
        "print(len(paises_eropeu))\n",
        "print(len(marca_carro))"
      ],
      "execution_count": null,
      "outputs": [
        {
          "output_type": "stream",
          "text": [
            "3\n",
            "4\n",
            "1\n"
          ],
          "name": "stdout"
        }
      ]
    },
    {
      "cell_type": "code",
      "metadata": {
        "id": "-tJxZTFjAehy",
        "outputId": "6e27cff0-7a12-45e6-a6bc-6cfc0006bafd"
      },
      "source": [
        "# podemos acessar um elemento da tupla através do índice\n",
        "print(estados_BR[1])\n",
        "print(paises_eropeu[0])\n",
        "print(marca_carro[:])"
      ],
      "execution_count": null,
      "outputs": [
        {
          "output_type": "stream",
          "text": [
            "Minas Gerais\n",
            "Portugal\n",
            "('Audi',)\n"
          ],
          "name": "stdout"
        }
      ]
    },
    {
      "cell_type": "code",
      "metadata": {
        "id": "D5pKmgNVAehy",
        "outputId": "f6d13163-7d5c-4389-d826-52220885b44c"
      },
      "source": [
        "# conseguimos declarar uma tupla se nenhum valor\n",
        "# pórem quando consultamos com a função \"len()\" ele retorna que tem um elemnto neutro\n",
        "valor_pago = '',\n",
        "print(valor_pago, len(valor_pago), type(valor_pago))"
      ],
      "execution_count": null,
      "outputs": [
        {
          "output_type": "stream",
          "text": [
            "('',) 1 <class 'tuple'>\n"
          ],
          "name": "stdout"
        }
      ]
    },
    {
      "cell_type": "code",
      "metadata": {
        "id": "UxwJZufMAehz",
        "outputId": "3c61ca9c-4dd4-492b-82dd-65e55ea12023"
      },
      "source": [
        "# na tupla temos uma função exclusiva que não há na lista\n",
        "# a função chamada \"unpacking\"\n",
        "# declarando uma tupla\n",
        "linguagens_programacao = 'Python', 'SQL', 'R', 'Ruby', 'Kotlin', 'Groovy', 'Java', 'C', 'C++', 'C#', 'Prolog', 'Lisp'\n",
        "\n",
        "# imprimindo os elementos da tupla e quantidade de elementos presentes\n",
        "print(linguagens_programacao)\n",
        "print(len(linguagens_programacao))\n",
        "\n",
        "# utilizando a função unpacking\n",
        "a, b, c, d, e, f, g, h, i, j, l, m = linguagens_programacao\n",
        "print(a, b, c, d, e, f, g, h, i, j, l, m)"
      ],
      "execution_count": null,
      "outputs": [
        {
          "output_type": "stream",
          "text": [
            "('Python', 'SQL', 'R', 'Ruby', 'Kotlin', 'Groovy', 'Java', 'C', 'C++', 'C#', 'Prolog', 'Lisp')\n",
            "12\n",
            "Python SQL R Ruby Kotlin Groovy Java C C++ C# Prolog Lisp\n"
          ],
          "name": "stdout"
        }
      ]
    },
    {
      "cell_type": "code",
      "metadata": {
        "id": "Fr6t9IvXAehz",
        "outputId": "f5f8f140-1649-4640-cbbb-699151ec92fc"
      },
      "source": [
        "# podemos desempacotar uma tupla utilizando o asterisco (*) na frente do nome da variável\n",
        "print(*linguagens_programacao)"
      ],
      "execution_count": null,
      "outputs": [
        {
          "output_type": "stream",
          "text": [
            "Python SQL R Ruby Kotlin Groovy Java C C++ C# Prolog Lisp\n"
          ],
          "name": "stdout"
        }
      ]
    },
    {
      "cell_type": "markdown",
      "metadata": {
        "id": "V6gSEQwHAehz"
      },
      "source": [
        "# **Aula 02 - Strings I**"
      ]
    },
    {
      "cell_type": "markdown",
      "metadata": {
        "id": "lietuj1nAehz"
      },
      "source": [
        "## **Funções de strings**"
      ]
    },
    {
      "cell_type": "code",
      "metadata": {
        "id": "gONvwqGWAehz",
        "outputId": "00b570e7-3ba0-4e0e-a4a5-c8ab5fa54c97"
      },
      "source": [
        "# Suponhamos que temos a seguinte string:\n",
        "\n",
        "frase = 'uma FRASE'\n",
        "frase"
      ],
      "execution_count": null,
      "outputs": [
        {
          "output_type": "display_data",
          "data": {
            "text/plain": [
              "'uma FRASE'"
            ]
          },
          "metadata": {
            "tags": []
          }
        }
      ]
    },
    {
      "cell_type": "code",
      "metadata": {
        "id": "B5V-B7exAeh0",
        "outputId": "db9f6939-c787-49a6-933b-ee94cf8d2199"
      },
      "source": [
        "# Podemos acessar individualmente cada caractere em uma frase.\n",
        "# A ideia é a mesma de acessar uma lista:\n",
        "print(frase[0])\n",
        "print(frase[1])\n",
        "print(frase[2])"
      ],
      "execution_count": null,
      "outputs": [
        {
          "output_type": "stream",
          "text": [
            "u\n",
            "m\n",
            "a\n"
          ],
          "name": "stdout"
        }
      ]
    },
    {
      "cell_type": "code",
      "metadata": {
        "id": "BN3a1-ipAeh0",
        "outputId": "12765348-8dec-4a8b-b42d-2d3e61772f94"
      },
      "source": [
        "# Podemos também realizar a contagem de caracteres presentes na variável\n",
        "tamanho = len(frase)\n",
        "print(\"A frase possui\", tamanho, \"caracteres\")"
      ],
      "execution_count": null,
      "outputs": [
        {
          "output_type": "stream",
          "text": [
            "A frase possui 9 caracteres\n"
          ],
          "name": "stdout"
        }
      ]
    },
    {
      "cell_type": "code",
      "metadata": {
        "id": "jTGMtzGaAeh0"
      },
      "source": [
        "# Porém, strings são imutáveis: não podemos alterar caracteres individuais\n",
        "# A linha abaixo, se for descomentada, dará erro no programa:\n",
        "# frase[4] = 'C'"
      ],
      "execution_count": null,
      "outputs": []
    },
    {
      "cell_type": "code",
      "metadata": {
        "id": "mjVbQWH9Aeh0",
        "outputId": "da7955e3-947a-41c8-b55c-d3b39df239ce"
      },
      "source": [
        "# Podemos converter strings para listas:\n",
        "print(type(frase))\n",
        "\n",
        "listaFrase = list(frase)\n",
        "print(listaFrase)\n",
        "print(type(listaFrase))"
      ],
      "execution_count": null,
      "outputs": [
        {
          "output_type": "stream",
          "text": [
            "<class 'str'>\n",
            "['u', 'm', 'a', ' ', 'F', 'R', 'A', 'S', 'E']\n",
            "<class 'list'>\n"
          ],
          "name": "stdout"
        }
      ]
    },
    {
      "cell_type": "code",
      "metadata": {
        "id": "hKoXF3xhAeh0",
        "outputId": "3e1b98ba-1d40-4fbc-e030-65cee1d24fbb"
      },
      "source": [
        "# A função join() intercala cada elemento de uma lista com uma string.\n",
        "stringFinal = '-py'.join(listaFrase)\n",
        "print(stringFinal)"
      ],
      "execution_count": null,
      "outputs": [
        {
          "output_type": "stream",
          "text": [
            "u-pym-pya-py -pyF-pyR-pyA-pyS-pyE\n"
          ],
          "name": "stdout"
        }
      ]
    },
    {
      "cell_type": "code",
      "metadata": {
        "id": "DOfqvDRTAeh1",
        "outputId": "3bee18d3-7b24-4497-e73e-06ca2b6f52a8"
      },
      "source": [
        "# Usar um join() com uma string vazia é útil para transformar a lista de volta\n",
        "# em string:\n",
        "stringFinal = ''.join(listaFrase)\n",
        "print(stringFinal)"
      ],
      "execution_count": null,
      "outputs": [
        {
          "output_type": "stream",
          "text": [
            "uma FRASE\n"
          ],
          "name": "stdout"
        }
      ]
    },
    {
      "cell_type": "code",
      "metadata": {
        "id": "ez92GdvFAeh1"
      },
      "source": [
        "# Existem algumas funções interessantes que retornam a string \"tratada\":\n",
        "s1 = frase.capitalize() # 1a letra maiúscula, restante minúscula\n",
        "s2 = frase.title() # todo início de palavra em maiúscula, resto minúscula\n",
        "s3 = frase.upper() # string inteira em maiúscula\n",
        "s4 = frase.lower() # string inteira em minúscula\n",
        "s5 = frase.replace('F', 'C') # substitui a primeira substring pela segunda"
      ],
      "execution_count": null,
      "outputs": []
    },
    {
      "cell_type": "code",
      "metadata": {
        "id": "-X1pfw6VAeh1",
        "outputId": "d4a5cb6b-5cbb-47b2-a44c-892ccabe8fe0"
      },
      "source": [
        "print(s1)\n",
        "print(s2)\n",
        "print(s3)\n",
        "print(s4)\n",
        "print(s5)"
      ],
      "execution_count": null,
      "outputs": [
        {
          "output_type": "stream",
          "text": [
            "Uma frase\n",
            "Uma Frase\n",
            "UMA FRASE\n",
            "uma frase\n",
            "uma CRASE\n"
          ],
          "name": "stdout"
        }
      ]
    },
    {
      "cell_type": "code",
      "metadata": {
        "id": "-FKaPeOGAeh1",
        "outputId": "f7e792ba-93b4-4d27-a9d4-c8e16287e2f0"
      },
      "source": [
        "# Note que NENHUMA delas ALTERA a string original, elas sempre retornam\n",
        "# a string nova.\n",
        "print('String original:', frase)"
      ],
      "execution_count": null,
      "outputs": [
        {
          "output_type": "stream",
          "text": [
            "String original: uma FRASE\n"
          ],
          "name": "stdout"
        }
      ]
    },
    {
      "cell_type": "code",
      "metadata": {
        "id": "HIvzG70qAeh1"
      },
      "source": [
        "# Outra possibilidade com strings é quebrar a string em uma lista de substrings\n",
        "# Sempre que o caractere especificado é encontrado, a string é quebrada\n",
        "quebra1 = frase.split(' ') # quebra a frase no caractere espaço em branco\n",
        "quebra2 = s3.split('A') # quebra a frase em maiúsculas no caractere 'A'"
      ],
      "execution_count": null,
      "outputs": []
    },
    {
      "cell_type": "code",
      "metadata": {
        "id": "DuEq6PEgAeh2",
        "outputId": "3351af8a-b60d-457a-9b57-e34ee2453c85"
      },
      "source": [
        "print(quebra1)\n",
        "print(quebra2)"
      ],
      "execution_count": null,
      "outputs": [
        {
          "output_type": "stream",
          "text": [
            "['uma', 'FRASE']\n",
            "['UM', ' FR', 'SE']\n"
          ],
          "name": "stdout"
        }
      ]
    },
    {
      "cell_type": "code",
      "metadata": {
        "id": "lkS4-0XgAeh2",
        "outputId": "5bd10148-236a-4637-a2e5-030fdcffa715"
      },
      "source": [
        "# Podemos inserir quebras de linha com '\\n'\n",
        "frase = 'uma\\nFRASE'\n",
        "print(frase)"
      ],
      "execution_count": null,
      "outputs": [
        {
          "output_type": "stream",
          "text": [
            "uma\n",
            "FRASE\n"
          ],
          "name": "stdout"
        }
      ]
    },
    {
      "cell_type": "code",
      "metadata": {
        "id": "TSQwiA7xAeh2",
        "outputId": "d79744c8-2a9d-43a5-cfa3-ae31775d5639"
      },
      "source": [
        "# Podemos inserir tabulação com '\\t'\n",
        "frase = 'uma\\n\\tFRASE'\n",
        "print(frase)"
      ],
      "execution_count": null,
      "outputs": [
        {
          "output_type": "stream",
          "text": [
            "uma\n",
            "\tFRASE\n"
          ],
          "name": "stdout"
        }
      ]
    },
    {
      "cell_type": "code",
      "metadata": {
        "id": "_3roSOF-Aeh2",
        "outputId": "a613e867-bae5-4ffa-e35e-ff865094a1ae"
      },
      "source": [
        "# Para conseguir representar a barra '\\', precisamos de 2 barras:\n",
        "frase = 'uma\\\\FRASE'\n",
        "print(frase)"
      ],
      "execution_count": null,
      "outputs": [
        {
          "output_type": "stream",
          "text": [
            "uma\\FRASE\n"
          ],
          "name": "stdout"
        }
      ]
    },
    {
      "cell_type": "markdown",
      "metadata": {
        "id": "XBf-kcnsAeh2"
      },
      "source": [
        "Clique no link abaixo para acessar a documentação de Strings do Python 3.\n",
        "- https://docs.python.org/3.8/library/stdtypes.html#str"
      ]
    },
    {
      "cell_type": "markdown",
      "metadata": {
        "id": "VST6GVXCAeh3"
      },
      "source": [
        "## **Atividade prática (vídeo-aula)**"
      ]
    },
    {
      "cell_type": "code",
      "metadata": {
        "id": "-JGPsRicAeh3",
        "outputId": "47ab68a6-da32-4200-b5cd-625620acf739"
      },
      "source": [
        "# podemos instanciar uma string tanto utlizando aspas simples ou com aspas duplas\n",
        "curso = 'Ciência de Dados'\n",
        "linguagem = \"Python\"\n",
        "\n",
        "print(curso)\n",
        "print(linguagem)"
      ],
      "execution_count": null,
      "outputs": [
        {
          "output_type": "stream",
          "text": [
            "Ciência de Dados\n",
            "Python\n"
          ],
          "name": "stdout"
        }
      ]
    },
    {
      "cell_type": "code",
      "metadata": {
        "id": "X1_vmGUoAeh3",
        "outputId": "b5950b4a-03b8-41dc-b777-e59555e0bdae"
      },
      "source": [
        "# veja outro exemplo na utilização de aspas na atribuição de uma variável do tipo string\n",
        "nome = 'Fernando'\n",
        "print(nome, type(nome))"
      ],
      "execution_count": null,
      "outputs": [
        {
          "output_type": "stream",
          "text": [
            "Fernando <class 'str'>\n"
          ],
          "name": "stdout"
        }
      ]
    },
    {
      "cell_type": "code",
      "metadata": {
        "id": "jBuGWFskAeh3",
        "outputId": "ccf71da5-c954-46b0-92a6-9d670776cff0"
      },
      "source": [
        "# declarando uma variável quando há uma aspa no próprio elemento atribuído a variável\n",
        "learning = 'I'm learning Python'\n",
        "print(learning)"
      ],
      "execution_count": null,
      "outputs": [
        {
          "output_type": "error",
          "ename": "SyntaxError",
          "evalue": "SyntaxError: invalid syntax (<ipython-input-231-325bbd449533>, line 2)",
          "traceback": [
            "\u001b[0;31m---------------------------------------------------------------------------",
            "Traceback (most recent call last)",
            "SyntaxError: invalid syntax (<ipython-input-231-325bbd449533>, line 2)"
          ]
        }
      ]
    },
    {
      "cell_type": "markdown",
      "metadata": {
        "id": "nZfO5otrAeh3"
      },
      "source": [
        "Perceba que, temos um alerta de erro:\n",
        "\n",
        "        SyntaxError: invalid syntax"
      ]
    },
    {
      "cell_type": "code",
      "metadata": {
        "id": "sVKXNRruAeh4",
        "outputId": "7807fc1a-d329-406e-9b7b-85d39e09acc9"
      },
      "source": [
        "# para resolver este problema devemos usar as aspas duplas \n",
        "# entre o elemento e/ou a frase que estamos atribuindo a variável\n",
        "learning = \"I'm learning Python\"\n",
        "print(learning)"
      ],
      "execution_count": null,
      "outputs": [
        {
          "output_type": "stream",
          "text": [
            "I'm learning Python\n"
          ],
          "name": "stdout"
        }
      ]
    },
    {
      "cell_type": "code",
      "metadata": {
        "id": "_q2QfdpWAeh4",
        "outputId": "017791dd-d447-419d-e46b-51f468ed3fef"
      },
      "source": [
        "# e quando queremos dentro de uma variável atribuir um texto é uma citação\n",
        "# para isso, devemos utilizar a contabarra (\\) um caracter de escape\n",
        "\n",
        "# exemplo\n",
        "frase = \"Assim disse o poeta: \\\"Viver é melhor que sonhar!\\\"\"\n",
        "print(frase)"
      ],
      "execution_count": null,
      "outputs": [
        {
          "output_type": "stream",
          "text": [
            "Assim disse o poeta: \"Viver é melhor que sonhar!\"\n"
          ],
          "name": "stdout"
        }
      ]
    },
    {
      "cell_type": "code",
      "metadata": {
        "id": "zw3fGyn8Aeh4",
        "outputId": "8defa737-e09a-4a5b-852e-d5c1abf1d420"
      },
      "source": [
        "# como em lista e tupla, podemos utilizar o fatiamento de uma string\n",
        "empresa = 'GOOGLE'\n",
        "\n",
        "print(empresa[0])\n",
        "print(empresa[:3])\n",
        "print(empresa[3:])\n",
        "print(empresa[2:4])\n",
        "print(empresa[::2])\n",
        "print(empresa[:-1])\n",
        "print(empresa[::-1])\n",
        "print(empresa[:][:3])"
      ],
      "execution_count": null,
      "outputs": [
        {
          "output_type": "stream",
          "text": [
            "G\n",
            "GOO\n",
            "GLE\n",
            "OG\n",
            "GOL\n",
            "GOOGL\n",
            "ELGOOG\n",
            "GOO\n"
          ],
          "name": "stdout"
        }
      ]
    },
    {
      "cell_type": "code",
      "metadata": {
        "id": "0hTrQawXAeh4",
        "outputId": "0e973f3d-4ea7-4887-97d1-7aa0dda4ed93"
      },
      "source": [
        "# instanciando três elementos do tipo string na variável \"empresas\"\n",
        "empresas = 'IBM, DELL, ACER'\n",
        "\n",
        "print(empresas)\n",
        "print(type(empresas))\n",
        "print(len(empresas))"
      ],
      "execution_count": null,
      "outputs": [
        {
          "output_type": "stream",
          "text": [
            "IBM, DELL, ACER\n",
            "<class 'str'>\n",
            "15\n"
          ],
          "name": "stdout"
        }
      ]
    },
    {
      "cell_type": "code",
      "metadata": {
        "id": "BItyAfMmAeh4",
        "outputId": "c5eb49b7-ea7a-4ca7-fbbe-45ecd13bacb9"
      },
      "source": [
        "# com o método \".split()\" podemos separar os elementos de uma variável\n",
        "lista_empresas = empresas.split(', ')\n",
        "\n",
        "print(lista_empresas)\n",
        "print(type(lista_empresas))\n",
        "print(len(lista_empresas))"
      ],
      "execution_count": null,
      "outputs": [
        {
          "output_type": "stream",
          "text": [
            "['IBM', 'DELL', 'ACER']\n",
            "<class 'list'>\n",
            "3\n"
          ],
          "name": "stdout"
        }
      ]
    },
    {
      "cell_type": "code",
      "metadata": {
        "id": "dde7Xxx6Aeh5",
        "outputId": "b8d995ff-aa7e-4e7e-e2ea-a67a5dea558e"
      },
      "source": [
        "# acessando o elemento do índice 1 e todos os seus caracteres\n",
        "print(lista_empresas[1][:])"
      ],
      "execution_count": null,
      "outputs": [
        {
          "output_type": "stream",
          "text": [
            "DELL\n"
          ],
          "name": "stdout"
        }
      ]
    },
    {
      "cell_type": "code",
      "metadata": {
        "id": "HAVQta_NAeh5",
        "outputId": "e3fdb819-4189-4e2e-e8c6-8cd8a45d63ff"
      },
      "source": [
        "# acessando o último elemento e seus caracteres de trás pra frente\n",
        "print(lista_empresas[-1][::-1])"
      ],
      "execution_count": null,
      "outputs": [
        {
          "output_type": "stream",
          "text": [
            "RECA\n"
          ],
          "name": "stdout"
        }
      ]
    },
    {
      "cell_type": "code",
      "metadata": {
        "id": "Yy4qjwnsAeh5",
        "outputId": "0f0ba99b-1337-4671-d0cb-edcd3aa52444"
      },
      "source": [
        "# instanciando uma variável com sequências de caracteres (strings)\n",
        "nomes = 'Fernando, Kátia, Sara, Eloah'\n",
        "print(type(nomes))\n",
        "\n",
        "# outro exemplo de utilização do método \".split()\"\n",
        "lista_nomes = nomes.split(',')\n",
        "print(type(lista_nomes))    # tipo de dado \n",
        "print(sorted(lista_nomes))  # ordenando os elementos"
      ],
      "execution_count": null,
      "outputs": [
        {
          "output_type": "stream",
          "text": [
            "<class 'str'>\n",
            "<class 'list'>\n",
            "[' Eloah', ' Kátia', ' Sara', 'Fernando']\n"
          ],
          "name": "stdout"
        }
      ]
    },
    {
      "cell_type": "code",
      "metadata": {
        "id": "3c0z7YOcAeh5",
        "outputId": "9d5fc615-f3f5-417d-c807-df2761e8f23a"
      },
      "source": [
        "# removendo espaços de uma string\n",
        "# para isso utilizamos o método \".strip()\"\n",
        "\n",
        "# exemplo\n",
        "cabecalho = '          MENU PRINCIPAL          '\n",
        "print(len(cabecalho))\n",
        "print(cabecalho)"
      ],
      "execution_count": null,
      "outputs": [
        {
          "output_type": "stream",
          "text": [
            "34\n",
            "          MENU PRINCIPAL          \n"
          ],
          "name": "stdout"
        }
      ]
    },
    {
      "cell_type": "code",
      "metadata": {
        "id": "vHWToQnMAeh6",
        "outputId": "746f3287-460e-4903-a94e-b02176af0b66"
      },
      "source": [
        "# removendo espaços com uso do método \".strip()\"\n",
        "removendo_espacos = cabecalho.strip()\n",
        "print(removendo_espacos)\n",
        "print(len(removendo_espacos))"
      ],
      "execution_count": null,
      "outputs": [
        {
          "output_type": "stream",
          "text": [
            "MENU PRINCIPAL\n",
            "14\n"
          ],
          "name": "stdout"
        }
      ]
    },
    {
      "cell_type": "code",
      "metadata": {
        "id": "yTjmVAyLAeh6",
        "outputId": "307957f4-62ce-4f9c-9381-9f0d38b1b8d5"
      },
      "source": [
        "# conhecendo alguns métddos para tratar formatação de string\n",
        "cidade = 'rIO dE JAnEirO'\n",
        "\n",
        "print(cidade.title())       # Rio De Janeiro\n",
        "print(cidade.capitalize())  # Rio De Janeiro\n",
        "print(cidade.lower())       # rio de janeiro\n",
        "print(cidade.upper())       # RIO DE JANEIRO"
      ],
      "execution_count": null,
      "outputs": [
        {
          "output_type": "stream",
          "text": [
            "Rio De Janeiro\n",
            "Rio de janeiro\n",
            "rio de janeiro\n",
            "RIO DE JANEIRO\n"
          ],
          "name": "stdout"
        }
      ]
    },
    {
      "cell_type": "code",
      "metadata": {
        "id": "Sgu7j6rMAeh6",
        "outputId": "5f6f0108-371b-4723-9d6d-c59b5adbcbfa"
      },
      "source": [
        "# aplicando os métodos para tratar string via entrada do usuário\n",
        "nome_cidade = input(\"Qual cidade é conhecida como \\\"Cidade Maravilhosa\\\": \")\n",
        "\n",
        "nome_cidade = nome_cidade.strip()\n",
        "while nome_cidade.lower() != 'rio de janeiro':\n",
        "    print('\\nTenta de novo!')\n",
        "    nome_cidade = input(\"\\nQual cidade é conhecida como \\\"Cidade Maravilhosa\\\": \")\n",
        "\n",
        "print('\\n\\tAcertoooouuu!')"
      ],
      "execution_count": null,
      "outputs": [
        {
          "output_type": "stream",
          "text": [
            "Qual cidade é conhecida como \"Cidade Maravilhosa\":  rio de janeiro  \n",
            "\n",
            "\tAcertoooouuu!\n"
          ],
          "name": "stdout"
        }
      ]
    },
    {
      "cell_type": "code",
      "metadata": {
        "id": "7jSm8EkBAeh6",
        "outputId": "2955598c-1a5b-4ddf-d095-4579abe3b66c"
      },
      "source": [
        "# instanciando uma cadeia de caracteres na variável \"texto\"\n",
        "texto  = 'Python é uma linguagem muito poderosa!'\n",
        "\n",
        "# como método \"in\" verificando se palavra a \"Python\" está contida na frase\n",
        "palavra = 'Python' in texto\n",
        "print(palavra) # seu retorno é uma resposta boolena - True ou False"
      ],
      "execution_count": null,
      "outputs": [
        {
          "output_type": "stream",
          "text": [
            "True\n"
          ],
          "name": "stdout"
        }
      ]
    },
    {
      "cell_type": "code",
      "metadata": {
        "id": "83RH14gAAeh7",
        "outputId": "f5c301f9-e8ec-4ace-da57-9ec0cb161c2d"
      },
      "source": [
        "# outro exemplo - poema de Pablo Neruda\n",
        "\n",
        "tenho_fome_de_tua_boca = '''\n",
        "Tenho fome de tua boca, de tua voz, de teu pêlo\n",
        "e por estas ruas me vou sem alimento, calado,\n",
        "não me nutri o pão, a aurora me altera,\n",
        "busco o som líquido de teus pés neste dia.\n",
        "\n",
        "Estou faminto de teu riso resvalado,\n",
        "de tuas mãos cor de furioso silo,\n",
        "tenho fome da pálida pedra de tuas unhas,\n",
        "quero comer teu pé como uma intacta amêndoa.\n",
        "\n",
        "Quero comer o raio queimado em tua formosura,\n",
        "o nariz soberano do arrogante rosto,\n",
        "quero comer a sombra fugaz de tuas sobrancelhas.\n",
        "\n",
        "E faminto venho e vou olfateando o crepúsculo\n",
        "buscando-te, buscando teu coração quente\n",
        "como uma puma na solidão de Quitratúe.\n",
        "'''\n",
        "\n",
        "tenho_fome_de_tua_boca"
      ],
      "execution_count": null,
      "outputs": [
        {
          "output_type": "display_data",
          "data": {
            "text/plain": [
              "'\\nTenho fome de tua boca, de tua voz, de teu pêlo\\ne por estas ruas me vou sem alimento, calado,\\nnão me nutri o pão, a aurora me altera,\\nbusco o som líquido de teus pés neste dia.\\n\\nEstou faminto de teu riso resvalado,\\nde tuas mãos cor de furioso silo,\\ntenho fome da pálida pedra de tuas unhas,\\nquero comer teu pé como uma intacta amêndoa.\\n\\nQuero comer o raio queimado em tua formosura,\\no nariz soberano do arrogante rosto,\\nquero comer a sombra fugaz de tuas sobrancelhas.\\n\\nE faminto venho e vou olfateando o crepúsculo\\nbuscando-te, buscando teu coração quente\\ncomo uma puma na solidão de Quitratúe.\\n'"
            ]
          },
          "metadata": {
            "tags": []
          }
        }
      ]
    },
    {
      "cell_type": "code",
      "metadata": {
        "id": "irIUuBbTAeh7",
        "outputId": "46a89b88-f750-4944-d9d0-57acfc6f4185"
      },
      "source": [
        "palavra = 'de tuas mãos cor de furioso silo' in tenho_fome_de_tua_boca\n",
        "print(palavra) # seu retorno é uma resposta boolena - True ou False"
      ],
      "execution_count": null,
      "outputs": [
        {
          "output_type": "stream",
          "text": [
            "True\n"
          ],
          "name": "stdout"
        }
      ]
    },
    {
      "cell_type": "markdown",
      "metadata": {
        "id": "5HSRm3WbAeh7"
      },
      "source": [
        "# **Aula 03 - Strings II**"
      ]
    },
    {
      "cell_type": "markdown",
      "metadata": {
        "id": "C03xyWLHAeh7"
      },
      "source": [
        "## **Uso de operadores aritméticos com strings**"
      ]
    },
    {
      "cell_type": "code",
      "metadata": {
        "id": "-0dxGbHqAeh7",
        "outputId": "b6ba624a-ff3d-4cc1-ad68-ca82137dea26"
      },
      "source": [
        "# Dois operadores aritméticos possuem um comportamento especial em strings:\n",
        "# Operador de soma (+): concatena (une) 2 strings.\n",
        "palavra1 = 'Pyt'\n",
        "palavra2 = 'hon'\n",
        "palavra3 = ' é uma linguagem muito poderosa'\n",
        "palavra4 ='!'\n",
        "palavra5 = palavra1+palavra2 + palavra3+palavra4\n",
        "print(palavra5)"
      ],
      "execution_count": null,
      "outputs": [
        {
          "output_type": "stream",
          "text": [
            "Python é uma linguagem muito poderosa!\n"
          ],
          "name": "stdout"
        }
      ]
    },
    {
      "cell_type": "code",
      "metadata": {
        "id": "RV_nMGa9Aeh8",
        "outputId": "95bfec48-1334-4a67-f07b-db1b6de5e7aa"
      },
      "source": [
        "# Operador de multiplicação (*): copia uma string 'n' vezes:\n",
        "palavra = 'uma'\n",
        "trespalavras = 3 * palavra\n",
        "print(trespalavras)"
      ],
      "execution_count": null,
      "outputs": [
        {
          "output_type": "stream",
          "text": [
            "umaumauma\n"
          ],
          "name": "stdout"
        }
      ]
    },
    {
      "cell_type": "markdown",
      "metadata": {
        "id": "2g6gBr-_Aeh-"
      },
      "source": [
        "## **Formatação de strings**\n",
        "\n",
        "Uma última função interessante de strings é o .format() Para entender como ela funciona, podemos pensar em um contrato. É normal que ele venha com campos em branco para serem preenchidos posteriormente. Ex:\n",
        "\n",
        "Eu, ______________, portador do RG ________________ e nascido ao dia //, autorizo o uso de minha imagem.\n",
        "\n",
        "Ao inserirmos no contrato nossas informações pessoais, ele se torna completo.\n",
        "\n",
        "O .format() serve para \"preencher\" os \"campos em branco\" de uma string.\n",
        "\n",
        "Os campos em branco serão representados por pares de chave: {}"
      ]
    },
    {
      "cell_type": "code",
      "metadata": {
        "id": "sMVO6JvUAeh_",
        "outputId": "0346dc52-c8f1-4354-c06b-cdafef4ed63b"
      },
      "source": [
        "prod = 'chocolate'\n",
        "preco = 3.14\n",
        "print('O produto {} custa {}.'.format(prod, preco))\n",
        "# Na linha acima, prod substituirá o primeiro {}, e preco o segundo {}.\n",
        "# Saída: O produto chocolate custa 3.14."
      ],
      "execution_count": null,
      "outputs": [
        {
          "output_type": "stream",
          "text": [
            "O produto chocolate custa 3.14.\n"
          ],
          "name": "stdout"
        }
      ]
    },
    {
      "cell_type": "code",
      "metadata": {
        "id": "ZGijXh1mAeh_",
        "outputId": "79c23213-5096-406e-b887-a85a0c73dbc1"
      },
      "source": [
        "# É possível colocar algumas opções especiais de formatação. Por exemplo:\n",
        "\n",
        "stringOriginal = 'O litro da gasolina custa {:.2f}'\n",
        "'''\n",
        ": indica que passaremos opções\n",
        ".2 indica apenas 2 casas após o ponto decimal\n",
        "f indica que é um float\n",
        "'''\n",
        "preco = 3.14159265\n",
        "stringCompleta = stringOriginal.format(preco)\n",
        "print(stringCompleta)\n",
        "# Saída: O litro da gasolina custa 3.14\n",
        "# O preço sai com apenas 2 casas após a vírgula!"
      ],
      "execution_count": null,
      "outputs": [
        {
          "output_type": "stream",
          "text": [
            "O litro da gasolina custa 3.14\n"
          ],
          "name": "stdout"
        }
      ]
    },
    {
      "cell_type": "code",
      "metadata": {
        "id": "cNcczj8mAeh_",
        "outputId": "21bf268d-8d40-44a7-d70b-d13971dffc06"
      },
      "source": [
        "# Pode-se chamar as variávies em diferentes ordens:\n",
        "\n",
        "print('{2}, {1} and {0}'.format('a', 'b', 'c'))\n",
        "# Saída: c, b and a\n",
        "\n",
        "print('{0}{1}{0}'.format('abra', 'cad'))\n",
        "# Saída: abracadabra"
      ],
      "execution_count": null,
      "outputs": [
        {
          "output_type": "stream",
          "text": [
            "c, b and a\n",
            "abracadabra\n"
          ],
          "name": "stdout"
        }
      ]
    },
    {
      "cell_type": "code",
      "metadata": {
        "id": "j-RrDJKWAeiA",
        "outputId": "a5db335f-f6ba-4a6a-9f59-8a218e77e2da"
      },
      "source": [
        "# Podemos especificar um número de dígitos obrigatório por campo.\n",
        "# Vejamos o exemplo:\n",
        "\n",
        "dia = 1\n",
        "mes = 8\n",
        "ano = 2019\n",
        "data1 = '{}/{}/{}'.format(dia, mes, ano)\n",
        "print(data1)\n",
        "# Saída: 1/8/2019\n",
        "# O dia e o mês ocupam apenas 1 espaço"
      ],
      "execution_count": null,
      "outputs": [
        {
          "output_type": "stream",
          "text": [
            "1/8/2019\n"
          ],
          "name": "stdout"
        }
      ]
    },
    {
      "cell_type": "code",
      "metadata": {
        "id": "cCKjJ08NAeiA",
        "outputId": "8ccf2e74-194e-40c2-9cd2-eb3731831e4f"
      },
      "source": [
        "data2 = '{:2d}/{:2d}/{:4d}'.format(dia, mes, ano)\n",
        "# A opção 'd' significa que o parâmetro é um número inteiro.\n",
        "print(data2)\n",
        "# Saída:  1/ 8/2019\n",
        "# Agora, dia e mês ocupam obrigatoriamente 2 espaços:  1/ 8/2019"
      ],
      "execution_count": null,
      "outputs": [
        {
          "output_type": "stream",
          "text": [
            " 1/ 8/2019\n"
          ],
          "name": "stdout"
        }
      ]
    },
    {
      "cell_type": "code",
      "metadata": {
        "id": "ep4PllJlAeiA",
        "outputId": "3b3606ea-0bfa-45d5-fe3e-8a95690be19a"
      },
      "source": [
        "# Podemos forçar que os espaços em branco sejam preenchidos com o número 0:\n",
        "data3 = '{:02d}/{:02d}/{:04d}'.format(dia, mes, ano)\n",
        "print(data3)\n",
        "# Saída: 01/08/2019\n",
        "# Agora sim a data está no formato usual, dd/mm/aaaa: 01/08/2019"
      ],
      "execution_count": null,
      "outputs": [
        {
          "output_type": "stream",
          "text": [
            "01/08/2019\n"
          ],
          "name": "stdout"
        }
      ]
    },
    {
      "cell_type": "code",
      "metadata": {
        "id": "ha47sqZvAeiB",
        "outputId": "3cda2439-d485-432a-9dad-d62cfdb9c388"
      },
      "source": [
        "# Um modo mais simples de utilizar o format\n",
        "nome = 'Fernando'\n",
        "profissao = 'Ciência de Dados'\n",
        "escola = \"Let's Code\"\n",
        "\n",
        "print(f\"{nome} está estudando {profissao} na escola {escola}.\")\n",
        "# Saída: Fernando está estudando Ciência de Dados na escola Let's Code."
      ],
      "execution_count": null,
      "outputs": [
        {
          "output_type": "stream",
          "text": [
            "Fernando está estudando Ciência de Dados na escola Let's Code.\n"
          ],
          "name": "stdout"
        }
      ]
    },
    {
      "cell_type": "markdown",
      "metadata": {
        "id": "OsSt4Ua4AeiB"
      },
      "source": [
        "O .format() possui muitas opções interessantes. \n",
        "\n",
        "Há um site inteiro dedicado a explicar e exemplificar todas essas opções: \n",
        "- https://pyformat.info/ "
      ]
    },
    {
      "cell_type": "markdown",
      "metadata": {
        "id": "4YUbg0IuAeiB"
      },
      "source": [
        "## **Atividade prática (vídeo-aula)**"
      ]
    },
    {
      "cell_type": "code",
      "metadata": {
        "id": "4P7PJj0RAeiB",
        "outputId": "e8b74c6d-a2e2-495b-dfb5-ead59c76a814"
      },
      "source": [
        "# instanciando duas variáveis e atrubuindo um conjunto de caracteres\n",
        "saudacao = 'Hello, '\n",
        "nome = 'Fernando!'\n",
        "\n",
        "# imprimindo a concatenação das variáveis \"saudacao\" e \"nome\"\n",
        "print(saudacao + nome)"
      ],
      "execution_count": null,
      "outputs": [
        {
          "output_type": "stream",
          "text": [
            "Hello, Fernando!\n"
          ],
          "name": "stdout"
        }
      ]
    },
    {
      "cell_type": "code",
      "metadata": {
        "id": "cMQGTT6LAeiB",
        "outputId": "c863d603-cedd-494e-9a81-af86bbd0bc7f"
      },
      "source": [
        "# podemos utilizar o símbolo de multiplicação (*) para replicar uma string\n",
        "# exemplo\n",
        "print(nome * 8)"
      ],
      "execution_count": null,
      "outputs": [
        {
          "output_type": "stream",
          "text": [
            "Fernando!Fernando!Fernando!Fernando!Fernando!Fernando!Fernando!Fernando!\n"
          ],
          "name": "stdout"
        }
      ]
    },
    {
      "cell_type": "code",
      "metadata": {
        "id": "iWgXL9QrAeiC",
        "outputId": "62dd796f-485c-4647-d4e8-b14908f67f1c"
      },
      "source": [
        "# concatenando várias informações em uma frase\n",
        "nome = 'Fernando'\n",
        "idade = 44\n",
        "num_filhos = 2\n",
        "\n",
        "print(nome + ' tem ' + str(idade) + ' anos' + ' e ' + str(num_filhos) + ' filhos.')"
      ],
      "execution_count": null,
      "outputs": [
        {
          "output_type": "stream",
          "text": [
            "Fernando tem 44 anos e 2 filhos.\n"
          ],
          "name": "stdout"
        }
      ]
    },
    {
      "cell_type": "code",
      "metadata": {
        "id": "WFCumTr-AeiC",
        "outputId": "54266147-4dc6-4b19-ee0d-ca9e2abb6965"
      },
      "source": [
        "print('{} tem {} anos e {} filhos.'.format(nome, idade, num_filhos))"
      ],
      "execution_count": null,
      "outputs": [
        {
          "output_type": "stream",
          "text": [
            "Fernando tem 44 anos e 2 filhos.\n"
          ],
          "name": "stdout"
        }
      ]
    },
    {
      "cell_type": "code",
      "metadata": {
        "id": "ATdOWGazAeiC",
        "outputId": "597adc9b-0640-4558-e8bb-0ef4e97d4b8f"
      },
      "source": [
        "# para facilitar temos o método \".format()\" que facilita a concatenção em uma frase\n",
        "nome = 'Fernando'\n",
        "data_nascimento = '13/10/1977'\n",
        "cidade = 'Caçapava'\n",
        "estado = 'SP'\n",
        "\n",
        "print('{} nasceu em {} em {}-{}.'.format(nome, data_nascimento, cidade, estado))"
      ],
      "execution_count": null,
      "outputs": [
        {
          "output_type": "stream",
          "text": [
            "Fernando nasceu em 13/10/1977 em Caçapava-SP.\n"
          ],
          "name": "stdout"
        }
      ]
    },
    {
      "cell_type": "code",
      "metadata": {
        "id": "Sc99lHyHAeiC",
        "outputId": "32eb3192-3240-4192-82f2-3cd0de640527"
      },
      "source": [
        "# imprimindo o valor de PI com duas casas decimais\n",
        "# para isso utilizamos o método \":.2f\"\n",
        "valor_PI = 3.14159265359\n",
        "print('O valor de PI é: {:.2f}'.format(valor_PI))"
      ],
      "execution_count": null,
      "outputs": [
        {
          "output_type": "stream",
          "text": [
            "O valor de PI é: 3.14\n"
          ],
          "name": "stdout"
        }
      ]
    },
    {
      "cell_type": "code",
      "metadata": {
        "id": "SA1oFx54AeiC",
        "outputId": "91182640-0f06-44e5-84bf-03e03b0612d8"
      },
      "source": [
        "# podemos de forma mais simplificada podemos formatar a exibição de um texto com valores de variáveis\n",
        "print(f'{nome} tem {idade} anos e {num_filhos} filhos.')"
      ],
      "execution_count": null,
      "outputs": [
        {
          "output_type": "stream",
          "text": [
            "Fernando tem 44 anos e 2 filhos.\n"
          ],
          "name": "stdout"
        }
      ]
    },
    {
      "cell_type": "markdown",
      "metadata": {
        "id": "9-FWqnfMAeiD"
      },
      "source": [
        "# **Aula 04 - Dicionários**"
      ]
    },
    {
      "cell_type": "markdown",
      "metadata": {
        "id": "x1UMzrT6AeiD"
      },
      "source": [
        "**Dicionários**\n",
        "\n",
        "Um dicionário é uma coleção, assim como as listas e as tuplas. Porém, enquanto as tuplas eram indexadas por um índice, os dicionários são indexados por chaves. Todo elemento em um dicionário possui uma chave e um valor. Chaves tipicamente são strings, valores podem ser qualquer tipo de dado."
      ]
    },
    {
      "cell_type": "code",
      "metadata": {
        "id": "Zcah-9QWAeiD",
        "outputId": "933541be-1c68-493b-c49b-72e6f5d34d53"
      },
      "source": [
        "# O dicionário é definido pelos símbolos { e }\n",
        "\n",
        "dicionario = {}\n",
        "\n",
        "# O dicionário não possui um \"append\".\n",
        "# Adicionamos valores diretamente:\n",
        "\n",
        "dicionario['cat'] = 'gato'\n",
        "dicionario['dog'] = 'cachorro'\n",
        "dicionario['mouse'] = 'rato'\n",
        "\n",
        "print(dicionario)\n",
        "print(type(dicionario))\n",
        "\n",
        "# '''\n",
        "# Saída:\n",
        "# {'cat': 'gato', 'dog': 'cachorro', 'mouse': 'rato'}\n",
        "# <class 'dict'>\n",
        "# '''"
      ],
      "execution_count": null,
      "outputs": [
        {
          "output_type": "stream",
          "text": [
            "{'cat': 'gato', 'dog': 'cachorro', 'mouse': 'rato'}\n",
            "<class 'dict'>\n"
          ],
          "name": "stdout"
        }
      ]
    },
    {
      "cell_type": "code",
      "metadata": {
        "id": "cZAii_-DAeiD",
        "outputId": "514d7363-a87b-4aa3-aa3c-fdc824dc4759"
      },
      "source": [
        "# Dicionários, assim como as listas, são mutáveis:\n",
        "dicionario['dog'] = 'cão'\n",
        "print(dicionario)\n",
        "# Saída: {'cat': 'gato', 'dog': 'cão', 'mouse': 'rato'}"
      ],
      "execution_count": null,
      "outputs": [
        {
          "output_type": "stream",
          "text": [
            "{'cat': 'gato', 'dog': 'cão', 'mouse': 'rato'}\n"
          ],
          "name": "stdout"
        }
      ]
    },
    {
      "cell_type": "code",
      "metadata": {
        "id": "XkYSIDRhAeiD",
        "outputId": "4c9f0fd0-4f7d-49f1-a562-ab8f7b450c86"
      },
      "source": [
        "# Podemos criar o dicionário diretamente também:\n",
        "dicionario2 = {'Curso': 'Python Pro', 'Linguagem':'Python', 'Módulo':2}\n",
        "print(dicionario2)\n",
        "# Saída: {'Curso': 'Python Pro', 'Linguagem': 'Python', 'Módulo': 2}"
      ],
      "execution_count": null,
      "outputs": [
        {
          "output_type": "stream",
          "text": [
            "{'Curso': 'Python Pro', 'Linguagem': 'Python', 'Módulo': 2}\n"
          ],
          "name": "stdout"
        }
      ]
    },
    {
      "cell_type": "code",
      "metadata": {
        "id": "f35_kqftAeiE",
        "outputId": "cafef577-7595-4286-bff8-8953bb2b0ff5"
      },
      "source": [
        "# Podemos utilizar o operador \"in\" para verificar se uma chave existe:\n",
        "if 'cat' in dicionario:\n",
        "    print('cat existe!') # Sim\n",
        "if 'bird' in dicionario:\n",
        "    print('bird existe!') # Não\n",
        "if 'gato' in dicionario:\n",
        "    print('gato existe!') # Não\n",
        "\n",
        "'''\n",
        "Também podemos utilizar as funções .keys() e .values() para obter listas\n",
        "com apenas as chaves ou apenas os valores do dicionário.\n",
        "'''\n",
        "chaves = dicionario.keys()\n",
        "print(chaves)\n",
        "# Saída: dict_keys(['cat', 'dog', 'mouse'])"
      ],
      "execution_count": null,
      "outputs": [
        {
          "output_type": "stream",
          "text": [
            "cat existe!\n",
            "dict_keys(['cat', 'dog', 'mouse'])\n"
          ],
          "name": "stdout"
        }
      ]
    },
    {
      "cell_type": "code",
      "metadata": {
        "id": "7OOImyYlAeiE",
        "outputId": "381dac41-03df-4575-aa6b-13e330f50402"
      },
      "source": [
        "valores = dicionario.values()\n",
        "print(valores)\n",
        "# Saída:dict_values(['gato', 'cão', 'rato'])"
      ],
      "execution_count": null,
      "outputs": [
        {
          "output_type": "stream",
          "text": [
            "dict_values(['gato', 'cão', 'rato'])\n"
          ],
          "name": "stdout"
        }
      ]
    },
    {
      "cell_type": "code",
      "metadata": {
        "id": "VQ-75R7hAeiE",
        "outputId": "64385643-fd99-4026-9706-0de0d4fc8b4c"
      },
      "source": [
        "# Já a função .items(), retorna uma lista de tuplas (chave, valor) de um dicionário\n",
        "\n",
        "itens = dicionario.items()\n",
        "print(itens)\n",
        "# Saída:dict_items([('cat', 'gato'), ('dog', 'cão'), ('mouse', 'rato')])"
      ],
      "execution_count": null,
      "outputs": [
        {
          "output_type": "stream",
          "text": [
            "dict_items([('cat', 'gato'), ('dog', 'cão'), ('mouse', 'rato')])\n"
          ],
          "name": "stdout"
        }
      ]
    },
    {
      "cell_type": "markdown",
      "metadata": {
        "id": "e6cKBQIGAeiE"
      },
      "source": [
        "## **Atividade prática (vídeo-aula)**"
      ]
    },
    {
      "cell_type": "code",
      "metadata": {
        "id": "_FQV4yUYAeiF",
        "outputId": "0c5fd1ef-7876-4553-9356-1c90b9c3aaae"
      },
      "source": [
        "# criando um dicionário\n",
        "dados_pessoais = {\n",
        "                   'Nome': 'Fernando',\n",
        "                   'Data_nascimento': '13/10/1977',\n",
        "                   'Cidade': 'Caçapava',\n",
        "                   'Estado': 'SP'\n",
        "}\n",
        "\n",
        "dados_pessoais"
      ],
      "execution_count": null,
      "outputs": [
        {
          "output_type": "display_data",
          "data": {
            "text/plain": [
              "{'Nome': 'Fernando',\n",
              " 'Data_nascimento': '13/10/1977',\n",
              " 'Cidade': 'Caçapava',\n",
              " 'Estado': 'SP'}"
            ]
          },
          "metadata": {
            "tags": []
          }
        }
      ]
    },
    {
      "cell_type": "code",
      "metadata": {
        "id": "yfkynAZxAeiF",
        "outputId": "9a38ac7b-1e36-48e4-a626-2c1ebf7eb6f4"
      },
      "source": [
        "# verificando o tamanho e o tipo de estrutura de dado na variável \"dados_pessoais\"\n",
        "print(len(dados_pessoais))\n",
        "print(type(dados_pessoais))"
      ],
      "execution_count": null,
      "outputs": [
        {
          "output_type": "stream",
          "text": [
            "4\n",
            "<class 'dict'>\n"
          ],
          "name": "stdout"
        }
      ]
    },
    {
      "cell_type": "code",
      "metadata": {
        "id": "M-qfj7AvAeiF",
        "outputId": "9c8c3f30-90ce-457e-af35-3deb8f411889"
      },
      "source": [
        "# podemos acessar o nome das chaves e o valor repespectivo de cada uma\n",
        "print(dados_pessoais.keys())\n",
        "print(dados_pessoais.values())"
      ],
      "execution_count": null,
      "outputs": [
        {
          "output_type": "stream",
          "text": [
            "dict_keys(['Nome', 'Data_nascimento', 'Cidade', 'Estado'])\n",
            "dict_values(['Fernando', '13/10/1977', 'Caçapava', 'SP'])\n"
          ],
          "name": "stdout"
        }
      ]
    },
    {
      "cell_type": "code",
      "metadata": {
        "id": "CYx-8VMnAeiF",
        "outputId": "c883dd9f-046c-4c11-e86b-584f6ca0d7fd"
      },
      "source": [
        "# podemos acessar tanto as chaves e os valores\n",
        "print(dados_pessoais.items())"
      ],
      "execution_count": null,
      "outputs": [
        {
          "output_type": "stream",
          "text": [
            "dict_items([('Nome', 'Fernando'), ('Data_nascimento', '13/10/1977'), ('Cidade', 'Caçapava'), ('Estado', 'SP')])\n"
          ],
          "name": "stdout"
        }
      ]
    },
    {
      "cell_type": "code",
      "metadata": {
        "id": "6ZmO2jVIAeiF",
        "outputId": "3d5bbccd-57d9-4698-924c-51e124220856"
      },
      "source": [
        "# podemos também acessar o valor de uma chave específica\n",
        "print(dados_pessoais['Nome'])\n",
        "print(dados_pessoais['Cidade'], dados_pessoais['Estado'])"
      ],
      "execution_count": null,
      "outputs": [
        {
          "output_type": "stream",
          "text": [
            "Fernando\n",
            "Caçapava SP\n"
          ],
          "name": "stdout"
        }
      ]
    },
    {
      "cell_type": "code",
      "metadata": {
        "id": "HUIuLecbAeiG",
        "outputId": "c87f0126-2043-4c6e-bc44-ebd062137a46"
      },
      "source": [
        "# também podemos utilizar o \"in\" em um dicionário\n",
        "# seu retorno é um valor booleano\n",
        "print('13/10/1977' in dados_pessoais)"
      ],
      "execution_count": null,
      "outputs": [
        {
          "output_type": "stream",
          "text": [
            "False\n"
          ],
          "name": "stdout"
        }
      ]
    },
    {
      "cell_type": "code",
      "metadata": {
        "id": "jwhAG8qeAeiG",
        "outputId": "569e741c-1193-487b-acd1-a626847f3095"
      },
      "source": [
        "# podemos criar um dicionário vazio e inserido dados nele\n",
        "contatos = {}\n",
        "\n",
        "print(len(contatos))\n",
        "print(type(contatos))"
      ],
      "execution_count": null,
      "outputs": [
        {
          "output_type": "stream",
          "text": [
            "0\n",
            "<class 'dict'>\n"
          ],
          "name": "stdout"
        }
      ]
    },
    {
      "cell_type": "code",
      "metadata": {
        "id": "pF89yr_rAeiG"
      },
      "source": [
        "# para inserir dados no dicionário criado acima devemos instanciar a chave e o seu valor\n",
        "contatos['Cliente'] = 'Fernando'"
      ],
      "execution_count": null,
      "outputs": []
    },
    {
      "cell_type": "code",
      "metadata": {
        "id": "d77Tq1DpAeiG",
        "outputId": "4274c7ee-f29d-468b-8bdf-deb086108038"
      },
      "source": [
        "# verificando o dicionário\n",
        "contatos"
      ],
      "execution_count": null,
      "outputs": [
        {
          "output_type": "display_data",
          "data": {
            "text/plain": [
              "{'Cliente': 'Fernando'}"
            ]
          },
          "metadata": {
            "tags": []
          }
        }
      ]
    },
    {
      "cell_type": "code",
      "metadata": {
        "id": "D8c8YvXgAeiG",
        "outputId": "50f1d400-54b1-4805-b15e-7cfd5e6d010b"
      },
      "source": [
        "# vamos criar uma nova chave e instanciar seu valor\n",
        "contatos['Telefone'] = '9 9999-xxxx'\n",
        "contatos"
      ],
      "execution_count": null,
      "outputs": [
        {
          "output_type": "display_data",
          "data": {
            "text/plain": [
              "{'Cliente': 'Fernando', 'Telefone': '9 9999-xxxx'}"
            ]
          },
          "metadata": {
            "tags": []
          }
        }
      ]
    },
    {
      "cell_type": "code",
      "metadata": {
        "id": "lfPkT4BOAeiH",
        "outputId": "ec49ec2c-de58-4671-fc99-84996cc186d0"
      },
      "source": [
        "# sobreescrevendo o dicionário\n",
        "contatos['Cliente'] = 'Kátia'\n",
        "contatos['Telefone'] = '9 9999-xxxx'\n",
        "\n",
        "contatos"
      ],
      "execution_count": null,
      "outputs": [
        {
          "output_type": "display_data",
          "data": {
            "text/plain": [
              "{'Cliente': 'Kátia', 'Telefone': '9 9999-xxxx'}"
            ]
          },
          "metadata": {
            "tags": []
          }
        }
      ]
    },
    {
      "cell_type": "markdown",
      "metadata": {
        "id": "K15TT7AdAeiH"
      },
      "source": [
        "# **Aula 05 - Estruturas de Repetição - For**"
      ]
    },
    {
      "cell_type": "markdown",
      "metadata": {
        "id": "Hjzr_0l5AeiH"
      },
      "source": [
        "**Percorrendo coleções**\n",
        "\n",
        "O for é um tipo especial de loop feito para percorrer elementos de uma coleção. Acima vimos exemplos usando um while e um contador para percorrer uma lista. O for elimina a necessidade de inicializarmos um contador, incrementarmos e verificar a condição de parada. Sintaxe:"
      ]
    },
    {
      "cell_type": "markdown",
      "metadata": {
        "id": "UBZx83wyAeiH"
      },
      "source": [
        "    for (variável temporária) in (lista):\n",
        "        # instruções...\n",
        "        # ..."
      ]
    },
    {
      "cell_type": "markdown",
      "metadata": {
        "id": "3jRUg6ZIAeiH"
      },
      "source": [
        "O for se repete uma vez para cada elemento da lista. A cada repetição, a variável temporária assume o valor de um elemento da lista, na ordem da lista."
      ]
    },
    {
      "cell_type": "code",
      "metadata": {
        "id": "azGg77FeAeiI",
        "outputId": "ecc1aa29-f9de-4f06-e995-303fccdb4d7e"
      },
      "source": [
        "fib = [1, 1, 2, 3, 5, 8, 13]\n",
        "for elemento in fib:\n",
        "    print(elemento)"
      ],
      "execution_count": null,
      "outputs": [
        {
          "output_type": "stream",
          "text": [
            "1\n",
            "1\n",
            "2\n",
            "3\n",
            "5\n",
            "8\n",
            "13\n"
          ],
          "name": "stdout"
        }
      ]
    },
    {
      "cell_type": "markdown",
      "metadata": {
        "id": "urLHsf5SAeiI"
      },
      "source": [
        "**Percorrendo sequências numéricas**\n",
        "\n",
        "O for pode ser usado, junto com a função range(), para gerar sequências numéricas e contagens. Existem 3 meios de usar o range(): especificando 1, 2 ou 3 parâmetros."
      ]
    },
    {
      "cell_type": "code",
      "metadata": {
        "id": "3k5zT8b5AeiI",
        "outputId": "6395cfa5-7a4c-431e-9a4e-97e999a0e970"
      },
      "source": [
        "# Com 1 parâmetro, ele será interpretado como valor final (exclusivo).\n",
        "# O valor inicial será 0 e o incremento será 1.\n",
        "\n",
        "for numero in range(10):\n",
        "    print(numero)\n",
        "    # este exemplo imprime os números de 0 a 9, de um em um"
      ],
      "execution_count": null,
      "outputs": [
        {
          "output_type": "stream",
          "text": [
            "0\n",
            "1\n",
            "2\n",
            "3\n",
            "4\n",
            "5\n",
            "6\n",
            "7\n",
            "8\n",
            "9\n"
          ],
          "name": "stdout"
        }
      ]
    },
    {
      "cell_type": "code",
      "metadata": {
        "id": "k4QBwpWkAeiI",
        "outputId": "4751100e-3243-46eb-f9ae-84e0f99e771b"
      },
      "source": [
        "# Com 2 parâmetros, o primeiro será o valor inicial (inclusivo) e o\n",
        "# segundo será o final (exclusivo).\n",
        "# O incremento continuará sendo 1.\n",
        "\n",
        "for numero in range(1,11):\n",
        "    print(numero)\n",
        "    # este exemplo imprime os números de 1 a 10, de um em um"
      ],
      "execution_count": null,
      "outputs": [
        {
          "output_type": "stream",
          "text": [
            "1\n",
            "2\n",
            "3\n",
            "4\n",
            "5\n",
            "6\n",
            "7\n",
            "8\n",
            "9\n",
            "10\n"
          ],
          "name": "stdout"
        }
      ]
    },
    {
      "cell_type": "code",
      "metadata": {
        "id": "PN9bgEieAeiI",
        "outputId": "e8f32cba-eeca-4d24-cbf4-43868d16429e"
      },
      "source": [
        "# Com 3 parâmetros, o terceiro será interpretado como incremento.\n",
        "for numero in range(1,20,2):\n",
        "    print(numero)\n",
        "    # este exemplo imprime os ímpares positivos menores do que 20\n",
        "    # ele começa valendo 1 e salta de 2 em 2 até atingir ou passar 20"
      ],
      "execution_count": null,
      "outputs": [
        {
          "output_type": "stream",
          "text": [
            "1\n",
            "3\n",
            "5\n",
            "7\n",
            "9\n",
            "11\n",
            "13\n",
            "15\n",
            "17\n",
            "19\n"
          ],
          "name": "stdout"
        }
      ]
    },
    {
      "cell_type": "code",
      "metadata": {
        "id": "KuWbQ5iLAeiJ",
        "outputId": "a7fdd840-c6f6-457a-bd81-1352b63e3fc8"
      },
      "source": [
        "# O incremento pode ser também um decremento (incremento negativo).\n",
        "for numero in range (10,0,-1):\n",
        "    print(numero)\n",
        "    #Imprimindo os números de 1 a 10 em ordem decrescente"
      ],
      "execution_count": null,
      "outputs": [
        {
          "output_type": "stream",
          "text": [
            "10\n",
            "9\n",
            "8\n",
            "7\n",
            "6\n",
            "5\n",
            "4\n",
            "3\n",
            "2\n",
            "1\n"
          ],
          "name": "stdout"
        }
      ]
    },
    {
      "cell_type": "markdown",
      "metadata": {
        "id": "oVEW0pR6AeiJ"
      },
      "source": [
        "## **Atividade prática (vídeo-aula)**"
      ]
    },
    {
      "cell_type": "code",
      "metadata": {
        "id": "jiK6HVgoAeiJ"
      },
      "source": [
        "# utilizando o \"for\" em uma  lista de dados\n",
        "# instanciando uma lista chamada de \"nomes_cidades\"\n",
        "nomes_cidades = ['São Paulo', 'London', \n",
        "                 'Paris', 'Tokyo',\n",
        "                 'Berlin', 'San Francisco']"
      ],
      "execution_count": null,
      "outputs": []
    },
    {
      "cell_type": "code",
      "metadata": {
        "id": "YJlCnrEwAeiJ",
        "outputId": "d7ee0311-3227-439a-c19b-23061fe22467"
      },
      "source": [
        "# utilizando o \"for\" para percorrer a lista criada acima\n",
        "for nome in nomes_cidades:\n",
        "    print(nome)"
      ],
      "execution_count": null,
      "outputs": [
        {
          "output_type": "stream",
          "text": [
            "São Paulo\n",
            "London\n",
            "Paris\n",
            "Tokyo\n",
            "Berlin\n",
            "San Francisco\n"
          ],
          "name": "stdout"
        }
      ]
    },
    {
      "cell_type": "code",
      "metadata": {
        "id": "oZy7J1Z1AeiJ",
        "outputId": "03115357-e375-4730-d34f-7c3ecb347042"
      },
      "source": [
        "# para nível de comparação, fazer utilizar o \"while\"\n",
        "contador = 0    # declarando um conatdor iniciando em zero (0)\n",
        "\n",
        "# instanciando a lista\n",
        "nomes_cidades = ['São Paulo', 'London', \n",
        "                 'Paris', 'Tokyo',\n",
        "                 'Berlin', 'San Francisco']\n",
        "\n",
        "# declarando o \"while\"\n",
        "while contador < len(nomes_cidades):\n",
        "    print(nomes_cidades[contador]) # imprimindo o contador\n",
        "    contador = contador + 1        # iterando o contador com mais 1"
      ],
      "execution_count": null,
      "outputs": [
        {
          "output_type": "stream",
          "text": [
            "São Paulo\n",
            "London\n",
            "Paris\n",
            "Tokyo\n",
            "Berlin\n",
            "San Francisco\n"
          ],
          "name": "stdout"
        }
      ]
    },
    {
      "cell_type": "code",
      "metadata": {
        "id": "Zcr3kbM5AeiJ",
        "outputId": "153f023d-43a7-4b37-80b4-5e0321604157"
      },
      "source": [
        "# podemos utilizar o \"for\" em outras estruturas de dados\n",
        "# instanciando uma tupla\n",
        "nomes_cidades = 'São Paulo', 'London', 'Paris', 'Tokyo', 'Berlin', 'San Francisco'\n",
        "# print(type(nomes_cidades))\n",
        "\n",
        "for nome in nomes_cidades:\n",
        "    print(nome)"
      ],
      "execution_count": null,
      "outputs": [
        {
          "output_type": "stream",
          "text": [
            "São Paulo\n",
            "London\n",
            "Paris\n",
            "Tokyo\n",
            "Berlin\n",
            "San Francisco\n"
          ],
          "name": "stdout"
        }
      ]
    },
    {
      "cell_type": "code",
      "metadata": {
        "id": "NgiGu3_-AeiK",
        "outputId": "031a190e-29c5-43e8-a65b-6b112a1f6e1d"
      },
      "source": [
        "# utilizando o \"for\" em um dicionário\n",
        "dados_cidadeSP = {\n",
        "                  'nome': 'São Paulo',\n",
        "                  'estado': 'SP',\n",
        "                  'populacao_milhoes': 12.3\n",
        "}\n",
        "\n",
        "for chave in dados_cidadeSP:\n",
        "    print(f'{chave}: {dados_cidadeSP[chave]}')"
      ],
      "execution_count": null,
      "outputs": [
        {
          "output_type": "stream",
          "text": [
            "nome: São Paulo\n",
            "estado: SP\n",
            "populacao_milhoes: 12.3\n"
          ],
          "name": "stdout"
        }
      ]
    },
    {
      "cell_type": "code",
      "metadata": {
        "id": "XXcbp69_AeiK",
        "outputId": "02683d16-f724-4b33-d17d-00bc88a78001"
      },
      "source": [
        "# veja esse exemplo\n",
        "nomes_cidades = ['São Paulo', 'London', \n",
        "                 'Paris', 'Tokyo',\n",
        "                 'Berlin', 'San Francisco']\n",
        "\n",
        "for nome in nomes_cidades:\n",
        "    nome = 'Madri' # tentando atribuir um novo elemento a lista\n",
        "\n",
        "# imprimindo a lista\n",
        "print(nomes_cidades) # perceba que, não houve incremento na lista"
      ],
      "execution_count": null,
      "outputs": [
        {
          "output_type": "stream",
          "text": [
            "['São Paulo', 'London', 'Paris', 'Tokyo', 'Berlin', 'San Francisco']\n"
          ],
          "name": "stdout"
        }
      ]
    },
    {
      "cell_type": "code",
      "metadata": {
        "id": "inqm_nnoAeiK",
        "outputId": "dac14755-d135-4530-a3ef-92711827f4a9"
      },
      "source": [
        "# para resolver esse problema temos a função \"range\"\n",
        "# que podemos passar o limite da posição\n",
        "\n",
        "# vamos ver primeiro como funciona esse mapeamento das posições\n",
        "for posicao in range(len(nomes_cidades)):\n",
        "    print(posicao)"
      ],
      "execution_count": null,
      "outputs": [
        {
          "output_type": "stream",
          "text": [
            "0\n",
            "1\n",
            "2\n",
            "3\n",
            "4\n",
            "5\n"
          ],
          "name": "stdout"
        }
      ]
    },
    {
      "cell_type": "code",
      "metadata": {
        "id": "RmBq1M-qAeiK",
        "outputId": "78c76b39-3dcf-4ca9-b833-ca5fa4666069"
      },
      "source": [
        "# agora realizar a inserção de um novo elemento na lista\n",
        "# iremos utilizar o método já conhecido do range\n",
        "for posicao in range(len(nomes_cidades)):\n",
        "    nomes_cidades[posicao] = 'Berlin'\n",
        "print(nomes_cidades)"
      ],
      "execution_count": null,
      "outputs": [
        {
          "output_type": "stream",
          "text": [
            "['Berlin', 'Berlin', 'Berlin', 'Berlin', 'Berlin', 'Berlin']\n"
          ],
          "name": "stdout"
        }
      ]
    },
    {
      "cell_type": "code",
      "metadata": {
        "id": "NHrc_T1kAeiK",
        "outputId": "5830efd8-2bfe-4b54-e462-19d8addb6e54"
      },
      "source": [
        "# exemplos de utilização da função range\n",
        "print(list(range(10)))      # lista de 0 até 10 (-1)\n",
        "print(list(range(2,10)))    # lista iniciando em 2 de até 10 (-1)\n",
        "print(list(range(0,10,3)))  # lista iniciando em 0 até 10 (-1) com passos de 3 em 3\n",
        "print(list(range(5,21,5)))  # lista iniciando em 5 até 20 (-1) com passos de 5 em 5"
      ],
      "execution_count": null,
      "outputs": [
        {
          "output_type": "stream",
          "text": [
            "[0, 1, 2, 3, 4, 5, 6, 7, 8, 9]\n",
            "[2, 3, 4, 5, 6, 7, 8, 9]\n",
            "[0, 3, 6, 9]\n",
            "[5, 10, 15, 20]\n"
          ],
          "name": "stdout"
        }
      ]
    },
    {
      "cell_type": "markdown",
      "metadata": {
        "id": "qSAk5APdAeiL"
      },
      "source": [
        "# **Aula 06 - Funções I**"
      ]
    },
    {
      "cell_type": "markdown",
      "metadata": {
        "id": "7QUR2mIcAeiL"
      },
      "source": [
        "**Funções**\n",
        "\n",
        "Funções são uma espécie de \"subprograma\". Elas são como pequenos pedacinhos de programa que podem ser chamadas pelo nome. Para criar uma função usamos o comando \"def\" e o nome da função. Elas são um bloco de comando assim como if/elif/else, while e for."
      ]
    },
    {
      "cell_type": "code",
      "metadata": {
        "id": "zxSsj5KcAeiL"
      },
      "source": [
        "# criando uma função \n",
        "def hello():\n",
        "    print('Hello, World!')"
      ],
      "execution_count": null,
      "outputs": []
    },
    {
      "cell_type": "code",
      "metadata": {
        "id": "cPe0HKGnAeiL",
        "outputId": "fbdfd0ad-9b04-4308-ab96-a2fb56d08b8d"
      },
      "source": [
        "# chamando a função\n",
        "hello()"
      ],
      "execution_count": null,
      "outputs": [
        {
          "output_type": "stream",
          "text": [
            "Hello, World!\n"
          ],
          "name": "stdout"
        }
      ]
    },
    {
      "cell_type": "markdown",
      "metadata": {
        "id": "jn6wvxsoAeiL"
      },
      "source": [
        "É possível passarmos informações para uma função. Chamamos essas informações de \"parâmetros\" ou \"argumentos. Na definição da função, daremos nome a esses parâmetros. Dentro da função, eles serão tratados como se fossem variáveis."
      ]
    },
    {
      "cell_type": "code",
      "metadata": {
        "id": "wwKpbsa1AeiM"
      },
      "source": [
        "# exemplo de atribuição de informação numa função\n",
        "def ola(nome):\n",
        "    print('Olá,', nome+'!')"
      ],
      "execution_count": null,
      "outputs": []
    },
    {
      "cell_type": "markdown",
      "metadata": {
        "id": "0CENXLTeAeiM"
      },
      "source": [
        "Ao chamarmos a nossa funcao, passamos os parâmetros entre parênteses. O nome ou valor passado não precisam ser iguais aos declarados na função! O nome do parâmetro interno da função é um \"apelido\" que a função dará para o valor ou variável que passamos."
      ]
    },
    {
      "cell_type": "code",
      "metadata": {
        "id": "cfpfcJqDAeiM",
        "outputId": "1f083fc5-99c2-41a3-c942-873d04f34d1c"
      },
      "source": [
        "# chamando a função com argumento instanciado\n",
        "ola('Fernando')"
      ],
      "execution_count": null,
      "outputs": [
        {
          "output_type": "stream",
          "text": [
            "Olá, Fernando!\n"
          ],
          "name": "stdout"
        }
      ]
    },
    {
      "cell_type": "code",
      "metadata": {
        "id": "x4DMBbjTAeiM",
        "outputId": "6268bee4-87cc-444e-8c86-a518dfb6bf63"
      },
      "source": [
        "# podemos também instanciar uma variável e atribuir um valor\n",
        "# e na função passar com argumento a própria variável\n",
        "aluno = 'Kátia'\n",
        "ola(aluno)"
      ],
      "execution_count": null,
      "outputs": [
        {
          "output_type": "stream",
          "text": [
            "Olá, Kátia!\n"
          ],
          "name": "stdout"
        }
      ]
    },
    {
      "cell_type": "markdown",
      "metadata": {
        "id": "s8kvXGrqAeiN"
      },
      "source": [
        "A função pode receber vários parâmetros separados por vírgula."
      ]
    },
    {
      "cell_type": "code",
      "metadata": {
        "id": "d5c_ICtEAeiN"
      },
      "source": [
        "def dadosPessoais(nome, idade, cidade):\n",
        "    print('Seu nome é {}, você tem {} anos e mora em {}.'.format(nome,\n",
        "                                                                 idade, \n",
        "                                                                 cidade))"
      ],
      "execution_count": null,
      "outputs": []
    },
    {
      "cell_type": "code",
      "metadata": {
        "id": "H4SQUxPAAeiN",
        "outputId": "db5de165-74ed-4229-f7f0-489b797a585c"
      },
      "source": [
        "dadosPessoais('Fernando', 44, 'Caçapava')"
      ],
      "execution_count": null,
      "outputs": [
        {
          "output_type": "stream",
          "text": [
            "Seu nome é Fernando, você tem 44 anos e mora em Caçapava.\n"
          ],
          "name": "stdout"
        }
      ]
    },
    {
      "cell_type": "markdown",
      "metadata": {
        "id": "qqoQJRlLAeiN"
      },
      "source": [
        "Os parâmetros podem ser passados fora de ordem. Porém, para isso precisamos explicitar qual parâmetro estamos passando, para evitar ambiguidade ou erros de interpretação do Python."
      ]
    },
    {
      "cell_type": "code",
      "metadata": {
        "id": "GpzihcS-AeiN",
        "outputId": "3733b5a0-e959-4188-ae19-0b6bf4c9e288"
      },
      "source": [
        "dadosPessoais(idade=40, cidade='Taubaté', nome='Kátia')"
      ],
      "execution_count": null,
      "outputs": [
        {
          "output_type": "stream",
          "text": [
            "Seu nome é Kátia, você tem 40 anos e mora em Taubaté.\n"
          ],
          "name": "stdout"
        }
      ]
    },
    {
      "cell_type": "markdown",
      "metadata": {
        "id": "9IUHlucxAeiO"
      },
      "source": [
        "**Funções com resposta**\n",
        "\n",
        "Uma função pode ter uma \"resposta\". Por exemplo, nossa função pode ser uma conta, e o resultado da conta pode ser útil em nosso programa. Dizemos que essas funções \"retornam\" um valor. Utilizamos a palavra \"return\" para fazer uma função retornar sua resposta. Quando uma função retorna um valor, ela pode ser usada em expressões matemáticas ou lógicas, ter seu valor atribuído a uma variável, etc."
      ]
    },
    {
      "cell_type": "code",
      "metadata": {
        "id": "VwRktVoOAeiO"
      },
      "source": [
        "# criando uma função de soma\n",
        "def somatorio(lista):\n",
        "    soma = 0\n",
        "    for item in lista:\n",
        "        soma = soma + item\n",
        "    return soma"
      ],
      "execution_count": null,
      "outputs": []
    },
    {
      "cell_type": "code",
      "metadata": {
        "id": "ba02TWv3AeiO"
      },
      "source": [
        "# instancinado uma lista de números\n",
        "numeros = [1, 2, 3, 4, 5]"
      ],
      "execution_count": null,
      "outputs": []
    },
    {
      "cell_type": "code",
      "metadata": {
        "id": "Wc8VoyStAeiO",
        "outputId": "9e06fffb-0504-47c4-f82d-a6a8aa616ff6"
      },
      "source": [
        "soma_dos_numeros = somatorio(numeros)\n",
        "\n",
        "print('A soma dos elementos da lista é:', \n",
        "      soma_dos_numeros)\n",
        "\n",
        "if somatorio(numeros) > 50:\n",
        "    print('Que soma grande!')\n",
        "else:\n",
        "    print('Que soma pequena!')\n",
        "\n",
        "# Saída:\n",
        "# A soma dos elementos da lista vale:  15\n",
        "# Que soma pequena!"
      ],
      "execution_count": null,
      "outputs": [
        {
          "output_type": "stream",
          "text": [
            "A soma dos elementos da lista é: 15\n",
            "Que soma pequena!\n"
          ],
          "name": "stdout"
        }
      ]
    },
    {
      "cell_type": "markdown",
      "metadata": {
        "id": "KI8G8aZdAeiO"
      },
      "source": [
        "**Funções recursivas**\n",
        "\n",
        "Algumas funções são chamadas funções recursivas. A recursividade (ou recursão) é uma propriedade na qual uma função faz referência a si mesma. Quando a função encontra uma nova referência, ela irá pausar sua execução atual e iniciar a execução da nova instância, para só então retomar sua execução.\n",
        "\n",
        "Assim como nos loops, é necessário ter alguma condição para que as chamadas recursivas sejam interrompidas, evitando que executem para sempre."
      ]
    },
    {
      "cell_type": "code",
      "metadata": {
        "id": "5t1qhbv0AeiP",
        "outputId": "9069119c-52af-4b5c-ed36-46f105228875"
      },
      "source": [
        "def funcaoRecursiva(numero):\n",
        "    if numero != 1:\n",
        "        funcaoRecursiva(numero - 1)\n",
        "    print(numero)\n",
        "\n",
        "print('Testando a função recursiva:\\n')\n",
        "funcaoRecursiva(10)"
      ],
      "execution_count": null,
      "outputs": [
        {
          "output_type": "stream",
          "text": [
            "Testando a função recursiva:\n",
            "\n",
            "1\n",
            "2\n",
            "3\n",
            "4\n",
            "5\n",
            "6\n",
            "7\n",
            "8\n",
            "9\n",
            "10\n"
          ],
          "name": "stdout"
        }
      ]
    },
    {
      "cell_type": "markdown",
      "metadata": {
        "id": "pp7RQQm2AeiQ"
      },
      "source": [
        "Note que no exemplo acima passamos 10 para a função. Sua execução foi interrompida por uma nova chamada passando 9, depois 8, depois 7... Ao chegar em 1, ele foge da condicional e imprime 1, encerrando a execução. Então a instância que recebeu 2 tambem conclui sua execução, depois a chamada 3, a 4... A 10, que foi a 1a chamada, encerra por último.\n",
        "\n",
        "Dizemos que é um comportamento de pilha - exatamente como uma pilha de pratos sobre a mesa: O primeiro prato que foi colocado sobre a mesa será o último a sair, pois todos os pratos colocados sobre ele precisam ser retirados antes de você poder retirar o último.\n",
        "\n",
        "Problemas recursivos normalmente são problemas do tipo \"dividir para conquistar\": Temos um \"caso base\", ou seja, um ou mais casos onde há uma resposta direta; E temos um \"caso geral\", que é uma versão reduzida do problema original."
      ]
    },
    {
      "cell_type": "markdown",
      "metadata": {
        "id": "WXK7NObGAeiQ"
      },
      "source": [
        "## **Atividade prática (vídeo-aula)**"
      ]
    },
    {
      "cell_type": "code",
      "metadata": {
        "id": "VzwPe7EIAeiQ"
      },
      "source": [
        "# função de saudação\n",
        "def hello():\n",
        "    print('Hello, World!')"
      ],
      "execution_count": null,
      "outputs": []
    },
    {
      "cell_type": "code",
      "metadata": {
        "id": "1wrI2C-oAeiQ",
        "outputId": "f362aa54-f2fb-4d72-e88f-c381692efe15"
      },
      "source": [
        "# chamando a função\n",
        "hello()"
      ],
      "execution_count": null,
      "outputs": [
        {
          "output_type": "stream",
          "text": [
            "Hello, World!\n"
          ],
          "name": "stdout"
        }
      ]
    },
    {
      "cell_type": "code",
      "metadata": {
        "id": "eFhmvAQbAeiQ"
      },
      "source": [
        "# criando uma função para somar dois valores\n",
        "def soma(x,y):\n",
        "    resultado = x + y\n",
        "    print(resultado)"
      ],
      "execution_count": null,
      "outputs": []
    },
    {
      "cell_type": "code",
      "metadata": {
        "id": "pTnt5398AeiQ",
        "outputId": "e721c5c3-508a-4409-b54e-db410bfbfa13"
      },
      "source": [
        "soma(5,3)"
      ],
      "execution_count": null,
      "outputs": [
        {
          "output_type": "stream",
          "text": [
            "8\n"
          ],
          "name": "stdout"
        }
      ]
    },
    {
      "cell_type": "code",
      "metadata": {
        "id": "QMony9B-AeiR"
      },
      "source": [
        "# criando uma função para calcular a média\n",
        "def calcular_media(valor1, valor2, valor3):\n",
        "    media = (valor1 + valor2 + valor3) / 3\n",
        "    return media"
      ],
      "execution_count": null,
      "outputs": []
    },
    {
      "cell_type": "code",
      "metadata": {
        "id": "tKZoyYA-AeiR",
        "outputId": "3354b297-cd81-4db5-f896-ca7bf78a04d3"
      },
      "source": [
        "# chamando a função e seus parâmetros\n",
        "calcular_media(7.5, 8.0, 9.3)"
      ],
      "execution_count": null,
      "outputs": [
        {
          "output_type": "display_data",
          "data": {
            "text/plain": [
              "8.266666666666667"
            ]
          },
          "metadata": {
            "tags": []
          }
        }
      ]
    },
    {
      "cell_type": "code",
      "metadata": {
        "id": "H86Q0DtZAeiR",
        "outputId": "5076707e-78d3-4d11-b01c-4da4a512c394"
      },
      "source": [
        "# podemos atribuir o resultado da função em uma variável\n",
        "media_notas = calcular_media(7.5, 8.0, 9.3)\n",
        "print(f'Média: {(media_notas):.2f}')"
      ],
      "execution_count": null,
      "outputs": [
        {
          "output_type": "stream",
          "text": [
            "Média: 8.27\n"
          ],
          "name": "stdout"
        }
      ]
    },
    {
      "cell_type": "code",
      "metadata": {
        "id": "zX1GoX27AeiR",
        "outputId": "4a1c0bf5-7ad4-4962-a72b-f8e67c56e0f4"
      },
      "source": [
        "# outro exemplo da utilização da função \"calcular_media()\"\n",
        "# agora iremos passar como argumentos as notas dentro da função\n",
        "resultado2 = calcular_media(valor1=6.75, valor2=7.5, valor3=8.0)\n",
        "print(f'Média: {(resultado2):.2f}')"
      ],
      "execution_count": null,
      "outputs": [
        {
          "output_type": "stream",
          "text": [
            "Média: 7.42\n"
          ],
          "name": "stdout"
        }
      ]
    },
    {
      "cell_type": "code",
      "metadata": {
        "id": "tY1m7bcqAeiR",
        "outputId": "8c5f210f-0c5d-4402-c0c6-f615a5b2c8d9"
      },
      "source": [
        "# conhecendo melhor a função \"print()\"\n",
        "print('Olá,')\n",
        "print('Fernando!')"
      ],
      "execution_count": null,
      "outputs": [
        {
          "output_type": "stream",
          "text": [
            "Olá,\n",
            "Fernando!\n"
          ],
          "name": "stdout"
        }
      ]
    },
    {
      "cell_type": "code",
      "metadata": {
        "id": "lo-nPY0zAeiR",
        "outputId": "d3896c80-fe4a-4e00-80cd-ee7810c4d1ef"
      },
      "source": [
        "# utilizando o método \"end= \" para inibir a quebra de linha\n",
        "print('Olá,', end=' ')\n",
        "print('Fernando!')"
      ],
      "execution_count": null,
      "outputs": [
        {
          "output_type": "stream",
          "text": [
            "Olá, Fernando!\n"
          ],
          "name": "stdout"
        }
      ]
    },
    {
      "cell_type": "code",
      "metadata": {
        "id": "8Zv7nBuBAeiS",
        "outputId": "4c6c14c5-61c7-4a83-ff10-35fe7f278247"
      },
      "source": [
        "# chamando a função \"calcular_media\" e sem passar nenhum parâmetro\n",
        "# perceba que teremos um erro\n",
        "calcular_media()"
      ],
      "execution_count": null,
      "outputs": [
        {
          "output_type": "error",
          "ename": "TypeError",
          "evalue": "TypeError: calcular_media() missing 3 required positional arguments: 'valor1', 'valor2', and 'valor3'",
          "traceback": [
            "\u001b[0;31m---------------------------------------------------------------------------",
            "Traceback (most recent call last)",
            "    at line 2 in <module>",
            "TypeError: calcular_media() missing 3 required positional arguments: 'valor1', 'valor2', and 'valor3'"
          ]
        }
      ]
    },
    {
      "cell_type": "code",
      "metadata": {
        "id": "4f-p8CvoAeiS"
      },
      "source": [
        "# para resolver esse problema podemos definir já no parâmetro da função valor default nos argumentos\n",
        "# vamos refazer a função \"calcular_media\"\n",
        "def calcular_media(nota1=0, nota2=0, nota3=0):\n",
        "    return (nota1 + nota2 + nota3) / 3"
      ],
      "execution_count": null,
      "outputs": []
    },
    {
      "cell_type": "code",
      "metadata": {
        "id": "c9rusCLbAeiS",
        "outputId": "c6429ae8-2f98-4227-ac8c-6d3cfd2d07e5"
      },
      "source": [
        "# chamando a função \"calcular_media\" e sem passar nenhum parâmetro\n",
        "# agora perceba que teremos o retorno de um resultado (padrão definindo na função)\n",
        "calcular_media()"
      ],
      "execution_count": null,
      "outputs": [
        {
          "output_type": "display_data",
          "data": {
            "text/plain": [
              "0.0"
            ]
          },
          "metadata": {
            "tags": []
          }
        }
      ]
    },
    {
      "cell_type": "code",
      "metadata": {
        "id": "wGpBc5zGAeiS",
        "outputId": "48ca06ee-d5d7-4c39-bcdd-b0c48edb462d"
      },
      "source": [
        "# utilizando a nova função e passando somente dois argumentos\n",
        "# perceba que temos o retorno sem problemas\n",
        "calcular_media(7.25, 5)"
      ],
      "execution_count": null,
      "outputs": [
        {
          "output_type": "display_data",
          "data": {
            "text/plain": [
              "4.083333333333333"
            ]
          },
          "metadata": {
            "tags": []
          }
        }
      ]
    },
    {
      "cell_type": "markdown",
      "metadata": {
        "id": "4Cn7iahcAeiS"
      },
      "source": [
        "**Conhecendo mais sobre as funções**"
      ]
    },
    {
      "cell_type": "code",
      "metadata": {
        "id": "OjDAc07hAeiS"
      },
      "source": [
        "# função para somar dois números inteiros\n",
        "def soma(x,y):\n",
        "    res = x+y\n",
        "    return res"
      ],
      "execution_count": null,
      "outputs": []
    },
    {
      "cell_type": "code",
      "metadata": {
        "id": "2ZNuFxO-AeiT",
        "outputId": "d77975b4-a0dc-44eb-cac7-159aaed7fca7"
      },
      "source": [
        "soma(5,-3)"
      ],
      "execution_count": null,
      "outputs": [
        {
          "output_type": "display_data",
          "data": {
            "text/plain": [
              "2"
            ]
          },
          "metadata": {
            "tags": []
          }
        }
      ]
    },
    {
      "cell_type": "code",
      "metadata": {
        "id": "t8WY1LUAAeiT"
      },
      "source": [
        "# função para subtrair dois números inteiros\n",
        "def subtrai(x,y):\n",
        "    return x-y"
      ],
      "execution_count": null,
      "outputs": []
    },
    {
      "cell_type": "code",
      "metadata": {
        "id": "Rd9eAkI4AeiT",
        "outputId": "91e49b7e-30f8-4bfb-8817-6c3f055f7795"
      },
      "source": [
        "subtrai(7,9)"
      ],
      "execution_count": null,
      "outputs": [
        {
          "output_type": "display_data",
          "data": {
            "text/plain": [
              "-2"
            ]
          },
          "metadata": {
            "tags": []
          }
        }
      ]
    },
    {
      "cell_type": "code",
      "metadata": {
        "id": "3tRnE5mRAeiT"
      },
      "source": [
        "# função para calcular um número real qualquer elevado a potência de 2\n",
        "def potencia_2(x):\n",
        "    return x ** 2"
      ],
      "execution_count": null,
      "outputs": []
    },
    {
      "cell_type": "code",
      "metadata": {
        "id": "VXbtNLJOAeiT",
        "outputId": "3da367a2-c0ba-4261-a4ae-3aa318839c75"
      },
      "source": [
        "potencia_2(2)"
      ],
      "execution_count": null,
      "outputs": [
        {
          "output_type": "display_data",
          "data": {
            "text/plain": [
              "4"
            ]
          },
          "metadata": {
            "tags": []
          }
        }
      ]
    },
    {
      "cell_type": "code",
      "metadata": {
        "id": "kEdFg6WFAeiU",
        "outputId": "cc79818d-c223-46bb-9756-25e830333651"
      },
      "source": [
        "potencia_2(-6)"
      ],
      "execution_count": null,
      "outputs": [
        {
          "output_type": "display_data",
          "data": {
            "text/plain": [
              "36"
            ]
          },
          "metadata": {
            "tags": []
          }
        }
      ]
    },
    {
      "cell_type": "code",
      "metadata": {
        "id": "pEPMd2ZtAeiU"
      },
      "source": [
        "# função para calcular um número real qualquer elevado a potência dele mesmo\n",
        "def potencia_x(x):\n",
        "    return x ** x"
      ],
      "execution_count": null,
      "outputs": []
    },
    {
      "cell_type": "code",
      "metadata": {
        "id": "O6ZL2CtyAeiU",
        "outputId": "98cfe69b-f284-47f8-9743-6c8ae5b8087d"
      },
      "source": [
        "potencia_x(2)"
      ],
      "execution_count": null,
      "outputs": [
        {
          "output_type": "display_data",
          "data": {
            "text/plain": [
              "4"
            ]
          },
          "metadata": {
            "tags": []
          }
        }
      ]
    },
    {
      "cell_type": "code",
      "metadata": {
        "id": "ANmHu1VUAeiU",
        "outputId": "3c6fb04b-99bf-4f90-e49f-68d480de6233"
      },
      "source": [
        "potencia_x(3)"
      ],
      "execution_count": null,
      "outputs": [
        {
          "output_type": "display_data",
          "data": {
            "text/plain": [
              "27"
            ]
          },
          "metadata": {
            "tags": []
          }
        }
      ]
    },
    {
      "cell_type": "code",
      "metadata": {
        "id": "2oC-EoiWAeiU",
        "outputId": "3638a1f1-e8d9-474a-9e59-b414cdb9c3dc"
      },
      "source": [
        "potencia_x(1.5)"
      ],
      "execution_count": null,
      "outputs": [
        {
          "output_type": "display_data",
          "data": {
            "text/plain": [
              "1.8371173070873836"
            ]
          },
          "metadata": {
            "tags": []
          }
        }
      ]
    },
    {
      "cell_type": "code",
      "metadata": {
        "id": "ry9DSB_MAeiU"
      },
      "source": [
        "# função para calcular a potençiação, conforme definição do usuário \n",
        "def pont_x():\n",
        "    base = int (input('Digite o número da base: '))\n",
        "    expoente = int (input('Digite o número do expoente: '))\n",
        "    return float (base ** expoente)"
      ],
      "execution_count": null,
      "outputs": []
    },
    {
      "cell_type": "code",
      "metadata": {
        "id": "G58aBdr3AeiV",
        "outputId": "e3cabbb1-4c98-4edc-e33f-5d0ed948db70"
      },
      "source": [
        "pont_x()"
      ],
      "execution_count": null,
      "outputs": [
        {
          "output_type": "stream",
          "text": [
            "Digite o número da base:  3\n",
            "Digite o número do expoente:  2\n"
          ],
          "name": "stdout"
        },
        {
          "output_type": "display_data",
          "data": {
            "text/plain": [
              "9.0"
            ]
          },
          "metadata": {
            "tags": []
          }
        }
      ]
    },
    {
      "cell_type": "code",
      "metadata": {
        "id": "91Zam81DAeiV"
      },
      "source": [
        "# função para calcular a raiz quadrada\n",
        "def raiz_quad(x):\n",
        "    return float (x**0.5)"
      ],
      "execution_count": null,
      "outputs": []
    },
    {
      "cell_type": "code",
      "metadata": {
        "id": "KC85NcEeAeiV",
        "outputId": "06ab8e52-537c-4c83-854e-6562deecfd4a"
      },
      "source": [
        "raiz_quad(16)"
      ],
      "execution_count": null,
      "outputs": [
        {
          "output_type": "display_data",
          "data": {
            "text/plain": [
              "4.0"
            ]
          },
          "metadata": {
            "tags": []
          }
        }
      ]
    },
    {
      "cell_type": "code",
      "metadata": {
        "id": "NMy5RfA0AeiV",
        "outputId": "c24172cd-5daf-411a-b4fb-95909ea250f9"
      },
      "source": [
        "raiz_quad(9)"
      ],
      "execution_count": null,
      "outputs": [
        {
          "output_type": "display_data",
          "data": {
            "text/plain": [
              "3.0"
            ]
          },
          "metadata": {
            "tags": []
          }
        }
      ]
    },
    {
      "cell_type": "code",
      "metadata": {
        "id": "3I-k0cjqAeiV",
        "outputId": "89a940df-1f64-458a-8f51-2be5c56eb7ce"
      },
      "source": [
        "raiz_quad(49)"
      ],
      "execution_count": null,
      "outputs": [
        {
          "output_type": "display_data",
          "data": {
            "text/plain": [
              "7.0"
            ]
          },
          "metadata": {
            "tags": []
          }
        }
      ]
    },
    {
      "cell_type": "code",
      "metadata": {
        "id": "vQcOOWFvAeiV",
        "outputId": "c388edd5-a902-49bc-9122-077a99691bb5"
      },
      "source": [
        "raiz_quad(225)"
      ],
      "execution_count": null,
      "outputs": [
        {
          "output_type": "display_data",
          "data": {
            "text/plain": [
              "15.0"
            ]
          },
          "metadata": {
            "tags": []
          }
        }
      ]
    },
    {
      "cell_type": "code",
      "metadata": {
        "id": "jx1ZGadDAeiV"
      },
      "source": [
        "# função para solicitar a digitação do nome e imprimir o resultado\n",
        "def print_name():\n",
        "    name = input('Digite seu nome: ')\n",
        "    return name"
      ],
      "execution_count": null,
      "outputs": []
    },
    {
      "cell_type": "code",
      "metadata": {
        "id": "ph1edEJmAeiW",
        "outputId": "7e514db2-2d68-4f2e-f792-59649b105341"
      },
      "source": [
        "# chamando a função\n",
        "print(print_name())"
      ],
      "execution_count": null,
      "outputs": [
        {
          "output_type": "stream",
          "text": [
            "Digite seu nome:  Fernando\n",
            "Fernando\n"
          ],
          "name": "stdout"
        }
      ]
    },
    {
      "cell_type": "code",
      "metadata": {
        "id": "3z0hwqGqAeiW"
      },
      "source": [
        "# função para imprimir nome, sobrenome e concatenando \n",
        "def personal_data():\n",
        "    first_name = input('Digite seu nome: ')\n",
        "    last_name = input('Digite seu sobrenome: ')\n",
        "    return '{0} {1}'.format(first_name, last_name)"
      ],
      "execution_count": null,
      "outputs": []
    },
    {
      "cell_type": "code",
      "metadata": {
        "id": "5WeVCxZFAeiW",
        "outputId": "03c6aa96-3fa8-4eb6-e3c7-1a0ca4c289f9"
      },
      "source": [
        "print(personal_data())"
      ],
      "execution_count": null,
      "outputs": [
        {
          "output_type": "stream",
          "text": [
            "Digite seu nome:  Fernando\n",
            "Digite seu sobrenome:  Galvão\n",
            "Fernando Galvão\n"
          ],
          "name": "stdout"
        }
      ]
    },
    {
      "cell_type": "code",
      "metadata": {
        "id": "HKJVQzsbAeiW"
      },
      "source": [
        "# melhorando a função acima\n",
        "def personal_data():\n",
        "    first_name = input('Digite seu nome: ')\n",
        "    last_name = input('Digite seu sobrenome: ')\n",
        "    age = int (input('Digite sua idade: '))\n",
        "    print('\\n\\t\\tDADOS PESSOAIS')\n",
        "    return f\"\\tNome completo: {first_name + ' ' + last_name} \\n\\tIdade: {age}\""
      ],
      "execution_count": null,
      "outputs": []
    },
    {
      "cell_type": "code",
      "metadata": {
        "id": "DWltYn4PAeiW",
        "outputId": "8e7973ff-2d04-4993-901f-eafaa174e18e"
      },
      "source": [
        "print(personal_data())"
      ],
      "execution_count": null,
      "outputs": [
        {
          "output_type": "stream",
          "text": [
            "Digite seu nome:  Fernando\n",
            "Digite seu sobrenome:  Galvão\n",
            "Digite sua idade:  44\n",
            "\n",
            "\t\tDADOS PESSOAIS\n",
            "\tNome completo: Fernando Galvão \n",
            "\tIdade: 44\n"
          ],
          "name": "stdout"
        }
      ]
    },
    {
      "cell_type": "code",
      "metadata": {
        "id": "TzJ4OPVXAeiW"
      },
      "source": [
        "# função para calcular reajuste de salário\n",
        "def reajuste_salario(x):\n",
        "    valor_final = x * 0.15\n",
        "    return valor_final + x"
      ],
      "execution_count": null,
      "outputs": []
    },
    {
      "cell_type": "code",
      "metadata": {
        "id": "xiCV42s0AeiX",
        "outputId": "0a3308bb-0131-4344-f749-8ae2f255fcba"
      },
      "source": [
        "reajuste_salario(100)"
      ],
      "execution_count": null,
      "outputs": [
        {
          "output_type": "display_data",
          "data": {
            "text/plain": [
              "115.0"
            ]
          },
          "metadata": {
            "tags": []
          }
        }
      ]
    },
    {
      "cell_type": "code",
      "metadata": {
        "id": "7OWBeu4JAeiX"
      },
      "source": [
        "# função para calcular reajuste de salário\n",
        "def reajuste_salario():\n",
        "    x = float (input('Digite o valor atual do salário: '))\n",
        "    valor_final = float (x * 0.15)\n",
        "    return f'Salário reajustado: {valor_final + x}'"
      ],
      "execution_count": null,
      "outputs": []
    },
    {
      "cell_type": "code",
      "metadata": {
        "id": "SKrgmEHoAeiX",
        "outputId": "bde7f1fd-6ff2-4628-d2e3-5c70dcefc0dc"
      },
      "source": [
        "print(reajuste_salario())"
      ],
      "execution_count": null,
      "outputs": [
        {
          "output_type": "stream",
          "text": [
            "Digite o valor atual do salário:  3600\n",
            "Salário reajustado: 4140.0\n"
          ],
          "name": "stdout"
        }
      ]
    },
    {
      "cell_type": "code",
      "metadata": {
        "id": "mWXV5McRAeiX"
      },
      "source": [
        "# função para calcular reajuste de salário\n",
        "def reajuste_salario():\n",
        "    sal_atual = float (input('Digite o valor atual do salário: '))\n",
        "    valor_reajuste = float (input('Digite o valor do reajuste [%]: '))\n",
        "    valor_final = float (sal_atual * (valor_reajuste / 100))\n",
        "    return f'Salário reajustado: {valor_final + sal_atual}'"
      ],
      "execution_count": null,
      "outputs": []
    },
    {
      "cell_type": "code",
      "metadata": {
        "id": "CvmKXHOSAeiX",
        "outputId": "d9cc04e6-a0f4-4f8c-fab9-2d203dfe9a4b"
      },
      "source": [
        "print(reajuste_salario())"
      ],
      "execution_count": null,
      "outputs": [
        {
          "output_type": "stream",
          "text": [
            "Digite o valor atual do salário:  3600\n",
            "Digite o valor do reajuste [%]:  5\n",
            "Salário reajustado: 3780.0\n"
          ],
          "name": "stdout"
        }
      ]
    },
    {
      "cell_type": "markdown",
      "metadata": {
        "id": "AbyQQNlzAeiX"
      },
      "source": [
        "# **Aula 07 - Funções II**"
      ]
    },
    {
      "cell_type": "markdown",
      "metadata": {
        "id": "GuNJICwJAeiY"
      },
      "source": [
        "**Agrupando parâmetros**\n",
        "\n",
        "Podemos utilizar o operador * - que, neste caso, não será uma multiplicação. Ao colocarmos o * ao lado do nome de um parâmetro na definição da função, estamos dizendo que aquele argumento será uma coleção. Mais especificamente, uma tupla. Porém, o usuário não irá passar uma tupla. Ele irá passar quantos argumentos ele quiser, e o Python automaticamente criará uma tupla com eles:"
      ]
    },
    {
      "cell_type": "code",
      "metadata": {
        "id": "amAYIgGfAeiY",
        "outputId": "da978769-174a-46fa-fcf3-60fcf881a11f"
      },
      "source": [
        "def piscina(*infos):\n",
        "    vol = infos[0]*infos[1]*infos[2]\n",
        "    return vol\n",
        "\n",
        "volume = piscina(5, 4, 5)\n",
        "print('O volume é:', volume)"
      ],
      "execution_count": null,
      "outputs": [
        {
          "output_type": "stream",
          "text": [
            "O volume é: 100\n"
          ],
          "name": "stdout"
        }
      ]
    },
    {
      "cell_type": "markdown",
      "metadata": {
        "id": "mRDqAmlFAeiY"
      },
      "source": [
        "Podemos utilizar o operador * na chamada da função também. Na definição, o operador * indica que devemos agrupar itens avulsos em uma coleção. Na chamada, ele indica que uma coleção deve ser expandida em itens avulsos:"
      ]
    },
    {
      "cell_type": "code",
      "metadata": {
        "id": "PEOHZBVnAeiY",
        "outputId": "54936612-9291-4c24-8838-e9758f314ad2"
      },
      "source": [
        "def piscina(prof, largura, comprimento):\n",
        "    vol = prof*largura*comprimento\n",
        "    return vol\n",
        "\n",
        "lista = [5, 4, 5]\n",
        "\n",
        "volume = piscina(*lista)\n",
        "print('O volume é:', volume)"
      ],
      "execution_count": null,
      "outputs": [
        {
          "output_type": "stream",
          "text": [
            "O volume é: 100\n"
          ],
          "name": "stdout"
        }
      ]
    },
    {
      "cell_type": "markdown",
      "metadata": {
        "id": "3ThzjJPjAeiY"
      },
      "source": [
        "**Parâmetros opcionais**\n",
        "\n",
        "Outra possibilidade são funções com parâmetros opcionais. Note que isso é diferente de termos quantidade variável de parâmetros. No caso da quantidade variável, normalmente são diversos parâmetros com a mesma utilidade (números a serem somados, valores a serem exibidos etc), enquanto os parâmetros opcionais são informações distintas que podem ou não ser passadas para a função.\n",
        "\n",
        "Para criar parâmetros opcionais, usaremos **, e os parâmetros passados serão agrupados em um dicionário: o nome do parâmetro será uma chave, e o valor será... O valor."
      ]
    },
    {
      "cell_type": "code",
      "metadata": {
        "id": "LxuCrcd8AeiY",
        "outputId": "3fdf4aea-d58e-4449-8556-14375a39eb43"
      },
      "source": [
        "def piscina(prof, **infos):\n",
        "    vol = prof*infos['largura']*infos['comprimento']\n",
        "    return vol\n",
        "\n",
        "volume = piscina(5, largura=4, comprimento=5)\n",
        "print('O volume é:', volume)"
      ],
      "execution_count": null,
      "outputs": [
        {
          "output_type": "stream",
          "text": [
            "O volume é: 100\n"
          ],
          "name": "stdout"
        }
      ]
    },
    {
      "cell_type": "markdown",
      "metadata": {
        "id": "6L5EvnBOAeiZ"
      },
      "source": [
        "Analogamente ao caso dos parâmetros múltiplos, é possível que o usuário da função já tenha os dados organizados em um dicionário. Neste caso, basta usar ** na chamada da função para expandir o dicionário em vários parâmetros opcionais:"
      ]
    },
    {
      "cell_type": "code",
      "metadata": {
        "id": "qioBpLpMAeiZ",
        "outputId": "0d654419-0295-4736-cb56-771f46ab8036"
      },
      "source": [
        "def piscina(prof, largura=4, comprimento=5):\n",
        "    vol = prof*largura*comprimento\n",
        "    return vol\n",
        "\n",
        "infos = {'largura': 10, 'comprimento': 20}\n",
        "volume = piscina(5, **infos)\n",
        "print('O volume é:', volume)"
      ],
      "execution_count": null,
      "outputs": [
        {
          "output_type": "stream",
          "text": [
            "O volume é: 1000\n"
          ],
          "name": "stdout"
        }
      ]
    },
    {
      "cell_type": "markdown",
      "metadata": {
        "id": "v8j7anwyAeiZ"
      },
      "source": [
        "## **Atividade prática (vídeo-aula)**"
      ]
    },
    {
      "cell_type": "code",
      "metadata": {
        "id": "JAUvC4csAeiZ"
      },
      "source": [
        "# criando uma função que recebe parâmetros conforme definição do usuário\n",
        "# redefinindo a função \"calacular_media\"\n",
        "\n",
        "def calcular_media(*args):\n",
        "    print(args, type(args))"
      ],
      "execution_count": null,
      "outputs": []
    },
    {
      "cell_type": "code",
      "metadata": {
        "id": "aR3O9LJEAeiZ",
        "outputId": "3d1c5af1-534f-4e15-eaca-62725bb971c1"
      },
      "source": [
        "# chamando a função com parâmetros\n",
        "calcular_media(10, 8, 9)"
      ],
      "execution_count": null,
      "outputs": [
        {
          "output_type": "stream",
          "text": [
            "(10, 8, 9) <class 'tuple'>\n"
          ],
          "name": "stdout"
        }
      ]
    },
    {
      "cell_type": "code",
      "metadata": {
        "id": "fVAVKFBRAeiZ"
      },
      "source": [
        "# redefinindo a função \n",
        "def calcular_media(*args):\n",
        "    soma = sum(args)\n",
        "    media = soma / len(args)\n",
        "    return media"
      ],
      "execution_count": null,
      "outputs": []
    },
    {
      "cell_type": "code",
      "metadata": {
        "id": "5U9eZMQsAeiZ",
        "outputId": "4e09edd8-e7c1-40d9-e948-ecf0b9037101"
      },
      "source": [
        "calcular_media(10, 8, 9)"
      ],
      "execution_count": null,
      "outputs": [
        {
          "output_type": "display_data",
          "data": {
            "text/plain": [
              "9.0"
            ]
          },
          "metadata": {
            "tags": []
          }
        }
      ]
    },
    {
      "cell_type": "code",
      "metadata": {
        "id": "VUFVcT_0Aeia"
      },
      "source": [
        "# simplificando a função\n",
        "def calcular_media(*notas):\n",
        "    return sum(notas) / len(notas)"
      ],
      "execution_count": null,
      "outputs": []
    },
    {
      "cell_type": "code",
      "metadata": {
        "id": "gZlGHzIfAeia",
        "outputId": "4cb4a334-2558-4b16-b1ee-4866de3d7271"
      },
      "source": [
        "calcular_media(7.5, 8.25, 9.0)"
      ],
      "execution_count": null,
      "outputs": [
        {
          "output_type": "display_data",
          "data": {
            "text/plain": [
              "8.25"
            ]
          },
          "metadata": {
            "tags": []
          }
        }
      ]
    },
    {
      "cell_type": "code",
      "metadata": {
        "id": "TW4DeIaGAeia",
        "outputId": "4f03caf6-a703-4d15-c3e8-612a41d7b4b4"
      },
      "source": [
        "calcular_media(7.5, 8.25, 9.0, 0)"
      ],
      "execution_count": null,
      "outputs": [
        {
          "output_type": "display_data",
          "data": {
            "text/plain": [
              "6.1875"
            ]
          },
          "metadata": {
            "tags": []
          }
        }
      ]
    },
    {
      "cell_type": "code",
      "metadata": {
        "id": "tF2OQcQTAeia"
      },
      "source": [
        "# definindo uma função para calcular a média de notas\n",
        "# e acrescido de pontos extra\n",
        "def calcular_media(*args, ponto_extra):\n",
        "    return (sum(args) / len(args)) + ponto_extra"
      ],
      "execution_count": null,
      "outputs": []
    },
    {
      "cell_type": "code",
      "metadata": {
        "id": "6GgcAsKUAeia",
        "outputId": "8c325044-260f-423f-f915-d71fb73ce387"
      },
      "source": [
        "calcular_media(7.5, 8.25, 9.0, 0, ponto_extra=0.5)"
      ],
      "execution_count": null,
      "outputs": [
        {
          "output_type": "display_data",
          "data": {
            "text/plain": [
              "6.6875"
            ]
          },
          "metadata": {
            "tags": []
          }
        }
      ]
    },
    {
      "cell_type": "code",
      "metadata": {
        "id": "dhj1fGrLAeia"
      },
      "source": [
        "# definindo uma função para calcular a média de notas\n",
        "# e acrescido de pontos extra\n",
        "def calcular_media(*args, ponto_extra=0.5):\n",
        "    return (sum(args) / len(args)) + ponto_extra"
      ],
      "execution_count": null,
      "outputs": []
    },
    {
      "cell_type": "code",
      "metadata": {
        "id": "Kl1b9I4rAeib",
        "outputId": "62f97f0d-e83d-44e5-bc84-3776157012f8"
      },
      "source": [
        "calcular_media(7.5, 8.25, 9.0, 0)"
      ],
      "execution_count": null,
      "outputs": [
        {
          "output_type": "display_data",
          "data": {
            "text/plain": [
              "6.6875"
            ]
          },
          "metadata": {
            "tags": []
          }
        }
      ]
    },
    {
      "cell_type": "markdown",
      "metadata": {
        "id": "JDd4h8JUAeib"
      },
      "source": [
        "Conhecendo outro método de uma função, o \"kwargs\".\n",
        "\n",
        "    - essa técnica é muito utilizada em Ciência de Dados e Visualização de Dados com Python"
      ]
    },
    {
      "cell_type": "markdown",
      "metadata": {
        "id": "i_rIyloKAeib"
      },
      "source": [
        "****kwargs**\n",
        "\n",
        "Como a abreviação sugere, kwargs significa keyword arguments (argumentos de palavras chave). Ele permite passar um dicionário com inúmeras keys para a função. Como vimos acima no output da função usando ** podemos notar que o tipo do argumento é passado como dicionário com chaves e valores."
      ]
    },
    {
      "cell_type": "code",
      "metadata": {
        "id": "FSKQlvsnAeib"
      },
      "source": [
        "# definindo uma função\n",
        "def print_info(**kwargs):\n",
        "    print(kwargs, type(kwargs))"
      ],
      "execution_count": null,
      "outputs": []
    },
    {
      "cell_type": "code",
      "metadata": {
        "id": "3-pFvY1dAeib",
        "outputId": "48011c9b-cead-49f3-b28d-5cfe80286aec"
      },
      "source": [
        "# chamando a função\n",
        "print_info(nome='Fernando', sobrenome='Galvão')"
      ],
      "execution_count": null,
      "outputs": [
        {
          "output_type": "stream",
          "text": [
            "{'nome': 'Fernando', 'sobrenome': 'Galvão'} <class 'dict'>\n"
          ],
          "name": "stdout"
        }
      ]
    },
    {
      "cell_type": "markdown",
      "metadata": {
        "id": "qlGqlAJvAeib"
      },
      "source": [
        "**Conhecendo mais!**"
      ]
    },
    {
      "cell_type": "code",
      "metadata": {
        "id": "LlhedBi6Aeib"
      },
      "source": [
        "def func_args(*args):\n",
        "    print(f'tipo: {type(args)} conteúdo: {args}')\n",
        "    for arg in args:\n",
        "        print(f'tipo: {type(arg)} conteúdo: {arg}')"
      ],
      "execution_count": null,
      "outputs": []
    },
    {
      "cell_type": "code",
      "metadata": {
        "id": "DPy8AZ8oAeic",
        "outputId": "d34f3f2f-170a-48a0-b91d-fcada5bfd967"
      },
      "source": [
        "func_args(1, 'A', {'valor': 10})"
      ],
      "execution_count": null,
      "outputs": [
        {
          "output_type": "stream",
          "text": [
            "tipo: <class 'tuple'> conteúdo: (1, 'A', {'valor': 10})\n",
            "tipo: <class 'int'> conteúdo: 1\n",
            "tipo: <class 'str'> conteúdo: A\n",
            "tipo: <class 'dict'> conteúdo: {'valor': 10}\n"
          ],
          "name": "stdout"
        }
      ]
    },
    {
      "cell_type": "markdown",
      "metadata": {
        "id": "6SZZmb0iAeic"
      },
      "source": [
        "No exemplo acima temos uma função que recebe um parâmetro do tipo *args com alguns argumentos e escreve no terminal o tipo e o conteúdo, junto com o tipo e conteúdo de cada argumento da tupla."
      ]
    },
    {
      "cell_type": "code",
      "metadata": {
        "id": "6OUiJXwOAeic",
        "outputId": "9471f5df-ce90-430d-f309-2be80d679f04"
      },
      "source": [
        "def func_kwargs(**kwargs):\n",
        "    print(f'tipo: {type(kwargs)} contuedo: {kwargs}')\n",
        "    for key, value in kwargs.items():\n",
        "        print(f'atributo: {key}, valor: {value}')\n",
        "\n",
        "func_kwargs(nome='James', sobrenome='Bond', cargo='Agente 007')"
      ],
      "execution_count": null,
      "outputs": [
        {
          "output_type": "stream",
          "text": [
            "tipo: <class 'dict'> contuedo: {'nome': 'James', 'sobrenome': 'Bond', 'cargo': 'Agente 007'}\n",
            "atributo: nome, valor: James\n",
            "atributo: sobrenome, valor: Bond\n",
            "atributo: cargo, valor: Agente 007\n"
          ],
          "name": "stdout"
        }
      ]
    },
    {
      "cell_type": "markdown",
      "metadata": {
        "id": "FM9ycPBGAeic"
      },
      "source": [
        "Como vimos acima no output da função usando ** podemos notar que o tipo do argumento é passado como dicionário com chaves e valores.\n",
        "\n",
        "Outra forma de passar um dicionário já existente é usando os ** na passagem do parâmetro:\n",
        "\n",
        "    parms = {\n",
        "            'nome': 'James', \n",
        "            'sobrenome': 'Bond', \n",
        "            'cargo': 'Agente 007'\n",
        "            }\n",
        "    func_kwargs(**parms)"
      ]
    },
    {
      "cell_type": "code",
      "metadata": {
        "id": "V-LIKwqtAeic",
        "outputId": "72d71ea4-8bbb-4dbd-e40a-e608dccad696"
      },
      "source": [
        "def func_missao_dificil(nome, *args, funcao='agente', **kwargs):\n",
        "    print(f'Nome do agente: {nome}')\n",
        "    print(f'Função: {funcao}')\n",
        "    print(args)\n",
        "    print(kwargs)\n",
        "\n",
        "params = {\n",
        "            'id_agente': '007',\n",
        "            'proxima_missao': 'Impossível'\n",
        "         }\n",
        "\n",
        "func_missao_dificil(\n",
        "    'James Bond',\n",
        "    'Missao 1',\n",
        "    'Missão 2',\n",
        "    **params\n",
        ")"
      ],
      "execution_count": null,
      "outputs": [
        {
          "output_type": "stream",
          "text": [
            "Nome do agente: James Bond\n",
            "Função: agente\n",
            "('Missao 1', 'Missão 2')\n",
            "{'id_agente': '007', 'proxima_missao': 'Impossível'}\n"
          ],
          "name": "stdout"
        }
      ]
    },
    {
      "cell_type": "markdown",
      "metadata": {
        "id": "3y-IQTOjAeic"
      },
      "source": [
        "No exemplo acima, usamos todos os recursos mencionados no post:\n",
        "- O parâmetro nome recebe o valor “James Bond”;\n",
        "- O parâmetro função utilizou o valor “agente” definido como default;\n",
        "- O parâmetro args recebeu os valores “Missao 1” e “Missao 2” como tupla;\n",
        "- O parâmetro kwargs recebeu dois parâmetros nomeados como dicionário: {‘id_agente’: ‘007’, ‘proxima_missao’: ‘Impossível’}\n",
        "\n",
        "Esse recurso muito interessante da linguagem Python."
      ]
    },
    {
      "cell_type": "code",
      "metadata": {
        "id": "fBH8dV2YAeid"
      },
      "source": [
        ""
      ],
      "execution_count": null,
      "outputs": []
    },
    {
      "cell_type": "code",
      "metadata": {
        "id": "DUpTy2tQAeid"
      },
      "source": [
        ""
      ],
      "execution_count": null,
      "outputs": []
    },
    {
      "cell_type": "code",
      "metadata": {
        "id": "Fyojbl1KAeid"
      },
      "source": [
        ""
      ],
      "execution_count": null,
      "outputs": []
    },
    {
      "cell_type": "code",
      "metadata": {
        "id": "BhrtD5uOAeid"
      },
      "source": [
        ""
      ],
      "execution_count": null,
      "outputs": []
    },
    {
      "cell_type": "code",
      "metadata": {
        "id": "WltkrMX7Aeid"
      },
      "source": [
        ""
      ],
      "execution_count": null,
      "outputs": []
    },
    {
      "cell_type": "code",
      "metadata": {
        "id": "2LWzzRwQAeid"
      },
      "source": [
        ""
      ],
      "execution_count": null,
      "outputs": []
    },
    {
      "cell_type": "code",
      "metadata": {
        "id": "js0mR_oCAeid"
      },
      "source": [
        ""
      ],
      "execution_count": null,
      "outputs": []
    },
    {
      "cell_type": "code",
      "metadata": {
        "id": "UKHuqqNRAeid"
      },
      "source": [
        ""
      ],
      "execution_count": null,
      "outputs": []
    },
    {
      "cell_type": "code",
      "metadata": {
        "id": "5QAnLr8KAeid"
      },
      "source": [
        ""
      ],
      "execution_count": null,
      "outputs": []
    },
    {
      "cell_type": "code",
      "metadata": {
        "id": "goxZ1Uu-Aeie"
      },
      "source": [
        ""
      ],
      "execution_count": null,
      "outputs": []
    }
  ]
}